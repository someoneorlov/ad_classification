{
 "cells": [
  {
   "cell_type": "code",
   "execution_count": null,
   "metadata": {
    "id": "0QrdNsbg98Ys"
   },
   "outputs": [],
   "source": [
    "import sys\n",
    "FOLDER_PATH = '/content/drive/MyDrive/Colab Notebooks/project/'\n",
    "sys.path.append(FOLDER_PATH)"
   ]
  },
  {
   "cell_type": "code",
   "execution_count": null,
   "metadata": {
    "colab": {
     "base_uri": "https://localhost:8080/"
    },
    "executionInfo": {
     "elapsed": 16417,
     "status": "ok",
     "timestamp": 1654664025475,
     "user": {
      "displayName": "Никита Орлов",
      "userId": "17221654573895787003"
     },
     "user_tz": -180
    },
    "id": "4yIpjQkB8Mko",
    "outputId": "2e85584f-ef9b-42ff-dd2e-fb78730ef256"
   },
   "outputs": [
    {
     "name": "stdout",
     "output_type": "stream",
     "text": [
      "Drive already mounted at /content/drive; to attempt to forcibly remount, call drive.mount(\"/content/drive\", force_remount=True).\n"
     ]
    }
   ],
   "source": [
    "from google.colab import drive\n",
    "drive.mount('/content/drive')"
   ]
  },
  {
   "cell_type": "code",
   "execution_count": null,
   "metadata": {
    "colab": {
     "base_uri": "https://localhost:8080/"
    },
    "executionInfo": {
     "elapsed": 33268,
     "status": "ok",
     "timestamp": 1654664058736,
     "user": {
      "displayName": "Никита Орлов",
      "userId": "17221654573895787003"
     },
     "user_tz": -180
    },
    "id": "YFJvYV4QLuPw",
    "outputId": "e3f1f51c-6c42-4fdf-8cdc-d502fb0aa5cb"
   },
   "outputs": [],
   "source": [
    "!pip install -r drive/MyDrive/Colab\\ Notebooks/project/requirements"
   ]
  },
  {
   "cell_type": "code",
   "execution_count": null,
   "metadata": {
    "colab": {
     "base_uri": "https://localhost:8080/"
    },
    "executionInfo": {
     "elapsed": 2199,
     "status": "ok",
     "timestamp": 1654664060798,
     "user": {
      "displayName": "Никита Орлов",
      "userId": "17221654573895787003"
     },
     "user_tz": -180
    },
    "id": "i9cCGBWYOyH4",
    "outputId": "e14fa23d-6ac0-43a0-d9f3-745d0f4c6977"
   },
   "outputs": [
    {
     "name": "stderr",
     "output_type": "stream",
     "text": [
      "/usr/local/lib/python3.7/dist-packages/statsmodels/tools/_testing.py:19: FutureWarning: pandas.util.testing is deprecated. Use the functions in the public API at pandas.testing instead.\n",
      "  import pandas.util.testing as tm\n"
     ]
    },
    {
     "name": "stdout",
     "output_type": "stream",
     "text": [
      "INFO: Pandarallel will run on 1 workers.\n",
      "INFO: Pandarallel will use Memory file system to transfer data between the main process and workers.\n"
     ]
    }
   ],
   "source": [
    "import re\n",
    "import imp\n",
    "import time\n",
    "import pickle\n",
    "import math\n",
    "\n",
    "import numpy as np\n",
    "import pandas as pd\n",
    "import scipy as sc\n",
    "import matplotlib.pyplot as plt\n",
    "import seaborn as sns\n",
    "import category_encoders as ce\n",
    "\n",
    "from pandarallel import pandarallel\n",
    "from scipy.sparse import csr_matrix\n",
    "from sklearn.feature_extraction.text import TfidfVectorizer\n",
    "from sklearn.model_selection import train_test_split\n",
    "from sklearn.compose import ColumnTransformer\n",
    "from sklearn.pipeline import Pipeline\n",
    "from sklearn.preprocessing import StandardScaler\n",
    "from sklearn.impute import SimpleImputer\n",
    "pandarallel.initialize(progress_bar=False)\n",
    "\n",
    "from sklearn.preprocessing import OneHotEncoder\n",
    "import xgboost as xgb\n",
    "from sklearn.metrics import roc_auc_score\n",
    "from sklearn.model_selection import RandomizedSearchCV\n",
    "from scipy import stats\n",
    "from sklearn.ensemble import GradientBoostingClassifier\n",
    "from sklearn.model_selection import GridSearchCV\n",
    "\n",
    "from sklearn.linear_model import LogisticRegression"
   ]
  },
  {
   "cell_type": "code",
   "execution_count": null,
   "metadata": {
    "id": "EI4c2cM2j4vd"
   },
   "outputs": [],
   "source": [
    "def auc_group(df):\n",
    "    y = df['is_bad']\n",
    "    y_hat = df['pred']\n",
    "    try:\n",
    "        return roc_auc_score(y, y_hat)\n",
    "    except ValueError:\n",
    "        return 0.5\n",
    "\n",
    "def loguniform(low=0, high=1, size=None):\n",
    "    return np.exp(np.random.uniform(low, high, size))\n",
    "\n",
    "def sigmoid(x):\n",
    "    return 1 / (1 + math.exp(-x))"
   ]
  },
  {
   "cell_type": "code",
   "execution_count": null,
   "metadata": {
    "id": "xcTJdwqcOyUp"
   },
   "outputs": [],
   "source": [
    "df_train = pd.read_csv('{}_data/train_prep.csv'.format(FOLDER_PATH), sep='|')\n",
    "df_val = pd.read_csv('{}_data/val_prep.csv'.format(FOLDER_PATH), sep='|')\n",
    "df_test = pd.read_csv('{}_data/test_prep.csv'.format(FOLDER_PATH), sep='|')\n",
    "\n",
    "df_train = df_train[['id', 'category', 'is_bad']]\n",
    "df_val = df_val[['id', 'category', 'is_bad']]\n",
    "df_test = df_test[['id', 'category', 'is_bad']]\n",
    "\n",
    "cat_train = pd.read_csv('{}catboost_scores/X_train.csv'.format(FOLDER_PATH), sep='|', )\n",
    "cat_val = pd.read_csv('{}catboost_scores/X_val.csv'.format(FOLDER_PATH), sep='|')\n",
    "cat_test = pd.read_csv('{}catboost_scores/X_test.csv'.format(FOLDER_PATH), sep='|')\n",
    "\n",
    "bert_train = pd.read_csv('{}bert_scores/epoch_2/X_train.csv'.format(FOLDER_PATH), sep='|')\n",
    "bert_val = pd.read_csv('{}bert_scores/epoch_2/X_val.csv'.format(FOLDER_PATH), sep='|')\n",
    "bert_test = pd.read_csv('{}bert_scores/epoch_2/X_test.csv'.format(FOLDER_PATH), sep='|')"
   ]
  },
  {
   "cell_type": "code",
   "execution_count": null,
   "metadata": {
    "id": "M8RvowH-axly"
   },
   "outputs": [],
   "source": [
    "cat_train.drop(['Unnamed: 0'], axis=1, inplace=True)\n",
    "cat_val.drop(['Unnamed: 0'], axis=1, inplace=True)\n",
    "cat_test.drop(['Unnamed: 0'], axis=1, inplace=True)\n",
    "\n",
    "bert_train.drop(['Unnamed: 0'], axis=1, inplace=True)\n",
    "bert_val.drop(['Unnamed: 0'], axis=1, inplace=True)\n",
    "bert_test.drop(['Unnamed: 0'], axis=1, inplace=True)"
   ]
  },
  {
   "cell_type": "code",
   "execution_count": null,
   "metadata": {
    "colab": {
     "base_uri": "https://localhost:8080/",
     "height": 391
    },
    "executionInfo": {
     "elapsed": 29,
     "status": "ok",
     "timestamp": 1654664171767,
     "user": {
      "displayName": "Никита Орлов",
      "userId": "17221654573895787003"
     },
     "user_tz": -180
    },
    "id": "3DdPPz1Mphmq",
    "outputId": "ba6025ef-f00c-409b-f461-a0681083cfca"
   },
   "outputs": [
    {
     "data": {
      "text/html": [
       "\n",
       "  <div id=\"df-226baf99-38b3-491c-ad8e-968b9bbf1e70\">\n",
       "    <div class=\"colab-df-container\">\n",
       "      <div>\n",
       "<style scoped>\n",
       "    .dataframe tbody tr th:only-of-type {\n",
       "        vertical-align: middle;\n",
       "    }\n",
       "\n",
       "    .dataframe tbody tr th {\n",
       "        vertical-align: top;\n",
       "    }\n",
       "\n",
       "    .dataframe thead th {\n",
       "        text-align: right;\n",
       "    }\n",
       "</style>\n",
       "<table border=\"1\" class=\"dataframe\">\n",
       "  <thead>\n",
       "    <tr style=\"text-align: right;\">\n",
       "      <th></th>\n",
       "      <th>id</th>\n",
       "      <th>predict_catboost</th>\n",
       "    </tr>\n",
       "  </thead>\n",
       "  <tbody>\n",
       "    <tr>\n",
       "      <th>0</th>\n",
       "      <td>id_0336875</td>\n",
       "      <td>0.000092</td>\n",
       "    </tr>\n",
       "    <tr>\n",
       "      <th>1</th>\n",
       "      <td>id_0602099</td>\n",
       "      <td>0.007664</td>\n",
       "    </tr>\n",
       "    <tr>\n",
       "      <th>2</th>\n",
       "      <td>id_0681935</td>\n",
       "      <td>0.937569</td>\n",
       "    </tr>\n",
       "    <tr>\n",
       "      <th>3</th>\n",
       "      <td>id_0092414</td>\n",
       "      <td>0.013666</td>\n",
       "    </tr>\n",
       "    <tr>\n",
       "      <th>4</th>\n",
       "      <td>id_0642364</td>\n",
       "      <td>0.000728</td>\n",
       "    </tr>\n",
       "  </tbody>\n",
       "</table>\n",
       "</div>\n",
       "      <button class=\"colab-df-convert\" onclick=\"convertToInteractive('df-226baf99-38b3-491c-ad8e-968b9bbf1e70')\"\n",
       "              title=\"Convert this dataframe to an interactive table.\"\n",
       "              style=\"display:none;\">\n",
       "        \n",
       "  <svg xmlns=\"http://www.w3.org/2000/svg\" height=\"24px\"viewBox=\"0 0 24 24\"\n",
       "       width=\"24px\">\n",
       "    <path d=\"M0 0h24v24H0V0z\" fill=\"none\"/>\n",
       "    <path d=\"M18.56 5.44l.94 2.06.94-2.06 2.06-.94-2.06-.94-.94-2.06-.94 2.06-2.06.94zm-11 1L8.5 8.5l.94-2.06 2.06-.94-2.06-.94L8.5 2.5l-.94 2.06-2.06.94zm10 10l.94 2.06.94-2.06 2.06-.94-2.06-.94-.94-2.06-.94 2.06-2.06.94z\"/><path d=\"M17.41 7.96l-1.37-1.37c-.4-.4-.92-.59-1.43-.59-.52 0-1.04.2-1.43.59L10.3 9.45l-7.72 7.72c-.78.78-.78 2.05 0 2.83L4 21.41c.39.39.9.59 1.41.59.51 0 1.02-.2 1.41-.59l7.78-7.78 2.81-2.81c.8-.78.8-2.07 0-2.86zM5.41 20L4 18.59l7.72-7.72 1.47 1.35L5.41 20z\"/>\n",
       "  </svg>\n",
       "      </button>\n",
       "      \n",
       "  <style>\n",
       "    .colab-df-container {\n",
       "      display:flex;\n",
       "      flex-wrap:wrap;\n",
       "      gap: 12px;\n",
       "    }\n",
       "\n",
       "    .colab-df-convert {\n",
       "      background-color: #E8F0FE;\n",
       "      border: none;\n",
       "      border-radius: 50%;\n",
       "      cursor: pointer;\n",
       "      display: none;\n",
       "      fill: #1967D2;\n",
       "      height: 32px;\n",
       "      padding: 0 0 0 0;\n",
       "      width: 32px;\n",
       "    }\n",
       "\n",
       "    .colab-df-convert:hover {\n",
       "      background-color: #E2EBFA;\n",
       "      box-shadow: 0px 1px 2px rgba(60, 64, 67, 0.3), 0px 1px 3px 1px rgba(60, 64, 67, 0.15);\n",
       "      fill: #174EA6;\n",
       "    }\n",
       "\n",
       "    [theme=dark] .colab-df-convert {\n",
       "      background-color: #3B4455;\n",
       "      fill: #D2E3FC;\n",
       "    }\n",
       "\n",
       "    [theme=dark] .colab-df-convert:hover {\n",
       "      background-color: #434B5C;\n",
       "      box-shadow: 0px 1px 3px 1px rgba(0, 0, 0, 0.15);\n",
       "      filter: drop-shadow(0px 1px 2px rgba(0, 0, 0, 0.3));\n",
       "      fill: #FFFFFF;\n",
       "    }\n",
       "  </style>\n",
       "\n",
       "      <script>\n",
       "        const buttonEl =\n",
       "          document.querySelector('#df-226baf99-38b3-491c-ad8e-968b9bbf1e70 button.colab-df-convert');\n",
       "        buttonEl.style.display =\n",
       "          google.colab.kernel.accessAllowed ? 'block' : 'none';\n",
       "\n",
       "        async function convertToInteractive(key) {\n",
       "          const element = document.querySelector('#df-226baf99-38b3-491c-ad8e-968b9bbf1e70');\n",
       "          const dataTable =\n",
       "            await google.colab.kernel.invokeFunction('convertToInteractive',\n",
       "                                                     [key], {});\n",
       "          if (!dataTable) return;\n",
       "\n",
       "          const docLinkHtml = 'Like what you see? Visit the ' +\n",
       "            '<a target=\"_blank\" href=https://colab.research.google.com/notebooks/data_table.ipynb>data table notebook</a>'\n",
       "            + ' to learn more about interactive tables.';\n",
       "          element.innerHTML = '';\n",
       "          dataTable['output_type'] = 'display_data';\n",
       "          await google.colab.output.renderOutput(dataTable, element);\n",
       "          const docLink = document.createElement('div');\n",
       "          docLink.innerHTML = docLinkHtml;\n",
       "          element.appendChild(docLink);\n",
       "        }\n",
       "      </script>\n",
       "    </div>\n",
       "  </div>\n",
       "  "
      ],
      "text/plain": [
       "           id  predict_catboost\n",
       "0  id_0336875          0.000092\n",
       "1  id_0602099          0.007664\n",
       "2  id_0681935          0.937569\n",
       "3  id_0092414          0.013666\n",
       "4  id_0642364          0.000728"
      ]
     },
     "metadata": {},
     "output_type": "display_data"
    },
    {
     "data": {
      "text/html": [
       "\n",
       "  <div id=\"df-777d5f7d-c1e3-4c74-b2f9-5f1266bf4c6d\">\n",
       "    <div class=\"colab-df-container\">\n",
       "      <div>\n",
       "<style scoped>\n",
       "    .dataframe tbody tr th:only-of-type {\n",
       "        vertical-align: middle;\n",
       "    }\n",
       "\n",
       "    .dataframe tbody tr th {\n",
       "        vertical-align: top;\n",
       "    }\n",
       "\n",
       "    .dataframe thead th {\n",
       "        text-align: right;\n",
       "    }\n",
       "</style>\n",
       "<table border=\"1\" class=\"dataframe\">\n",
       "  <thead>\n",
       "    <tr style=\"text-align: right;\">\n",
       "      <th></th>\n",
       "      <th>id</th>\n",
       "      <th>predict_bert</th>\n",
       "    </tr>\n",
       "  </thead>\n",
       "  <tbody>\n",
       "    <tr>\n",
       "      <th>0</th>\n",
       "      <td>id_0336875</td>\n",
       "      <td>-3.113430</td>\n",
       "    </tr>\n",
       "    <tr>\n",
       "      <th>1</th>\n",
       "      <td>id_0602099</td>\n",
       "      <td>-2.889626</td>\n",
       "    </tr>\n",
       "    <tr>\n",
       "      <th>2</th>\n",
       "      <td>id_0681935</td>\n",
       "      <td>2.650685</td>\n",
       "    </tr>\n",
       "    <tr>\n",
       "      <th>3</th>\n",
       "      <td>id_0092414</td>\n",
       "      <td>-1.899409</td>\n",
       "    </tr>\n",
       "    <tr>\n",
       "      <th>4</th>\n",
       "      <td>id_0642364</td>\n",
       "      <td>-3.113426</td>\n",
       "    </tr>\n",
       "  </tbody>\n",
       "</table>\n",
       "</div>\n",
       "      <button class=\"colab-df-convert\" onclick=\"convertToInteractive('df-777d5f7d-c1e3-4c74-b2f9-5f1266bf4c6d')\"\n",
       "              title=\"Convert this dataframe to an interactive table.\"\n",
       "              style=\"display:none;\">\n",
       "        \n",
       "  <svg xmlns=\"http://www.w3.org/2000/svg\" height=\"24px\"viewBox=\"0 0 24 24\"\n",
       "       width=\"24px\">\n",
       "    <path d=\"M0 0h24v24H0V0z\" fill=\"none\"/>\n",
       "    <path d=\"M18.56 5.44l.94 2.06.94-2.06 2.06-.94-2.06-.94-.94-2.06-.94 2.06-2.06.94zm-11 1L8.5 8.5l.94-2.06 2.06-.94-2.06-.94L8.5 2.5l-.94 2.06-2.06.94zm10 10l.94 2.06.94-2.06 2.06-.94-2.06-.94-.94-2.06-.94 2.06-2.06.94z\"/><path d=\"M17.41 7.96l-1.37-1.37c-.4-.4-.92-.59-1.43-.59-.52 0-1.04.2-1.43.59L10.3 9.45l-7.72 7.72c-.78.78-.78 2.05 0 2.83L4 21.41c.39.39.9.59 1.41.59.51 0 1.02-.2 1.41-.59l7.78-7.78 2.81-2.81c.8-.78.8-2.07 0-2.86zM5.41 20L4 18.59l7.72-7.72 1.47 1.35L5.41 20z\"/>\n",
       "  </svg>\n",
       "      </button>\n",
       "      \n",
       "  <style>\n",
       "    .colab-df-container {\n",
       "      display:flex;\n",
       "      flex-wrap:wrap;\n",
       "      gap: 12px;\n",
       "    }\n",
       "\n",
       "    .colab-df-convert {\n",
       "      background-color: #E8F0FE;\n",
       "      border: none;\n",
       "      border-radius: 50%;\n",
       "      cursor: pointer;\n",
       "      display: none;\n",
       "      fill: #1967D2;\n",
       "      height: 32px;\n",
       "      padding: 0 0 0 0;\n",
       "      width: 32px;\n",
       "    }\n",
       "\n",
       "    .colab-df-convert:hover {\n",
       "      background-color: #E2EBFA;\n",
       "      box-shadow: 0px 1px 2px rgba(60, 64, 67, 0.3), 0px 1px 3px 1px rgba(60, 64, 67, 0.15);\n",
       "      fill: #174EA6;\n",
       "    }\n",
       "\n",
       "    [theme=dark] .colab-df-convert {\n",
       "      background-color: #3B4455;\n",
       "      fill: #D2E3FC;\n",
       "    }\n",
       "\n",
       "    [theme=dark] .colab-df-convert:hover {\n",
       "      background-color: #434B5C;\n",
       "      box-shadow: 0px 1px 3px 1px rgba(0, 0, 0, 0.15);\n",
       "      filter: drop-shadow(0px 1px 2px rgba(0, 0, 0, 0.3));\n",
       "      fill: #FFFFFF;\n",
       "    }\n",
       "  </style>\n",
       "\n",
       "      <script>\n",
       "        const buttonEl =\n",
       "          document.querySelector('#df-777d5f7d-c1e3-4c74-b2f9-5f1266bf4c6d button.colab-df-convert');\n",
       "        buttonEl.style.display =\n",
       "          google.colab.kernel.accessAllowed ? 'block' : 'none';\n",
       "\n",
       "        async function convertToInteractive(key) {\n",
       "          const element = document.querySelector('#df-777d5f7d-c1e3-4c74-b2f9-5f1266bf4c6d');\n",
       "          const dataTable =\n",
       "            await google.colab.kernel.invokeFunction('convertToInteractive',\n",
       "                                                     [key], {});\n",
       "          if (!dataTable) return;\n",
       "\n",
       "          const docLinkHtml = 'Like what you see? Visit the ' +\n",
       "            '<a target=\"_blank\" href=https://colab.research.google.com/notebooks/data_table.ipynb>data table notebook</a>'\n",
       "            + ' to learn more about interactive tables.';\n",
       "          element.innerHTML = '';\n",
       "          dataTable['output_type'] = 'display_data';\n",
       "          await google.colab.output.renderOutput(dataTable, element);\n",
       "          const docLink = document.createElement('div');\n",
       "          docLink.innerHTML = docLinkHtml;\n",
       "          element.appendChild(docLink);\n",
       "        }\n",
       "      </script>\n",
       "    </div>\n",
       "  </div>\n",
       "  "
      ],
      "text/plain": [
       "           id  predict_bert\n",
       "0  id_0336875     -3.113430\n",
       "1  id_0602099     -2.889626\n",
       "2  id_0681935      2.650685\n",
       "3  id_0092414     -1.899409\n",
       "4  id_0642364     -3.113426"
      ]
     },
     "metadata": {},
     "output_type": "display_data"
    }
   ],
   "source": [
    "display(cat_train.head())\n",
    "display(bert_train.head())"
   ]
  },
  {
   "cell_type": "code",
   "execution_count": null,
   "metadata": {
    "colab": {
     "base_uri": "https://localhost:8080/",
     "height": 204
    },
    "executionInfo": {
     "elapsed": 2564,
     "status": "ok",
     "timestamp": 1654664174309,
     "user": {
      "displayName": "Никита Орлов",
      "userId": "17221654573895787003"
     },
     "user_tz": -180
    },
    "id": "Ko4fC593xIES",
    "outputId": "f44a4ad1-1112-48d6-d41f-886ec4a32826"
   },
   "outputs": [
    {
     "data": {
      "text/html": [
       "\n",
       "  <div id=\"df-f0a0dfe5-63c3-40b0-a3a6-f166c10f6fa9\">\n",
       "    <div class=\"colab-df-container\">\n",
       "      <div>\n",
       "<style scoped>\n",
       "    .dataframe tbody tr th:only-of-type {\n",
       "        vertical-align: middle;\n",
       "    }\n",
       "\n",
       "    .dataframe tbody tr th {\n",
       "        vertical-align: top;\n",
       "    }\n",
       "\n",
       "    .dataframe thead th {\n",
       "        text-align: right;\n",
       "    }\n",
       "</style>\n",
       "<table border=\"1\" class=\"dataframe\">\n",
       "  <thead>\n",
       "    <tr style=\"text-align: right;\">\n",
       "      <th></th>\n",
       "      <th>id</th>\n",
       "      <th>category</th>\n",
       "      <th>is_bad</th>\n",
       "      <th>predict_catboost</th>\n",
       "      <th>predict_bert</th>\n",
       "    </tr>\n",
       "  </thead>\n",
       "  <tbody>\n",
       "    <tr>\n",
       "      <th>0</th>\n",
       "      <td>id_0336875</td>\n",
       "      <td>Транспорт</td>\n",
       "      <td>0</td>\n",
       "      <td>0.000092</td>\n",
       "      <td>-3.113430</td>\n",
       "    </tr>\n",
       "    <tr>\n",
       "      <th>1</th>\n",
       "      <td>id_0602099</td>\n",
       "      <td>Транспорт</td>\n",
       "      <td>0</td>\n",
       "      <td>0.007664</td>\n",
       "      <td>-2.889626</td>\n",
       "    </tr>\n",
       "    <tr>\n",
       "      <th>2</th>\n",
       "      <td>id_0681935</td>\n",
       "      <td>Для дома и дачи</td>\n",
       "      <td>1</td>\n",
       "      <td>0.937569</td>\n",
       "      <td>2.650685</td>\n",
       "    </tr>\n",
       "    <tr>\n",
       "      <th>3</th>\n",
       "      <td>id_0092414</td>\n",
       "      <td>Транспорт</td>\n",
       "      <td>0</td>\n",
       "      <td>0.013666</td>\n",
       "      <td>-1.899409</td>\n",
       "    </tr>\n",
       "    <tr>\n",
       "      <th>4</th>\n",
       "      <td>id_0642364</td>\n",
       "      <td>Личные вещи</td>\n",
       "      <td>0</td>\n",
       "      <td>0.000728</td>\n",
       "      <td>-3.113426</td>\n",
       "    </tr>\n",
       "  </tbody>\n",
       "</table>\n",
       "</div>\n",
       "      <button class=\"colab-df-convert\" onclick=\"convertToInteractive('df-f0a0dfe5-63c3-40b0-a3a6-f166c10f6fa9')\"\n",
       "              title=\"Convert this dataframe to an interactive table.\"\n",
       "              style=\"display:none;\">\n",
       "        \n",
       "  <svg xmlns=\"http://www.w3.org/2000/svg\" height=\"24px\"viewBox=\"0 0 24 24\"\n",
       "       width=\"24px\">\n",
       "    <path d=\"M0 0h24v24H0V0z\" fill=\"none\"/>\n",
       "    <path d=\"M18.56 5.44l.94 2.06.94-2.06 2.06-.94-2.06-.94-.94-2.06-.94 2.06-2.06.94zm-11 1L8.5 8.5l.94-2.06 2.06-.94-2.06-.94L8.5 2.5l-.94 2.06-2.06.94zm10 10l.94 2.06.94-2.06 2.06-.94-2.06-.94-.94-2.06-.94 2.06-2.06.94z\"/><path d=\"M17.41 7.96l-1.37-1.37c-.4-.4-.92-.59-1.43-.59-.52 0-1.04.2-1.43.59L10.3 9.45l-7.72 7.72c-.78.78-.78 2.05 0 2.83L4 21.41c.39.39.9.59 1.41.59.51 0 1.02-.2 1.41-.59l7.78-7.78 2.81-2.81c.8-.78.8-2.07 0-2.86zM5.41 20L4 18.59l7.72-7.72 1.47 1.35L5.41 20z\"/>\n",
       "  </svg>\n",
       "      </button>\n",
       "      \n",
       "  <style>\n",
       "    .colab-df-container {\n",
       "      display:flex;\n",
       "      flex-wrap:wrap;\n",
       "      gap: 12px;\n",
       "    }\n",
       "\n",
       "    .colab-df-convert {\n",
       "      background-color: #E8F0FE;\n",
       "      border: none;\n",
       "      border-radius: 50%;\n",
       "      cursor: pointer;\n",
       "      display: none;\n",
       "      fill: #1967D2;\n",
       "      height: 32px;\n",
       "      padding: 0 0 0 0;\n",
       "      width: 32px;\n",
       "    }\n",
       "\n",
       "    .colab-df-convert:hover {\n",
       "      background-color: #E2EBFA;\n",
       "      box-shadow: 0px 1px 2px rgba(60, 64, 67, 0.3), 0px 1px 3px 1px rgba(60, 64, 67, 0.15);\n",
       "      fill: #174EA6;\n",
       "    }\n",
       "\n",
       "    [theme=dark] .colab-df-convert {\n",
       "      background-color: #3B4455;\n",
       "      fill: #D2E3FC;\n",
       "    }\n",
       "\n",
       "    [theme=dark] .colab-df-convert:hover {\n",
       "      background-color: #434B5C;\n",
       "      box-shadow: 0px 1px 3px 1px rgba(0, 0, 0, 0.15);\n",
       "      filter: drop-shadow(0px 1px 2px rgba(0, 0, 0, 0.3));\n",
       "      fill: #FFFFFF;\n",
       "    }\n",
       "  </style>\n",
       "\n",
       "      <script>\n",
       "        const buttonEl =\n",
       "          document.querySelector('#df-f0a0dfe5-63c3-40b0-a3a6-f166c10f6fa9 button.colab-df-convert');\n",
       "        buttonEl.style.display =\n",
       "          google.colab.kernel.accessAllowed ? 'block' : 'none';\n",
       "\n",
       "        async function convertToInteractive(key) {\n",
       "          const element = document.querySelector('#df-f0a0dfe5-63c3-40b0-a3a6-f166c10f6fa9');\n",
       "          const dataTable =\n",
       "            await google.colab.kernel.invokeFunction('convertToInteractive',\n",
       "                                                     [key], {});\n",
       "          if (!dataTable) return;\n",
       "\n",
       "          const docLinkHtml = 'Like what you see? Visit the ' +\n",
       "            '<a target=\"_blank\" href=https://colab.research.google.com/notebooks/data_table.ipynb>data table notebook</a>'\n",
       "            + ' to learn more about interactive tables.';\n",
       "          element.innerHTML = '';\n",
       "          dataTable['output_type'] = 'display_data';\n",
       "          await google.colab.output.renderOutput(dataTable, element);\n",
       "          const docLink = document.createElement('div');\n",
       "          docLink.innerHTML = docLinkHtml;\n",
       "          element.appendChild(docLink);\n",
       "        }\n",
       "      </script>\n",
       "    </div>\n",
       "  </div>\n",
       "  "
      ],
      "text/plain": [
       "           id         category  is_bad  predict_catboost  predict_bert\n",
       "0  id_0336875        Транспорт       0          0.000092     -3.113430\n",
       "1  id_0602099        Транспорт       0          0.007664     -2.889626\n",
       "2  id_0681935  Для дома и дачи       1          0.937569      2.650685\n",
       "3  id_0092414        Транспорт       0          0.013666     -1.899409\n",
       "4  id_0642364      Личные вещи       0          0.000728     -3.113426"
      ]
     },
     "execution_count": 12,
     "metadata": {},
     "output_type": "execute_result"
    }
   ],
   "source": [
    "train = df_train\\\n",
    "  .merge(cat_train, how='inner', on=['id'])\\\n",
    "  .merge(bert_train, how='inner', on=['id'])\n",
    "\n",
    "val = df_val\\\n",
    "  .merge(cat_val, how='inner', on=['id'])\\\n",
    "  .merge(bert_val, how='inner', on=['id'])\n",
    "\n",
    "test = df_test\\\n",
    "  .merge(cat_test, how='inner', on=['id'])\\\n",
    "  .merge(bert_test, how='inner', on=['id'])\n",
    "\n",
    "train.head()"
   ]
  },
  {
   "cell_type": "code",
   "execution_count": null,
   "metadata": {
    "id": "-sSW8auVbJdw"
   },
   "outputs": [],
   "source": [
    "train['predict_bert'] = train['predict_bert'].parallel_apply(sigmoid)\n",
    "val['predict_bert'] = val['predict_bert'].parallel_apply(sigmoid)\n",
    "test['predict_bert'] = test['predict_bert'].parallel_apply(sigmoid)"
   ]
  },
  {
   "cell_type": "code",
   "execution_count": null,
   "metadata": {
    "colab": {
     "base_uri": "https://localhost:8080/",
     "height": 204
    },
    "executionInfo": {
     "elapsed": 11,
     "status": "ok",
     "timestamp": 1654664175706,
     "user": {
      "displayName": "Никита Орлов",
      "userId": "17221654573895787003"
     },
     "user_tz": -180
    },
    "id": "gnLibIeBpeKz",
    "outputId": "377f5cae-8dd8-4db3-fe2f-07cb350dd529"
   },
   "outputs": [
    {
     "data": {
      "text/html": [
       "\n",
       "  <div id=\"df-e7b38728-1c69-47a8-aeec-0dc8181f26c6\">\n",
       "    <div class=\"colab-df-container\">\n",
       "      <div>\n",
       "<style scoped>\n",
       "    .dataframe tbody tr th:only-of-type {\n",
       "        vertical-align: middle;\n",
       "    }\n",
       "\n",
       "    .dataframe tbody tr th {\n",
       "        vertical-align: top;\n",
       "    }\n",
       "\n",
       "    .dataframe thead th {\n",
       "        text-align: right;\n",
       "    }\n",
       "</style>\n",
       "<table border=\"1\" class=\"dataframe\">\n",
       "  <thead>\n",
       "    <tr style=\"text-align: right;\">\n",
       "      <th></th>\n",
       "      <th>id</th>\n",
       "      <th>category</th>\n",
       "      <th>is_bad</th>\n",
       "      <th>predict_catboost</th>\n",
       "      <th>predict_bert</th>\n",
       "    </tr>\n",
       "  </thead>\n",
       "  <tbody>\n",
       "    <tr>\n",
       "      <th>0</th>\n",
       "      <td>id_0638258</td>\n",
       "      <td>Бытовая электроника</td>\n",
       "      <td>0</td>\n",
       "      <td>0.006692</td>\n",
       "      <td>0.043005</td>\n",
       "    </tr>\n",
       "    <tr>\n",
       "      <th>1</th>\n",
       "      <td>id_0497348</td>\n",
       "      <td>Личные вещи</td>\n",
       "      <td>1</td>\n",
       "      <td>0.988122</td>\n",
       "      <td>0.945179</td>\n",
       "    </tr>\n",
       "    <tr>\n",
       "      <th>2</th>\n",
       "      <td>id_0759873</td>\n",
       "      <td>Транспорт</td>\n",
       "      <td>0</td>\n",
       "      <td>0.091023</td>\n",
       "      <td>0.045253</td>\n",
       "    </tr>\n",
       "    <tr>\n",
       "      <th>3</th>\n",
       "      <td>id_0772139</td>\n",
       "      <td>Для дома и дачи</td>\n",
       "      <td>0</td>\n",
       "      <td>0.027595</td>\n",
       "      <td>0.046107</td>\n",
       "    </tr>\n",
       "    <tr>\n",
       "      <th>4</th>\n",
       "      <td>id_0248619</td>\n",
       "      <td>Услуги</td>\n",
       "      <td>1</td>\n",
       "      <td>0.368987</td>\n",
       "      <td>0.935957</td>\n",
       "    </tr>\n",
       "  </tbody>\n",
       "</table>\n",
       "</div>\n",
       "      <button class=\"colab-df-convert\" onclick=\"convertToInteractive('df-e7b38728-1c69-47a8-aeec-0dc8181f26c6')\"\n",
       "              title=\"Convert this dataframe to an interactive table.\"\n",
       "              style=\"display:none;\">\n",
       "        \n",
       "  <svg xmlns=\"http://www.w3.org/2000/svg\" height=\"24px\"viewBox=\"0 0 24 24\"\n",
       "       width=\"24px\">\n",
       "    <path d=\"M0 0h24v24H0V0z\" fill=\"none\"/>\n",
       "    <path d=\"M18.56 5.44l.94 2.06.94-2.06 2.06-.94-2.06-.94-.94-2.06-.94 2.06-2.06.94zm-11 1L8.5 8.5l.94-2.06 2.06-.94-2.06-.94L8.5 2.5l-.94 2.06-2.06.94zm10 10l.94 2.06.94-2.06 2.06-.94-2.06-.94-.94-2.06-.94 2.06-2.06.94z\"/><path d=\"M17.41 7.96l-1.37-1.37c-.4-.4-.92-.59-1.43-.59-.52 0-1.04.2-1.43.59L10.3 9.45l-7.72 7.72c-.78.78-.78 2.05 0 2.83L4 21.41c.39.39.9.59 1.41.59.51 0 1.02-.2 1.41-.59l7.78-7.78 2.81-2.81c.8-.78.8-2.07 0-2.86zM5.41 20L4 18.59l7.72-7.72 1.47 1.35L5.41 20z\"/>\n",
       "  </svg>\n",
       "      </button>\n",
       "      \n",
       "  <style>\n",
       "    .colab-df-container {\n",
       "      display:flex;\n",
       "      flex-wrap:wrap;\n",
       "      gap: 12px;\n",
       "    }\n",
       "\n",
       "    .colab-df-convert {\n",
       "      background-color: #E8F0FE;\n",
       "      border: none;\n",
       "      border-radius: 50%;\n",
       "      cursor: pointer;\n",
       "      display: none;\n",
       "      fill: #1967D2;\n",
       "      height: 32px;\n",
       "      padding: 0 0 0 0;\n",
       "      width: 32px;\n",
       "    }\n",
       "\n",
       "    .colab-df-convert:hover {\n",
       "      background-color: #E2EBFA;\n",
       "      box-shadow: 0px 1px 2px rgba(60, 64, 67, 0.3), 0px 1px 3px 1px rgba(60, 64, 67, 0.15);\n",
       "      fill: #174EA6;\n",
       "    }\n",
       "\n",
       "    [theme=dark] .colab-df-convert {\n",
       "      background-color: #3B4455;\n",
       "      fill: #D2E3FC;\n",
       "    }\n",
       "\n",
       "    [theme=dark] .colab-df-convert:hover {\n",
       "      background-color: #434B5C;\n",
       "      box-shadow: 0px 1px 3px 1px rgba(0, 0, 0, 0.15);\n",
       "      filter: drop-shadow(0px 1px 2px rgba(0, 0, 0, 0.3));\n",
       "      fill: #FFFFFF;\n",
       "    }\n",
       "  </style>\n",
       "\n",
       "      <script>\n",
       "        const buttonEl =\n",
       "          document.querySelector('#df-e7b38728-1c69-47a8-aeec-0dc8181f26c6 button.colab-df-convert');\n",
       "        buttonEl.style.display =\n",
       "          google.colab.kernel.accessAllowed ? 'block' : 'none';\n",
       "\n",
       "        async function convertToInteractive(key) {\n",
       "          const element = document.querySelector('#df-e7b38728-1c69-47a8-aeec-0dc8181f26c6');\n",
       "          const dataTable =\n",
       "            await google.colab.kernel.invokeFunction('convertToInteractive',\n",
       "                                                     [key], {});\n",
       "          if (!dataTable) return;\n",
       "\n",
       "          const docLinkHtml = 'Like what you see? Visit the ' +\n",
       "            '<a target=\"_blank\" href=https://colab.research.google.com/notebooks/data_table.ipynb>data table notebook</a>'\n",
       "            + ' to learn more about interactive tables.';\n",
       "          element.innerHTML = '';\n",
       "          dataTable['output_type'] = 'display_data';\n",
       "          await google.colab.output.renderOutput(dataTable, element);\n",
       "          const docLink = document.createElement('div');\n",
       "          docLink.innerHTML = docLinkHtml;\n",
       "          element.appendChild(docLink);\n",
       "        }\n",
       "      </script>\n",
       "    </div>\n",
       "  </div>\n",
       "  "
      ],
      "text/plain": [
       "           id             category  is_bad  predict_catboost  predict_bert\n",
       "0  id_0638258  Бытовая электроника       0          0.006692      0.043005\n",
       "1  id_0497348          Личные вещи       1          0.988122      0.945179\n",
       "2  id_0759873            Транспорт       0          0.091023      0.045253\n",
       "3  id_0772139      Для дома и дачи       0          0.027595      0.046107\n",
       "4  id_0248619               Услуги       1          0.368987      0.935957"
      ]
     },
     "execution_count": 14,
     "metadata": {},
     "output_type": "execute_result"
    }
   ],
   "source": [
    "val.head()"
   ]
  },
  {
   "cell_type": "markdown",
   "metadata": {
    "id": "eJhTqfaH9U-w"
   },
   "source": [
    "# VAL DATA"
   ]
  },
  {
   "cell_type": "code",
   "execution_count": null,
   "metadata": {
    "id": "ibOmOZ9Z78qj"
   },
   "outputs": [],
   "source": [
    "param_grid = {\n",
    "    'C': loguniform(-4.7, 0, 1000)}\n",
    "\n",
    "model = LogisticRegression(\n",
    "    random_state=42, \n",
    "    n_jobs=-1,\n",
    "    solver='saga')"
   ]
  },
  {
   "cell_type": "code",
   "execution_count": null,
   "metadata": {
    "colab": {
     "base_uri": "https://localhost:8080/"
    },
    "executionInfo": {
     "elapsed": 28809,
     "status": "ok",
     "timestamp": 1654664600134,
     "user": {
      "displayName": "Никита Орлов",
      "userId": "17221654573895787003"
     },
     "user_tz": -180
    },
    "id": "BCC0U9CW7kdd",
    "outputId": "9453ec5e-e9f0-458e-f820-6077b2ee6c47"
   },
   "outputs": [
    {
     "name": "stdout",
     "output_type": "stream",
     "text": [
      "Fitting 5 folds for each of 20 candidates, totalling 100 fits\n",
      "CPU times: user 2.08 s, sys: 176 ms, total: 2.26 s\n",
      "Wall time: 28.7 s\n"
     ]
    }
   ],
   "source": [
    "%%time\n",
    "randomized_search = RandomizedSearchCV(\n",
    "    model, \n",
    "    param_grid, \n",
    "    n_iter=20,\n",
    "    n_jobs=-1, \n",
    "    verbose=4, \n",
    "    cv=5,\n",
    "    scoring='roc_auc', \n",
    "    refit=True, \n",
    "    random_state=42)\n",
    "\n",
    "randomized_search.fit(val[['predict_catboost', 'predict_bert']], val['is_bad'])"
   ]
  },
  {
   "cell_type": "code",
   "execution_count": null,
   "metadata": {
    "colab": {
     "base_uri": "https://localhost:8080/"
    },
    "executionInfo": {
     "elapsed": 31,
     "status": "ok",
     "timestamp": 1654664600135,
     "user": {
      "displayName": "Никита Орлов",
      "userId": "17221654573895787003"
     },
     "user_tz": -180
    },
    "id": "pvKBUCYU9hdR",
    "outputId": "af258c97-d687-4b67-a93a-e919408a0f8e"
   },
   "outputs": [
    {
     "data": {
      "text/plain": [
       "0.991231477110478"
      ]
     },
     "execution_count": 25,
     "metadata": {},
     "output_type": "execute_result"
    }
   ],
   "source": [
    "randomized_search.best_score_"
   ]
  },
  {
   "cell_type": "code",
   "execution_count": null,
   "metadata": {
    "colab": {
     "base_uri": "https://localhost:8080/"
    },
    "executionInfo": {
     "elapsed": 19,
     "status": "ok",
     "timestamp": 1654664600136,
     "user": {
      "displayName": "Никита Орлов",
      "userId": "17221654573895787003"
     },
     "user_tz": -180
    },
    "id": "8e_Fe9kF9hhy",
    "outputId": "6b448c15-1770-4a8f-9730-93cbbcb8625f"
   },
   "outputs": [
    {
     "data": {
      "text/plain": [
       "{'C': 0.7812318666281485}"
      ]
     },
     "execution_count": 26,
     "metadata": {},
     "output_type": "execute_result"
    }
   ],
   "source": [
    "randomized_search.best_params_"
   ]
  },
  {
   "cell_type": "code",
   "execution_count": null,
   "metadata": {
    "id": "G_lQ_IPN9hlm"
   },
   "outputs": [],
   "source": [
    "train['pred_val'] = randomized_search.best_estimator_.predict_proba(\n",
    "    train[['predict_catboost', 'predict_bert']]\n",
    "    )[:, 1]\n",
    "val['pred_val'] = randomized_search.best_estimator_.predict_proba(\n",
    "    val[['predict_catboost', 'predict_bert']]\n",
    "    )[:, 1]\n",
    "test['pred_val'] = randomized_search.best_estimator_.predict_proba(\n",
    "    test[['predict_catboost', 'predict_bert']]\n",
    "    )[:, 1]"
   ]
  },
  {
   "cell_type": "code",
   "execution_count": null,
   "metadata": {
    "id": "tS5ut-o99roR"
   },
   "outputs": [],
   "source": [
    "def auc_group(df):\n",
    "    y = df['is_bad']\n",
    "    y_hat = df['pred_val']\n",
    "    try:\n",
    "        return roc_auc_score(y, y_hat)\n",
    "    except ValueError:\n",
    "        return 0.5"
   ]
  },
  {
   "cell_type": "code",
   "execution_count": null,
   "metadata": {
    "colab": {
     "base_uri": "https://localhost:8080/",
     "height": 1000
    },
    "executionInfo": {
     "elapsed": 2787,
     "status": "ok",
     "timestamp": 1654664603260,
     "user": {
      "displayName": "Никита Орлов",
      "userId": "17221654573895787003"
     },
     "user_tz": -180
    },
    "id": "AEFbNxxd9rsY",
    "outputId": "082816a3-5e8a-47e1-9c51-f53cf9490dab"
   },
   "outputs": [
    {
     "name": "stdout",
     "output_type": "stream",
     "text": [
      "TRAIN\n",
      "0.996127188119837\n",
      "category\n",
      "Бытовая электроника    0.994837\n",
      "Для бизнеса            0.988542\n",
      "Для дома и дачи        0.993017\n",
      "Животные               0.997646\n",
      "Личные вещи            0.996194\n",
      "Недвижимость           0.997115\n",
      "Работа                 0.992695\n",
      "Транспорт              0.997307\n",
      "Услуги                 0.994496\n",
      "Хобби и отдых          0.992380\n",
      "dtype: float64\n",
      "0.9944229679208245\n",
      "====================\n",
      "VAL\n",
      "0.990969615063672\n",
      "category\n",
      "Бытовая электроника    0.986084\n",
      "Для бизнеса            0.934890\n",
      "Для дома и дачи        0.986871\n",
      "Животные               0.994485\n",
      "Личные вещи            0.992047\n",
      "Недвижимость           0.993377\n",
      "Работа                 0.976112\n",
      "Транспорт              0.994555\n",
      "Услуги                 0.985620\n",
      "Хобби и отдых          0.980866\n",
      "dtype: float64\n",
      "0.9824908648858228\n",
      "====================\n",
      "TEST\n",
      "0.9819889211023903\n",
      "category\n",
      "Бытовая электроника    0.973086\n",
      "Для бизнеса            0.927591\n",
      "Для дома и дачи        0.968632\n",
      "Животные               0.966984\n",
      "Личные вещи            0.859753\n",
      "Недвижимость           0.987294\n",
      "Работа                 0.977224\n",
      "Транспорт              0.995588\n",
      "Услуги                 0.950744\n",
      "Хобби и отдых          0.956208\n",
      "dtype: float64\n",
      "0.9563103321300159\n",
      "====================\n"
     ]
    },
    {
     "data": {
      "text/html": [
       "\n",
       "  <div id=\"df-7c88fb3a-54ce-447a-b9b5-089d62a4299a\">\n",
       "    <div class=\"colab-df-container\">\n",
       "      <div>\n",
       "<style scoped>\n",
       "    .dataframe tbody tr th:only-of-type {\n",
       "        vertical-align: middle;\n",
       "    }\n",
       "\n",
       "    .dataframe tbody tr th {\n",
       "        vertical-align: top;\n",
       "    }\n",
       "\n",
       "    .dataframe thead th {\n",
       "        text-align: right;\n",
       "    }\n",
       "</style>\n",
       "<table border=\"1\" class=\"dataframe\">\n",
       "  <thead>\n",
       "    <tr style=\"text-align: right;\">\n",
       "      <th></th>\n",
       "      <th>train</th>\n",
       "      <th>val</th>\n",
       "      <th>test</th>\n",
       "    </tr>\n",
       "    <tr>\n",
       "      <th>category</th>\n",
       "      <th></th>\n",
       "      <th></th>\n",
       "      <th></th>\n",
       "    </tr>\n",
       "  </thead>\n",
       "  <tbody>\n",
       "    <tr>\n",
       "      <th>Бытовая электроника</th>\n",
       "      <td>0.994837</td>\n",
       "      <td>0.986084</td>\n",
       "      <td>0.973086</td>\n",
       "    </tr>\n",
       "    <tr>\n",
       "      <th>Для бизнеса</th>\n",
       "      <td>0.988542</td>\n",
       "      <td>0.934890</td>\n",
       "      <td>0.927591</td>\n",
       "    </tr>\n",
       "    <tr>\n",
       "      <th>Для дома и дачи</th>\n",
       "      <td>0.993017</td>\n",
       "      <td>0.986871</td>\n",
       "      <td>0.968632</td>\n",
       "    </tr>\n",
       "    <tr>\n",
       "      <th>Животные</th>\n",
       "      <td>0.997646</td>\n",
       "      <td>0.994485</td>\n",
       "      <td>0.966984</td>\n",
       "    </tr>\n",
       "    <tr>\n",
       "      <th>Личные вещи</th>\n",
       "      <td>0.996194</td>\n",
       "      <td>0.992047</td>\n",
       "      <td>0.859753</td>\n",
       "    </tr>\n",
       "    <tr>\n",
       "      <th>Недвижимость</th>\n",
       "      <td>0.997115</td>\n",
       "      <td>0.993377</td>\n",
       "      <td>0.987294</td>\n",
       "    </tr>\n",
       "    <tr>\n",
       "      <th>Работа</th>\n",
       "      <td>0.992695</td>\n",
       "      <td>0.976112</td>\n",
       "      <td>0.977224</td>\n",
       "    </tr>\n",
       "    <tr>\n",
       "      <th>Транспорт</th>\n",
       "      <td>0.997307</td>\n",
       "      <td>0.994555</td>\n",
       "      <td>0.995588</td>\n",
       "    </tr>\n",
       "    <tr>\n",
       "      <th>Услуги</th>\n",
       "      <td>0.994496</td>\n",
       "      <td>0.985620</td>\n",
       "      <td>0.950744</td>\n",
       "    </tr>\n",
       "    <tr>\n",
       "      <th>Хобби и отдых</th>\n",
       "      <td>0.992380</td>\n",
       "      <td>0.980866</td>\n",
       "      <td>0.956208</td>\n",
       "    </tr>\n",
       "  </tbody>\n",
       "</table>\n",
       "</div>\n",
       "      <button class=\"colab-df-convert\" onclick=\"convertToInteractive('df-7c88fb3a-54ce-447a-b9b5-089d62a4299a')\"\n",
       "              title=\"Convert this dataframe to an interactive table.\"\n",
       "              style=\"display:none;\">\n",
       "        \n",
       "  <svg xmlns=\"http://www.w3.org/2000/svg\" height=\"24px\"viewBox=\"0 0 24 24\"\n",
       "       width=\"24px\">\n",
       "    <path d=\"M0 0h24v24H0V0z\" fill=\"none\"/>\n",
       "    <path d=\"M18.56 5.44l.94 2.06.94-2.06 2.06-.94-2.06-.94-.94-2.06-.94 2.06-2.06.94zm-11 1L8.5 8.5l.94-2.06 2.06-.94-2.06-.94L8.5 2.5l-.94 2.06-2.06.94zm10 10l.94 2.06.94-2.06 2.06-.94-2.06-.94-.94-2.06-.94 2.06-2.06.94z\"/><path d=\"M17.41 7.96l-1.37-1.37c-.4-.4-.92-.59-1.43-.59-.52 0-1.04.2-1.43.59L10.3 9.45l-7.72 7.72c-.78.78-.78 2.05 0 2.83L4 21.41c.39.39.9.59 1.41.59.51 0 1.02-.2 1.41-.59l7.78-7.78 2.81-2.81c.8-.78.8-2.07 0-2.86zM5.41 20L4 18.59l7.72-7.72 1.47 1.35L5.41 20z\"/>\n",
       "  </svg>\n",
       "      </button>\n",
       "      \n",
       "  <style>\n",
       "    .colab-df-container {\n",
       "      display:flex;\n",
       "      flex-wrap:wrap;\n",
       "      gap: 12px;\n",
       "    }\n",
       "\n",
       "    .colab-df-convert {\n",
       "      background-color: #E8F0FE;\n",
       "      border: none;\n",
       "      border-radius: 50%;\n",
       "      cursor: pointer;\n",
       "      display: none;\n",
       "      fill: #1967D2;\n",
       "      height: 32px;\n",
       "      padding: 0 0 0 0;\n",
       "      width: 32px;\n",
       "    }\n",
       "\n",
       "    .colab-df-convert:hover {\n",
       "      background-color: #E2EBFA;\n",
       "      box-shadow: 0px 1px 2px rgba(60, 64, 67, 0.3), 0px 1px 3px 1px rgba(60, 64, 67, 0.15);\n",
       "      fill: #174EA6;\n",
       "    }\n",
       "\n",
       "    [theme=dark] .colab-df-convert {\n",
       "      background-color: #3B4455;\n",
       "      fill: #D2E3FC;\n",
       "    }\n",
       "\n",
       "    [theme=dark] .colab-df-convert:hover {\n",
       "      background-color: #434B5C;\n",
       "      box-shadow: 0px 1px 3px 1px rgba(0, 0, 0, 0.15);\n",
       "      filter: drop-shadow(0px 1px 2px rgba(0, 0, 0, 0.3));\n",
       "      fill: #FFFFFF;\n",
       "    }\n",
       "  </style>\n",
       "\n",
       "      <script>\n",
       "        const buttonEl =\n",
       "          document.querySelector('#df-7c88fb3a-54ce-447a-b9b5-089d62a4299a button.colab-df-convert');\n",
       "        buttonEl.style.display =\n",
       "          google.colab.kernel.accessAllowed ? 'block' : 'none';\n",
       "\n",
       "        async function convertToInteractive(key) {\n",
       "          const element = document.querySelector('#df-7c88fb3a-54ce-447a-b9b5-089d62a4299a');\n",
       "          const dataTable =\n",
       "            await google.colab.kernel.invokeFunction('convertToInteractive',\n",
       "                                                     [key], {});\n",
       "          if (!dataTable) return;\n",
       "\n",
       "          const docLinkHtml = 'Like what you see? Visit the ' +\n",
       "            '<a target=\"_blank\" href=https://colab.research.google.com/notebooks/data_table.ipynb>data table notebook</a>'\n",
       "            + ' to learn more about interactive tables.';\n",
       "          element.innerHTML = '';\n",
       "          dataTable['output_type'] = 'display_data';\n",
       "          await google.colab.output.renderOutput(dataTable, element);\n",
       "          const docLink = document.createElement('div');\n",
       "          docLink.innerHTML = docLinkHtml;\n",
       "          element.appendChild(docLink);\n",
       "        }\n",
       "      </script>\n",
       "    </div>\n",
       "  </div>\n",
       "  "
      ],
      "text/plain": [
       "                        train       val      test\n",
       "category                                         \n",
       "Бытовая электроника  0.994837  0.986084  0.973086\n",
       "Для бизнеса          0.988542  0.934890  0.927591\n",
       "Для дома и дачи      0.993017  0.986871  0.968632\n",
       "Животные             0.997646  0.994485  0.966984\n",
       "Личные вещи          0.996194  0.992047  0.859753\n",
       "Недвижимость         0.997115  0.993377  0.987294\n",
       "Работа               0.992695  0.976112  0.977224\n",
       "Транспорт            0.997307  0.994555  0.995588\n",
       "Услуги               0.994496  0.985620  0.950744\n",
       "Хобби и отдых        0.992380  0.980866  0.956208"
      ]
     },
     "metadata": {},
     "output_type": "display_data"
    }
   ],
   "source": [
    "print('TRAIN')\n",
    "print(roc_auc_score(train['is_bad'], train['pred_full']))\n",
    "print(train.groupby(['category']).apply(auc_group))\n",
    "print(train.groupby(['category']).apply(auc_group).mean())\n",
    "print('=' * 20)\n",
    "\n",
    "print('VAL')\n",
    "print(roc_auc_score(val['is_bad'], val['pred_full']))\n",
    "print(val.groupby(['category']).apply(auc_group))\n",
    "print(val.groupby(['category']).apply(auc_group).mean())\n",
    "print('=' * 20)\n",
    "\n",
    "print('TEST')\n",
    "print(roc_auc_score(test['is_bad'], test['pred_full']))\n",
    "print(test.groupby(['category']).apply(auc_group))\n",
    "print(test.groupby(['category']).apply(auc_group).mean())\n",
    "print('=' * 20)\n",
    "\n",
    "result_auc = pd.concat([\n",
    "    train.groupby(['category']).apply(auc_group), \n",
    "    val.groupby(['category']).apply(auc_group), \n",
    "    test.groupby(['category']).apply(auc_group)], \n",
    "    axis=1)\n",
    "result_auc.columns = ['train', 'val', 'test']\n",
    "display(result_auc)"
   ]
  },
  {
   "cell_type": "code",
   "execution_count": null,
   "metadata": {
    "id": "Xg8p6wtwuN_Z"
   },
   "outputs": [],
   "source": [
    "params = {'C': 0.7812318666281485}\n",
    "\n",
    "model = LogisticRegression(\n",
    "    random_state=42, \n",
    "    n_jobs=-1,\n",
    "    solver='saga',\n",
    "    **params\n",
    "    )"
   ]
  },
  {
   "cell_type": "code",
   "execution_count": null,
   "metadata": {
    "id": "YB-9x2CyuuOi"
   },
   "outputs": [],
   "source": [
    "X = pd.concat([train, val, test], axis=0)[['predict_catboost', 'predict_bert']]\n",
    "y = pd.concat([train, val, test], axis=0)['is_bad']"
   ]
  },
  {
   "cell_type": "code",
   "execution_count": null,
   "metadata": {
    "colab": {
     "base_uri": "https://localhost:8080/"
    },
    "executionInfo": {
     "elapsed": 11079,
     "status": "ok",
     "timestamp": 1654665223742,
     "user": {
      "displayName": "Никита Орлов",
      "userId": "17221654573895787003"
     },
     "user_tz": -180
    },
    "id": "VyLXGaTWuOEz",
    "outputId": "776f1243-1b53-42fe-d212-2af251d7e054"
   },
   "outputs": [
    {
     "data": {
      "text/plain": [
       "LogisticRegression(C=0.7812318666281485, n_jobs=-1, random_state=42,\n",
       "                   solver='saga')"
      ]
     },
     "execution_count": 32,
     "metadata": {},
     "output_type": "execute_result"
    }
   ],
   "source": [
    "model.fit(X, y)"
   ]
  },
  {
   "cell_type": "code",
   "execution_count": null,
   "metadata": {
    "id": "uJlsdgZcwIS1"
   },
   "outputs": [],
   "source": [
    "with open('{}blend_models/log_reg.pickle'.format(FOLDER_PATH), 'wb') as f:\n",
    "    pickle.dump(model, f)"
   ]
  }
 ],
 "metadata": {
  "colab": {
   "authorship_tag": "ABX9TyMa5+ed6LoH38QDyE9VSDqV",
   "collapsed_sections": [],
   "mount_file_id": "1A6f7FEhU8VMgu_P3wt9o9bZxQqlH9WfF",
   "provenance": [
    {
     "file_id": "1A6f7FEhU8VMgu_P3wt9o9bZxQqlH9WfF",
     "timestamp": 1664806609083
    },
    {
     "file_id": "1jB56JcBnxpJhRnwZbcXin1EVq9cehqmY",
     "timestamp": 1654663959311
    },
    {
     "file_id": "1Lkd9EosK8SY2VaQCrqxm3fzSzA32i25o",
     "timestamp": 1654529363103
    },
    {
     "file_id": "1Odt4h6q5UKICFRSIXF_8TWRaYnmy4S3O",
     "timestamp": 1654182085114
    },
    {
     "file_id": "1yiB4dUsn7QvrmHQwqviVw87N8tjw40nZ",
     "timestamp": 1653898527307
    },
    {
     "file_id": "1LGgTatNFuBS223e6pnucWtPD4qlqimWi",
     "timestamp": 1653835057303
    },
    {
     "file_id": "1v6hLcwxrkw-gCmB5WriZumoXkRubCz7D",
     "timestamp": 1653739809685
    },
    {
     "file_id": "1hZHFH8mj3XYAHsvgd_gWROk8nSOHc4c4",
     "timestamp": 1653736903068
    },
    {
     "file_id": "1vtIjXcGfKqNEBfUzwmf90GAgJBEJNjY8",
     "timestamp": 1653736472486
    },
    {
     "file_id": "1TcG7DsmtHmYUBqRHYqaIfSheYsklr6zd",
     "timestamp": 1653731209963
    },
    {
     "file_id": "1JeMcjMKKFrShiQ--BXcpX_Lr9k0gZBoM",
     "timestamp": 1653727209548
    }
   ]
  },
  "kernelspec": {
   "display_name": "Python 3 (ipykernel)",
   "language": "python",
   "name": "python3"
  },
  "language_info": {
   "codemirror_mode": {
    "name": "ipython",
    "version": 3
   },
   "file_extension": ".py",
   "mimetype": "text/x-python",
   "name": "python",
   "nbconvert_exporter": "python",
   "pygments_lexer": "ipython3",
   "version": "3.9.13"
  }
 },
 "nbformat": 4,
 "nbformat_minor": 4
}
