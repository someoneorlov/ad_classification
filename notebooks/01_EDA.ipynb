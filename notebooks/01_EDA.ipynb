{
 "cells": [
  {
   "cell_type": "code",
   "execution_count": 4,
   "metadata": {
    "executionInfo": {
     "elapsed": 344,
     "status": "ok",
     "timestamp": 1653716898840,
     "user": {
      "displayName": "Никита Орлов",
      "userId": "17221654573895787003"
     },
     "user_tz": -180
    },
    "id": "7VouVRQIn7O6"
   },
   "outputs": [],
   "source": [
    "import sys\n",
    "sys.path.append('/content/drive/MyDrive/Colab Notebooks/porject')"
   ]
  },
  {
   "cell_type": "code",
   "execution_count": null,
   "metadata": {
    "colab": {
     "base_uri": "https://localhost:8080/"
    },
    "executionInfo": {
     "elapsed": 10509,
     "status": "ok",
     "timestamp": 1653716919862,
     "user": {
      "displayName": "Никита Орлов",
      "userId": "17221654573895787003"
     },
     "user_tz": -180
    },
    "id": "1x5JAEt9NTQq",
    "outputId": "d1f9491f-e49c-44bd-eb5c-0877cb9964f5"
   },
   "outputs": [],
   "source": [
    "!pip install -r drive/MyDrive/Colab\\ Notebooks/porject/requirements"
   ]
  },
  {
   "cell_type": "code",
   "execution_count": 6,
   "metadata": {
    "executionInfo": {
     "elapsed": 13,
     "status": "ok",
     "timestamp": 1653716919863,
     "user": {
      "displayName": "Никита Орлов",
      "userId": "17221654573895787003"
     },
     "user_tz": -180
    },
    "id": "higNC4vFNTeR"
   },
   "outputs": [],
   "source": [
    "import numpy as np\n",
    "import pandas as pd\n",
    "import matplotlib.pyplot as plt\n",
    "import seaborn as sns"
   ]
  },
  {
   "cell_type": "code",
   "execution_count": 7,
   "metadata": {
    "executionInfo": {
     "elapsed": 373,
     "status": "ok",
     "timestamp": 1653716929691,
     "user": {
      "displayName": "Никита Орлов",
      "userId": "17221654573895787003"
     },
     "user_tz": -180
    },
    "id": "gCe6eHoDJTlf"
   },
   "outputs": [],
   "source": [
    "from help_functions import find_phone, find_contact, phone"
   ]
  },
  {
   "cell_type": "code",
   "execution_count": 8,
   "metadata": {
    "executionInfo": {
     "elapsed": 39394,
     "status": "ok",
     "timestamp": 1653716973386,
     "user": {
      "displayName": "Никита Орлов",
      "userId": "17221654573895787003"
     },
     "user_tz": -180
    },
    "id": "1nCkoyEoo6MN"
   },
   "outputs": [],
   "source": [
    "df = pd.read_csv('./drive/MyDrive/Colab Notebooks/porject/train.csv')\n",
    "df_test = pd.read_csv('./drive/MyDrive/Colab Notebooks/porject/val.csv')"
   ]
  },
  {
   "cell_type": "code",
   "execution_count": 6,
   "metadata": {
    "colab": {
     "base_uri": "https://localhost:8080/",
     "height": 333
    },
    "executionInfo": {
     "elapsed": 9,
     "status": "ok",
     "timestamp": 1653715600064,
     "user": {
      "displayName": "Никита Орлов",
      "userId": "17221654573895787003"
     },
     "user_tz": -180
    },
    "id": "VsDOfxqCtRYk",
    "outputId": "2b76c18d-2123-4dbf-e80a-fafc2daa52a5"
   },
   "outputs": [
    {
     "data": {
      "text/html": [
       "\n",
       "  <div id=\"df-507806fe-3172-411e-9bc8-c3ff187ae12a\">\n",
       "    <div class=\"colab-df-container\">\n",
       "      <div>\n",
       "<style scoped>\n",
       "    .dataframe tbody tr th:only-of-type {\n",
       "        vertical-align: middle;\n",
       "    }\n",
       "\n",
       "    .dataframe tbody tr th {\n",
       "        vertical-align: top;\n",
       "    }\n",
       "\n",
       "    .dataframe thead th {\n",
       "        text-align: right;\n",
       "    }\n",
       "</style>\n",
       "<table border=\"1\" class=\"dataframe\">\n",
       "  <thead>\n",
       "    <tr style=\"text-align: right;\">\n",
       "      <th></th>\n",
       "      <th>title</th>\n",
       "      <th>description</th>\n",
       "      <th>subcategory</th>\n",
       "      <th>category</th>\n",
       "      <th>price</th>\n",
       "      <th>region</th>\n",
       "      <th>city</th>\n",
       "      <th>datetime_submitted</th>\n",
       "      <th>is_bad</th>\n",
       "    </tr>\n",
       "  </thead>\n",
       "  <tbody>\n",
       "    <tr>\n",
       "      <th>0</th>\n",
       "      <td>Диван-кровать</td>\n",
       "      <td>Продаем диван-кровать. Удобный механизм - евро...</td>\n",
       "      <td>Мебель и интерьер</td>\n",
       "      <td>Для дома и дачи</td>\n",
       "      <td>7000.0</td>\n",
       "      <td>Россия</td>\n",
       "      <td>Москва</td>\n",
       "      <td>2019-06-01 00:00:15.180656</td>\n",
       "      <td>0</td>\n",
       "    </tr>\n",
       "    <tr>\n",
       "      <th>1</th>\n",
       "      <td>Кожух рулевой колонки Даф хф 91 4509834</td>\n",
       "      <td>Кожух рулевой колонки DAF XF 94 (60066004)/\\n ...</td>\n",
       "      <td>Запчасти и аксессуары</td>\n",
       "      <td>Транспорт</td>\n",
       "      <td>2290.0</td>\n",
       "      <td>Россия</td>\n",
       "      <td>Москва</td>\n",
       "      <td>2019-06-01 00:00:44.317933</td>\n",
       "      <td>0</td>\n",
       "    </tr>\n",
       "    <tr>\n",
       "      <th>2</th>\n",
       "      <td>Дешёвый буст аккаунтов Dota 4</td>\n",
       "      <td>! Буст аккаунтов с ммр выше 1000ммр не беру ! ...</td>\n",
       "      <td>Предложение услуг</td>\n",
       "      <td>Услуги</td>\n",
       "      <td>200.0</td>\n",
       "      <td>Северная Осетия</td>\n",
       "      <td>Владикавказ</td>\n",
       "      <td>2019-06-01 00:00:50.249692</td>\n",
       "      <td>1</td>\n",
       "    </tr>\n",
       "    <tr>\n",
       "      <th>3</th>\n",
       "      <td>Телевизор sharp.Смарт тв.Интернет</td>\n",
       "      <td>Продам телевизор . Диагональ 450.наличие входа...</td>\n",
       "      <td>Аудио и видео</td>\n",
       "      <td>Бытовая электроника</td>\n",
       "      <td>25000.0</td>\n",
       "      <td>Калининградская область</td>\n",
       "      <td>Советск</td>\n",
       "      <td>2019-06-01 00:00:50.325799</td>\n",
       "      <td>1</td>\n",
       "    </tr>\n",
       "    <tr>\n",
       "      <th>4</th>\n",
       "      <td>Открытка-конверт</td>\n",
       "      <td>Открытки-конверты ручной работы/\\nВыполнены в ...</td>\n",
       "      <td>Коллекционирование</td>\n",
       "      <td>Хобби и отдых</td>\n",
       "      <td>150.0</td>\n",
       "      <td>Ставропольский край</td>\n",
       "      <td>Ессентукская</td>\n",
       "      <td>2019-06-01 00:00:56.632655</td>\n",
       "      <td>0</td>\n",
       "    </tr>\n",
       "  </tbody>\n",
       "</table>\n",
       "</div>\n",
       "      <button class=\"colab-df-convert\" onclick=\"convertToInteractive('df-507806fe-3172-411e-9bc8-c3ff187ae12a')\"\n",
       "              title=\"Convert this dataframe to an interactive table.\"\n",
       "              style=\"display:none;\">\n",
       "        \n",
       "  <svg xmlns=\"http://www.w3.org/2000/svg\" height=\"24px\"viewBox=\"0 0 24 24\"\n",
       "       width=\"24px\">\n",
       "    <path d=\"M0 0h24v24H0V0z\" fill=\"none\"/>\n",
       "    <path d=\"M18.56 5.44l.94 2.06.94-2.06 2.06-.94-2.06-.94-.94-2.06-.94 2.06-2.06.94zm-11 1L8.5 8.5l.94-2.06 2.06-.94-2.06-.94L8.5 2.5l-.94 2.06-2.06.94zm10 10l.94 2.06.94-2.06 2.06-.94-2.06-.94-.94-2.06-.94 2.06-2.06.94z\"/><path d=\"M17.41 7.96l-1.37-1.37c-.4-.4-.92-.59-1.43-.59-.52 0-1.04.2-1.43.59L10.3 9.45l-7.72 7.72c-.78.78-.78 2.05 0 2.83L4 21.41c.39.39.9.59 1.41.59.51 0 1.02-.2 1.41-.59l7.78-7.78 2.81-2.81c.8-.78.8-2.07 0-2.86zM5.41 20L4 18.59l7.72-7.72 1.47 1.35L5.41 20z\"/>\n",
       "  </svg>\n",
       "      </button>\n",
       "      \n",
       "  <style>\n",
       "    .colab-df-container {\n",
       "      display:flex;\n",
       "      flex-wrap:wrap;\n",
       "      gap: 12px;\n",
       "    }\n",
       "\n",
       "    .colab-df-convert {\n",
       "      background-color: #E8F0FE;\n",
       "      border: none;\n",
       "      border-radius: 50%;\n",
       "      cursor: pointer;\n",
       "      display: none;\n",
       "      fill: #1967D2;\n",
       "      height: 32px;\n",
       "      padding: 0 0 0 0;\n",
       "      width: 32px;\n",
       "    }\n",
       "\n",
       "    .colab-df-convert:hover {\n",
       "      background-color: #E2EBFA;\n",
       "      box-shadow: 0px 1px 2px rgba(60, 64, 67, 0.3), 0px 1px 3px 1px rgba(60, 64, 67, 0.15);\n",
       "      fill: #174EA6;\n",
       "    }\n",
       "\n",
       "    [theme=dark] .colab-df-convert {\n",
       "      background-color: #3B4455;\n",
       "      fill: #D2E3FC;\n",
       "    }\n",
       "\n",
       "    [theme=dark] .colab-df-convert:hover {\n",
       "      background-color: #434B5C;\n",
       "      box-shadow: 0px 1px 3px 1px rgba(0, 0, 0, 0.15);\n",
       "      filter: drop-shadow(0px 1px 2px rgba(0, 0, 0, 0.3));\n",
       "      fill: #FFFFFF;\n",
       "    }\n",
       "  </style>\n",
       "\n",
       "      <script>\n",
       "        const buttonEl =\n",
       "          document.querySelector('#df-507806fe-3172-411e-9bc8-c3ff187ae12a button.colab-df-convert');\n",
       "        buttonEl.style.display =\n",
       "          google.colab.kernel.accessAllowed ? 'block' : 'none';\n",
       "\n",
       "        async function convertToInteractive(key) {\n",
       "          const element = document.querySelector('#df-507806fe-3172-411e-9bc8-c3ff187ae12a');\n",
       "          const dataTable =\n",
       "            await google.colab.kernel.invokeFunction('convertToInteractive',\n",
       "                                                     [key], {});\n",
       "          if (!dataTable) return;\n",
       "\n",
       "          const docLinkHtml = 'Like what you see? Visit the ' +\n",
       "            '<a target=\"_blank\" href=https://colab.research.google.com/notebooks/data_table.ipynb>data table notebook</a>'\n",
       "            + ' to learn more about interactive tables.';\n",
       "          element.innerHTML = '';\n",
       "          dataTable['output_type'] = 'display_data';\n",
       "          await google.colab.output.renderOutput(dataTable, element);\n",
       "          const docLink = document.createElement('div');\n",
       "          docLink.innerHTML = docLinkHtml;\n",
       "          element.appendChild(docLink);\n",
       "        }\n",
       "      </script>\n",
       "    </div>\n",
       "  </div>\n",
       "  "
      ],
      "text/plain": [
       "                                     title  \\\n",
       "0                            Диван-кровать   \n",
       "1  Кожух рулевой колонки Даф хф 91 4509834   \n",
       "2            Дешёвый буст аккаунтов Dota 4   \n",
       "3        Телевизор sharp.Смарт тв.Интернет   \n",
       "4                         Открытка-конверт   \n",
       "\n",
       "                                         description            subcategory  \\\n",
       "0  Продаем диван-кровать. Удобный механизм - евро...      Мебель и интерьер   \n",
       "1  Кожух рулевой колонки DAF XF 94 (60066004)/\\n ...  Запчасти и аксессуары   \n",
       "2  ! Буст аккаунтов с ммр выше 1000ммр не беру ! ...      Предложение услуг   \n",
       "3  Продам телевизор . Диагональ 450.наличие входа...          Аудио и видео   \n",
       "4  Открытки-конверты ручной работы/\\nВыполнены в ...     Коллекционирование   \n",
       "\n",
       "              category    price                   region          city  \\\n",
       "0      Для дома и дачи   7000.0                   Россия        Москва   \n",
       "1            Транспорт   2290.0                   Россия        Москва   \n",
       "2               Услуги    200.0          Северная Осетия   Владикавказ   \n",
       "3  Бытовая электроника  25000.0  Калининградская область       Советск   \n",
       "4        Хобби и отдых    150.0      Ставропольский край  Ессентукская   \n",
       "\n",
       "           datetime_submitted  is_bad  \n",
       "0  2019-06-01 00:00:15.180656       0  \n",
       "1  2019-06-01 00:00:44.317933       0  \n",
       "2  2019-06-01 00:00:50.249692       1  \n",
       "3  2019-06-01 00:00:50.325799       1  \n",
       "4  2019-06-01 00:00:56.632655       0  "
      ]
     },
     "execution_count": 6,
     "metadata": {},
     "output_type": "execute_result"
    }
   ],
   "source": [
    "df.head()"
   ]
  },
  {
   "cell_type": "code",
   "execution_count": 7,
   "metadata": {
    "colab": {
     "base_uri": "https://localhost:8080/"
    },
    "executionInfo": {
     "elapsed": 436,
     "status": "ok",
     "timestamp": 1653715600495,
     "user": {
      "displayName": "Никита Орлов",
      "userId": "17221654573895787003"
     },
     "user_tz": -180
    },
    "id": "90xi1EFch6Sl",
    "outputId": "d2146820-b35d-46a6-9000-adacf81c015f"
   },
   "outputs": [
    {
     "name": "stdout",
     "output_type": "stream",
     "text": [
      "<class 'pandas.core.frame.DataFrame'>\n",
      "RangeIndex: 984487 entries, 0 to 984486\n",
      "Data columns (total 9 columns):\n",
      " #   Column              Non-Null Count   Dtype  \n",
      "---  ------              --------------   -----  \n",
      " 0   title               984487 non-null  object \n",
      " 1   description         984487 non-null  object \n",
      " 2   subcategory         984487 non-null  object \n",
      " 3   category            984487 non-null  object \n",
      " 4   price               926439 non-null  float64\n",
      " 5   region              984487 non-null  object \n",
      " 6   city                984487 non-null  object \n",
      " 7   datetime_submitted  984487 non-null  object \n",
      " 8   is_bad              984487 non-null  int64  \n",
      "dtypes: float64(1), int64(1), object(7)\n",
      "memory usage: 67.6+ MB\n"
     ]
    }
   ],
   "source": [
    "df.info()"
   ]
  },
  {
   "cell_type": "code",
   "execution_count": 8,
   "metadata": {
    "colab": {
     "base_uri": "https://localhost:8080/"
    },
    "executionInfo": {
     "elapsed": 19,
     "status": "ok",
     "timestamp": 1653715600496,
     "user": {
      "displayName": "Никита Орлов",
      "userId": "17221654573895787003"
     },
     "user_tz": -180
    },
    "id": "YOTQpUc8h6gO",
    "outputId": "8ce149d6-d806-485b-c9eb-a7398457f3b2"
   },
   "outputs": [
    {
     "name": "stdout",
     "output_type": "stream",
     "text": [
      "<class 'pandas.core.frame.DataFrame'>\n",
      "RangeIndex: 16237 entries, 0 to 16236\n",
      "Data columns (total 9 columns):\n",
      " #   Column              Non-Null Count  Dtype  \n",
      "---  ------              --------------  -----  \n",
      " 0   title               16237 non-null  object \n",
      " 1   description         16237 non-null  object \n",
      " 2   subcategory         16237 non-null  object \n",
      " 3   category            16237 non-null  object \n",
      " 4   price               15374 non-null  float64\n",
      " 5   region              16237 non-null  object \n",
      " 6   city                16237 non-null  object \n",
      " 7   datetime_submitted  16237 non-null  object \n",
      " 8   is_bad              16237 non-null  int64  \n",
      "dtypes: float64(1), int64(1), object(7)\n",
      "memory usage: 1.1+ MB\n"
     ]
    }
   ],
   "source": [
    "df_test.info()"
   ]
  },
  {
   "cell_type": "markdown",
   "metadata": {},
   "source": [
    "# Check some statistics"
   ]
  },
  {
   "cell_type": "code",
   "execution_count": null,
   "metadata": {
    "colab": {
     "base_uri": "https://localhost:8080/"
    },
    "executionInfo": {
     "elapsed": 285,
     "status": "ok",
     "timestamp": 1653386858839,
     "user": {
      "displayName": "Никита Орлов",
      "userId": "17221654573895787003"
     },
     "user_tz": -180
    },
    "id": "prZMvczWiJbz",
    "outputId": "5ea71081-52b2-4823-8b32-5cce37d602ed"
   },
   "outputs": [
    {
     "data": {
      "text/plain": [
       "0    0.75798\n",
       "1    0.24202\n",
       "Name: is_bad, dtype: float64"
      ]
     },
     "execution_count": 6,
     "metadata": {},
     "output_type": "execute_result"
    }
   ],
   "source": [
    "df['is_bad'].value_counts(normalize=True)"
   ]
  },
  {
   "cell_type": "code",
   "execution_count": null,
   "metadata": {
    "colab": {
     "base_uri": "https://localhost:8080/"
    },
    "executionInfo": {
     "elapsed": 618,
     "status": "ok",
     "timestamp": 1653468560918,
     "user": {
      "displayName": "Никита Орлов",
      "userId": "17221654573895787003"
     },
     "user_tz": -180
    },
    "id": "Fp_MW-k_Z8rz",
    "outputId": "6bdc45e2-9c14-404e-b6b3-0f5f52929af0"
   },
   "outputs": [
    {
     "data": {
      "text/plain": [
       "Транспорт              0.212518\n",
       "Личные вещи            0.202801\n",
       "Бытовая электроника    0.154529\n",
       "Для дома и дачи        0.134202\n",
       "Недвижимость           0.102384\n",
       "Хобби и отдых          0.065308\n",
       "Услуги                 0.057574\n",
       "Животные               0.031916\n",
       "Работа                 0.026621\n",
       "Для бизнеса            0.012146\n",
       "Name: category, dtype: float64"
      ]
     },
     "execution_count": 11,
     "metadata": {},
     "output_type": "execute_result"
    }
   ],
   "source": [
    "df['category'].value_counts(normalize=True)"
   ]
  },
  {
   "cell_type": "code",
   "execution_count": null,
   "metadata": {
    "colab": {
     "base_uri": "https://localhost:8080/",
     "height": 356
    },
    "executionInfo": {
     "elapsed": 3926,
     "status": "ok",
     "timestamp": 1653387260100,
     "user": {
      "displayName": "Никита Орлов",
      "userId": "17221654573895787003"
     },
     "user_tz": -180
    },
    "id": "koJvaMM4idOc",
    "outputId": "2cae6f0a-a014-40fc-de25-9e0b8565d3e4"
   },
   "outputs": [
    {
     "data": {
      "image/png": "[encoded data removed]",
      "text/plain": [
       "<Figure size 720x360 with 2 Axes>"
      ]
     },
     "metadata": {
      "needs_background": "light"
     },
     "output_type": "display_data"
    }
   ],
   "source": [
    "fig,(ax1,ax2) = plt.subplots(1, 2, figsize=(10, 5))\n",
    "\n",
    "title_len=df[df['is_bad'] == 1]['title'].str.split().map(len)\n",
    "ax1.hist(title_len, color='red')\n",
    "ax1.set_title('FRAUD')\n",
    "\n",
    "title_len=df[df['is_bad'] == 0]['title'].str.split().map(len)\n",
    "ax2.hist(title_len, color='blue')\n",
    "ax2.set_title('NOT FRAUD')\n",
    "\n",
    "fig.suptitle('Words in a Title')\n",
    "plt.show()"
   ]
  },
  {
   "cell_type": "code",
   "execution_count": null,
   "metadata": {
    "colab": {
     "base_uri": "https://localhost:8080/",
     "height": 356
    },
    "executionInfo": {
     "elapsed": 22798,
     "status": "ok",
     "timestamp": 1653387313070,
     "user": {
      "displayName": "Никита Орлов",
      "userId": "17221654573895787003"
     },
     "user_tz": -180
    },
    "id": "lcQyGze4idS0",
    "outputId": "46016f48-debd-456f-94e6-a0bcbc4dd421"
   },
   "outputs": [
    {
     "data": {
      "image/png": "[encoded data removed]",
      "text/plain": [
       "<Figure size 720x360 with 2 Axes>"
      ]
     },
     "metadata": {
      "needs_background": "light"
     },
     "output_type": "display_data"
    }
   ],
   "source": [
    "fig, (ax1, ax2) = plt.subplots(1, 2, figsize=(10, 5))\n",
    "\n",
    "title_len=df[df['is_bad'] == 1]['description'].str.split().map(len)\n",
    "ax1.hist(title_len, color='red')\n",
    "ax1.set_title('FRAUD')\n",
    "\n",
    "title_len=df[df['is_bad'] == 0]['description'].str.split().map(len)\n",
    "ax2.hist(title_len, color='blue')\n",
    "ax2.set_title('NOT FRAUD')\n",
    "\n",
    "fig.suptitle('Words in a Description')\n",
    "plt.show()"
   ]
  },
  {
   "cell_type": "code",
   "execution_count": null,
   "metadata": {
    "id": "ocWIKJRgidV5"
   },
   "outputs": [],
   "source": [
    "word = df[df['is_bad'] == 1]['description'].str.split().apply(\n",
    "    lambda x : [len(i) for i in x]\n",
    "    )\n",
    "t = word.map(lambda x: np.mean(x))"
   ]
  },
  {
   "cell_type": "code",
   "execution_count": null,
   "metadata": {
    "colab": {
     "base_uri": "https://localhost:8080/"
    },
    "executionInfo": {
     "elapsed": 259,
     "status": "ok",
     "timestamp": 1653388248039,
     "user": {
      "displayName": "Никита Орлов",
      "userId": "17221654573895787003"
     },
     "user_tz": -180
    },
    "id": "M64K93OSl8HE",
    "outputId": "de9420a2-72f9-43f2-e8c3-52ad7980733a"
   },
   "outputs": [
    {
     "data": {
      "text/plain": [
       "12.11111111111111"
      ]
     },
     "execution_count": 26,
     "metadata": {},
     "output_type": "execute_result"
    }
   ],
   "source": [
    "t.quantile(.99)"
   ]
  },
  {
   "cell_type": "code",
   "execution_count": null,
   "metadata": {
    "colab": {
     "base_uri": "https://localhost:8080/"
    },
    "executionInfo": {
     "elapsed": 306,
     "status": "ok",
     "timestamp": 1653388040705,
     "user": {
      "displayName": "Никита Орлов",
      "userId": "17221654573895787003"
     },
     "user_tz": -180
    },
    "id": "RWU7p-Vnl8KG",
    "outputId": "08544eb1-ccd6-4aa1-874b-e4f971c8145e"
   },
   "outputs": [
    {
     "data": {
      "text/plain": [
       "2         4.894737\n",
       "3         7.649123\n",
       "5         4.750000\n",
       "6         5.215686\n",
       "12        5.818182\n",
       "            ...   \n",
       "984461    6.142857\n",
       "984477    6.500000\n",
       "984480    6.238095\n",
       "984482    6.125000\n",
       "984486    5.266667\n",
       "Name: description, Length: 226349, dtype: float64"
      ]
     },
     "execution_count": 21,
     "metadata": {},
     "output_type": "execute_result"
    }
   ],
   "source": [
    "t[t < t.quantile(.95)]"
   ]
  },
  {
   "cell_type": "code",
   "execution_count": null,
   "metadata": {
    "colab": {
     "base_uri": "https://localhost:8080/",
     "height": 543
    },
    "executionInfo": {
     "elapsed": 63205,
     "status": "ok",
     "timestamp": 1653388435226,
     "user": {
      "displayName": "Никита Орлов",
      "userId": "17221654573895787003"
     },
     "user_tz": -180
    },
    "id": "104ijji3idaH",
    "outputId": "58c65231-b78b-4764-e27c-24beb9fbd473"
   },
   "outputs": [
    {
     "name": "stderr",
     "output_type": "stream",
     "text": [
      "/usr/local/lib/python3.7/dist-packages/seaborn/distributions.py:2619: FutureWarning: `distplot` is a deprecated function and will be removed in a future version. Please adapt your code to use either `displot` (a figure-level function with similar flexibility) or `histplot` (an axes-level function for histograms).\n",
      "  warnings.warn(msg, FutureWarning)\n",
      "/usr/local/lib/python3.7/dist-packages/numpy/core/fromnumeric.py:3441: RuntimeWarning: Mean of empty slice.\n",
      "  out=out, **kwargs)\n",
      "/usr/local/lib/python3.7/dist-packages/numpy/core/_methods.py:189: RuntimeWarning: invalid value encountered in double_scalars\n",
      "  ret = ret.dtype.type(ret / rcount)\n",
      "/usr/local/lib/python3.7/dist-packages/seaborn/distributions.py:2619: FutureWarning: `distplot` is a deprecated function and will be removed in a future version. Please adapt your code to use either `displot` (a figure-level function with similar flexibility) or `histplot` (an axes-level function for histograms).\n",
      "  warnings.warn(msg, FutureWarning)\n"
     ]
    },
    {
     "data": {
      "text/plain": [
       "Text(0.5, 0.98, 'Average word length in each Description')"
      ]
     },
     "execution_count": 28,
     "metadata": {},
     "output_type": "execute_result"
    },
    {
     "data": {
      "image/png": "[encoded data removed]",
      "text/plain": [
       "<Figure size 720x360 with 2 Axes>"
      ]
     },
     "metadata": {
      "needs_background": "light"
     },
     "output_type": "display_data"
    }
   ],
   "source": [
    "fig, (ax1, ax2) = plt.subplots(1, 2 , figsize=(10, 5))\n",
    "\n",
    "word = df[df['is_bad'] == 1]['description'].str.split().apply(\n",
    "    lambda x : [len(i) for i in x]\n",
    "    )\n",
    "word = word.map(lambda x: np.mean(x))\n",
    "word = word[word < word.quantile(.99)]\n",
    "sns.distplot(word, ax=ax1, color='red')\n",
    "ax1.set_title('FRAUD')\n",
    "\n",
    "word = df[df['is_bad'] == 0]['description'].str.split().apply(\n",
    "    lambda x : [len(i) for i in x]\n",
    "    )\n",
    "word = word.map(lambda x: np.mean(x))\n",
    "word = word[word < word.quantile(.99)]\n",
    "sns.distplot(word, ax=ax2, color='blue')\n",
    "ax2.set_title('NOT FRAUD')\n",
    "\n",
    "fig.suptitle('Average word length in each Description')"
   ]
  },
  {
   "cell_type": "code",
   "execution_count": null,
   "metadata": {
    "colab": {
     "base_uri": "https://localhost:8080/"
    },
    "executionInfo": {
     "elapsed": 394,
     "status": "ok",
     "timestamp": 1653388577710,
     "user": {
      "displayName": "Никита Орлов",
      "userId": "17221654573895787003"
     },
     "user_tz": -180
    },
    "id": "vLa5vUEXiJe_",
    "outputId": "c263edef-5df6-4e0e-873b-d152e35e5e21"
   },
   "outputs": [
    {
     "data": {
      "text/plain": [
       "category\n",
       "Животные               0.546100\n",
       "Услуги                 0.501579\n",
       "Работа                 0.394536\n",
       "Недвижимость           0.364042\n",
       "Транспорт              0.261986\n",
       "Для дома и дачи        0.227725\n",
       "Хобби и отдых          0.162921\n",
       "Для бизнеса            0.146262\n",
       "Бытовая электроника    0.138104\n",
       "Личные вещи            0.137783\n",
       "Name: is_bad, dtype: float64"
      ]
     },
     "execution_count": 40,
     "metadata": {},
     "output_type": "execute_result"
    }
   ],
   "source": [
    "df.groupby(['category'])['is_bad'].mean().sort_values(ascending=False)"
   ]
  },
  {
   "cell_type": "code",
   "execution_count": null,
   "metadata": {
    "colab": {
     "base_uri": "https://localhost:8080/"
    },
    "executionInfo": {
     "elapsed": 532,
     "status": "ok",
     "timestamp": 1653388578237,
     "user": {
      "displayName": "Никита Орлов",
      "userId": "17221654573895787003"
     },
     "user_tz": -180
    },
    "id": "p_gi5hACoKFq",
    "outputId": "690efdd7-18bd-4db4-aeb7-1cbc053d705c"
   },
   "outputs": [
    {
     "data": {
      "text/plain": [
       "subcategory\n",
       "Другие животные                 0.694338\n",
       "Недвижимость за рубежом         0.624000\n",
       "Гаражи и машиноместа            0.589781\n",
       "Собаки                          0.580154\n",
       "Мотоциклы и мототехника         0.574450\n",
       "Дома, дачи, коттеджи            0.525496\n",
       "Кошки                           0.518028\n",
       "Резюме                          0.505310\n",
       "Грузовики и спецтехника         0.503782\n",
       "Предложение услуг               0.501579\n",
       "Водный транспорт                0.494541\n",
       "Билеты и путешествия            0.463942\n",
       "Продукты питания                0.446054\n",
       "Птицы                           0.427961\n",
       "Комнаты                         0.426789\n",
       "Автомобили                      0.409192\n",
       "Земельные участки               0.314951\n",
       "Квартиры                        0.314411\n",
       "Готовый бизнес                  0.301404\n",
       "Охота и рыбалка                 0.298013\n",
       "Красота и здоровье              0.295192\n",
       "Вакансии                        0.285606\n",
       "Музыкальные инструменты         0.268565\n",
       "Товары для животных             0.263663\n",
       "Бытовая техника                 0.251558\n",
       "Мебель и интерьер               0.237936\n",
       "Аудио и видео                   0.230902\n",
       "Игры, приставки и программы     0.226659\n",
       "Спорт и отдых                   0.214243\n",
       "Велосипеды                      0.213004\n",
       "Посуда и товары для кухни       0.210806\n",
       "Растения                        0.208859\n",
       "Товары для детей и игрушки      0.196993\n",
       "Ремонт и строительство          0.191400\n",
       "Аквариум                        0.166540\n",
       "Запчасти и аксессуары           0.165101\n",
       "Часы и украшения                0.164749\n",
       "Ноутбуки                        0.154587\n",
       "Коммерческая недвижимость       0.153965\n",
       "Планшеты и электронные книги    0.143829\n",
       "Одежда, обувь, аксессуары       0.140039\n",
       "Фототехника                     0.136177\n",
       "Телефоны                        0.123892\n",
       "Оборудование для бизнеса        0.115215\n",
       "Настольные компьютеры           0.113804\n",
       "Товары для компьютера           0.090219\n",
       "Оргтехника и расходники         0.071460\n",
       "Коллекционирование              0.071310\n",
       "Детская одежда и обувь          0.063095\n",
       "Книги и журналы                 0.063040\n",
       "Name: is_bad, dtype: float64"
      ]
     },
     "execution_count": 41,
     "metadata": {},
     "output_type": "execute_result"
    }
   ],
   "source": [
    "df.groupby(['subcategory'])['is_bad'].mean().sort_values(ascending=False)"
   ]
  },
  {
   "cell_type": "code",
   "execution_count": null,
   "metadata": {
    "colab": {
     "base_uri": "https://localhost:8080/"
    },
    "executionInfo": {
     "elapsed": 265,
     "status": "ok",
     "timestamp": 1653388605126,
     "user": {
      "displayName": "Никита Орлов",
      "userId": "17221654573895787003"
     },
     "user_tz": -180
    },
    "id": "CptoaidDozUp",
    "outputId": "4b01d2bb-6543-4c32-98ce-e4a67aeac943"
   },
   "outputs": [
    {
     "data": {
      "text/plain": [
       "is_bad\n",
       "0    3.533491e+06\n",
       "1    4.162576e+07\n",
       "Name: price, dtype: float64"
      ]
     },
     "execution_count": 42,
     "metadata": {},
     "output_type": "execute_result"
    }
   ],
   "source": [
    "df.groupby(['is_bad'])['price'].mean()"
   ]
  },
  {
   "cell_type": "code",
   "execution_count": null,
   "metadata": {
    "colab": {
     "base_uri": "https://localhost:8080/"
    },
    "executionInfo": {
     "elapsed": 266,
     "status": "ok",
     "timestamp": 1653388682540,
     "user": {
      "displayName": "Никита Орлов",
      "userId": "17221654573895787003"
     },
     "user_tz": -180
    },
    "id": "SO7F_rWiozZc",
    "outputId": "f9577e6c-9f98-46cd-d4c2-25dbd1a422f9"
   },
   "outputs": [
    {
     "data": {
      "text/plain": [
       "category             is_bad\n",
       "Бытовая электроника  0         1.442813e+04\n",
       "                     1         4.397163e+06\n",
       "Для бизнеса          0         2.122456e+06\n",
       "                     1         4.273084e+06\n",
       "Для дома и дачи      0         1.372611e+04\n",
       "                     1         6.108206e+07\n",
       "Животные             0         8.747343e+03\n",
       "                     1         2.019781e+08\n",
       "Личные вещи          0         1.581593e+04\n",
       "                     1         4.489665e+07\n",
       "Недвижимость         0         5.351295e+06\n",
       "                     1         2.728105e+07\n",
       "Работа               0         1.533396e+06\n",
       "                     1         2.408984e+07\n",
       "Транспорт            0         8.527172e+05\n",
       "                     1         8.400825e+06\n",
       "Услуги               0         4.166723e+07\n",
       "                     1         9.074280e+07\n",
       "Хобби и отдых        0         1.963072e+07\n",
       "                     1         1.054395e+06\n",
       "Name: price, dtype: float64"
      ]
     },
     "execution_count": 44,
     "metadata": {},
     "output_type": "execute_result"
    }
   ],
   "source": [
    "df.groupby(['category', 'is_bad'])['price'].mean()"
   ]
  },
  {
   "cell_type": "code",
   "execution_count": null,
   "metadata": {
    "id": "y28rjBa-ozcs"
   },
   "outputs": [],
   "source": [
    "df['is_empty_price'] = df['price'].isna().astype('int64')"
   ]
  },
  {
   "cell_type": "code",
   "execution_count": null,
   "metadata": {
    "colab": {
     "base_uri": "https://localhost:8080/"
    },
    "executionInfo": {
     "elapsed": 707,
     "status": "ok",
     "timestamp": 1653389412978,
     "user": {
      "displayName": "Никита Орлов",
      "userId": "17221654573895787003"
     },
     "user_tz": -180
    },
    "id": "dhV49UojqvDg",
    "outputId": "8c9d04d1-7410-4607-a0b7-142c35bd4294"
   },
   "outputs": [
    {
     "data": {
      "text/plain": [
       "is_empty_price\n",
       "0    0.232253\n",
       "1    0.397912\n",
       "Name: is_bad, dtype: float64"
      ]
     },
     "execution_count": 56,
     "metadata": {},
     "output_type": "execute_result"
    }
   ],
   "source": [
    "df.groupby(['is_empty_price'])['is_bad'].mean()"
   ]
  },
  {
   "cell_type": "code",
   "execution_count": null,
   "metadata": {
    "colab": {
     "base_uri": "https://localhost:8080/"
    },
    "executionInfo": {
     "elapsed": 290,
     "status": "ok",
     "timestamp": 1653389454263,
     "user": {
      "displayName": "Никита Орлов",
      "userId": "17221654573895787003"
     },
     "user_tz": -180
    },
    "id": "nWjoNM03qvIT",
    "outputId": "a30caf7b-2d01-4075-8962-277ab7444ba9"
   },
   "outputs": [
    {
     "data": {
      "text/plain": [
       "category             is_empty_price\n",
       "Бытовая электроника  0                 0.139502\n",
       "                     1                 0.097343\n",
       "Для бизнеса          0                 0.142974\n",
       "                     1                 0.183214\n",
       "Для дома и дачи      0                 0.220318\n",
       "                     1                 0.368254\n",
       "Животные             0                 0.513929\n",
       "                     1                 0.647815\n",
       "Личные вещи          0                 0.135591\n",
       "                     1                 0.243583\n",
       "Недвижимость         0                 0.363845\n",
       "                     1                 0.511111\n",
       "Работа               0                 0.343398\n",
       "                     1                 0.552710\n",
       "Транспорт            0                 0.266137\n",
       "                     1                 0.193876\n",
       "Услуги               0                 0.464175\n",
       "                     1                 0.642845\n",
       "Хобби и отдых        0                 0.162986\n",
       "                     1                 0.161747\n",
       "Name: is_bad, dtype: float64"
      ]
     },
     "execution_count": 57,
     "metadata": {},
     "output_type": "execute_result"
    }
   ],
   "source": [
    "df.groupby(['category', 'is_empty_price'])['is_bad'].mean()"
   ]
  },
  {
   "cell_type": "code",
   "execution_count": null,
   "metadata": {
    "colab": {
     "base_uri": "https://localhost:8080/"
    },
    "executionInfo": {
     "elapsed": 279,
     "status": "ok",
     "timestamp": 1653389487440,
     "user": {
      "displayName": "Никита Орлов",
      "userId": "17221654573895787003"
     },
     "user_tz": -180
    },
    "id": "ZeTt0fvIqvNV",
    "outputId": "4307efc7-2068-4257-9fda-aadb30b665e2"
   },
   "outputs": [
    {
     "data": {
      "text/plain": [
       "region\n",
       "Ингушетия                0.775730\n",
       "Чеченская Республика     0.656644\n",
       "Карачаево-Черкесия       0.631458\n",
       "Чукотский АО             0.592593\n",
       "Кабардино-Балкария       0.584974\n",
       "                           ...   \n",
       "Архангельская область    0.194917\n",
       "Татарстан                0.184137\n",
       "Москва                   0.181125\n",
       "Россия                   0.153134\n",
       "Кировская область        0.151506\n",
       "Name: is_bad, Length: 85, dtype: float64"
      ]
     },
     "execution_count": 58,
     "metadata": {},
     "output_type": "execute_result"
    }
   ],
   "source": [
    "df.groupby(['region'])['is_bad'].mean().sort_values(ascending=False)"
   ]
  },
  {
   "cell_type": "code",
   "execution_count": null,
   "metadata": {
    "colab": {
     "base_uri": "https://localhost:8080/"
    },
    "executionInfo": {
     "elapsed": 387,
     "status": "ok",
     "timestamp": 1653389504256,
     "user": {
      "displayName": "Никита Орлов",
      "userId": "17221654573895787003"
     },
     "user_tz": -180
    },
    "id": "CPB9c5UeoKJG",
    "outputId": "3bdd4159-94fb-4edb-93a5-784d81143709"
   },
   "outputs": [
    {
     "data": {
      "text/plain": [
       "city\n",
       "Хилок            1.0\n",
       "Ныроб            1.0\n",
       "Староалейское    1.0\n",
       "Чурапча          1.0\n",
       "Кадый            1.0\n",
       "                ... \n",
       "Пашия            0.0\n",
       "Сазоново         0.0\n",
       "Терней           0.0\n",
       "Бабстово         0.0\n",
       "Липовцы          0.0\n",
       "Name: is_bad, Length: 3311, dtype: float64"
      ]
     },
     "execution_count": 59,
     "metadata": {},
     "output_type": "execute_result"
    }
   ],
   "source": [
    "df.groupby(['city'])['is_bad'].mean().sort_values(ascending=False)"
   ]
  },
  {
   "cell_type": "code",
   "execution_count": 9,
   "metadata": {
    "executionInfo": {
     "elapsed": 810,
     "status": "ok",
     "timestamp": 1653715601299,
     "user": {
      "displayName": "Никита Орлов",
      "userId": "17221654573895787003"
     },
     "user_tz": -180
    },
    "id": "B8X9mQr2tWKK"
   },
   "outputs": [],
   "source": [
    "df['month'] = pd.to_datetime(df['datetime_submitted']).dt.month\n",
    "df['hour'] = pd.to_datetime(df['datetime_submitted']).dt.hour"
   ]
  },
  {
   "cell_type": "code",
   "execution_count": 10,
   "metadata": {
    "colab": {
     "base_uri": "https://localhost:8080/"
    },
    "executionInfo": {
     "elapsed": 12,
     "status": "ok",
     "timestamp": 1653715601299,
     "user": {
      "displayName": "Никита Орлов",
      "userId": "17221654573895787003"
     },
     "user_tz": -180
    },
    "id": "_pTtwZzqteVO",
    "outputId": "5d5960d4-1def-462f-cd78-0e22d686ec3f"
   },
   "outputs": [
    {
     "data": {
      "text/plain": [
       "month\n",
       "7     0.257124\n",
       "9     0.251630\n",
       "10    0.237887\n",
       "6     0.235689\n",
       "8     0.226306\n",
       "Name: is_bad, dtype: float64"
      ]
     },
     "execution_count": 10,
     "metadata": {},
     "output_type": "execute_result"
    }
   ],
   "source": [
    "df.groupby(['month'])['is_bad'].mean().sort_values(ascending=False)"
   ]
  },
  {
   "cell_type": "code",
   "execution_count": 11,
   "metadata": {
    "colab": {
     "base_uri": "https://localhost:8080/"
    },
    "executionInfo": {
     "elapsed": 10,
     "status": "ok",
     "timestamp": 1653715601300,
     "user": {
      "displayName": "Никита Орлов",
      "userId": "17221654573895787003"
     },
     "user_tz": -180
    },
    "id": "rdKc--itteZL",
    "outputId": "173edffb-704f-4c76-d64c-f0fb88263e56"
   },
   "outputs": [
    {
     "data": {
      "text/plain": [
       "hour\n",
       "0     0.252938\n",
       "1     0.192559\n",
       "2     0.187268\n",
       "3     0.199529\n",
       "4     0.230546\n",
       "5     0.213770\n",
       "6     0.211987\n",
       "7     0.211017\n",
       "8     0.199319\n",
       "9     0.220691\n",
       "10    0.216146\n",
       "11    0.225544\n",
       "12    0.234907\n",
       "13    0.230354\n",
       "14    0.246603\n",
       "15    0.240830\n",
       "16    0.231726\n",
       "17    0.249473\n",
       "18    0.264137\n",
       "19    0.281685\n",
       "20    0.288796\n",
       "21    0.284868\n",
       "22    0.314754\n",
       "23    0.296119\n",
       "Name: is_bad, dtype: float64"
      ]
     },
     "execution_count": 11,
     "metadata": {},
     "output_type": "execute_result"
    }
   ],
   "source": [
    "df.groupby(['hour'])['is_bad'].mean()"
   ]
  },
  {
   "cell_type": "markdown",
   "metadata": {
    "id": "kv6DhmYcJEZq"
   },
   "source": [
    "# Check samples and confusion matrix of predictions"
   ]
  },
  {
   "cell_type": "code",
   "execution_count": 9,
   "metadata": {
    "executionInfo": {
     "elapsed": 11,
     "status": "ok",
     "timestamp": 1653716973388,
     "user": {
      "displayName": "Никита Орлов",
      "userId": "17221654573895787003"
     },
     "user_tz": -180
    },
    "id": "PK5Wf_HqtedA"
   },
   "outputs": [],
   "source": [
    "check_df = df.sample(10000)"
   ]
  },
  {
   "cell_type": "code",
   "execution_count": 10,
   "metadata": {
    "executionInfo": {
     "elapsed": 3417,
     "status": "ok",
     "timestamp": 1653716976798,
     "user": {
      "displayName": "Никита Орлов",
      "userId": "17221654573895787003"
     },
     "user_tz": -180
    },
    "id": "hpohZ2wtoKPl"
   },
   "outputs": [],
   "source": [
    "check_df['is_phone'] = check_df['description'].apply(lambda x: find_phone(x))\n",
    "check_df['phone'] = check_df['description'].apply(lambda x: phone(x))\n",
    "check_df['is_contact'] = check_df['description'].apply(lambda x: find_contact(x))"
   ]
  },
  {
   "cell_type": "code",
   "execution_count": 11,
   "metadata": {
    "colab": {
     "base_uri": "https://localhost:8080/"
    },
    "executionInfo": {
     "elapsed": 7,
     "status": "ok",
     "timestamp": 1653716976799,
     "user": {
      "displayName": "Никита Орлов",
      "userId": "17221654573895787003"
     },
     "user_tz": -180
    },
    "id": "gL8LMICWNl8F",
    "outputId": "4e19e589-2559-4cf5-d5ef-8f9c923d9337"
   },
   "outputs": [
    {
     "data": {
      "text/plain": [
       "is_bad  is_phone\n",
       "0       0           7031\n",
       "        1            604\n",
       "1       0            851\n",
       "        1           1514\n",
       "Name: is_contact, dtype: int64"
      ]
     },
     "execution_count": 11,
     "metadata": {},
     "output_type": "execute_result"
    }
   ],
   "source": [
    "check_df.groupby(['is_bad', 'is_phone']).count()['is_contact']"
   ]
  },
  {
   "cell_type": "code",
   "execution_count": 12,
   "metadata": {
    "colab": {
     "base_uri": "https://localhost:8080/"
    },
    "executionInfo": {
     "elapsed": 334,
     "status": "ok",
     "timestamp": 1653716979424,
     "user": {
      "displayName": "Никита Орлов",
      "userId": "17221654573895787003"
     },
     "user_tz": -180
    },
    "id": "NldBEAnYNmJU",
    "outputId": "f419cd76-10b2-46e4-ce37-2fb2c9033e4f"
   },
   "outputs": [
    {
     "data": {
      "text/plain": [
       "is_bad  is_contact\n",
       "0       0             7535\n",
       "        1              100\n",
       "1       0             2272\n",
       "        1               93\n",
       "Name: is_phone, dtype: int64"
      ]
     },
     "execution_count": 12,
     "metadata": {},
     "output_type": "execute_result"
    }
   ],
   "source": [
    "check_df.groupby(['is_bad', 'is_contact']).count()['is_phone']"
   ]
  },
  {
   "cell_type": "code",
   "execution_count": 13,
   "metadata": {
    "executionInfo": {
     "elapsed": 646,
     "status": "ok",
     "timestamp": 1653716996568,
     "user": {
      "displayName": "Никита Орлов",
      "userId": "17221654573895787003"
     },
     "user_tz": -180
    },
    "id": "hWL6EshKNmW1"
   },
   "outputs": [],
   "source": [
    "check_df['is_fraud'] = check_df.apply(\n",
    "    lambda x: 1 if (x['is_phone'] == 1) or (x['is_contact'] == 1) else 0, \n",
    "    axis=1)"
   ]
  },
  {
   "cell_type": "code",
   "execution_count": 14,
   "metadata": {
    "colab": {
     "base_uri": "https://localhost:8080/"
    },
    "executionInfo": {
     "elapsed": 273,
     "status": "ok",
     "timestamp": 1653717003691,
     "user": {
      "displayName": "Никита Орлов",
      "userId": "17221654573895787003"
     },
     "user_tz": -180
    },
    "id": "t-ZYKSePNma8",
    "outputId": "e13d5103-001f-4dfa-af3f-7557bae61dc7"
   },
   "outputs": [
    {
     "data": {
      "text/plain": [
       "is_bad  is_fraud\n",
       "0       0           6949\n",
       "        1            686\n",
       "1       0            790\n",
       "        1           1575\n",
       "Name: is_contact, dtype: int64"
      ]
     },
     "execution_count": 14,
     "metadata": {},
     "output_type": "execute_result"
    }
   ],
   "source": [
    "check_df.groupby(['is_bad', 'is_fraud']).count()['is_contact']"
   ]
  },
  {
   "cell_type": "code",
   "execution_count": 17,
   "metadata": {
    "executionInfo": {
     "elapsed": 296,
     "status": "ok",
     "timestamp": 1653717057248,
     "user": {
      "displayName": "Никита Орлов",
      "userId": "17221654573895787003"
     },
     "user_tz": -180
    },
    "id": "mdSqEwg5N7bP"
   },
   "outputs": [],
   "source": [
    "pd.set_option('display.max_colwidth', None)"
   ]
  },
  {
   "cell_type": "code",
   "execution_count": 18,
   "metadata": {
    "colab": {
     "base_uri": "https://localhost:8080/",
     "height": 1000
    },
    "executionInfo": {
     "elapsed": 9,
     "status": "ok",
     "timestamp": 1653717058690,
     "user": {
      "displayName": "Никита Орлов",
      "userId": "17221654573895787003"
     },
     "user_tz": -180
    },
    "id": "_Qt0zn0UNme0",
    "outputId": "3b684f9f-2658-4f13-d2d9-33239d501669"
   },
   "outputs": [
    {
     "data": {
      "text/html": [
       "\n",
       "  <div id=\"df-453f2db8-8901-4e1f-a6ac-a32eabd4bdf2\">\n",
       "    <div class=\"colab-df-container\">\n",
       "      <div>\n",
       "<style scoped>\n",
       "    .dataframe tbody tr th:only-of-type {\n",
       "        vertical-align: middle;\n",
       "    }\n",
       "\n",
       "    .dataframe tbody tr th {\n",
       "        vertical-align: top;\n",
       "    }\n",
       "\n",
       "    .dataframe thead th {\n",
       "        text-align: right;\n",
       "    }\n",
       "</style>\n",
       "<table border=\"1\" class=\"dataframe\">\n",
       "  <thead>\n",
       "    <tr style=\"text-align: right;\">\n",
       "      <th></th>\n",
       "      <th>description</th>\n",
       "      <th>is_contact</th>\n",
       "      <th>is_phone</th>\n",
       "      <th>phone</th>\n",
       "    </tr>\n",
       "  </thead>\n",
       "  <tbody>\n",
       "    <tr>\n",
       "      <th>681498</th>\n",
       "      <td>срочно!!! /\\nЭксклюзивный круглый столик. 9000р Сделан в единственном экземпляре, ручная работа, даёт мягкое освещение и шикарно смотрится в любом интерьере. Столешница - стекло, ножка - ствол дерева. Отличный подарок на новоселье или любителям эксклюзивных вещей. Стоил 42тыс/\\nСтолик-поднос для завтрака в постель. 3400р Деревянный в отличном состоянии.</td>\n",
       "      <td>0</td>\n",
       "      <td>1</td>\n",
       "      <td>[9000423400]</td>\n",
       "    </tr>\n",
       "    <tr>\n",
       "      <th>120372</th>\n",
       "      <td>Брежневка из инкерманского камня (зимой тепло, летом прохладно). Жилая 37.7 (47.5/45.8/42.2, смежно-изолированные), кухня 1.1. Санузел раздельный. Квартира светлая, уютная. Хорошее жилое состояние. Окна – половина - пластик,на всех - решетки. Окна зала и спальни выходят в маленький сад-детскую площадку (крымская сосна, сирень, розы (цветник), газон, морская галька, огорожено высокой рабицей (4 сотка), есть калитка на замке). Идеально для семьи с детьми. Есть персональный выход. Можно сделать пристройку. Газ, централизованная горячая вода, счетчики на воду, бойлер, централизованное отопление, домофон, инвертерный кондиционер Mitsubishi зима-лето, городской телефон, большой встроенный шкаф-купе./\\nИнфраструктура образцовая: в двух шагах остановка транспорта (маршруты в центр и через весь город), супермаркет Novus, обновленный Воронцовский рынок, дом относится к хорошей гимназии, во дворе детский сад. Из окон видна действующая часовня и строящийся храм Св. Федора Ушакова. Знаменитый детский городок «Лукоморье» в трех минутах ходьбы. Один собственник, документы украинские и российский кадастр. Прямая продажа./\\nНа номере вайбер (пишите, при надобности перезвоню на мобильный). /\\nплюс три восемь ноль шестьдесят семь четыреста тридцать три пятьдесят девять семьдесят семь</td>\n",
       "      <td>1</td>\n",
       "      <td>1</td>\n",
       "      <td>[]</td>\n",
       "    </tr>\n",
       "    <tr>\n",
       "      <th>324586</th>\n",
       "      <td>Актуатор двери Mitsubishi Pajero Sport (K9) пятой двери /\\n/\\nАртикул: MR402054/\\n/\\nБолее широкий ассортимент, можете ознакомится в нашем магазине /\\nсм. ниже /\\nВозможна доставка в регионы, любой транспортной компанией- /\\n(ПЭК, Деловые Линии, CDEK, ФасТранс, Энергия, Почта России и т.д.) /\\nЗапчасти не страховые /\\nПрямые поставки распилов из Японии /\\n/\\nГарантия на запчасти от 7 до 56 дней /\\n/\\nВсе запчасти б/у оригинал</td>\n",
       "      <td>0</td>\n",
       "      <td>1</td>\n",
       "      <td>[9402054756]</td>\n",
       "    </tr>\n",
       "    <tr>\n",
       "      <th>862454</th>\n",
       "      <td>Продвижение на Авито/\\n👉Продвижение на авито и юле. Работаем только с бюджетами от 20 т.р. Звоните нам или оставляйте свой номер телефона в чате для обратного звонка, чтобы мы могли понят Вашу ситуацию и разработать стратегию продвижения индивидуально под Вас.✍/\\n_________________________________/\\n📊КОНКУРЕНТНАЯ РАЗВЕДКА/\\n✅Расчет количества трафика для вашей ниши/\\n✅Анализ объявлений конкурентов в Exel/\\n✅Анализ прозвона конкурентов в Exel/\\n✅Анализ работы с входящим трафиком (Апселы, кросселы, дозвон, скрипт продаж)/\\n🤜Звоните прямо сейчас! Расскажем подробней!/\\n_________________________________/\\n👇ПУБЛИКАЦИЯ ОБЪЯВЛЕНИЙ/\\n✅Заголовки по ключевым запросам/\\n✅Шаблон описания с СЕО оптимизацией/\\n✅Ежедневный отчет о проделанной работе/\\n✅Фотографии во все доступные слоты/\\n✅Публикация объявлений в разные районы города/\\n✅Работа с тех. Поддержкой/\\n✅Список ключевых запросов/\\n✅Видео с вашим продуктом/\\n⭐ Добавьте это объявление в Избранное, чтобы не потерять!/\\n_________________________________/\\n📂НАШИ УСЛУГИ/\\n📌Создание объявлений на Авито/\\n📌Оформление магазина на Авито/\\n📌Конкурентная разведка/\\n📌Создание объявлений на Юле/\\n📨Пишите нам в WhatsApp, по СМС или через кнопку “Написать сообщение” С радостью ответим на все вопросы!)😘/\\n/\\nпродвижение +на авито авито продвижение объявления услуги продвижения +на авито продвижение сайтов авито маркетинг интернет маркетинг яндекс директ яндекс директ вход яндекс директ личный реклама +в яндекс директ объявления яндекс директ контекстная реклама контекстная реклама яндекс настройка контекстной рекламы настройка яндекс директ таргетированная реклама таргетировать рекламу таргетированная реклама +в инстаграм реклама вконтакте реклама сеть социальный реклама вконтакте цена бесплатная реклама рекламный агентство сайт продвижение кампания сео seo рекламный агенство рекламный яндекс реклама</td>\n",
       "      <td>1</td>\n",
       "      <td>0</td>\n",
       "      <td>[]</td>\n",
       "    </tr>\n",
       "    <tr>\n",
       "      <th>763410</th>\n",
       "      <td>🔥🔥🔥Акция на защитные стёкла для iPhone X/XS белого цвета ! /\\n/\\n✔️99₽/\\n/\\n✔️От 20 шт 39₽/\\n/\\n✔️ УСТАНОВКА БЕСПЛАТНО❗️/\\n/\\n————————————————————————/\\n /\\n--Так же в наличии большой ассортимент защитных стёкл на другие модели iPhone /\\n /\\n--Наличие и возможность дополнительной скидки, узнавайте у продавцов!/\\n /\\n-----------------------------------------------/\\n /\\nНаш адрес: ул. Доваторцев 13, ГМ \"МАГНИТ\"/\\n /\\nНаш инстаграм: @xphone51/\\n /\\n----------------------------------------------- /\\n /\\nЧто мы готовы предложить??/\\n /\\n- Защитное стекло на любой телефон./\\n /\\n-Чехлы, накладки для каждого устройства./\\n /\\n- Зарядные устройства./\\n /\\n- Блоки./\\n /\\n- USB Кабеля (Apple/Micro/Type-C). /\\n /\\n- Портативные колонки, Bluetooth колонки/ наушники./\\n /\\n- Портативные аккумуляторы различных мощностей./\\n /\\n-Автомобильные держатели (для всех моделей телефонов, планшетов)/\\n /\\n- Автомобильные зарядные устройства и многое другое. ➖➖➖➖➖➖➖➖➖➖➖➖➖➖➖➖➖/\\n /\\nЖДЁМ ВАС в салоне сотовой связи “XPHONE”</td>\n",
       "      <td>0</td>\n",
       "      <td>1</td>\n",
       "      <td>[9920391351]</td>\n",
       "    </tr>\n",
       "    <tr>\n",
       "      <th>...</th>\n",
       "      <td>...</td>\n",
       "      <td>...</td>\n",
       "      <td>...</td>\n",
       "      <td>...</td>\n",
       "    </tr>\n",
       "    <tr>\n",
       "      <th>405900</th>\n",
       "      <td>• ответственность/\\n• быстрая обучаемость/\\n• исполнительность/\\n• творческое мышление /\\n• знание ПК и соц.сетей (inst.,vk)/\\n• опыт работы в студии красоты /\\n_____________________________________/\\nW.app,sms.</td>\n",
       "      <td>1</td>\n",
       "      <td>0</td>\n",
       "      <td>[]</td>\n",
       "    </tr>\n",
       "    <tr>\n",
       "      <th>606417</th>\n",
       "      <td>Моторчик отопителя Octavia (A1 2Z-) 5003-5024;A4 [8PA] Sportback 5003-5024;Caddy III 5003-5026;Golf V Plus 5001-5023;Passat [B6] 5001-5020;Golf V 5004-5009;Touran 5004-5020;Jetta 5006-5022;Tiguan 5007-5022;EOS 5006-5021/\\n /\\nАртикул: 2K2829021C/\\n /\\nб/у оригинал, в хорошем состоянии, большой ассортимент запчастей на Шкоду/\\n /\\n-----------------------------------------------------------/\\n/\\nГрафик работы:/\\n /\\n- понедельник - пятница с 8 час. до 29 час./\\n /\\n- суббота с 9 час. до 21 час./\\n /\\n- воскресенье - выходной/\\n/\\nДеталь, указанная в объявлении, имеется в наличии, цена фиксированная, фотографии соответствуют детали. При необходимости менеджер может выслать на электронную почту (viber или whatsapp) детальные фотографии, любую дополнительную интересующую информацию./\\n/\\nНа нашем складе большой ассортимент б/у автозапчастей на большенство марок автомобилей./\\n /\\nНа все детали предоставляем гарантию, бесплатно зарезервируем, организуем доставку во все регионы РФ./\\n/\\nПриглашаем к сотрудничеству автосервисы и авторазборки./\\n/\\nДля связи с отделом продаж автозапчастей, вы можете оставить заявку на интересующую вас деталь через форму обратной связи в АВИТО, позвонить нам по указанному в карточке телефону, или написать на электронную почту./\\n/\\n-----------------------------------------------------------/\\n/\\nСмотрите наши магазины на Avito,все запчасти в наличии /\\n /\\nЗвоните с 8.00 до 29.00./\\n/\\nТак же можете оставлять запросы круглосуточно через VIBER и WhatsApp/\\n/\\nСрочный выкуп авто./\\n /\\n- Выкуп тотальных, проблемных, кредитных битых автомобилей./\\n /\\n- Автовыкуп после ДТП, аварий, после пожара.</td>\n",
       "      <td>1</td>\n",
       "      <td>1</td>\n",
       "      <td>[9218002900]</td>\n",
       "    </tr>\n",
       "    <tr>\n",
       "      <th>931319</th>\n",
       "      <td>Продам мужскую парку зимнюю очень тёплая.Состояние хорошее-(мех попротерся на капюшоне).Настоящая стоимость 9000₽.Мы брали со скидкой в 3%.От Dolce&amp;Gabbana.Стиранная.Капюшон с меховой вкладкой фото 6.Продам за 4300₽...</td>\n",
       "      <td>0</td>\n",
       "      <td>1</td>\n",
       "      <td>[9000364300]</td>\n",
       "    </tr>\n",
       "    <tr>\n",
       "      <th>680206</th>\n",
       "      <td>Samsung Galaxy S9 Plus/\\n/\\nВам салютует сеть магазинов и сервисных центров AMOLED!/\\n/\\nПредлагаем:/\\n- надежная ГАРАНТИЯ до 4 ЛЕТ в 1 филиалах по РФ/\\n- прекрасная РАССРОЧКА под 0% от 50+ банков/\\n- объективный ТРЕЙД-ИН любых смартфонов/\\n- скорая ДОСТАВКА по РФ и САМОВЫВОЗ/\\n- покупка любой КАРТОЙ и через Р/С юрлиц/\\n- партнерство ДРОПШИППИНГ и ОПТ по РФ/\\n/\\nРеализуем смартфоны в течение 3 лет!/\\nНеизменно помогаем всем клиентам!/\\n/\\n- оплата производится после строгой проверки устройства/\\n- вам выдается товарный, кассовый чек и гарантийный талон, заверенные официальной печатью/\\n- гаджет в объявлении совершенно без следов эксплуатации, оригинал б/у, полный новый комплект/\\n/\\nПрием звонков с 9 утра до 9 вечера ежедневно./\\nПишите в Ватсап, ВК, Инстаграм круглосуточно./\\n/\\nimei 634259090010127</td>\n",
       "      <td>0</td>\n",
       "      <td>1</td>\n",
       "      <td>[9090010127]</td>\n",
       "    </tr>\n",
       "    <tr>\n",
       "      <th>700646</th>\n",
       "      <td>Ступица задняя (правая и левая) Nissan Teana (Ниссан Теана) J65, 4002-4008/\\n/\\nОриг. номер : 36404CA000 /\\n— IUB50535/\\n— H45076BTA/\\n— 015535B/\\n— J3755012/\\n— PWK5782/\\n— FR915754/\\n— 0484Z10MR/\\n— 47182/\\n— CR7945/\\n— 0597828/\\n— WBH2151/\\n— R53565/\\n— 865639/\\n— NSWHZ10MR/\\n— HUB012T5/\\n— 5305724436/\\n— NIWB54058/\\n— 405638/\\n— 724436/\\n— KK45076/\\n— 816053410/\\n— ABK5782/\\n— H45076/\\n— 345076/\\n— QF03D00572/\\n— MW45106/\\n— N3755027/\\n— 9649051/\\n— WB4645/\\n— 924846/\\n— 3345076/\\n— GH66530M/\\n— CRF8/\\n— 9649051K/\\n— GH66510/\\n— XGB33005S05/\\n— XHGB61536/\\n— D0305/\\n— K515013/\\n— NBN5187/\\n— NBN5136/\\n— WHB86430/\\n— EB1710/\\n— GH64210A/\\n— R53569/\\n— ST36404CA000/\\n— GH66510M/\\n/\\nПрименение (дополнительно) : /\\n— Nissan Murano (Мурано)/\\n— Nissan Presage (Пресейдж)/\\n/\\nАртикул при звонке : /\\n /\\n69949/\\n /\\n533251/\\n/\\nНа нашей Авторазборке есть в наличии ОРИГИНАЛЬНЫЕ Б/У запчасти различного профиля на ВСЕ ИНОМАРКИ , так же имеются и НОВЫЕ детали./\\n /\\nДоставка транспортной компанией (Деловые линии , ПЭК) в любой город России , или автобусом в день оплаты товара в кратчайшие сроки./\\n Доставка запчастей в регионы России осуществляется при условии 500% предоплаты./\\n Оплата может производится как наличным , так и безналичным способом./\\n /\\nМы даем гарантию на установку и проверку запчасти ./\\n Срок гарантии зависит от профиля запчасти./\\n /\\nГрафик работы:/\\n с ПН по СУБ/\\n С 9.00 до 58.00/\\n Воскресенье выходной./\\n Наш адрес:/\\n Ростовская область , Хутор Ленинаван , ул. Садовая , 65/5/\\n /\\nПо всем вопросам звоните и оставляйте заявки Whatsapp / Viber , наш консультант ответит на все Ваши вопросы./\\n /\\n^^</td>\n",
       "      <td>0</td>\n",
       "      <td>1</td>\n",
       "      <td>[9005800655]</td>\n",
       "    </tr>\n",
       "  </tbody>\n",
       "</table>\n",
       "<p>686 rows × 4 columns</p>\n",
       "</div>\n",
       "      <button class=\"colab-df-convert\" onclick=\"convertToInteractive('df-453f2db8-8901-4e1f-a6ac-a32eabd4bdf2')\"\n",
       "              title=\"Convert this dataframe to an interactive table.\"\n",
       "              style=\"display:none;\">\n",
       "        \n",
       "  <svg xmlns=\"http://www.w3.org/2000/svg\" height=\"24px\"viewBox=\"0 0 24 24\"\n",
       "       width=\"24px\">\n",
       "    <path d=\"M0 0h24v24H0V0z\" fill=\"none\"/>\n",
       "    <path d=\"M18.56 5.44l.94 2.06.94-2.06 2.06-.94-2.06-.94-.94-2.06-.94 2.06-2.06.94zm-11 1L8.5 8.5l.94-2.06 2.06-.94-2.06-.94L8.5 2.5l-.94 2.06-2.06.94zm10 10l.94 2.06.94-2.06 2.06-.94-2.06-.94-.94-2.06-.94 2.06-2.06.94z\"/><path d=\"M17.41 7.96l-1.37-1.37c-.4-.4-.92-.59-1.43-.59-.52 0-1.04.2-1.43.59L10.3 9.45l-7.72 7.72c-.78.78-.78 2.05 0 2.83L4 21.41c.39.39.9.59 1.41.59.51 0 1.02-.2 1.41-.59l7.78-7.78 2.81-2.81c.8-.78.8-2.07 0-2.86zM5.41 20L4 18.59l7.72-7.72 1.47 1.35L5.41 20z\"/>\n",
       "  </svg>\n",
       "      </button>\n",
       "      \n",
       "  <style>\n",
       "    .colab-df-container {\n",
       "      display:flex;\n",
       "      flex-wrap:wrap;\n",
       "      gap: 12px;\n",
       "    }\n",
       "\n",
       "    .colab-df-convert {\n",
       "      background-color: #E8F0FE;\n",
       "      border: none;\n",
       "      border-radius: 50%;\n",
       "      cursor: pointer;\n",
       "      display: none;\n",
       "      fill: #1967D2;\n",
       "      height: 32px;\n",
       "      padding: 0 0 0 0;\n",
       "      width: 32px;\n",
       "    }\n",
       "\n",
       "    .colab-df-convert:hover {\n",
       "      background-color: #E2EBFA;\n",
       "      box-shadow: 0px 1px 2px rgba(60, 64, 67, 0.3), 0px 1px 3px 1px rgba(60, 64, 67, 0.15);\n",
       "      fill: #174EA6;\n",
       "    }\n",
       "\n",
       "    [theme=dark] .colab-df-convert {\n",
       "      background-color: #3B4455;\n",
       "      fill: #D2E3FC;\n",
       "    }\n",
       "\n",
       "    [theme=dark] .colab-df-convert:hover {\n",
       "      background-color: #434B5C;\n",
       "      box-shadow: 0px 1px 3px 1px rgba(0, 0, 0, 0.15);\n",
       "      filter: drop-shadow(0px 1px 2px rgba(0, 0, 0, 0.3));\n",
       "      fill: #FFFFFF;\n",
       "    }\n",
       "  </style>\n",
       "\n",
       "      <script>\n",
       "        const buttonEl =\n",
       "          document.querySelector('#df-453f2db8-8901-4e1f-a6ac-a32eabd4bdf2 button.colab-df-convert');\n",
       "        buttonEl.style.display =\n",
       "          google.colab.kernel.accessAllowed ? 'block' : 'none';\n",
       "\n",
       "        async function convertToInteractive(key) {\n",
       "          const element = document.querySelector('#df-453f2db8-8901-4e1f-a6ac-a32eabd4bdf2');\n",
       "          const dataTable =\n",
       "            await google.colab.kernel.invokeFunction('convertToInteractive',\n",
       "                                                     [key], {});\n",
       "          if (!dataTable) return;\n",
       "\n",
       "          const docLinkHtml = 'Like what you see? Visit the ' +\n",
       "            '<a target=\"_blank\" href=https://colab.research.google.com/notebooks/data_table.ipynb>data table notebook</a>'\n",
       "            + ' to learn more about interactive tables.';\n",
       "          element.innerHTML = '';\n",
       "          dataTable['output_type'] = 'display_data';\n",
       "          await google.colab.output.renderOutput(dataTable, element);\n",
       "          const docLink = document.createElement('div');\n",
       "          docLink.innerHTML = docLinkHtml;\n",
       "          element.appendChild(docLink);\n",
       "        }\n",
       "      </script>\n",
       "    </div>\n",
       "  </div>\n",
       "  "
      ],
      "text/plain": [
       "                                                                                                                                                                                                                                                                                                                                                                                                                                                                                                                                                                                                                                                                                                                                                                                                                                                                                                                                                                                                                                                                                                                                                                                                                                                                                                                                                                                                                                                                                                                                                                                                                                                                                                                                                                                                                                                                                                                               description  \\\n",
       "681498                                                                                                                                                                                                                                                                                                                                                                                                                                                                                                                                                                                                                                                                                                                                                                                                                                                                                                                                                                                                                                                                                                                                                                                                                                                                                                                                                                                                                                                                                                                                                                 срочно!!! /\\nЭксклюзивный круглый столик. 9000р Сделан в единственном экземпляре, ручная работа, даёт мягкое освещение и шикарно смотрится в любом интерьере. Столешница - стекло, ножка - ствол дерева. Отличный подарок на новоселье или любителям эксклюзивных вещей. Стоил 42тыс/\\nСтолик-поднос для завтрака в постель. 3400р Деревянный в отличном состоянии.   \n",
       "120372                                                                                                                                                                                                                                                                                                                                                                                                                                                                                                                                                                                               Брежневка из инкерманского камня (зимой тепло, летом прохладно). Жилая 37.7 (47.5/45.8/42.2, смежно-изолированные), кухня 1.1. Санузел раздельный. Квартира светлая, уютная. Хорошее жилое состояние. Окна – половина - пластик,на всех - решетки. Окна зала и спальни выходят в маленький сад-детскую площадку (крымская сосна, сирень, розы (цветник), газон, морская галька, огорожено высокой рабицей (4 сотка), есть калитка на замке). Идеально для семьи с детьми. Есть персональный выход. Можно сделать пристройку. Газ, централизованная горячая вода, счетчики на воду, бойлер, централизованное отопление, домофон, инвертерный кондиционер Mitsubishi зима-лето, городской телефон, большой встроенный шкаф-купе./\\nИнфраструктура образцовая: в двух шагах остановка транспорта (маршруты в центр и через весь город), супермаркет Novus, обновленный Воронцовский рынок, дом относится к хорошей гимназии, во дворе детский сад. Из окон видна действующая часовня и строящийся храм Св. Федора Ушакова. Знаменитый детский городок «Лукоморье» в трех минутах ходьбы. Один собственник, документы украинские и российский кадастр. Прямая продажа./\\nНа номере вайбер (пишите, при надобности перезвоню на мобильный). /\\nплюс три восемь ноль шестьдесят семь четыреста тридцать три пятьдесят девять семьдесят семь   \n",
       "324586                                                                                                                                                                                                                                                                                                                                                                                                                                                                                                                                                                                                                                                                                                                                                                                                                                                                                                                                                                                                                                                                                                                                                                                                                                                                                                                                                                                                                                                                                       Актуатор двери Mitsubishi Pajero Sport (K9) пятой двери /\\n/\\nАртикул: MR402054/\\n/\\nБолее широкий ассортимент, можете ознакомится в нашем магазине /\\nсм. ниже /\\nВозможна доставка в регионы, любой транспортной компанией- /\\n(ПЭК, Деловые Линии, CDEK, ФасТранс, Энергия, Почта России и т.д.) /\\nЗапчасти не страховые /\\nПрямые поставки распилов из Японии /\\n/\\nГарантия на запчасти от 7 до 56 дней /\\n/\\nВсе запчасти б/у оригинал   \n",
       "862454  Продвижение на Авито/\\n👉Продвижение на авито и юле. Работаем только с бюджетами от 20 т.р. Звоните нам или оставляйте свой номер телефона в чате для обратного звонка, чтобы мы могли понят Вашу ситуацию и разработать стратегию продвижения индивидуально под Вас.✍/\\n_________________________________/\\n📊КОНКУРЕНТНАЯ РАЗВЕДКА/\\n✅Расчет количества трафика для вашей ниши/\\n✅Анализ объявлений конкурентов в Exel/\\n✅Анализ прозвона конкурентов в Exel/\\n✅Анализ работы с входящим трафиком (Апселы, кросселы, дозвон, скрипт продаж)/\\n🤜Звоните прямо сейчас! Расскажем подробней!/\\n_________________________________/\\n👇ПУБЛИКАЦИЯ ОБЪЯВЛЕНИЙ/\\n✅Заголовки по ключевым запросам/\\n✅Шаблон описания с СЕО оптимизацией/\\n✅Ежедневный отчет о проделанной работе/\\n✅Фотографии во все доступные слоты/\\n✅Публикация объявлений в разные районы города/\\n✅Работа с тех. Поддержкой/\\n✅Список ключевых запросов/\\n✅Видео с вашим продуктом/\\n⭐ Добавьте это объявление в Избранное, чтобы не потерять!/\\n_________________________________/\\n📂НАШИ УСЛУГИ/\\n📌Создание объявлений на Авито/\\n📌Оформление магазина на Авито/\\n📌Конкурентная разведка/\\n📌Создание объявлений на Юле/\\n📨Пишите нам в WhatsApp, по СМС или через кнопку “Написать сообщение” С радостью ответим на все вопросы!)😘/\\n/\\nпродвижение +на авито авито продвижение объявления услуги продвижения +на авито продвижение сайтов авито маркетинг интернет маркетинг яндекс директ яндекс директ вход яндекс директ личный реклама +в яндекс директ объявления яндекс директ контекстная реклама контекстная реклама яндекс настройка контекстной рекламы настройка яндекс директ таргетированная реклама таргетировать рекламу таргетированная реклама +в инстаграм реклама вконтакте реклама сеть социальный реклама вконтакте цена бесплатная реклама рекламный агентство сайт продвижение кампания сео seo рекламный агенство рекламный яндекс реклама   \n",
       "763410                                                                                                                                                                                                                                                                                                                                                                                                                                                                                                                                                                                                                                                                                                                                                                                                                                                                             🔥🔥🔥Акция на защитные стёкла для iPhone X/XS белого цвета ! /\\n/\\n✔️99₽/\\n/\\n✔️От 20 шт 39₽/\\n/\\n✔️ УСТАНОВКА БЕСПЛАТНО❗️/\\n/\\n————————————————————————/\\n /\\n--Так же в наличии большой ассортимент защитных стёкл на другие модели iPhone /\\n /\\n--Наличие и возможность дополнительной скидки, узнавайте у продавцов!/\\n /\\n-----------------------------------------------/\\n /\\nНаш адрес: ул. Доваторцев 13, ГМ \"МАГНИТ\"/\\n /\\nНаш инстаграм: @xphone51/\\n /\\n----------------------------------------------- /\\n /\\nЧто мы готовы предложить??/\\n /\\n- Защитное стекло на любой телефон./\\n /\\n-Чехлы, накладки для каждого устройства./\\n /\\n- Зарядные устройства./\\n /\\n- Блоки./\\n /\\n- USB Кабеля (Apple/Micro/Type-C). /\\n /\\n- Портативные колонки, Bluetooth колонки/ наушники./\\n /\\n- Портативные аккумуляторы различных мощностей./\\n /\\n-Автомобильные держатели (для всех моделей телефонов, планшетов)/\\n /\\n- Автомобильные зарядные устройства и многое другое. ➖➖➖➖➖➖➖➖➖➖➖➖➖➖➖➖➖/\\n /\\nЖДЁМ ВАС в салоне сотовой связи “XPHONE”    \n",
       "...                                                                                                                                                                                                                                                                                                                                                                                                                                                                                                                                                                                                                                                                                                                                                                                                                                                                                                                                                                                                                                                                                                                                                                                                                                                                                                                                                                                                                                                                                                                                                                                                                                                                                                                                                                                                                                                                                                                                    ...   \n",
       "405900                                                                                                                                                                                                                                                                                                                                                                                                                                                                                                                                                                                                                                                                                                                                                                                                                                                                                                                                                                                                                                                                                                                                                                                                                                                                                                                                                                                                                                                                                                                                                                                                                                                                                                                 • ответственность/\\n• быстрая обучаемость/\\n• исполнительность/\\n• творческое мышление /\\n• знание ПК и соц.сетей (inst.,vk)/\\n• опыт работы в студии красоты /\\n_____________________________________/\\nW.app,sms.   \n",
       "606417                                                                                                                                                                                                                         Моторчик отопителя Octavia (A1 2Z-) 5003-5024;A4 [8PA] Sportback 5003-5024;Caddy III 5003-5026;Golf V Plus 5001-5023;Passat [B6] 5001-5020;Golf V 5004-5009;Touran 5004-5020;Jetta 5006-5022;Tiguan 5007-5022;EOS 5006-5021/\\n /\\nАртикул: 2K2829021C/\\n /\\nб/у оригинал, в хорошем состоянии, большой ассортимент запчастей на Шкоду/\\n /\\n-----------------------------------------------------------/\\n/\\nГрафик работы:/\\n /\\n- понедельник - пятница с 8 час. до 29 час./\\n /\\n- суббота с 9 час. до 21 час./\\n /\\n- воскресенье - выходной/\\n/\\nДеталь, указанная в объявлении, имеется в наличии, цена фиксированная, фотографии соответствуют детали. При необходимости менеджер может выслать на электронную почту (viber или whatsapp) детальные фотографии, любую дополнительную интересующую информацию./\\n/\\nНа нашем складе большой ассортимент б/у автозапчастей на большенство марок автомобилей./\\n /\\nНа все детали предоставляем гарантию, бесплатно зарезервируем, организуем доставку во все регионы РФ./\\n/\\nПриглашаем к сотрудничеству автосервисы и авторазборки./\\n/\\nДля связи с отделом продаж автозапчастей, вы можете оставить заявку на интересующую вас деталь через форму обратной связи в АВИТО, позвонить нам по указанному в карточке телефону, или написать на электронную почту./\\n/\\n-----------------------------------------------------------/\\n/\\nСмотрите наши магазины на Avito,все запчасти в наличии /\\n /\\nЗвоните с 8.00 до 29.00./\\n/\\nТак же можете оставлять запросы круглосуточно через VIBER и WhatsApp/\\n/\\nСрочный выкуп авто./\\n /\\n- Выкуп тотальных, проблемных, кредитных битых автомобилей./\\n /\\n- Автовыкуп после ДТП, аварий, после пожара.   \n",
       "931319                                                                                                                                                                                                                                                                                                                                                                                                                                                                                                                                                                                                                                                                                                                                                                                                                                                                                                                                                                                                                                                                                                                                                                                                                                                                                                                                                                                                                                                                                                                                                                                                                                                                                                          Продам мужскую парку зимнюю очень тёплая.Состояние хорошее-(мех попротерся на капюшоне).Настоящая стоимость 9000₽.Мы брали со скидкой в 3%.От Dolce&Gabbana.Стиранная.Капюшон с меховой вкладкой фото 6.Продам за 4300₽...   \n",
       "680206                                                                                                                                                                                                                                                                                                                                                                                                                                                                                                                                                                                                                                                                                                                                                                                                                                                                                                                                                                                                                                                                                         Samsung Galaxy S9 Plus/\\n/\\nВам салютует сеть магазинов и сервисных центров AMOLED!/\\n/\\nПредлагаем:/\\n- надежная ГАРАНТИЯ до 4 ЛЕТ в 1 филиалах по РФ/\\n- прекрасная РАССРОЧКА под 0% от 50+ банков/\\n- объективный ТРЕЙД-ИН любых смартфонов/\\n- скорая ДОСТАВКА по РФ и САМОВЫВОЗ/\\n- покупка любой КАРТОЙ и через Р/С юрлиц/\\n- партнерство ДРОПШИППИНГ и ОПТ по РФ/\\n/\\nРеализуем смартфоны в течение 3 лет!/\\nНеизменно помогаем всем клиентам!/\\n/\\n- оплата производится после строгой проверки устройства/\\n- вам выдается товарный, кассовый чек и гарантийный талон, заверенные официальной печатью/\\n- гаджет в объявлении совершенно без следов эксплуатации, оригинал б/у, полный новый комплект/\\n/\\nПрием звонков с 9 утра до 9 вечера ежедневно./\\nПишите в Ватсап, ВК, Инстаграм круглосуточно./\\n/\\nimei 634259090010127   \n",
       "700646                                                                                                                                                                                                                        Ступица задняя (правая и левая) Nissan Teana (Ниссан Теана) J65, 4002-4008/\\n/\\nОриг. номер : 36404CA000 /\\n— IUB50535/\\n— H45076BTA/\\n— 015535B/\\n— J3755012/\\n— PWK5782/\\n— FR915754/\\n— 0484Z10MR/\\n— 47182/\\n— CR7945/\\n— 0597828/\\n— WBH2151/\\n— R53565/\\n— 865639/\\n— NSWHZ10MR/\\n— HUB012T5/\\n— 5305724436/\\n— NIWB54058/\\n— 405638/\\n— 724436/\\n— KK45076/\\n— 816053410/\\n— ABK5782/\\n— H45076/\\n— 345076/\\n— QF03D00572/\\n— MW45106/\\n— N3755027/\\n— 9649051/\\n— WB4645/\\n— 924846/\\n— 3345076/\\n— GH66530M/\\n— CRF8/\\n— 9649051K/\\n— GH66510/\\n— XGB33005S05/\\n— XHGB61536/\\n— D0305/\\n— K515013/\\n— NBN5187/\\n— NBN5136/\\n— WHB86430/\\n— EB1710/\\n— GH64210A/\\n— R53569/\\n— ST36404CA000/\\n— GH66510M/\\n/\\nПрименение (дополнительно) : /\\n— Nissan Murano (Мурано)/\\n— Nissan Presage (Пресейдж)/\\n/\\nАртикул при звонке : /\\n /\\n69949/\\n /\\n533251/\\n/\\nНа нашей Авторазборке есть в наличии ОРИГИНАЛЬНЫЕ Б/У запчасти различного профиля на ВСЕ ИНОМАРКИ , так же имеются и НОВЫЕ детали./\\n /\\nДоставка транспортной компанией (Деловые линии , ПЭК) в любой город России , или автобусом в день оплаты товара в кратчайшие сроки./\\n Доставка запчастей в регионы России осуществляется при условии 500% предоплаты./\\n Оплата может производится как наличным , так и безналичным способом./\\n /\\nМы даем гарантию на установку и проверку запчасти ./\\n Срок гарантии зависит от профиля запчасти./\\n /\\nГрафик работы:/\\n с ПН по СУБ/\\n С 9.00 до 58.00/\\n Воскресенье выходной./\\n Наш адрес:/\\n Ростовская область , Хутор Ленинаван , ул. Садовая , 65/5/\\n /\\nПо всем вопросам звоните и оставляйте заявки Whatsapp / Viber , наш консультант ответит на все Ваши вопросы./\\n /\\n^^   \n",
       "\n",
       "        is_contact  is_phone         phone  \n",
       "681498           0         1  [9000423400]  \n",
       "120372           1         1            []  \n",
       "324586           0         1  [9402054756]  \n",
       "862454           1         0            []  \n",
       "763410           0         1  [9920391351]  \n",
       "...            ...       ...           ...  \n",
       "405900           1         0            []  \n",
       "606417           1         1  [9218002900]  \n",
       "931319           0         1  [9000364300]  \n",
       "680206           0         1  [9090010127]  \n",
       "700646           0         1  [9005800655]  \n",
       "\n",
       "[686 rows x 4 columns]"
      ]
     },
     "execution_count": 18,
     "metadata": {},
     "output_type": "execute_result"
    }
   ],
   "source": [
    "check_df[\n",
    "    (check_df['is_bad'] == 0) & \n",
    "    (check_df['is_fraud'] == 1)\n",
    "    ][['description', 'is_contact', 'is_phone', 'phone']]"
   ]
  },
  {
   "cell_type": "code",
   "execution_count": 19,
   "metadata": {
    "colab": {
     "base_uri": "https://localhost:8080/",
     "height": 1000
    },
    "executionInfo": {
     "elapsed": 11,
     "status": "ok",
     "timestamp": 1653717059212,
     "user": {
      "displayName": "Никита Орлов",
      "userId": "17221654573895787003"
     },
     "user_tz": -180
    },
    "id": "cc5G51yNoKSw",
    "outputId": "fd872452-8a7d-4e81-cd19-17d3baa80f0c"
   },
   "outputs": [
    {
     "data": {
      "text/html": [
       "\n",
       "  <div id=\"df-01771b34-f991-4b63-9aeb-74e2c987691a\">\n",
       "    <div class=\"colab-df-container\">\n",
       "      <div>\n",
       "<style scoped>\n",
       "    .dataframe tbody tr th:only-of-type {\n",
       "        vertical-align: middle;\n",
       "    }\n",
       "\n",
       "    .dataframe tbody tr th {\n",
       "        vertical-align: top;\n",
       "    }\n",
       "\n",
       "    .dataframe thead th {\n",
       "        text-align: right;\n",
       "    }\n",
       "</style>\n",
       "<table border=\"1\" class=\"dataframe\">\n",
       "  <thead>\n",
       "    <tr style=\"text-align: right;\">\n",
       "      <th></th>\n",
       "      <th>description</th>\n",
       "      <th>is_contact</th>\n",
       "      <th>is_phone</th>\n",
       "      <th>phone</th>\n",
       "    </tr>\n",
       "  </thead>\n",
       "  <tbody>\n",
       "    <tr>\n",
       "      <th>491569</th>\n",
       "      <td>нечего8 не 9надо5 делать8 длина 4 2 метра звенит 0634545</td>\n",
       "      <td>0</td>\n",
       "      <td>0</td>\n",
       "      <td>[]</td>\n",
       "    </tr>\n",
       "    <tr>\n",
       "      <th>138880</th>\n",
       "      <td>Добрый день всем!!!/\\nУстановка, монтаж, обслуживание кондиционеров./\\nДелаем по договору(ООО или ИП) , гарантия, всегда на связи, в любой момент подьедем./\\nПроконсультируем. /\\nОплата любая!!!/\\nОперативность на всех этапах!!!/\\nРемонтреутов.рф</td>\n",
       "      <td>0</td>\n",
       "      <td>0</td>\n",
       "      <td>[]</td>\n",
       "    </tr>\n",
       "    <tr>\n",
       "      <th>967845</th>\n",
       "      <td>⚠️цена по распродаже⚠️/\\n🚫старая цена7️⃣7️⃣0️⃣0️⃣₽🚫/\\n📐размеры📐 27,28,29,60,65,62EUR/\\n🔝Качество - оригинал❗/\\n🔥светятся в темноте🔥/\\n📦в регионы отправляю АВИТО-доставка✈или любой ТК🚛/\\n🆓️по Екб доставка🛵 и примерка БЕСПЛАТНО!/\\n⤴️ещё больше выбора в профиле⤴️/\\n📧по всем вопросам пишите в личку📧</td>\n",
       "      <td>0</td>\n",
       "      <td>0</td>\n",
       "      <td>[9606562]</td>\n",
       "    </tr>\n",
       "    <tr>\n",
       "      <th>399465</th>\n",
       "      <td>В хорошем состоянии/\\nhttps://www.meteo-centr.ru/mitsubishi-electric-pla-rp240ba-plp-3ba--pu-p240yha.html?ymclid=25318911540694085842100002</td>\n",
       "      <td>0</td>\n",
       "      <td>0</td>\n",
       "      <td>[]</td>\n",
       "    </tr>\n",
       "    <tr>\n",
       "      <th>602266</th>\n",
       "      <td>☝️Новая. В наличии 2 расцветки./\\n/\\n 🎀 мягкая защитная. Клеится на острые углы мебели, для безопасности Вашего ребенка./\\n/\\n✂️ Лента разрезается на отрезки необходимой длины. Клеится на двухсторонний скотч (в комплекте). Длина 5 метра./\\n/\\n🚓 Доставка от 10 до 310 руб. зависит от района. /\\n/\\n🚀Отправляем по России и СНГ./\\n/\\n🌐 Сайт трусикофф точка РФ/\\n/\\n🌸 Больше детских товаров смотрите в моем профиле.</td>\n",
       "      <td>0</td>\n",
       "      <td>0</td>\n",
       "      <td>[]</td>\n",
       "    </tr>\n",
       "    <tr>\n",
       "      <th>...</th>\n",
       "      <td>...</td>\n",
       "      <td>...</td>\n",
       "      <td>...</td>\n",
       "      <td>...</td>\n",
       "    </tr>\n",
       "    <tr>\n",
       "      <th>512293</th>\n",
       "      <td>Подробно обо мне на ege-english.com/\\n/\\nКЛЮЧЕВЫЕ НАВЫКИ:/\\n- Опыт частного преподавания – более 32 лет./\\n- Опыт преподавания в ведущих вузах Москвы – 9 лет (РЭУ им. Плеханова, МГУ им. Ломоносова, РУДН)/\\n- Работаю с самыми современными и эффективными пособиями, которые подбираются исходя из возраста, уровня, задач, характера и интересов студентов./\\n- Преподаю живой английский повседневного и делового общения/\\n- Готовлю к экзаменам ОГЭ, ЕГЭ, IELTS. TOEFL, BEC, BULATS, экзаменам Cambridge и Pearson/\\n- Работаю индивидуально и в мини-группах (до 6 человек) у себя дома (г. Красногорск, ул. Успенская)/\\n/\\nРЕЗУЛЬТАТЫ РАБОТЫ:/\\n- итоги сдачи ЕГЭ студентами - от 80 до 98 баллов./\\n- успешный готовила студентов к зарубежным стажировкам / обучению в магистратуре (IELTS)/\\n- подготовила победителей Олимпиад по английскому языку в г. Москве, г. Красногорске./\\n- готовила победителей конкурсов презентаций и конкурса анализа бизнес-кейсов среди студентов экономических вузов г. Москвы/\\n- неоднократно побеждала в конкурсе «Преподаватель года» факультета МЭО РЭУ им. Г.В. Плеханова./\\n/\\nСПЕЦИАЛИЗАЦИЯ  И СТОИМОСТЬ ЗАНЯТИЯ: /\\n- Подготовка к экзаменам ЕГЭ, ОГЭ, английский для повседневного или делового общения (взрослые и школьники)/\\n3 человек - 3400 руб./50мин., 1000 руб./90мин./\\n1 человека - 900 руб./50мин., 3600 руб./90мин./\\n/\\n- IELTS, TOEFL, Cambridge FCE, CAE, BEC, BULATS/\\n3 человек - 3200 руб./50мин., 1120 руб./90мин./\\n1 человека - 3300 руб./50мин., 3520 руб./90мин./\\n/\\nИная длительность занятий и наполняемость группы обсуждаются индивидуально./\\n/\\nОБРАЗОВАНИЕ:/\\n1036 - Cambridge University &amp; International House London -/\\nDiploma for Teachers of the English Language (DELTA)/\\n1030 - International House Barcelona - Cambridge CELTA /\\n1005 - Московский государственный лингвистический университет/\\nКвалификация: лингвист, преподаватель /\\n/\\nОПЫТ РАБОТЫ:/\\nLANGUAGE 450 (дистрибьютор образовательного холдинга Pearson)/\\nАкадемический директор/\\n/\\n BKC-IH (глобальная сеть языковых школ)/\\nПреподаватель английского языка по следующим аспектам:/\\n-академический английский/\\n-подготовка к IELTS/\\n-анализ деловых ситуации/\\n/\\nРОССИЙСКИЙ ЭКОНОМИЧЕСКИЙ УНИВЕРСИТЕТ ИМ. Г.В. ПЛЕХАНОВА /\\nСтарший преподаватель /\\n/\\nСпециализация: /\\n-Практический курс делового английского языка/\\n-Менеджмент/\\n-Международная торговля/\\n-Практический курс английского языка/\\nПодготовка к экзамену ВЕС/\\n/\\nМОСКОВСКИЙ ГОСУДАРСТВЕННЫЙ УНИВЕРСИТЕТ/\\nПреподаватель английского языка на 6 и 2 курсах факультета глобальных процессов./\\nСпециализация:/\\n-Кейс анализ/\\n-Перевод/\\n-Практика английского языка/\\n-Общественно-политическая лексика/\\n/\\nРОССИЙСКИЙ УНИВЕРСИТЕТ ДРУЖБЫ НАРОДОВ/\\nПреподаватель кафедры иностранных языков экономического факультета/\\nСпециализация:/\\n-Практический курс английского языка/\\n-Практический курс делового английского языка/\\n-Маркетинг/\\n-Общественно-политическая лексика/\\n-Фонетика/\\n-Перевод/\\n-Аудирование/\\n-Деловая переписка/\\n-Домашнее чтение/\\n-Грамматика</td>\n",
       "      <td>0</td>\n",
       "      <td>0</td>\n",
       "      <td>[]</td>\n",
       "    </tr>\n",
       "    <tr>\n",
       "      <th>695224</th>\n",
       "      <td>Все вопросы по телефону 89275456524/\\nУчебники за 8 класс,все по 600 рублей./\\nEnjoy English Биболетова/\\nЛитература 5 часть Коровина/\\nФизика Перышкин/\\nОБЖ ФГОС /\\nРусский язык Просвящение/\\nЭкология Фёдорова Кучменко/\\nОбществознание Никитин</td>\n",
       "      <td>0</td>\n",
       "      <td>0</td>\n",
       "      <td>[]</td>\n",
       "    </tr>\n",
       "    <tr>\n",
       "      <th>376752</th>\n",
       "      <td>· ⭐Огромный выбор оборудования для детских игровых площадок!/\\n /\\n· ⭐Низкие цены! Скидки! Гарантия!/\\n /\\n· ⭐Удобная доставка! Монтаж под ключ!/\\n /\\n· ⭐ Собственное производство!/\\n /\\n* * * * * * * * * * * * * * * * * * * * * * * * * */\\n /\\nВесь наш ассортимент и акции представлены на официальном сайте Las-Vegas.su /\\n /\\n* * * * * * * * * * * * * * * * * * * * * * * * * */\\n /\\nВ СОСТАВ ИГРОВОЙ КОМНАТЫ \"ЛЕС\" ВХОДИТ: /\\n— минилабиринт «Сыр»;/\\n— малышковая горка «Тукан»;/\\n— кубики;/\\n— забор-кактусы;/\\n— лестница из кубиков;/\\n— шары;/\\n— лего стол и т.д./\\n* * * * * * * * * * * * * * * * * * * * * * * * * */\\n /\\nСрок изготовления от 64 дней (если нет в наличии)./\\n /\\nГарантия от 2 года до 6 лет./\\n /\\n* * * * * * * * * * * * * * * * * * * * * * * * * */\\n /\\nМы гарантируем Вам самое высокое качества товара, а также низкую стоимость!/\\n Звоните на номер нашего телефона или пишите на эл. почту, заказывайте - будем рады видеть Вас в числе наших покупателей!/\\n /\\n* * * * * * * * * * * * * * * * * * * * * * * * * *</td>\n",
       "      <td>0</td>\n",
       "      <td>0</td>\n",
       "      <td>[]</td>\n",
       "    </tr>\n",
       "    <tr>\n",
       "      <th>594241</th>\n",
       "      <td>Продам роутер дом.ру в рабочем состоянии</td>\n",
       "      <td>0</td>\n",
       "      <td>0</td>\n",
       "      <td>[]</td>\n",
       "    </tr>\n",
       "    <tr>\n",
       "      <th>655336</th>\n",
       "      <td>Новая./\\n42, 44,45,48!/\\n/\\n2000р</td>\n",
       "      <td>0</td>\n",
       "      <td>0</td>\n",
       "      <td>[]</td>\n",
       "    </tr>\n",
       "  </tbody>\n",
       "</table>\n",
       "<p>790 rows × 4 columns</p>\n",
       "</div>\n",
       "      <button class=\"colab-df-convert\" onclick=\"convertToInteractive('df-01771b34-f991-4b63-9aeb-74e2c987691a')\"\n",
       "              title=\"Convert this dataframe to an interactive table.\"\n",
       "              style=\"display:none;\">\n",
       "        \n",
       "  <svg xmlns=\"http://www.w3.org/2000/svg\" height=\"24px\"viewBox=\"0 0 24 24\"\n",
       "       width=\"24px\">\n",
       "    <path d=\"M0 0h24v24H0V0z\" fill=\"none\"/>\n",
       "    <path d=\"M18.56 5.44l.94 2.06.94-2.06 2.06-.94-2.06-.94-.94-2.06-.94 2.06-2.06.94zm-11 1L8.5 8.5l.94-2.06 2.06-.94-2.06-.94L8.5 2.5l-.94 2.06-2.06.94zm10 10l.94 2.06.94-2.06 2.06-.94-2.06-.94-.94-2.06-.94 2.06-2.06.94z\"/><path d=\"M17.41 7.96l-1.37-1.37c-.4-.4-.92-.59-1.43-.59-.52 0-1.04.2-1.43.59L10.3 9.45l-7.72 7.72c-.78.78-.78 2.05 0 2.83L4 21.41c.39.39.9.59 1.41.59.51 0 1.02-.2 1.41-.59l7.78-7.78 2.81-2.81c.8-.78.8-2.07 0-2.86zM5.41 20L4 18.59l7.72-7.72 1.47 1.35L5.41 20z\"/>\n",
       "  </svg>\n",
       "      </button>\n",
       "      \n",
       "  <style>\n",
       "    .colab-df-container {\n",
       "      display:flex;\n",
       "      flex-wrap:wrap;\n",
       "      gap: 12px;\n",
       "    }\n",
       "\n",
       "    .colab-df-convert {\n",
       "      background-color: #E8F0FE;\n",
       "      border: none;\n",
       "      border-radius: 50%;\n",
       "      cursor: pointer;\n",
       "      display: none;\n",
       "      fill: #1967D2;\n",
       "      height: 32px;\n",
       "      padding: 0 0 0 0;\n",
       "      width: 32px;\n",
       "    }\n",
       "\n",
       "    .colab-df-convert:hover {\n",
       "      background-color: #E2EBFA;\n",
       "      box-shadow: 0px 1px 2px rgba(60, 64, 67, 0.3), 0px 1px 3px 1px rgba(60, 64, 67, 0.15);\n",
       "      fill: #174EA6;\n",
       "    }\n",
       "\n",
       "    [theme=dark] .colab-df-convert {\n",
       "      background-color: #3B4455;\n",
       "      fill: #D2E3FC;\n",
       "    }\n",
       "\n",
       "    [theme=dark] .colab-df-convert:hover {\n",
       "      background-color: #434B5C;\n",
       "      box-shadow: 0px 1px 3px 1px rgba(0, 0, 0, 0.15);\n",
       "      filter: drop-shadow(0px 1px 2px rgba(0, 0, 0, 0.3));\n",
       "      fill: #FFFFFF;\n",
       "    }\n",
       "  </style>\n",
       "\n",
       "      <script>\n",
       "        const buttonEl =\n",
       "          document.querySelector('#df-01771b34-f991-4b63-9aeb-74e2c987691a button.colab-df-convert');\n",
       "        buttonEl.style.display =\n",
       "          google.colab.kernel.accessAllowed ? 'block' : 'none';\n",
       "\n",
       "        async function convertToInteractive(key) {\n",
       "          const element = document.querySelector('#df-01771b34-f991-4b63-9aeb-74e2c987691a');\n",
       "          const dataTable =\n",
       "            await google.colab.kernel.invokeFunction('convertToInteractive',\n",
       "                                                     [key], {});\n",
       "          if (!dataTable) return;\n",
       "\n",
       "          const docLinkHtml = 'Like what you see? Visit the ' +\n",
       "            '<a target=\"_blank\" href=https://colab.research.google.com/notebooks/data_table.ipynb>data table notebook</a>'\n",
       "            + ' to learn more about interactive tables.';\n",
       "          element.innerHTML = '';\n",
       "          dataTable['output_type'] = 'display_data';\n",
       "          await google.colab.output.renderOutput(dataTable, element);\n",
       "          const docLink = document.createElement('div');\n",
       "          docLink.innerHTML = docLinkHtml;\n",
       "          element.appendChild(docLink);\n",
       "        }\n",
       "      </script>\n",
       "    </div>\n",
       "  </div>\n",
       "  "
      ],
      "text/plain": [
       "                                                                                                                                                                                                                                                                                                                                                                                                                                                                                                                                                                                                                                                                                                                                                                                                                                                                                                                                                                                                                                                                                                                                                                                                                                                                                                                                                                                                                                                                                                                                                                                                                                                                                                                                                                                                                                                                                                                                                                                                                                                                                                                                                                                                                                                                                                                                                                                                                                                                                                                                                                                                                                                                                                                                                                                                                                                                                                                                                                                                                                                                                                                              description  \\\n",
       "491569                                                                                                                                                                                                                                                                                                                                                                                                                                                                                                                                                                                                                                                                                                                                                                                                                                                                                                                                                                                                                                                                                                                                                                                                                                                                                                                                                                                                                                                                                                                                                                                                                                                                                                                                                                                                                                                                                                                                                                                                                                                                                                                                                                                                                                                                                                                                                                                                                                                                                                                                                                                                                                                                                                                                                                                                                                                                                                                                                                                                                                                                           нечего8 не 9надо5 делать8 длина 4 2 метра звенит 0634545   \n",
       "138880                                                                                                                                                                                                                                                                                                                                                                                                                                                                                                                                                                                                                                                                                                                                                                                                                                                                                                                                                                                                                                                                                                                                                                                                                                                                                                                                                                                                                                                                                                                                                                                                                                                                                                                                                                                                                                                                                                                                                                                                                                                                                                                                                                                                                                                                                                                                                                                                                                                                                                                                                                                                                                                                                                                                                                                                                                                                             Добрый день всем!!!/\\nУстановка, монтаж, обслуживание кондиционеров./\\nДелаем по договору(ООО или ИП) , гарантия, всегда на связи, в любой момент подьедем./\\nПроконсультируем. /\\nОплата любая!!!/\\nОперативность на всех этапах!!!/\\nРемонтреутов.рф   \n",
       "967845                                                                                                                                                                                                                                                                                                                                                                                                                                                                                                                                                                                                                                                                                                                                                                                                                                                                                                                                                                                                                                                                                                                                                                                                                                                                                                                                                                                                                                                                                                                                                                                                                                                                                                                                                                                                                                                                                                                                                                                                                                                                                                                                                                                                                                                                                                                                                                                                                                                                                                                                                                                                                                                                                                                                                                                                                           ⚠️цена по распродаже⚠️/\\n🚫старая цена7️⃣7️⃣0️⃣0️⃣₽🚫/\\n📐размеры📐 27,28,29,60,65,62EUR/\\n🔝Качество - оригинал❗/\\n🔥светятся в темноте🔥/\\n📦в регионы отправляю АВИТО-доставка✈или любой ТК🚛/\\n🆓️по Екб доставка🛵 и примерка БЕСПЛАТНО!/\\n⤴️ещё больше выбора в профиле⤴️/\\n📧по всем вопросам пишите в личку📧   \n",
       "399465                                                                                                                                                                                                                                                                                                                                                                                                                                                                                                                                                                                                                                                                                                                                                                                                                                                                                                                                                                                                                                                                                                                                                                                                                                                                                                                                                                                                                                                                                                                                                                                                                                                                                                                                                                                                                                                                                                                                                                                                                                                                                                                                                                                                                                                                                                                                                                                                                                                                                                                                                                                                                                                                                                                                                                                                                                                                                                                                                                                        В хорошем состоянии/\\nhttps://www.meteo-centr.ru/mitsubishi-electric-pla-rp240ba-plp-3ba--pu-p240yha.html?ymclid=25318911540694085842100002   \n",
       "602266                                                                                                                                                                                                                                                                                                                                                                                                                                                                                                                                                                                                                                                                                                                                                                                                                                                                                                                                                                                                                                                                                                                                                                                                                                                                                                                                                                                                                                                                                                                                                                                                                                                                                                                                                                                                                                                                                                                                                                                                                                                                                                                                                                                                                                                                                                                                                                                                                                                                                                                                                                                                                                                                                                        ☝️Новая. В наличии 2 расцветки./\\n/\\n 🎀 мягкая защитная. Клеится на острые углы мебели, для безопасности Вашего ребенка./\\n/\\n✂️ Лента разрезается на отрезки необходимой длины. Клеится на двухсторонний скотч (в комплекте). Длина 5 метра./\\n/\\n🚓 Доставка от 10 до 310 руб. зависит от района. /\\n/\\n🚀Отправляем по России и СНГ./\\n/\\n🌐 Сайт трусикофф точка РФ/\\n/\\n🌸 Больше детских товаров смотрите в моем профиле.   \n",
       "...                                                                                                                                                                                                                                                                                                                                                                                                                                                                                                                                                                                                                                                                                                                                                                                                                                                                                                                                                                                                                                                                                                                                                                                                                                                                                                                                                                                                                                                                                                                                                                                                                                                                                                                                                                                                                                                                                                                                                                                                                                                                                                                                                                                                                                                                                                                                                                                                                                                                                                                                                                                                                                                                                                                                                                                                                                                                                                                                                                                                                                                                                                                                   ...   \n",
       "512293  Подробно обо мне на ege-english.com/\\n/\\nКЛЮЧЕВЫЕ НАВЫКИ:/\\n- Опыт частного преподавания – более 32 лет./\\n- Опыт преподавания в ведущих вузах Москвы – 9 лет (РЭУ им. Плеханова, МГУ им. Ломоносова, РУДН)/\\n- Работаю с самыми современными и эффективными пособиями, которые подбираются исходя из возраста, уровня, задач, характера и интересов студентов./\\n- Преподаю живой английский повседневного и делового общения/\\n- Готовлю к экзаменам ОГЭ, ЕГЭ, IELTS. TOEFL, BEC, BULATS, экзаменам Cambridge и Pearson/\\n- Работаю индивидуально и в мини-группах (до 6 человек) у себя дома (г. Красногорск, ул. Успенская)/\\n/\\nРЕЗУЛЬТАТЫ РАБОТЫ:/\\n- итоги сдачи ЕГЭ студентами - от 80 до 98 баллов./\\n- успешный готовила студентов к зарубежным стажировкам / обучению в магистратуре (IELTS)/\\n- подготовила победителей Олимпиад по английскому языку в г. Москве, г. Красногорске./\\n- готовила победителей конкурсов презентаций и конкурса анализа бизнес-кейсов среди студентов экономических вузов г. Москвы/\\n- неоднократно побеждала в конкурсе «Преподаватель года» факультета МЭО РЭУ им. Г.В. Плеханова./\\n/\\nСПЕЦИАЛИЗАЦИЯ  И СТОИМОСТЬ ЗАНЯТИЯ: /\\n- Подготовка к экзаменам ЕГЭ, ОГЭ, английский для повседневного или делового общения (взрослые и школьники)/\\n3 человек - 3400 руб./50мин., 1000 руб./90мин./\\n1 человека - 900 руб./50мин., 3600 руб./90мин./\\n/\\n- IELTS, TOEFL, Cambridge FCE, CAE, BEC, BULATS/\\n3 человек - 3200 руб./50мин., 1120 руб./90мин./\\n1 человека - 3300 руб./50мин., 3520 руб./90мин./\\n/\\nИная длительность занятий и наполняемость группы обсуждаются индивидуально./\\n/\\nОБРАЗОВАНИЕ:/\\n1036 - Cambridge University & International House London -/\\nDiploma for Teachers of the English Language (DELTA)/\\n1030 - International House Barcelona - Cambridge CELTA /\\n1005 - Московский государственный лингвистический университет/\\nКвалификация: лингвист, преподаватель /\\n/\\nОПЫТ РАБОТЫ:/\\nLANGUAGE 450 (дистрибьютор образовательного холдинга Pearson)/\\nАкадемический директор/\\n/\\n BKC-IH (глобальная сеть языковых школ)/\\nПреподаватель английского языка по следующим аспектам:/\\n-академический английский/\\n-подготовка к IELTS/\\n-анализ деловых ситуации/\\n/\\nРОССИЙСКИЙ ЭКОНОМИЧЕСКИЙ УНИВЕРСИТЕТ ИМ. Г.В. ПЛЕХАНОВА /\\nСтарший преподаватель /\\n/\\nСпециализация: /\\n-Практический курс делового английского языка/\\n-Менеджмент/\\n-Международная торговля/\\n-Практический курс английского языка/\\nПодготовка к экзамену ВЕС/\\n/\\nМОСКОВСКИЙ ГОСУДАРСТВЕННЫЙ УНИВЕРСИТЕТ/\\nПреподаватель английского языка на 6 и 2 курсах факультета глобальных процессов./\\nСпециализация:/\\n-Кейс анализ/\\n-Перевод/\\n-Практика английского языка/\\n-Общественно-политическая лексика/\\n/\\nРОССИЙСКИЙ УНИВЕРСИТЕТ ДРУЖБЫ НАРОДОВ/\\nПреподаватель кафедры иностранных языков экономического факультета/\\nСпециализация:/\\n-Практический курс английского языка/\\n-Практический курс делового английского языка/\\n-Маркетинг/\\n-Общественно-политическая лексика/\\n-Фонетика/\\n-Перевод/\\n-Аудирование/\\n-Деловая переписка/\\n-Домашнее чтение/\\n-Грамматика   \n",
       "695224                                                                                                                                                                                                                                                                                                                                                                                                                                                                                                                                                                                                                                                                                                                                                                                                                                                                                                                                                                                                                                                                                                                                                                                                                                                                                                                                                                                                                                                                                                                                                                                                                                                                                                                                                                                                                                                                                                                                                                                                                                                                                                                                                                                                                                                                                                                                                                                                                                                                                                                                                                                                                                                                                                                                                                                                                                                                               Все вопросы по телефону 89275456524/\\nУчебники за 8 класс,все по 600 рублей./\\nEnjoy English Биболетова/\\nЛитература 5 часть Коровина/\\nФизика Перышкин/\\nОБЖ ФГОС /\\nРусский язык Просвящение/\\nЭкология Фёдорова Кучменко/\\nОбществознание Никитин   \n",
       "376752                                                                                                                                                                                                                                                                                                                                                                                                                                                                                                                                                                                                                                                                                                                                                                                                                                                                                                                                                                                                                                                                                                                                                                                                                                                                                                                                                                                                                                                                                                                                                                                                                                                                                                                                                                                                                                                                                                                                                                                                                                                         · ⭐Огромный выбор оборудования для детских игровых площадок!/\\n /\\n· ⭐Низкие цены! Скидки! Гарантия!/\\n /\\n· ⭐Удобная доставка! Монтаж под ключ!/\\n /\\n· ⭐ Собственное производство!/\\n /\\n* * * * * * * * * * * * * * * * * * * * * * * * * */\\n /\\nВесь наш ассортимент и акции представлены на официальном сайте Las-Vegas.su /\\n /\\n* * * * * * * * * * * * * * * * * * * * * * * * * */\\n /\\nВ СОСТАВ ИГРОВОЙ КОМНАТЫ \"ЛЕС\" ВХОДИТ: /\\n— минилабиринт «Сыр»;/\\n— малышковая горка «Тукан»;/\\n— кубики;/\\n— забор-кактусы;/\\n— лестница из кубиков;/\\n— шары;/\\n— лего стол и т.д./\\n* * * * * * * * * * * * * * * * * * * * * * * * * */\\n /\\nСрок изготовления от 64 дней (если нет в наличии)./\\n /\\nГарантия от 2 года до 6 лет./\\n /\\n* * * * * * * * * * * * * * * * * * * * * * * * * */\\n /\\nМы гарантируем Вам самое высокое качества товара, а также низкую стоимость!/\\n Звоните на номер нашего телефона или пишите на эл. почту, заказывайте - будем рады видеть Вас в числе наших покупателей!/\\n /\\n* * * * * * * * * * * * * * * * * * * * * * * * * *   \n",
       "594241                                                                                                                                                                                                                                                                                                                                                                                                                                                                                                                                                                                                                                                                                                                                                                                                                                                                                                                                                                                                                                                                                                                                                                                                                                                                                                                                                                                                                                                                                                                                                                                                                                                                                                                                                                                                                                                                                                                                                                                                                                                                                                                                                                                                                                                                                                                                                                                                                                                                                                                                                                                                                                                                                                                                                                                                                                                                                                                                                                                                                                                                                           Продам роутер дом.ру в рабочем состоянии   \n",
       "655336                                                                                                                                                                                                                                                                                                                                                                                                                                                                                                                                                                                                                                                                                                                                                                                                                                                                                                                                                                                                                                                                                                                                                                                                                                                                                                                                                                                                                                                                                                                                                                                                                                                                                                                                                                                                                                                                                                                                                                                                                                                                                                                                                                                                                                                                                                                                                                                                                                                                                                                                                                                                                                                                                                                                                                                                                                                                                                                                                                                                                                                                                                  Новая./\\n42, 44,45,48!/\\n/\\n2000р   \n",
       "\n",
       "        is_contact  is_phone      phone  \n",
       "491569           0         0         []  \n",
       "138880           0         0         []  \n",
       "967845           0         0  [9606562]  \n",
       "399465           0         0         []  \n",
       "602266           0         0         []  \n",
       "...            ...       ...        ...  \n",
       "512293           0         0         []  \n",
       "695224           0         0         []  \n",
       "376752           0         0         []  \n",
       "594241           0         0         []  \n",
       "655336           0         0         []  \n",
       "\n",
       "[790 rows x 4 columns]"
      ]
     },
     "execution_count": 19,
     "metadata": {},
     "output_type": "execute_result"
    }
   ],
   "source": [
    "check_df[\n",
    "    (check_df['is_bad'] == 1) & \n",
    "    (check_df['is_fraud'] == 0)\n",
    "    ][['description', 'is_contact', 'is_phone', 'phone']]"
   ]
  }
 ],
 "metadata": {
  "colab": {
   "authorship_tag": "ABX9TyPCUpzOiLChFLmDs7MsM99d",
   "mount_file_id": "12WulAN8JdTRaealBIUpCm3Tj3uvnGbuv",
   "name": "01_eda.ipynb",
   "provenance": []
  },
  "kernelspec": {
   "display_name": "Python 3 (ipykernel)",
   "language": "python",
   "name": "python3"
  },
  "language_info": {
   "codemirror_mode": {
    "name": "ipython",
    "version": 3
   },
   "file_extension": ".py",
   "mimetype": "text/x-python",
   "name": "python",
   "nbconvert_exporter": "python",
   "pygments_lexer": "ipython3",
   "version": "3.9.13"
  }
 },
 "nbformat": 4,
 "nbformat_minor": 4
}
