{
 "cells": [
  {
   "cell_type": "code",
   "execution_count": 1,
   "metadata": {
    "executionInfo": {
     "elapsed": 456,
     "status": "ok",
     "timestamp": 1655359185474,
     "user": {
      "displayName": "Никита Орлов",
      "userId": "17221654573895787003"
     },
     "user_tz": -180
    },
    "id": "0QrdNsbg98Ys"
   },
   "outputs": [],
   "source": [
    "import sys\n",
    "FOLDER_PATH = '/content/drive/MyDrive/Colab Notebooks/project/'\n",
    "sys.path.append(FOLDER_PATH)"
   ]
  },
  {
   "cell_type": "code",
   "execution_count": null,
   "metadata": {
    "colab": {
     "base_uri": "https://localhost:8080/"
    },
    "executionInfo": {
     "elapsed": 22422,
     "status": "ok",
     "timestamp": 1655359208585,
     "user": {
      "displayName": "Никита Орлов",
      "userId": "17221654573895787003"
     },
     "user_tz": -180
    },
    "id": "YFJvYV4QLuPw",
    "outputId": "314ea518-ea54-40e7-8cf4-8a67ea12b7fb"
   },
   "outputs": [],
   "source": [
    "!pip install -r drive/MyDrive/Colab\\ Notebooks/project/requirements"
   ]
  },
  {
   "cell_type": "code",
   "execution_count": 3,
   "metadata": {
    "colab": {
     "base_uri": "https://localhost:8080/"
    },
    "executionInfo": {
     "elapsed": 1538,
     "status": "ok",
     "timestamp": 1655359210116,
     "user": {
      "displayName": "Никита Орлов",
      "userId": "17221654573895787003"
     },
     "user_tz": -180
    },
    "id": "i9cCGBWYOyH4",
    "outputId": "c7413b51-2ab0-4ab1-feba-6ff987fde3a7"
   },
   "outputs": [
    {
     "name": "stdout",
     "output_type": "stream",
     "text": [
      "INFO: Pandarallel will run on 2 workers.\n",
      "INFO: Pandarallel will use Memory file system to transfer data between the main process and workers.\n"
     ]
    }
   ],
   "source": [
    "import re\n",
    "import imp\n",
    "import time\n",
    "import pickle\n",
    "\n",
    "import numpy as np\n",
    "import pandas as pd\n",
    "import scipy as sc\n",
    "import matplotlib.pyplot as plt\n",
    "import seaborn as sns\n",
    "\n",
    "from pandarallel import pandarallel\n",
    "from functools import partial\n",
    "\n",
    "from sklearn.preprocessing import StandardScaler\n",
    "from sklearn.metrics import confusion_matrix\n",
    "from sklearn.metrics import roc_auc_score\n",
    "\n",
    "from scipy import stats\n",
    "from catboost import Pool, CatBoostClassifier\n",
    "\n",
    "from hyperopt import fmin, hp, tpe, Trials, space_eval, STATUS_OK\n",
    "\n",
    "pandarallel.initialize(progress_bar=False)\n",
    "# pd.set_option('display.max_colwidth', None)"
   ]
  },
  {
   "cell_type": "code",
   "execution_count": 4,
   "metadata": {
    "colab": {
     "base_uri": "https://localhost:8080/"
    },
    "executionInfo": {
     "elapsed": 377,
     "status": "ok",
     "timestamp": 1655359210487,
     "user": {
      "displayName": "Никита Орлов",
      "userId": "17221654573895787003"
     },
     "user_tz": -180
    },
    "id": "L8ucpWa6Snzv",
    "outputId": "cedc54fe-357f-4e9d-d9cd-6adaa4f448e8"
   },
   "outputs": [
    {
     "name": "stderr",
     "output_type": "stream",
     "text": [
      "[nltk_data] Downloading package stopwords to /root/nltk_data...\n",
      "[nltk_data]   Unzipping corpora/stopwords.zip.\n"
     ]
    }
   ],
   "source": [
    "import nltk\n",
    "nltk.download('stopwords')\n",
    "from nltk.corpus import stopwords\n",
    "stop_words = stopwords.words(\"russian\")"
   ]
  },
  {
   "cell_type": "code",
   "execution_count": 7,
   "metadata": {
    "executionInfo": {
     "elapsed": 408,
     "status": "ok",
     "timestamp": 1655359247376,
     "user": {
      "displayName": "Никита Орлов",
      "userId": "17221654573895787003"
     },
     "user_tz": -180
    },
    "id": "yDg_zHQ_GNhy"
   },
   "outputs": [],
   "source": [
    "# with open('{}catboost_model/stop_words.pickle'.format(FOLDER_PATH), 'wb') as f:\n",
    "#   pickle.dump(stop_words, f)"
   ]
  },
  {
   "cell_type": "code",
   "execution_count": 5,
   "metadata": {
    "executionInfo": {
     "elapsed": 9,
     "status": "ok",
     "timestamp": 1654751925630,
     "user": {
      "displayName": "Никита Орлов",
      "userId": "17221654573895787003"
     },
     "user_tz": -180
    },
    "id": "EI4c2cM2j4vd"
   },
   "outputs": [],
   "source": [
    "def auc_group(df):\n",
    "    y_hat = df['predict_catboost']\n",
    "    y = df['is_bad']\n",
    "    return roc_auc_score(y, y_hat)\n",
    "\n",
    "def plot_confusion_matrix(y_true, y_pred,\n",
    "                          normalize=False,\n",
    "                          title=None,\n",
    "                          cmap=plt.cm.Blues):\n",
    "    \"\"\"\n",
    "    This function prints and plots the confusion matrix.\n",
    "    Normalization can be applied by setting `normalize=True`.\n",
    "    \"\"\"\n",
    "    if not title:\n",
    "        if normalize:\n",
    "            title = 'Normalized confusion matrix'\n",
    "        else:\n",
    "            title = 'Confusion matrix, without normalization'\n",
    "\n",
    "    # Compute confusion matrix\n",
    "    tn, fp, fn, tp = confusion_matrix(y_true, y_pred).ravel()\n",
    "    cm = np.array([[tp, fp],\n",
    "                   [fn, tn]])\n",
    "    # Only use the labels that appear in the data\n",
    "    # classes = classes[unique_labels(y_true, y_pred) - 1]\n",
    "    if normalize:\n",
    "        cm = cm.astype('float') / cm.sum(axis=0)[np.newaxis, :]\n",
    "        # cm = cm.astype('float') / cm.sum()\n",
    "    #     print(\"Normalized confusion matrix\")\n",
    "    # else:\n",
    "    #     print('Confusion matrix, without normalization')\n",
    "\n",
    "    fig, ax = plt.subplots(figsize=(6, 6))\n",
    "    im = ax.imshow(cm, interpolation='nearest', cmap=cmap)\n",
    "    ax.figure.colorbar(im, ax=ax)\n",
    "    # We want to show all ticks...\n",
    "    ax.set(xticks=np.arange(cm.shape[1]),\n",
    "           yticks=np.arange(cm.shape[0]),\n",
    "           # ... and label them with the respective list entries\n",
    "           xticklabels=np.arange(cm.shape[1])[::-1],\n",
    "           yticklabels=np.arange(cm.shape[0])[::-1],\n",
    "           title=title,\n",
    "           ylabel='Predicted label',\n",
    "           xlabel='True label')\n",
    "    ax.xaxis.tick_top()\n",
    "    ax.xaxis.set_label_position('top') \n",
    "\n",
    "    # Rotate the tick labels and set their alignment.\n",
    "    plt.setp(ax.get_xticklabels(), rotation=45, ha=\"right\",\n",
    "             rotation_mode=\"anchor\")\n",
    "\n",
    "    # Loop over data dimensions and create text annotations.\n",
    "    fmt = '.2f' if normalize else 'd'\n",
    "    thresh = cm.max() / 2.\n",
    "    for i in range(cm.shape[0]):\n",
    "        for j in range(cm.shape[1]):\n",
    "            ax.text(j, i, format(cm[i, j], fmt),\n",
    "                    ha=\"center\", va=\"center\",\n",
    "                    color=\"white\" if cm[i, j] > thresh else \"black\")\n",
    "    fig.tight_layout()\n",
    "    return ax"
   ]
  },
  {
   "cell_type": "code",
   "execution_count": 6,
   "metadata": {
    "executionInfo": {
     "elapsed": 70236,
     "status": "ok",
     "timestamp": 1654751995859,
     "user": {
      "displayName": "Никита Орлов",
      "userId": "17221654573895787003"
     },
     "user_tz": -180
    },
    "id": "xcTJdwqcOyUp"
   },
   "outputs": [],
   "source": [
    "df_train = pd.read_csv('./drive/MyDrive/Colab Notebooks/project/_data/train_prep.csv', sep='|')\n",
    "df_val = pd.read_csv('./drive/MyDrive/Colab Notebooks/project/_data/val_prep.csv', sep='|')\n",
    "df_test = pd.read_csv('./drive/MyDrive/Colab Notebooks/project/_data/test_prep.csv', sep='|')"
   ]
  },
  {
   "cell_type": "code",
   "execution_count": 7,
   "metadata": {
    "executionInfo": {
     "elapsed": 8,
     "status": "ok",
     "timestamp": 1654751995860,
     "user": {
      "displayName": "Никита Орлов",
      "userId": "17221654573895787003"
     },
     "user_tz": -180
    },
    "id": "PVUI-FTtF8DP"
   },
   "outputs": [],
   "source": [
    "text_features = ['text']\n",
    "cat_features = ['category', 'subcategory', 'region', 'month', 'hour']\n",
    "num_features = ['price', 'num_words_count', 'digits_count', \n",
    "                'contact_words_count', 'tel_count', 'count_emoji']\n",
    "bin_features = ['is_empty_price', 'is_full_phone', 'is_short_phone']"
   ]
  },
  {
   "cell_type": "code",
   "execution_count": 8,
   "metadata": {
    "executionInfo": {
     "elapsed": 1938,
     "status": "ok",
     "timestamp": 1654751997793,
     "user": {
      "displayName": "Никита Орлов",
      "userId": "17221654573895787003"
     },
     "user_tz": -180
    },
    "id": "bWtvXYjjoa4-"
   },
   "outputs": [],
   "source": [
    "df_train['title_prep'] = df_train['title_prep'].astype('str')\n",
    "df_train['description_prep'] = df_train['description_prep'].astype('str')\n",
    "df_train['category'] = df_train['category'].astype('str')\n",
    "df_train['subcategory'] = df_train['subcategory'].astype('str')\n",
    "df_train['region'] = df_train['region'].astype('str')\n",
    "df_train['month'] = df_train['month'].astype('str')\n",
    "df_train['hour'] = df_train['hour'].astype('str')\n",
    "\n",
    "df_val['title_prep'] = df_val['title_prep'].astype('str')\n",
    "df_val['description_prep'] = df_val['description_prep'].astype('str')\n",
    "df_val['category'] = df_val['category'].astype('str')\n",
    "df_val['subcategory'] = df_val['subcategory'].astype('str')\n",
    "df_val['region'] = df_val['region'].astype('str')\n",
    "df_val['month'] = df_val['month'].astype('str')\n",
    "df_val['hour'] = df_val['hour'].astype('str')\n",
    "\n",
    "df_test['title_prep'] = df_test['title_prep'].astype('str')\n",
    "df_test['description_prep'] = df_test['description_prep'].astype('str')\n",
    "df_test['category'] = df_test['category'].astype('str')\n",
    "df_test['subcategory'] = df_test['subcategory'].astype('str')\n",
    "df_test['region'] = df_test['region'].astype('str')\n",
    "df_test['month'] = df_test['month'].astype('str')\n",
    "df_test['hour'] = df_test['hour'].astype('str')"
   ]
  },
  {
   "cell_type": "code",
   "execution_count": 9,
   "metadata": {
    "executionInfo": {
     "elapsed": 32066,
     "status": "ok",
     "timestamp": 1654752029854,
     "user": {
      "displayName": "Никита Орлов",
      "userId": "17221654573895787003"
     },
     "user_tz": -180
    },
    "id": "-IH6ApFNnaGT"
   },
   "outputs": [],
   "source": [
    "df_train['text'] = df_train[['title_prep', 'description_prep']].agg(' '.join, axis=1)\n",
    "df_val['text'] = df_val[['title_prep', 'description_prep']].agg(' '.join, axis=1)\n",
    "df_test['text'] = df_test[['title_prep', 'description_prep']].agg(' '.join, axis=1)"
   ]
  },
  {
   "cell_type": "code",
   "execution_count": 10,
   "metadata": {
    "executionInfo": {
     "elapsed": 943,
     "status": "ok",
     "timestamp": 1654752030791,
     "user": {
      "displayName": "Никита Орлов",
      "userId": "17221654573895787003"
     },
     "user_tz": -180
    },
    "id": "A3de52jkt1z_"
   },
   "outputs": [],
   "source": [
    "X_train = df_train[text_features + cat_features + num_features + bin_features]\n",
    "X_val = df_val[text_features + cat_features + num_features + bin_features]\n",
    "X_test = df_test[text_features + cat_features + num_features + bin_features]\n",
    "\n",
    "y_train = df_train['is_bad']\n",
    "y_val = df_val['is_bad']\n",
    "y_test = df_test['is_bad']"
   ]
  },
  {
   "cell_type": "code",
   "execution_count": 11,
   "metadata": {
    "executionInfo": {
     "elapsed": 23,
     "status": "ok",
     "timestamp": 1654752030793,
     "user": {
      "displayName": "Никита Орлов",
      "userId": "17221654573895787003"
     },
     "user_tz": -180
    },
    "id": "CfxnF9JStBFM"
   },
   "outputs": [],
   "source": [
    "median_price = X_train.groupby('subcategory')['price'].median()"
   ]
  },
  {
   "cell_type": "code",
   "execution_count": 13,
   "metadata": {
    "executionInfo": {
     "elapsed": 20,
     "status": "ok",
     "timestamp": 1654752030794,
     "user": {
      "displayName": "Никита Орлов",
      "userId": "17221654573895787003"
     },
     "user_tz": -180
    },
    "id": "bGInKNsse5kn"
   },
   "outputs": [],
   "source": [
    "# with open('{}catboost_model/median_price.pickle'.format(FOLDER_PATH), 'wb') as f:\n",
    "#   pickle.dump(median_price, f)"
   ]
  },
  {
   "cell_type": "code",
   "execution_count": null,
   "metadata": {
    "colab": {
     "base_uri": "https://localhost:8080/"
    },
    "executionInfo": {
     "elapsed": 19,
     "status": "ok",
     "timestamp": 1654752030794,
     "user": {
      "displayName": "Никита Орлов",
      "userId": "17221654573895787003"
     },
     "user_tz": -180
    },
    "id": "7Kgv8_yesSMX",
    "outputId": "f3ed50ac-77ce-4bbe-e653-e239ed8f0e89"
   },
   "outputs": [],
   "source": [
    "X_train['price'] = X_train['price'].fillna(X_train['subcategory'].map(median_price))\n",
    "X_val['price'] = X_val['price'].fillna(X_val['subcategory'].map(median_price))\n",
    "X_test['price'] = X_test['price'].fillna(X_test['subcategory'].map(median_price))"
   ]
  },
  {
   "cell_type": "code",
   "execution_count": null,
   "metadata": {
    "colab": {
     "base_uri": "https://localhost:8080/"
    },
    "executionInfo": {
     "elapsed": 16,
     "status": "ok",
     "timestamp": 1654752030795,
     "user": {
      "displayName": "Никита Орлов",
      "userId": "17221654573895787003"
     },
     "user_tz": -180
    },
    "id": "kjImgnHqrk5F",
    "outputId": "d0c5868c-e802-4128-e43b-e99f72170bfd"
   },
   "outputs": [],
   "source": [
    "scaler = StandardScaler()\n",
    "scaler.fit(X_train['price'].values.reshape(-1, 1))\n",
    "X_train['price'] = scaler.transform(X_train['price'].values.reshape(-1, 1))\n",
    "X_val['price'] = scaler.transform(X_val['price'].values.reshape(-1, 1))\n",
    "X_test['price'] = scaler.transform(X_test['price'].values.reshape(-1, 1))"
   ]
  },
  {
   "cell_type": "code",
   "execution_count": 16,
   "metadata": {
    "executionInfo": {
     "elapsed": 9,
     "status": "ok",
     "timestamp": 1654752030796,
     "user": {
      "displayName": "Никита Орлов",
      "userId": "17221654573895787003"
     },
     "user_tz": -180
    },
    "id": "7RJZ0uXQe1fF"
   },
   "outputs": [],
   "source": [
    "# with open('{}catboost_model/scaler.pickle'.format(FOLDER_PATH), 'wb') as f:\n",
    "#   pickle.dump(scaler, f)"
   ]
  },
  {
   "cell_type": "code",
   "execution_count": 17,
   "metadata": {
    "executionInfo": {
     "elapsed": 1310,
     "status": "ok",
     "timestamp": 1654752033896,
     "user": {
      "displayName": "Никита Орлов",
      "userId": "17221654573895787003"
     },
     "user_tz": -180
    },
    "id": "P2Zrd-1vnaVh"
   },
   "outputs": [],
   "source": [
    "train_pool = Pool(\n",
    "    X_train, \n",
    "    y_train, \n",
    "    cat_features=cat_features, \n",
    "    text_features=text_features, \n",
    "    feature_names=list(X_train)\n",
    ")\n",
    "valid_pool = Pool(\n",
    "    X_val, \n",
    "    y_val,\n",
    "    cat_features=cat_features, \n",
    "    text_features=text_features, \n",
    "    feature_names=list(X_train)\n",
    ")\n",
    "\n",
    "test_pool = Pool(\n",
    "    X_test, \n",
    "    y_test,\n",
    "    cat_features=cat_features, \n",
    "    text_features=text_features, \n",
    "    feature_names=list(X_train)\n",
    ")"
   ]
  },
  {
   "cell_type": "code",
   "execution_count": 18,
   "metadata": {
    "executionInfo": {
     "elapsed": 10,
     "status": "ok",
     "timestamp": 1654752033897,
     "user": {
      "displayName": "Никита Орлов",
      "userId": "17221654573895787003"
     },
     "user_tz": -180
    },
    "id": "suxww8trJsgW"
   },
   "outputs": [],
   "source": [
    "search_space = {\n",
    "    'learning_rate': hp.loguniform('learning_rate', -4.6, 0),\n",
    "    'iterations': hp.quniform('iterations', 200, 2000, 100),\n",
    "    'l2_leaf_reg': hp.quniform('l2_leaf_reg', 2, 30, 1),\n",
    "    'depth': hp.quniform('depth', 8, 16, 1),\n",
    "    'random_strength': hp.loguniform('random_strength', -20, 2.3),\n",
    "    'bagging_temperature': hp.uniform('bagging_temperature', 0.0, 1.0),\n",
    "    'border_count': hp.quniform('border_count', 1, 255, 1),\n",
    "    'scale_pos_weight': hp.uniform('scale_pos_weight', 0.01, 1.0), \n",
    "    }"
   ]
  },
  {
   "cell_type": "code",
   "execution_count": 19,
   "metadata": {
    "executionInfo": {
     "elapsed": 9,
     "status": "ok",
     "timestamp": 1654752033898,
     "user": {
      "displayName": "Никита Орлов",
      "userId": "17221654573895787003"
     },
     "user_tz": -180
    },
    "id": "h3R3BFFxrhtf"
   },
   "outputs": [],
   "source": [
    "def objective(params, train, valid):\n",
    "    model = CatBoostClassifier(\n",
    "        loss_function='Logloss',\n",
    "        eval_metric='AUC',\n",
    "        early_stopping_rounds=40,\n",
    "        random_seed=42, \n",
    "        verbose=500,\n",
    "        task_type='GPU',\n",
    "        use_best_model=True\n",
    "        # custom_metric='AUC:hints=skip_train~false'\n",
    "        )\n",
    "    model.set_params(**params)\n",
    "    model.fit(train, eval_set=valid)\n",
    "    return {\n",
    "        'loss': model.get_best_score()['validation']['AUC'], \n",
    "        'status': STATUS_OK}"
   ]
  },
  {
   "cell_type": "code",
   "execution_count": 20,
   "metadata": {
    "colab": {
     "base_uri": "https://localhost:8080/"
    },
    "executionInfo": {
     "elapsed": 7738760,
     "status": "ok",
     "timestamp": 1654771578827,
     "user": {
      "displayName": "Никита Орлов",
      "userId": "17221654573895787003"
     },
     "user_tz": -180
    },
    "id": "M2iJecSnHOQv",
    "outputId": "d1b9d50b-4b24-47cd-ceb7-1e81b33bcd2c"
   },
   "outputs": [
    {
     "name": "stdout",
     "output_type": "stream",
     "text": [
      "  0%|          | 0/40 [00:00<?, ?it/s, best loss: ?]"
     ]
    },
    {
     "name": "stderr",
     "output_type": "stream",
     "text": [
      "Default metric period is 5 because AUC is/are not implemented for GPU\n"
     ]
    },
    {
     "name": "stdout",
     "output_type": "stream",
     "text": [
      "0:\ttest: 0.9434105\tbest: 0.9434105 (0)\ttotal: 3.5s\tremaining: 1h 56m 30s\n",
      "500:\ttest: 0.9769993\tbest: 0.9769993 (500)\ttotal: 29m 29s\tremaining: 1h 28m 15s\n",
      "1000:\ttest: 0.9791363\tbest: 0.9791363 (1000)\ttotal: 58m 40s\tremaining: 58m 33s\n",
      "1500:\ttest: 0.9800272\tbest: 0.9800272 (1500)\ttotal: 1h 27m 38s\tremaining: 29m 8s\n",
      "1999:\ttest: 0.9805651\tbest: 0.9805651 (1999)\ttotal: 1h 56m 29s\tremaining: 0us\n",
      "bestTest = 0.9805650711\n",
      "bestIteration = 1999\n",
      "  2%|▎         | 1/40 [1:59:02<77:22:30, 7142.31s/it, best loss: 0.980565071105957]"
     ]
    },
    {
     "name": "stderr",
     "output_type": "stream",
     "text": [
      "Default metric period is 5 because AUC is/are not implemented for GPU\n"
     ]
    },
    {
     "name": "stdout",
     "output_type": "stream",
     "text": [
      "0:\ttest: 0.9418997\tbest: 0.9418997 (0)\ttotal: 492ms\tremaining: 4m 54s\n",
      "500:\ttest: 0.9788541\tbest: 0.9788541 (500)\ttotal: 4m 2s\tremaining: 47.9s\n",
      "599:\ttest: 0.9792323\tbest: 0.9792323 (599)\ttotal: 4m 49s\tremaining: 0us\n",
      "bestTest = 0.9792323112\n",
      "bestIteration = 599\n",
      "  5%|▌         | 2/40 [2:04:40<33:08:42, 3140.06s/it, best loss: 0.9792323112487793]"
     ]
    },
    {
     "name": "stderr",
     "output_type": "stream",
     "text": [
      "Default metric period is 5 because AUC is/are not implemented for GPU\n"
     ]
    },
    {
     "name": "stdout",
     "output_type": "stream",
     "text": [
      "0:\ttest: 0.9391988\tbest: 0.9391988 (0)\ttotal: 930ms\tremaining: 3m 5s\n",
      "199:\ttest: 0.9765676\tbest: 0.9765676 (199)\ttotal: 3m 4s\tremaining: 0us\n",
      "bestTest = 0.9765675664\n",
      "bestIteration = 199\n",
      "  8%|▊         | 3/40 [2:08:33<18:37:48, 1812.65s/it, best loss: 0.9765675663948059]"
     ]
    },
    {
     "name": "stderr",
     "output_type": "stream",
     "text": [
      "Default metric period is 5 because AUC is/are not implemented for GPU\n"
     ]
    },
    {
     "name": "stdout",
     "output_type": "stream",
     "text": [
      "0:\ttest: 0.9419150\tbest: 0.9419150 (0)\ttotal: 932ms\tremaining: 13m 57s\n",
      "bestTest = 0.9758170247\n",
      "bestIteration = 195\n",
      "Shrink model to first 196 iterations.\n",
      " 10%|█         | 4/40 [2:12:58<12:01:01, 1201.71s/it, best loss: 0.9758170247077942]"
     ]
    },
    {
     "name": "stderr",
     "output_type": "stream",
     "text": [
      "Default metric period is 5 because AUC is/are not implemented for GPU\n"
     ]
    },
    {
     "name": "stdout",
     "output_type": "stream",
     "text": [
      "0:\ttest: 0.9448365\tbest: 0.9448365 (0)\ttotal: 509ms\tremaining: 12m 43s\n",
      "500:\ttest: 0.9718937\tbest: 0.9718937 (500)\ttotal: 4m 10s\tremaining: 8m 19s\n",
      "1000:\ttest: 0.9756392\tbest: 0.9756392 (1000)\ttotal: 8m 16s\tremaining: 4m 7s\n",
      "1499:\ttest: 0.9772885\tbest: 0.9772885 (1499)\ttotal: 12m 18s\tremaining: 0us\n",
      "bestTest = 0.9772884846\n",
      "bestIteration = 1499\n",
      " 12%|█▎        | 5/40 [2:26:08<10:14:20, 1053.17s/it, best loss: 0.9758170247077942]"
     ]
    },
    {
     "name": "stderr",
     "output_type": "stream",
     "text": [
      "Default metric period is 5 because AUC is/are not implemented for GPU\n"
     ]
    },
    {
     "name": "stdout",
     "output_type": "stream",
     "text": [
      "0:\ttest: 0.9379916\tbest: 0.9379916 (0)\ttotal: 281ms\tremaining: 5m 36s\n",
      "500:\ttest: 0.9746687\tbest: 0.9746687 (500)\ttotal: 2m 15s\tremaining: 3m 9s\n",
      "1000:\ttest: 0.9768777\tbest: 0.9768777 (1000)\ttotal: 4m 29s\tremaining: 53.5s\n",
      "1199:\ttest: 0.9774370\tbest: 0.9774370 (1199)\ttotal: 5m 21s\tremaining: 0us\n",
      "bestTest = 0.9774370193\n",
      "bestIteration = 1199\n",
      " 15%|█▌        | 6/40 [2:32:19<7:45:19, 821.16s/it, best loss: 0.9758170247077942]  "
     ]
    },
    {
     "name": "stderr",
     "output_type": "stream",
     "text": [
      "Default metric period is 5 because AUC is/are not implemented for GPU\n"
     ]
    },
    {
     "name": "stdout",
     "output_type": "stream",
     "text": [
      "0:\ttest: 0.9409413\tbest: 0.9409413 (0)\ttotal: 491ms\tremaining: 8m 10s\n",
      "500:\ttest: 0.9650856\tbest: 0.9650856 (500)\ttotal: 4m 8s\tremaining: 4m 7s\n",
      "999:\ttest: 0.9704817\tbest: 0.9704817 (999)\ttotal: 8m 16s\tremaining: 0us\n",
      "bestTest = 0.9704816639\n",
      "bestIteration = 999\n",
      " 18%|█▊        | 7/40 [2:41:26<6:42:22, 731.58s/it, best loss: 0.970481663942337] "
     ]
    },
    {
     "name": "stderr",
     "output_type": "stream",
     "text": [
      "Default metric period is 5 because AUC is/are not implemented for GPU\n"
     ]
    },
    {
     "name": "stdout",
     "output_type": "stream",
     "text": [
      "0:\ttest: 0.9314353\tbest: 0.9314353 (0)\ttotal: 59.9ms\tremaining: 29.9s\n",
      "499:\ttest: 0.9713877\tbest: 0.9713877 (499)\ttotal: 25.9s\tremaining: 0us\n",
      "bestTest = 0.9713876843\n",
      "bestIteration = 499\n",
      " 20%|██        | 8/40 [2:42:41<4:38:42, 522.59s/it, best loss: 0.970481663942337]"
     ]
    },
    {
     "name": "stderr",
     "output_type": "stream",
     "text": [
      "Default metric period is 5 because AUC is/are not implemented for GPU\n"
     ]
    },
    {
     "name": "stdout",
     "output_type": "stream",
     "text": [
      "0:\ttest: 0.9197156\tbest: 0.9197156 (0)\ttotal: 62.4ms\tremaining: 49.8s\n",
      "500:\ttest: 0.9537072\tbest: 0.9537072 (500)\ttotal: 26.1s\tremaining: 15.6s\n",
      "799:\ttest: 0.9579163\tbest: 0.9579163 (799)\ttotal: 42.1s\tremaining: 0us\n",
      "bestTest = 0.9579162598\n",
      "bestIteration = 799\n",
      " 22%|██▎       | 9/40 [2:44:13<3:20:23, 387.86s/it, best loss: 0.957916259765625]"
     ]
    },
    {
     "name": "stderr",
     "output_type": "stream",
     "text": [
      "Default metric period is 5 because AUC is/are not implemented for GPU\n"
     ]
    },
    {
     "name": "stdout",
     "output_type": "stream",
     "text": [
      "0:\ttest: 0.9454561\tbest: 0.9454561 (0)\ttotal: 928ms\tremaining: 7m 43s\n",
      "bestTest = 0.9769194722\n",
      "bestIteration = 268\n",
      "Shrink model to first 269 iterations.\n",
      " 25%|██▌       | 10/40 [2:49:45<3:05:17, 370.60s/it, best loss: 0.957916259765625]"
     ]
    },
    {
     "name": "stderr",
     "output_type": "stream",
     "text": [
      "Default metric period is 5 because AUC is/are not implemented for GPU\n"
     ]
    },
    {
     "name": "stdout",
     "output_type": "stream",
     "text": [
      "0:\ttest: 0.9483889\tbest: 0.9483889 (0)\ttotal: 3.48s\tremaining: 40m 32s\n",
      "500:\ttest: 0.9698614\tbest: 0.9698614 (500)\ttotal: 29m 30s\tremaining: 11m 43s\n",
      "699:\ttest: 0.9719936\tbest: 0.9719936 (699)\ttotal: 41m 13s\tremaining: 0us\n",
      "bestTest = 0.9719936252\n",
      "bestIteration = 699\n",
      " 28%|██▊       | 11/40 [3:31:52<8:18:10, 1030.71s/it, best loss: 0.957916259765625]"
     ]
    },
    {
     "name": "stderr",
     "output_type": "stream",
     "text": [
      "Default metric period is 5 because AUC is/are not implemented for GPU\n"
     ]
    },
    {
     "name": "stdout",
     "output_type": "stream",
     "text": [
      "0:\ttest: 0.9366961\tbest: 0.9366961 (0)\ttotal: 82ms\tremaining: 2m 27s\n",
      "500:\ttest: 0.9672911\tbest: 0.9672911 (500)\ttotal: 35.9s\tremaining: 1m 32s\n",
      "1000:\ttest: 0.9718265\tbest: 0.9718265 (1000)\ttotal: 1m 10s\tremaining: 56.1s\n",
      "1500:\ttest: 0.9738673\tbest: 0.9738673 (1499)\ttotal: 1m 43s\tremaining: 20.6s\n",
      "1799:\ttest: 0.9746700\tbest: 0.9746700 (1799)\ttotal: 2m 2s\tremaining: 0us\n",
      "bestTest = 0.9746699929\n",
      "bestIteration = 1799\n",
      " 30%|███       | 12/40 [3:34:44<5:59:05, 769.47s/it, best loss: 0.957916259765625] "
     ]
    },
    {
     "name": "stderr",
     "output_type": "stream",
     "text": [
      "Default metric period is 5 because AUC is/are not implemented for GPU\n"
     ]
    },
    {
     "name": "stdout",
     "output_type": "stream",
     "text": [
      "0:\ttest: 0.9425771\tbest: 0.9425771 (0)\ttotal: 285ms\tremaining: 2m 50s\n",
      "500:\ttest: 0.9795682\tbest: 0.9795703 (498)\ttotal: 2m 13s\tremaining: 26.3s\n",
      "599:\ttest: 0.9798771\tbest: 0.9798771 (599)\ttotal: 2m 38s\tremaining: 0us\n",
      "bestTest = 0.9798771143\n",
      "bestIteration = 599\n",
      " 32%|███▎      | 13/40 [3:38:13<4:29:46, 599.49s/it, best loss: 0.957916259765625]"
     ]
    },
    {
     "name": "stderr",
     "output_type": "stream",
     "text": [
      "Default metric period is 5 because AUC is/are not implemented for GPU\n"
     ]
    },
    {
     "name": "stdout",
     "output_type": "stream",
     "text": [
      "0:\ttest: 0.9366986\tbest: 0.9366986 (0)\ttotal: 77.7ms\tremaining: 2m 19s\n",
      "500:\ttest: 0.9736477\tbest: 0.9736477 (500)\ttotal: 35s\tremaining: 1m 30s\n",
      "1000:\ttest: 0.9765339\tbest: 0.9765339 (1000)\ttotal: 1m 7s\tremaining: 53.9s\n",
      "1500:\ttest: 0.9778019\tbest: 0.9778019 (1499)\ttotal: 1m 39s\tremaining: 19.9s\n",
      "1799:\ttest: 0.9783683\tbest: 0.9783683 (1799)\ttotal: 1m 59s\tremaining: 0us\n",
      "bestTest = 0.9783683419\n",
      "bestIteration = 1799\n",
      " 35%|███▌      | 14/40 [3:41:02<3:23:27, 469.53s/it, best loss: 0.957916259765625]"
     ]
    },
    {
     "name": "stderr",
     "output_type": "stream",
     "text": [
      "Default metric period is 5 because AUC is/are not implemented for GPU\n"
     ]
    },
    {
     "name": "stdout",
     "output_type": "stream",
     "text": [
      "0:\ttest: 0.9223514\tbest: 0.9223514 (0)\ttotal: 74.9ms\tremaining: 2m 7s\n",
      "500:\ttest: 0.9758846\tbest: 0.9758877 (499)\ttotal: 31.5s\tremaining: 1m 15s\n",
      "1000:\ttest: 0.9772720\tbest: 0.9772720 (1000)\ttotal: 1m 1s\tremaining: 43.3s\n",
      "1500:\ttest: 0.9779007\tbest: 0.9779192 (1486)\ttotal: 1m 32s\tremaining: 12.2s\n",
      "1699:\ttest: 0.9780273\tbest: 0.9780289 (1696)\ttotal: 1m 44s\tremaining: 0us\n",
      "bestTest = 0.9780288637\n",
      "bestIteration = 1696\n",
      "Shrink model to first 1697 iterations.\n",
      " 38%|███▊      | 15/40 [3:43:36<2:36:00, 374.41s/it, best loss: 0.957916259765625]"
     ]
    },
    {
     "name": "stderr",
     "output_type": "stream",
     "text": [
      "Default metric period is 5 because AUC is/are not implemented for GPU\n"
     ]
    },
    {
     "name": "stdout",
     "output_type": "stream",
     "text": [
      "0:\ttest: 0.9347061\tbest: 0.9347061 (0)\ttotal: 1.79s\tremaining: 11m 52s\n",
      "399:\ttest: 0.9731399\tbest: 0.9731399 (399)\ttotal: 11m 54s\tremaining: 0us\n",
      "bestTest = 0.9731399417\n",
      "bestIteration = 399\n",
      " 40%|████      | 16/40 [3:56:21<3:16:45, 491.88s/it, best loss: 0.957916259765625]"
     ]
    },
    {
     "name": "stderr",
     "output_type": "stream",
     "text": [
      "Default metric period is 5 because AUC is/are not implemented for GPU\n"
     ]
    },
    {
     "name": "stdout",
     "output_type": "stream",
     "text": [
      "0:\ttest: 0.9415142\tbest: 0.9415142 (0)\ttotal: 497ms\tremaining: 4m 7s\n",
      "499:\ttest: 0.9770347\tbest: 0.9770347 (499)\ttotal: 4m 4s\tremaining: 0us\n",
      "bestTest = 0.9770347178\n",
      "bestIteration = 499\n",
      " 42%|████▎     | 17/40 [4:01:14<2:45:40, 432.19s/it, best loss: 0.957916259765625]"
     ]
    },
    {
     "name": "stderr",
     "output_type": "stream",
     "text": [
      "Default metric period is 5 because AUC is/are not implemented for GPU\n"
     ]
    },
    {
     "name": "stdout",
     "output_type": "stream",
     "text": [
      "0:\ttest: 0.9476200\tbest: 0.9476200 (0)\ttotal: 1.79s\tremaining: 8m 54s\n",
      "299:\ttest: 0.9757928\tbest: 0.9757928 (299)\ttotal: 9m 1s\tremaining: 0us\n",
      "bestTest = 0.9757927656\n",
      "bestIteration = 299\n",
      " 45%|████▌     | 18/40 [4:11:05<2:55:59, 480.00s/it, best loss: 0.957916259765625]"
     ]
    },
    {
     "name": "stderr",
     "output_type": "stream",
     "text": [
      "Default metric period is 5 because AUC is/are not implemented for GPU\n"
     ]
    },
    {
     "name": "stdout",
     "output_type": "stream",
     "text": [
      "0:\ttest: 0.9323623\tbest: 0.9323623 (0)\ttotal: 278ms\tremaining: 5m 5s\n",
      "500:\ttest: 0.9586858\tbest: 0.9586858 (500)\ttotal: 2m 14s\tremaining: 2m 40s\n",
      "1000:\ttest: 0.9636751\tbest: 0.9636751 (1000)\ttotal: 4m 29s\tremaining: 26.6s\n",
      "1099:\ttest: 0.9643475\tbest: 0.9643475 (1099)\ttotal: 4m 56s\tremaining: 0us\n",
      "bestTest = 0.9643475413\n",
      "bestIteration = 1099\n",
      " 48%|████▊     | 19/40 [4:16:50<2:33:49, 439.49s/it, best loss: 0.957916259765625]"
     ]
    },
    {
     "name": "stderr",
     "output_type": "stream",
     "text": [
      "Default metric period is 5 because AUC is/are not implemented for GPU\n"
     ]
    },
    {
     "name": "stdout",
     "output_type": "stream",
     "text": [
      "0:\ttest: 0.9383276\tbest: 0.9383276 (0)\ttotal: 175ms\tremaining: 34.9s\n",
      "199:\ttest: 0.9754753\tbest: 0.9754900 (198)\ttotal: 30.8s\tremaining: 0us\n",
      "bestTest = 0.9754900038\n",
      "bestIteration = 198\n",
      "Shrink model to first 199 iterations.\n",
      " 50%|█████     | 20/40 [4:18:10<1:50:30, 331.53s/it, best loss: 0.957916259765625]"
     ]
    },
    {
     "name": "stderr",
     "output_type": "stream",
     "text": [
      "Default metric period is 5 because AUC is/are not implemented for GPU\n"
     ]
    },
    {
     "name": "stdout",
     "output_type": "stream",
     "text": [
      "0:\ttest: 0.9320306\tbest: 0.9320306 (0)\ttotal: 167ms\tremaining: 3m 37s\n",
      "500:\ttest: 0.9621877\tbest: 0.9621877 (500)\ttotal: 1m 18s\tremaining: 2m 4s\n",
      "1000:\ttest: 0.9656112\tbest: 0.9656116 (998)\ttotal: 2m 35s\tremaining: 46.5s\n",
      "1299:\ttest: 0.9667017\tbest: 0.9667017 (1299)\ttotal: 3m 21s\tremaining: 0us\n",
      "bestTest = 0.9667016864\n",
      "bestIteration = 1299\n",
      " 52%|█████▎    | 21/40 [4:22:22<1:37:21, 307.44s/it, best loss: 0.957916259765625]"
     ]
    },
    {
     "name": "stderr",
     "output_type": "stream",
     "text": [
      "Default metric period is 5 because AUC is/are not implemented for GPU\n"
     ]
    },
    {
     "name": "stdout",
     "output_type": "stream",
     "text": [
      "0:\ttest: 0.9317195\tbest: 0.9317195 (0)\ttotal: 170ms\tremaining: 2m 15s\n",
      "500:\ttest: 0.9662887\tbest: 0.9662887 (500)\ttotal: 1m 20s\tremaining: 48.1s\n",
      "799:\ttest: 0.9687803\tbest: 0.9687803 (799)\ttotal: 2m 7s\tremaining: 0us\n",
      "bestTest = 0.9687803388\n",
      "bestIteration = 799\n",
      " 55%|█████▌    | 22/40 [4:25:18<1:20:28, 268.25s/it, best loss: 0.957916259765625]"
     ]
    },
    {
     "name": "stderr",
     "output_type": "stream",
     "text": [
      "Default metric period is 5 because AUC is/are not implemented for GPU\n"
     ]
    },
    {
     "name": "stdout",
     "output_type": "stream",
     "text": [
      "0:\ttest: 0.9303491\tbest: 0.9303491 (0)\ttotal: 108ms\tremaining: 1m 58s\n",
      "500:\ttest: 0.9592177\tbest: 0.9592177 (500)\ttotal: 49.1s\tremaining: 58.7s\n",
      "1000:\ttest: 0.9645590\tbest: 0.9645590 (1000)\ttotal: 1m 37s\tremaining: 9.68s\n",
      "1099:\ttest: 0.9651212\tbest: 0.9651212 (1099)\ttotal: 1m 47s\tremaining: 0us\n",
      "bestTest = 0.96512115\n",
      "bestIteration = 1099\n",
      " 57%|█████▊    | 23/40 [4:27:55<1:06:31, 234.77s/it, best loss: 0.957916259765625]"
     ]
    },
    {
     "name": "stderr",
     "output_type": "stream",
     "text": [
      "Default metric period is 5 because AUC is/are not implemented for GPU\n"
     ]
    },
    {
     "name": "stdout",
     "output_type": "stream",
     "text": [
      "0:\ttest: 0.9095258\tbest: 0.9095258 (0)\ttotal: 108ms\tremaining: 2m 31s\n",
      "500:\ttest: 0.9582452\tbest: 0.9582452 (500)\ttotal: 50s\tremaining: 1m 29s\n",
      "1000:\ttest: 0.9617875\tbest: 0.9617875 (1000)\ttotal: 1m 39s\tremaining: 39.6s\n",
      "1399:\ttest: 0.9633168\tbest: 0.9633168 (1399)\ttotal: 2m 18s\tremaining: 0us\n",
      "bestTest = 0.9633167982\n",
      "bestIteration = 1399\n",
      " 60%|██████    | 24/40 [4:31:03<58:51, 220.74s/it, best loss: 0.957916259765625]  "
     ]
    },
    {
     "name": "stderr",
     "output_type": "stream",
     "text": [
      "Default metric period is 5 because AUC is/are not implemented for GPU\n"
     ]
    },
    {
     "name": "stdout",
     "output_type": "stream",
     "text": [
      "0:\ttest: 0.9071366\tbest: 0.9071366 (0)\ttotal: 64.3ms\tremaining: 1m 29s\n",
      "500:\ttest: 0.9539073\tbest: 0.9539073 (500)\ttotal: 25.6s\tremaining: 46s\n",
      "1000:\ttest: 0.9574935\tbest: 0.9574935 (1000)\ttotal: 50.9s\tremaining: 20.3s\n",
      "1399:\ttest: 0.9591489\tbest: 0.9591520 (1392)\ttotal: 1m 10s\tremaining: 0us\n",
      "bestTest = 0.9591520429\n",
      "bestIteration = 1392\n",
      "Shrink model to first 1393 iterations.\n",
      " 62%|██████▎   | 25/40 [4:33:03<47:37, 190.50s/it, best loss: 0.957916259765625]"
     ]
    },
    {
     "name": "stderr",
     "output_type": "stream",
     "text": [
      "Default metric period is 5 because AUC is/are not implemented for GPU\n"
     ]
    },
    {
     "name": "stdout",
     "output_type": "stream",
     "text": [
      "0:\ttest: 0.9197029\tbest: 0.9197029 (0)\ttotal: 59.6ms\tremaining: 1m 35s\n",
      "500:\ttest: 0.9715612\tbest: 0.9715612 (500)\ttotal: 25s\tremaining: 54.8s\n",
      "1000:\ttest: 0.9736475\tbest: 0.9736475 (1000)\ttotal: 49.3s\tremaining: 29.5s\n",
      "1500:\ttest: 0.9748901\tbest: 0.9748901 (1500)\ttotal: 1m 13s\tremaining: 4.84s\n",
      "1599:\ttest: 0.9750232\tbest: 0.9750232 (1599)\ttotal: 1m 18s\tremaining: 0us\n",
      "bestTest = 0.9750231504\n",
      "bestIteration = 1599\n",
      " 65%|██████▌   | 26/40 [4:35:11<40:04, 171.74s/it, best loss: 0.957916259765625]"
     ]
    },
    {
     "name": "stderr",
     "output_type": "stream",
     "text": [
      "Default metric period is 5 because AUC is/are not implemented for GPU\n"
     ]
    },
    {
     "name": "stdout",
     "output_type": "stream",
     "text": [
      "0:\ttest: 0.9314366\tbest: 0.9314366 (0)\ttotal: 59ms\tremaining: 1m 16s\n",
      "500:\ttest: 0.9682668\tbest: 0.9682668 (500)\ttotal: 26.3s\tremaining: 42s\n",
      "1000:\ttest: 0.9718913\tbest: 0.9718913 (1000)\ttotal: 50.9s\tremaining: 15.2s\n",
      "1299:\ttest: 0.9729852\tbest: 0.9729852 (1299)\ttotal: 1m 5s\tremaining: 0us\n",
      "bestTest = 0.972985208\n",
      "bestIteration = 1299\n",
      " 68%|██████▊   | 27/40 [4:37:06<33:30, 154.66s/it, best loss: 0.957916259765625]"
     ]
    },
    {
     "name": "stderr",
     "output_type": "stream",
     "text": [
      "Default metric period is 5 because AUC is/are not implemented for GPU\n"
     ]
    },
    {
     "name": "stdout",
     "output_type": "stream",
     "text": [
      "0:\ttest: 0.9306150\tbest: 0.9306150 (0)\ttotal: 115ms\tremaining: 1m 43s\n",
      "500:\ttest: 0.9640358\tbest: 0.9640358 (500)\ttotal: 51.7s\tremaining: 41.2s\n",
      "899:\ttest: 0.9681550\tbest: 0.9681550 (899)\ttotal: 1m 32s\tremaining: 0us\n",
      "bestTest = 0.9681549668\n",
      "bestIteration = 899\n",
      " 70%|███████   | 28/40 [4:39:28<30:10, 150.91s/it, best loss: 0.957916259765625]"
     ]
    },
    {
     "name": "stderr",
     "output_type": "stream",
     "text": [
      "Default metric period is 5 because AUC is/are not implemented for GPU\n"
     ]
    },
    {
     "name": "stdout",
     "output_type": "stream",
     "text": [
      "0:\ttest: 0.9358333\tbest: 0.9358333 (0)\ttotal: 83.4ms\tremaining: 2m 46s\n",
      "500:\ttest: 0.9585958\tbest: 0.9585958 (500)\ttotal: 36.2s\tremaining: 1m 48s\n",
      "1000:\ttest: 0.9647441\tbest: 0.9647441 (1000)\ttotal: 1m 11s\tremaining: 1m 11s\n",
      "1500:\ttest: 0.9678430\tbest: 0.9678430 (1500)\ttotal: 1m 47s\tremaining: 35.6s\n",
      "1999:\ttest: 0.9696291\tbest: 0.9696291 (1999)\ttotal: 2m 21s\tremaining: 0us\n",
      "bestTest = 0.9696291089\n",
      "bestIteration = 1999\n",
      " 72%|███████▎  | 29/40 [4:42:39<29:52, 162.97s/it, best loss: 0.957916259765625]"
     ]
    },
    {
     "name": "stderr",
     "output_type": "stream",
     "text": [
      "Default metric period is 5 because AUC is/are not implemented for GPU\n"
     ]
    },
    {
     "name": "stdout",
     "output_type": "stream",
     "text": [
      "0:\ttest: 0.9261932\tbest: 0.9261932 (0)\ttotal: 64.6ms\tremaining: 1m 36s\n",
      "500:\ttest: 0.9595510\tbest: 0.9595510 (500)\ttotal: 26.2s\tremaining: 52.3s\n",
      "1000:\ttest: 0.9645836\tbest: 0.9645836 (1000)\ttotal: 52.2s\tremaining: 26s\n",
      "1499:\ttest: 0.9669714\tbest: 0.9669714 (1499)\ttotal: 1m 17s\tremaining: 0us\n",
      "bestTest = 0.9669713676\n",
      "bestIteration = 1499\n",
      " 75%|███████▌  | 30/40 [4:44:46<25:21, 152.16s/it, best loss: 0.957916259765625]"
     ]
    },
    {
     "name": "stderr",
     "output_type": "stream",
     "text": [
      "Default metric period is 5 because AUC is/are not implemented for GPU\n"
     ]
    },
    {
     "name": "stdout",
     "output_type": "stream",
     "text": [
      "0:\ttest: 0.9341957\tbest: 0.9341957 (0)\ttotal: 113ms\tremaining: 3m 46s\n",
      "500:\ttest: 0.9707058\tbest: 0.9707058 (500)\ttotal: 51.2s\tremaining: 2m 33s\n",
      "1000:\ttest: 0.9736724\tbest: 0.9736724 (1000)\ttotal: 1m 39s\tremaining: 1m 39s\n",
      "1500:\ttest: 0.9751272\tbest: 0.9751272 (1500)\ttotal: 2m 26s\tremaining: 48.7s\n",
      "1999:\ttest: 0.9760841\tbest: 0.9760841 (1999)\ttotal: 3m 13s\tremaining: 0us\n",
      "bestTest = 0.9760840535\n",
      "bestIteration = 1999\n",
      " 78%|███████▊  | 31/40 [4:48:49<26:54, 179.43s/it, best loss: 0.957916259765625]"
     ]
    },
    {
     "name": "stderr",
     "output_type": "stream",
     "text": [
      "Default metric period is 5 because AUC is/are not implemented for GPU\n"
     ]
    },
    {
     "name": "stdout",
     "output_type": "stream",
     "text": [
      "0:\ttest: 0.9300846\tbest: 0.9300846 (0)\ttotal: 81.2ms\tremaining: 1m 4s\n",
      "500:\ttest: 0.9735210\tbest: 0.9735210 (500)\ttotal: 33.8s\tremaining: 20.2s\n",
      "799:\ttest: 0.9750854\tbest: 0.9750854 (799)\ttotal: 53.1s\tremaining: 0us\n",
      "bestTest = 0.9750853777\n",
      "bestIteration = 799\n",
      " 80%|████████  | 32/40 [4:50:31<20:50, 156.31s/it, best loss: 0.957916259765625]"
     ]
    },
    {
     "name": "stderr",
     "output_type": "stream",
     "text": [
      "Default metric period is 5 because AUC is/are not implemented for GPU\n"
     ]
    },
    {
     "name": "stdout",
     "output_type": "stream",
     "text": [
      "0:\ttest: 0.9262022\tbest: 0.9262022 (0)\ttotal: 65.4ms\tremaining: 1m 5s\n",
      "500:\ttest: 0.9550788\tbest: 0.9550788 (500)\ttotal: 25.8s\tremaining: 25.7s\n",
      "999:\ttest: 0.9604829\tbest: 0.9604829 (999)\ttotal: 51.6s\tremaining: 0us\n",
      "bestTest = 0.9604829252\n",
      "bestIteration = 999\n",
      " 82%|████████▎ | 33/40 [4:52:13<16:18, 139.77s/it, best loss: 0.957916259765625]"
     ]
    },
    {
     "name": "stderr",
     "output_type": "stream",
     "text": [
      "Default metric period is 5 because AUC is/are not implemented for GPU\n"
     ]
    },
    {
     "name": "stdout",
     "output_type": "stream",
     "text": [
      "0:\ttest: 0.9397306\tbest: 0.9397306 (0)\ttotal: 176ms\tremaining: 3m 48s\n",
      "500:\ttest: 0.9714428\tbest: 0.9714428 (500)\ttotal: 1m 21s\tremaining: 2m 9s\n",
      "1000:\ttest: 0.9750521\tbest: 0.9750521 (1000)\ttotal: 2m 39s\tremaining: 47.7s\n",
      "1299:\ttest: 0.9761465\tbest: 0.9761465 (1299)\ttotal: 3m 25s\tremaining: 0us\n",
      "bestTest = 0.9761464596\n",
      "bestIteration = 1299\n",
      " 85%|████████▌ | 34/40 [4:56:28<17:27, 174.55s/it, best loss: 0.957916259765625]"
     ]
    },
    {
     "name": "stderr",
     "output_type": "stream",
     "text": [
      "Default metric period is 5 because AUC is/are not implemented for GPU\n"
     ]
    },
    {
     "name": "stdout",
     "output_type": "stream",
     "text": [
      "0:\ttest: 0.9318769\tbest: 0.9318769 (0)\ttotal: 80ms\tremaining: 1m 35s\n",
      "500:\ttest: 0.9751621\tbest: 0.9751621 (500)\ttotal: 33.3s\tremaining: 46.4s\n",
      "1000:\ttest: 0.9768740\tbest: 0.9768740 (1000)\ttotal: 1m 4s\tremaining: 12.9s\n",
      "1199:\ttest: 0.9772983\tbest: 0.9772983 (1199)\ttotal: 1m 17s\tremaining: 0us\n",
      "bestTest = 0.9772983193\n",
      "bestIteration = 1199\n",
      " 88%|████████▊ | 35/40 [4:58:35<13:21, 160.26s/it, best loss: 0.957916259765625]"
     ]
    },
    {
     "name": "stderr",
     "output_type": "stream",
     "text": [
      "Default metric period is 5 because AUC is/are not implemented for GPU\n"
     ]
    },
    {
     "name": "stdout",
     "output_type": "stream",
     "text": [
      "0:\ttest: 0.9292645\tbest: 0.9292645 (0)\ttotal: 59.3ms\tremaining: 1m 28s\n",
      "500:\ttest: 0.9549870\tbest: 0.9549870 (500)\ttotal: 26.9s\tremaining: 53.6s\n",
      "1000:\ttest: 0.9610207\tbest: 0.9610207 (1000)\ttotal: 55.5s\tremaining: 27.7s\n",
      "1499:\ttest: 0.9641455\tbest: 0.9641455 (1499)\ttotal: 1m 22s\tremaining: 0us\n",
      "bestTest = 0.9641454816\n",
      "bestIteration = 1499\n",
      " 90%|█████████ | 36/40 [5:00:48<10:07, 151.91s/it, best loss: 0.957916259765625]"
     ]
    },
    {
     "name": "stderr",
     "output_type": "stream",
     "text": [
      "Default metric period is 5 because AUC is/are not implemented for GPU\n"
     ]
    },
    {
     "name": "stdout",
     "output_type": "stream",
     "text": [
      "0:\ttest: 0.9101043\tbest: 0.9101043 (0)\ttotal: 112ms\tremaining: 1m 41s\n",
      "500:\ttest: 0.9633206\tbest: 0.9633206 (500)\ttotal: 49.4s\tremaining: 39.4s\n",
      "899:\ttest: 0.9658386\tbest: 0.9658388 (898)\ttotal: 1m 28s\tremaining: 0us\n",
      "bestTest = 0.9658387899\n",
      "bestIteration = 898\n",
      "Shrink model to first 899 iterations.\n",
      " 92%|█████████▎| 37/40 [5:03:05<07:22, 147.45s/it, best loss: 0.957916259765625]"
     ]
    },
    {
     "name": "stderr",
     "output_type": "stream",
     "text": [
      "Default metric period is 5 because AUC is/are not implemented for GPU\n"
     ]
    },
    {
     "name": "stdout",
     "output_type": "stream",
     "text": [
      "0:\ttest: 0.9308907\tbest: 0.9308907 (0)\ttotal: 62.2ms\tremaining: 43.5s\n",
      "500:\ttest: 0.9626296\tbest: 0.9626296 (500)\ttotal: 26.8s\tremaining: 10.6s\n",
      "699:\ttest: 0.9652378\tbest: 0.9652378 (699)\ttotal: 37.3s\tremaining: 0us\n",
      "bestTest = 0.9652378261\n",
      "bestIteration = 699\n",
      " 95%|█████████▌| 38/40 [5:04:31<04:18, 129.15s/it, best loss: 0.957916259765625]"
     ]
    },
    {
     "name": "stderr",
     "output_type": "stream",
     "text": [
      "Default metric period is 5 because AUC is/are not implemented for GPU\n"
     ]
    },
    {
     "name": "stdout",
     "output_type": "stream",
     "text": [
      "0:\ttest: 0.9298729\tbest: 0.9298729 (0)\ttotal: 81.7ms\tremaining: 1m 21s\n",
      "500:\ttest: 0.9727520\tbest: 0.9727520 (500)\ttotal: 33.5s\tremaining: 33.3s\n",
      "999:\ttest: 0.9753301\tbest: 0.9753301 (999)\ttotal: 1m 5s\tremaining: 0us\n",
      "bestTest = 0.9753301442\n",
      "bestIteration = 999\n",
      " 98%|█████████▊| 39/40 [5:06:26<02:04, 124.82s/it, best loss: 0.957916259765625]"
     ]
    },
    {
     "name": "stderr",
     "output_type": "stream",
     "text": [
      "Default metric period is 5 because AUC is/are not implemented for GPU\n"
     ]
    },
    {
     "name": "stdout",
     "output_type": "stream",
     "text": [
      "0:\ttest: 0.9448201\tbest: 0.9448201 (0)\ttotal: 935ms\tremaining: 18m 40s\n",
      "500:\ttest: 0.9776214\tbest: 0.9776214 (500)\ttotal: 7m 45s\tremaining: 10m 49s\n",
      "1000:\ttest: 0.9798368\tbest: 0.9798368 (1000)\ttotal: 15m 24s\tremaining: 3m 3s\n",
      "1199:\ttest: 0.9803185\tbest: 0.9803185 (1199)\ttotal: 18m 27s\tremaining: 0us\n",
      "bestTest = 0.9803185463\n",
      "bestIteration = 1199\n",
      "100%|██████████| 40/40 [5:25:44<00:00, 488.62s/it, best loss: 0.957916259765625]\n"
     ]
    }
   ],
   "source": [
    "trials = Trials()\n",
    "best = fmin( \n",
    "    fn=partial(objective, train=train_pool, valid=valid_pool),\n",
    "    space=search_space,\n",
    "    algo=tpe.suggest,\n",
    "    max_evals=40,\n",
    "    trials=trials,\n",
    "    # rstate=np.random.RandomState(1),\n",
    "    show_progressbar=True\n",
    "    )"
   ]
  },
  {
   "cell_type": "code",
   "execution_count": 21,
   "metadata": {
    "executionInfo": {
     "elapsed": 13,
     "status": "ok",
     "timestamp": 1654771578829,
     "user": {
      "displayName": "Никита Орлов",
      "userId": "17221654573895787003"
     },
     "user_tz": -180
    },
    "id": "bBXsqF_bHOa9"
   },
   "outputs": [],
   "source": [
    "hyperparams = space_eval(search_space, best)"
   ]
  },
  {
   "cell_type": "code",
   "execution_count": 22,
   "metadata": {
    "colab": {
     "base_uri": "https://localhost:8080/"
    },
    "executionInfo": {
     "elapsed": 13,
     "status": "ok",
     "timestamp": 1654771578830,
     "user": {
      "displayName": "Никита Орлов",
      "userId": "17221654573895787003"
     },
     "user_tz": -180
    },
    "id": "78WstRiqL-_u",
    "outputId": "1bf75643-3858-43f6-eb94-264941ec7477"
   },
   "outputs": [
    {
     "data": {
      "text/plain": [
       "{'bagging_temperature': 0.8074362145359162,\n",
       " 'border_count': 194.0,\n",
       " 'depth': 8.0,\n",
       " 'iterations': 800.0,\n",
       " 'l2_leaf_reg': 4.0,\n",
       " 'learning_rate': 0.010526980177211025,\n",
       " 'random_strength': 7.779948217677066e-08,\n",
       " 'scale_pos_weight': 0.13883240665912344}"
      ]
     },
     "execution_count": 22,
     "metadata": {},
     "output_type": "execute_result"
    }
   ],
   "source": [
    "hyperparams"
   ]
  },
  {
   "cell_type": "code",
   "execution_count": null,
   "metadata": {
    "id": "CdYhDwT7HOlb"
   },
   "outputs": [],
   "source": [
    "params = {'learning_rate' : hyperparams['learning_rate'],\n",
    "          'iterations' : hyperparams['iterations'],\n",
    "          'l2_leaf_reg' : hyperparams['l2_leaf_reg'],\n",
    "          'depth' : hyperparams['depth'],\n",
    "          'random_strength' : hyperparams['random_strength'],\n",
    "          'bagging_temperature' : hyperparams['bagging_temperature'],\n",
    "          'border_count' : hyperparams['border_count'],\n",
    "          'scale_pos_weight' : hyperparams['scale_pos_weight'],\n",
    "          'eval_metric' : 'AUC',\n",
    "          'loss_function' : 'Logloss',\n",
    "          # 'early_stopping_rounds': 100,\n",
    "          'random_seed': 42, \n",
    "          'verbose': 500,\n",
    "          'task_type': 'GPU',\n",
    "          'custom_metric' : 'AUC:hints=skip_train~false'\n",
    "          }"
   ]
  },
  {
   "cell_type": "code",
   "execution_count": null,
   "metadata": {
    "id": "Hz9hDXg-iBl5"
   },
   "outputs": [],
   "source": [
    "params = {\n",
    "  'iterations':1500,\n",
    "  'bagging_temperature':0.013913309445571221,\n",
    "  'learning_rate':0.0967568116501488,\n",
    "  'random_strength':6.9228120036506437,\n",
    "  'depth':13,\n",
    "  'l2_leaf_reg':4.972775259508048,\n",
    "  'eval_metric' : 'AUC',\n",
    "  'loss_function' : 'Logloss',\n",
    "  'random_seed': 42, \n",
    "  'verbose': 500,\n",
    "  'task_type': 'GPU',\n",
    "  'custom_metric' : 'AUC:hints=skip_train~false'\n",
    "}"
   ]
  },
  {
   "cell_type": "code",
   "execution_count": null,
   "metadata": {
    "colab": {
     "base_uri": "https://localhost:8080/"
    },
    "executionInfo": {
     "elapsed": 823452,
     "status": "ok",
     "timestamp": 1654610120429,
     "user": {
      "displayName": "Никита Орлов",
      "userId": "17221654573895787003"
     },
     "user_tz": -180
    },
    "id": "bc-6Ih4gEUCT",
    "outputId": "9a358264-7374-409a-e76d-391ba3bff609"
   },
   "outputs": [
    {
     "name": "stderr",
     "output_type": "stream",
     "text": [
      "Default metric period is 5 because AUC is/are not implemented for GPU\n"
     ]
    },
    {
     "name": "stdout",
     "output_type": "stream",
     "text": [
      "0:\ttest: 0.9400443\tbest: 0.9400443 (0)\ttotal: 598ms\tremaining: 14m 56s\n",
      "500:\ttest: 0.9791456\tbest: 0.9791456 (500)\ttotal: 4m 23s\tremaining: 8m 45s\n",
      "1000:\ttest: 0.9809176\tbest: 0.9809176 (1000)\ttotal: 8m 34s\tremaining: 4m 16s\n",
      "1499:\ttest: 0.9815833\tbest: 0.9815845 (1495)\ttotal: 12m 44s\tremaining: 0us\n",
      "bestTest = 0.981584549\n",
      "bestIteration = 1495\n",
      "Shrink model to first 1496 iterations.\n"
     ]
    },
    {
     "data": {
      "text/plain": [
       "<catboost.core.CatBoostClassifier at 0x7fed0041f990>"
      ]
     },
     "execution_count": 38,
     "metadata": {},
     "output_type": "execute_result"
    }
   ],
   "source": [
    "model = CatBoostClassifier(**params)\n",
    "model.fit(train_pool, eval_set=valid_pool)"
   ]
  },
  {
   "cell_type": "code",
   "execution_count": null,
   "metadata": {
    "colab": {
     "base_uri": "https://localhost:8080/"
    },
    "executionInfo": {
     "elapsed": 392,
     "status": "ok",
     "timestamp": 1654610416984,
     "user": {
      "displayName": "Никита Орлов",
      "userId": "17221654573895787003"
     },
     "user_tz": -180
    },
    "id": "2EHcc1hRdxHo",
    "outputId": "501d3a5c-e0da-4c3f-adda-153071a10b59"
   },
   "outputs": [
    {
     "data": {
      "text/plain": [
       "{'bagging_temperature': 0.013913309445571221,\n",
       " 'custom_metric': 'AUC:hints=skip_train~false',\n",
       " 'depth': 13,\n",
       " 'eval_metric': 'AUC',\n",
       " 'iterations': 1500,\n",
       " 'l2_leaf_reg': 4.972775259508048,\n",
       " 'learning_rate': 0.0967568116501488,\n",
       " 'loss_function': 'Logloss',\n",
       " 'random_seed': 42,\n",
       " 'random_strength': 6.922812003650644,\n",
       " 'task_type': 'GPU',\n",
       " 'verbose': 500}"
      ]
     },
     "execution_count": 44,
     "metadata": {},
     "output_type": "execute_result"
    }
   ],
   "source": [
    "model.get_params()"
   ]
  },
  {
   "cell_type": "code",
   "execution_count": null,
   "metadata": {
    "id": "t3qo4XoYsne8"
   },
   "outputs": [],
   "source": [
    "# model.save_model('{}/catboost_model/catboost_model.cbm'.format(FOLDER_PATH))"
   ]
  },
  {
   "cell_type": "code",
   "execution_count": 8,
   "metadata": {
    "executionInfo": {
     "elapsed": 349,
     "status": "ok",
     "timestamp": 1655359953299,
     "user": {
      "displayName": "Никита Орлов",
      "userId": "17221654573895787003"
     },
     "user_tz": -180
    },
    "id": "4mU0aL1vSfKA"
   },
   "outputs": [],
   "source": [
    "catboost = CatBoostClassifier().load_model('{}/catboost_model/catboost_model.cbm'.format(FOLDER_PATH))"
   ]
  },
  {
   "cell_type": "code",
   "execution_count": null,
   "metadata": {
    "colab": {
     "base_uri": "https://localhost:8080/",
     "height": 1000
    },
    "executionInfo": {
     "elapsed": 4092,
     "status": "ok",
     "timestamp": 1654610524837,
     "user": {
      "displayName": "Никита Орлов",
      "userId": "17221654573895787003"
     },
     "user_tz": -180
    },
    "id": "HNyrrCE3xYhO",
    "outputId": "fc889b72-7349-449d-a85a-fd6ed9adceef"
   },
   "outputs": [
    {
     "name": "stdout",
     "output_type": "stream",
     "text": [
      "TRAIN\n",
      "0.9923827796802641\n",
      "category\n",
      "Бытовая электроника    0.990618\n",
      "Для бизнеса            0.985977\n",
      "Для дома и дачи        0.986557\n",
      "Животные               0.995747\n",
      "Личные вещи            0.989375\n",
      "Недвижимость           0.995266\n",
      "Работа                 0.985069\n",
      "Транспорт              0.995290\n",
      "Услуги                 0.990127\n",
      "Хобби и отдых          0.986151\n",
      "dtype: float64\n",
      "0.9900178651069436\n",
      "====================\n",
      "VAL\n",
      "0.981584474094459\n",
      "category\n",
      "Бытовая электроника    0.970843\n",
      "Для бизнеса            0.915740\n",
      "Для дома и дачи        0.971851\n",
      "Животные               0.989260\n",
      "Личные вещи            0.978630\n",
      "Недвижимость           0.985628\n",
      "Работа                 0.944833\n",
      "Транспорт              0.989781\n",
      "Услуги                 0.971115\n",
      "Хобби и отдых          0.967431\n",
      "dtype: float64\n",
      "0.9685113355225262\n",
      "====================\n",
      "TEST\n",
      "0.9673643589688095\n",
      "category\n",
      "Бытовая электроника    0.947841\n",
      "Для бизнеса            0.901929\n",
      "Для дома и дачи        0.946905\n",
      "Животные               0.946395\n",
      "Личные вещи            0.837132\n",
      "Недвижимость           0.962911\n",
      "Работа                 0.919032\n",
      "Транспорт              0.991128\n",
      "Услуги                 0.892973\n",
      "Хобби и отдых          0.936027\n",
      "dtype: float64\n",
      "0.9282271492952752\n",
      "====================\n"
     ]
    },
    {
     "data": {
      "text/html": [
       "\n",
       "  <div id=\"df-c6f0ec1f-0715-4539-bdb0-3a6be4d5d92e\">\n",
       "    <div class=\"colab-df-container\">\n",
       "      <div>\n",
       "<style scoped>\n",
       "    .dataframe tbody tr th:only-of-type {\n",
       "        vertical-align: middle;\n",
       "    }\n",
       "\n",
       "    .dataframe tbody tr th {\n",
       "        vertical-align: top;\n",
       "    }\n",
       "\n",
       "    .dataframe thead th {\n",
       "        text-align: right;\n",
       "    }\n",
       "</style>\n",
       "<table border=\"1\" class=\"dataframe\">\n",
       "  <thead>\n",
       "    <tr style=\"text-align: right;\">\n",
       "      <th></th>\n",
       "      <th>train</th>\n",
       "      <th>val</th>\n",
       "      <th>test</th>\n",
       "    </tr>\n",
       "    <tr>\n",
       "      <th>category</th>\n",
       "      <th></th>\n",
       "      <th></th>\n",
       "      <th></th>\n",
       "    </tr>\n",
       "  </thead>\n",
       "  <tbody>\n",
       "    <tr>\n",
       "      <th>Бытовая электроника</th>\n",
       "      <td>0.990618</td>\n",
       "      <td>0.970843</td>\n",
       "      <td>0.947841</td>\n",
       "    </tr>\n",
       "    <tr>\n",
       "      <th>Для бизнеса</th>\n",
       "      <td>0.985977</td>\n",
       "      <td>0.915740</td>\n",
       "      <td>0.901929</td>\n",
       "    </tr>\n",
       "    <tr>\n",
       "      <th>Для дома и дачи</th>\n",
       "      <td>0.986557</td>\n",
       "      <td>0.971851</td>\n",
       "      <td>0.946905</td>\n",
       "    </tr>\n",
       "    <tr>\n",
       "      <th>Животные</th>\n",
       "      <td>0.995747</td>\n",
       "      <td>0.989260</td>\n",
       "      <td>0.946395</td>\n",
       "    </tr>\n",
       "    <tr>\n",
       "      <th>Личные вещи</th>\n",
       "      <td>0.989375</td>\n",
       "      <td>0.978630</td>\n",
       "      <td>0.837132</td>\n",
       "    </tr>\n",
       "    <tr>\n",
       "      <th>Недвижимость</th>\n",
       "      <td>0.995266</td>\n",
       "      <td>0.985628</td>\n",
       "      <td>0.962911</td>\n",
       "    </tr>\n",
       "    <tr>\n",
       "      <th>Работа</th>\n",
       "      <td>0.985069</td>\n",
       "      <td>0.944833</td>\n",
       "      <td>0.919032</td>\n",
       "    </tr>\n",
       "    <tr>\n",
       "      <th>Транспорт</th>\n",
       "      <td>0.995290</td>\n",
       "      <td>0.989781</td>\n",
       "      <td>0.991128</td>\n",
       "    </tr>\n",
       "    <tr>\n",
       "      <th>Услуги</th>\n",
       "      <td>0.990127</td>\n",
       "      <td>0.971115</td>\n",
       "      <td>0.892973</td>\n",
       "    </tr>\n",
       "    <tr>\n",
       "      <th>Хобби и отдых</th>\n",
       "      <td>0.986151</td>\n",
       "      <td>0.967431</td>\n",
       "      <td>0.936027</td>\n",
       "    </tr>\n",
       "  </tbody>\n",
       "</table>\n",
       "</div>\n",
       "      <button class=\"colab-df-convert\" onclick=\"convertToInteractive('df-c6f0ec1f-0715-4539-bdb0-3a6be4d5d92e')\"\n",
       "              title=\"Convert this dataframe to an interactive table.\"\n",
       "              style=\"display:none;\">\n",
       "        \n",
       "  <svg xmlns=\"http://www.w3.org/2000/svg\" height=\"24px\"viewBox=\"0 0 24 24\"\n",
       "       width=\"24px\">\n",
       "    <path d=\"M0 0h24v24H0V0z\" fill=\"none\"/>\n",
       "    <path d=\"M18.56 5.44l.94 2.06.94-2.06 2.06-.94-2.06-.94-.94-2.06-.94 2.06-2.06.94zm-11 1L8.5 8.5l.94-2.06 2.06-.94-2.06-.94L8.5 2.5l-.94 2.06-2.06.94zm10 10l.94 2.06.94-2.06 2.06-.94-2.06-.94-.94-2.06-.94 2.06-2.06.94z\"/><path d=\"M17.41 7.96l-1.37-1.37c-.4-.4-.92-.59-1.43-.59-.52 0-1.04.2-1.43.59L10.3 9.45l-7.72 7.72c-.78.78-.78 2.05 0 2.83L4 21.41c.39.39.9.59 1.41.59.51 0 1.02-.2 1.41-.59l7.78-7.78 2.81-2.81c.8-.78.8-2.07 0-2.86zM5.41 20L4 18.59l7.72-7.72 1.47 1.35L5.41 20z\"/>\n",
       "  </svg>\n",
       "      </button>\n",
       "      \n",
       "  <style>\n",
       "    .colab-df-container {\n",
       "      display:flex;\n",
       "      flex-wrap:wrap;\n",
       "      gap: 12px;\n",
       "    }\n",
       "\n",
       "    .colab-df-convert {\n",
       "      background-color: #E8F0FE;\n",
       "      border: none;\n",
       "      border-radius: 50%;\n",
       "      cursor: pointer;\n",
       "      display: none;\n",
       "      fill: #1967D2;\n",
       "      height: 32px;\n",
       "      padding: 0 0 0 0;\n",
       "      width: 32px;\n",
       "    }\n",
       "\n",
       "    .colab-df-convert:hover {\n",
       "      background-color: #E2EBFA;\n",
       "      box-shadow: 0px 1px 2px rgba(60, 64, 67, 0.3), 0px 1px 3px 1px rgba(60, 64, 67, 0.15);\n",
       "      fill: #174EA6;\n",
       "    }\n",
       "\n",
       "    [theme=dark] .colab-df-convert {\n",
       "      background-color: #3B4455;\n",
       "      fill: #D2E3FC;\n",
       "    }\n",
       "\n",
       "    [theme=dark] .colab-df-convert:hover {\n",
       "      background-color: #434B5C;\n",
       "      box-shadow: 0px 1px 3px 1px rgba(0, 0, 0, 0.15);\n",
       "      filter: drop-shadow(0px 1px 2px rgba(0, 0, 0, 0.3));\n",
       "      fill: #FFFFFF;\n",
       "    }\n",
       "  </style>\n",
       "\n",
       "      <script>\n",
       "        const buttonEl =\n",
       "          document.querySelector('#df-c6f0ec1f-0715-4539-bdb0-3a6be4d5d92e button.colab-df-convert');\n",
       "        buttonEl.style.display =\n",
       "          google.colab.kernel.accessAllowed ? 'block' : 'none';\n",
       "\n",
       "        async function convertToInteractive(key) {\n",
       "          const element = document.querySelector('#df-c6f0ec1f-0715-4539-bdb0-3a6be4d5d92e');\n",
       "          const dataTable =\n",
       "            await google.colab.kernel.invokeFunction('convertToInteractive',\n",
       "                                                     [key], {});\n",
       "          if (!dataTable) return;\n",
       "\n",
       "          const docLinkHtml = 'Like what you see? Visit the ' +\n",
       "            '<a target=\"_blank\" href=https://colab.research.google.com/notebooks/data_table.ipynb>data table notebook</a>'\n",
       "            + ' to learn more about interactive tables.';\n",
       "          element.innerHTML = '';\n",
       "          dataTable['output_type'] = 'display_data';\n",
       "          await google.colab.output.renderOutput(dataTable, element);\n",
       "          const docLink = document.createElement('div');\n",
       "          docLink.innerHTML = docLinkHtml;\n",
       "          element.appendChild(docLink);\n",
       "        }\n",
       "      </script>\n",
       "    </div>\n",
       "  </div>\n",
       "  "
      ],
      "text/plain": [
       "                        train       val      test\n",
       "category                                         \n",
       "Бытовая электроника  0.990618  0.970843  0.947841\n",
       "Для бизнеса          0.985977  0.915740  0.901929\n",
       "Для дома и дачи      0.986557  0.971851  0.946905\n",
       "Животные             0.995747  0.989260  0.946395\n",
       "Личные вещи          0.989375  0.978630  0.837132\n",
       "Недвижимость         0.995266  0.985628  0.962911\n",
       "Работа               0.985069  0.944833  0.919032\n",
       "Транспорт            0.995290  0.989781  0.991128\n",
       "Услуги               0.990127  0.971115  0.892973\n",
       "Хобби и отдых        0.986151  0.967431  0.936027"
      ]
     },
     "metadata": {},
     "output_type": "display_data"
    }
   ],
   "source": [
    "print('TRAIN')\n",
    "print(roc_auc_score(df_train['is_bad'], df_train['predict_catboost']))\n",
    "print(df_train.groupby(['category']).apply(auc_group))\n",
    "print(df_train.groupby(['category']).apply(auc_group).mean())\n",
    "print('=' * 20)\n",
    "\n",
    "print('VAL')\n",
    "print(roc_auc_score(df_val['is_bad'], df_val['predict_catboost']))\n",
    "print(df_val.groupby(['category']).apply(auc_group))\n",
    "print(df_val.groupby(['category']).apply(auc_group).mean())\n",
    "print('=' * 20)\n",
    "\n",
    "print('TEST')\n",
    "print(roc_auc_score(df_test['is_bad'], df_test['predict_catboost']))\n",
    "print(df_test.groupby(['category']).apply(auc_group))\n",
    "print(df_test.groupby(['category']).apply(auc_group).mean())\n",
    "print('=' * 20)\n",
    "\n",
    "result_auc = pd.concat([\n",
    "           df_train.groupby(['category']).apply(auc_group), \n",
    "           df_val.groupby(['category']).apply(auc_group), \n",
    "           df_test.groupby(['category']).apply(auc_group)], \n",
    "          axis=1)\n",
    "result_auc.columns = ['train', 'val', 'test']\n",
    "display(result_auc)"
   ]
  },
  {
   "cell_type": "code",
   "execution_count": null,
   "metadata": {
    "id": "cgpqtG_dLrnt"
   },
   "outputs": [],
   "source": [
    "df_train[['id', 'predict_catboost']].to_csv(\n",
    "    '{}/catboost_scores/X_train.csv'.format(FOLDER_PATH), \n",
    "    sep='|')\n",
    "df_val[['id', 'predict_catboost']].to_csv(\n",
    "    '{}/catboost_scores/X_val.csv'.format(FOLDER_PATH), \n",
    "    sep='|')\n",
    "df_test[['id', 'predict_catboost']].to_csv(\n",
    "    '{}/catboost_scores/X_test.csv'.format(FOLDER_PATH), \n",
    "    sep='|')\n",
    "\n",
    "# pd.read_csv('{}/catboost_scores/X_train.csv'.format(FOLDER_PATH), sep='|', index_col=0)"
   ]
  },
  {
   "cell_type": "code",
   "execution_count": null,
   "metadata": {
    "colab": {
     "base_uri": "https://localhost:8080/",
     "height": 428
    },
    "executionInfo": {
     "elapsed": 841,
     "status": "ok",
     "timestamp": 1654503849004,
     "user": {
      "displayName": "Никита Орлов",
      "userId": "17221654573895787003"
     },
     "user_tz": -180
    },
    "id": "q1knmgtgW78T",
    "outputId": "28bfea6a-79ab-49ab-c7da-3e79b4a47128"
   },
   "outputs": [
    {
     "data": {
      "image/png": "[encoded data removed]",
      "text/plain": [
       "<Figure size 432x432 with 2 Axes>"
      ]
     },
     "metadata": {},
     "output_type": "display_data"
    }
   ],
   "source": [
    "plot_confusion_matrix(\n",
    "    X_train['is_bad'], \n",
    "    np.where(X_train['predict_catboost'] > 0.5, 1, 0), \n",
    "    normalize=True, \n",
    "    title='Train ALL');"
   ]
  },
  {
   "cell_type": "code",
   "execution_count": null,
   "metadata": {
    "colab": {
     "base_uri": "https://localhost:8080/",
     "height": 428
    },
    "executionInfo": {
     "elapsed": 443,
     "status": "ok",
     "timestamp": 1654503851743,
     "user": {
      "displayName": "Никита Орлов",
      "userId": "17221654573895787003"
     },
     "user_tz": -180
    },
    "id": "UM2v23zZLcds",
    "outputId": "e204d162-c261-409e-e600-9bb9589d0c7a"
   },
   "outputs": [
    {
     "data": {
      "image/png": "[encoded data removed]",
      "text/plain": [
       "<Figure size 432x432 with 2 Axes>"
      ]
     },
     "metadata": {},
     "output_type": "display_data"
    }
   ],
   "source": [
    "plot_confusion_matrix(\n",
    "    X_test['is_bad'], \n",
    "    np.where(X_test['pred'] > 0.5, 1, 0), \n",
    "    normalize=True, \n",
    "    title='Train ALL');"
   ]
  },
  {
   "cell_type": "code",
   "execution_count": null,
   "metadata": {
    "colab": {
     "base_uri": "https://localhost:8080/",
     "height": 1000
    },
    "executionInfo": {
     "elapsed": 6807,
     "status": "ok",
     "timestamp": 1654503863153,
     "user": {
      "displayName": "Никита Орлов",
      "userId": "17221654573895787003"
     },
     "user_tz": -180
    },
    "id": "077g2k80Ofqd",
    "outputId": "70ce9604-b500-46f7-ab7d-d5561b6faa70"
   },
   "outputs": [
    {
     "data": {
      "image/png": "[encoded data removed]",
      "text/plain": [
       "<Figure size 432x432 with 2 Axes>"
      ]
     },
     "metadata": {},
     "output_type": "display_data"
    },
    {
     "data": {
      "image/png": "[encoded data removed]",
      "text/plain": [
       "<Figure size 432x432 with 2 Axes>"
      ]
     },
     "metadata": {},
     "output_type": "display_data"
    },
    {
     "data": {
      "image/png": "[encoded data removed]",
      "text/plain": [
       "<Figure size 432x432 with 2 Axes>"
      ]
     },
     "metadata": {},
     "output_type": "display_data"
    },
    {
     "data": {
      "image/png": "[encoded data removed]",
      "text/plain": [
       "<Figure size 432x432 with 2 Axes>"
      ]
     },
     "metadata": {},
     "output_type": "display_data"
    },
    {
     "data": {
      "image/png": "[encoded data removed]",
      "text/plain": [
       "<Figure size 432x432 with 2 Axes>"
      ]
     },
     "metadata": {},
     "output_type": "display_data"
    },
    {
     "data": {
      "image/png": "[encoded data removed]",
      "text/plain": [
       "<Figure size 432x432 with 2 Axes>"
      ]
     },
     "metadata": {},
     "output_type": "display_data"
    },
    {
     "data": {
      "image/png": "[encoded data removed]",
      "text/plain": [
       "<Figure size 432x432 with 2 Axes>"
      ]
     },
     "metadata": {},
     "output_type": "display_data"
    },
    {
     "data": {
      "image/png": "[encoded data removed]",
      "text/plain": [
       "<Figure size 432x432 with 2 Axes>"
      ]
     },
     "metadata": {},
     "output_type": "display_data"
    },
    {
     "data": {
      "image/png": "[encoded data removed]",
      "text/plain": [
       "<Figure size 432x432 with 2 Axes>"
      ]
     },
     "metadata": {},
     "output_type": "display_data"
    },
    {
     "data": {
      "image/png": "[encoded data removed]",
      "text/plain": [
       "<Figure size 432x432 with 2 Axes>"
      ]
     },
     "metadata": {},
     "output_type": "display_data"
    }
   ],
   "source": [
    "for cat in X_train['category'].unique():\n",
    "    ytrue = X_train[X_train['category'] == cat]['is_bad']\n",
    "    yhat = X_train[X_train['category'] == cat]['pred']\n",
    "    plot_confusion_matrix(\n",
    "        ytrue, \n",
    "        np.where(yhat > 0.5, 1, 0), \n",
    "        normalize=True, \n",
    "        title='Train {}'.format(cat));"
   ]
  },
  {
   "cell_type": "code",
   "execution_count": null,
   "metadata": {
    "colab": {
     "base_uri": "https://localhost:8080/",
     "height": 1000
    },
    "executionInfo": {
     "elapsed": 4025,
     "status": "ok",
     "timestamp": 1654503867173,
     "user": {
      "displayName": "Никита Орлов",
      "userId": "17221654573895787003"
     },
     "user_tz": -180
    },
    "id": "6nYhJcfNOfHN",
    "outputId": "7ab9449c-898b-47a8-b017-2ffe36da24c3"
   },
   "outputs": [
    {
     "data": {
      "image/png": "[encoded data removed]",
      "text/plain": [
       "<Figure size 432x432 with 2 Axes>"
      ]
     },
     "metadata": {},
     "output_type": "display_data"
    },
    {
     "data": {
      "image/png": "[encoded data removed]",
      "text/plain": [
       "<Figure size 432x432 with 2 Axes>"
      ]
     },
     "metadata": {},
     "output_type": "display_data"
    },
    {
     "data": {
      "image/png": "[encoded data removed]",
      "text/plain": [
       "<Figure size 432x432 with 2 Axes>"
      ]
     },
     "metadata": {},
     "output_type": "display_data"
    },
    {
     "data": {
      "image/png": "[encoded data removed]",
      "text/plain": [
       "<Figure size 432x432 with 2 Axes>"
      ]
     },
     "metadata": {},
     "output_type": "display_data"
    },
    {
     "data": {
      "image/png": "[encoded data removed]",
      "text/plain": [
       "<Figure size 432x432 with 2 Axes>"
      ]
     },
     "metadata": {},
     "output_type": "display_data"
    },
    {
     "data": {
      "image/png": "[encoded data removed]",
      "text/plain": [
       "<Figure size 432x432 with 2 Axes>"
      ]
     },
     "metadata": {},
     "output_type": "display_data"
    },
    {
     "data": {
      "image/png": "[encoded data removed]",
      "text/plain": [
       "<Figure size 432x432 with 2 Axes>"
      ]
     },
     "metadata": {},
     "output_type": "display_data"
    },
    {
     "data": {
      "image/png": "[encoded data removed]",
      "text/plain": [
       "<Figure size 432x432 with 2 Axes>"
      ]
     },
     "metadata": {},
     "output_type": "display_data"
    },
    {
     "data": {
      "image/png": "[encoded data removed]",
      "text/plain": [
       "<Figure size 432x432 with 2 Axes>"
      ]
     },
     "metadata": {},
     "output_type": "display_data"
    },
    {
     "data": {
      "image/png": "[encoded data removed]",
      "text/plain": [
       "<Figure size 432x432 with 2 Axes>"
      ]
     },
     "metadata": {},
     "output_type": "display_data"
    }
   ],
   "source": [
    "for cat in X_val['category'].unique():\n",
    "    ytrue = X_val[X_val['category'] == cat]['is_bad']\n",
    "    yhat = X_val[X_val['category'] == cat]['pred']\n",
    "    plot_confusion_matrix(\n",
    "        ytrue, \n",
    "        np.where(yhat > 0.5, 1, 0), \n",
    "        normalize=True, \n",
    "        title='Train {}'.format(cat));"
   ]
  },
  {
   "cell_type": "code",
   "execution_count": null,
   "metadata": {
    "colab": {
     "base_uri": "https://localhost:8080/",
     "height": 1000
    },
    "executionInfo": {
     "elapsed": 2364,
     "status": "ok",
     "timestamp": 1654503869531,
     "user": {
      "displayName": "Никита Орлов",
      "userId": "17221654573895787003"
     },
     "user_tz": -180
    },
    "id": "fuNn8L_VOfKh",
    "outputId": "004ce705-c5c1-4c12-e329-2076f444743c"
   },
   "outputs": [
    {
     "data": {
      "image/png": "[encoded data removed]",
      "text/plain": [
       "<Figure size 432x432 with 2 Axes>"
      ]
     },
     "metadata": {},
     "output_type": "display_data"
    },
    {
     "data": {
      "image/png": "[encoded data removed]",
      "text/plain": [
       "<Figure size 432x432 with 2 Axes>"
      ]
     },
     "metadata": {},
     "output_type": "display_data"
    },
    {
     "data": {
      "image/png": "[encoded data removed]",
      "text/plain": [
       "<Figure size 432x432 with 2 Axes>"
      ]
     },
     "metadata": {},
     "output_type": "display_data"
    },
    {
     "data": {
      "image/png": "[encoded data removed]",
      "text/plain": [
       "<Figure size 432x432 with 2 Axes>"
      ]
     },
     "metadata": {},
     "output_type": "display_data"
    },
    {
     "data": {
      "image/png": "[encoded data removed]",
      "text/plain": [
       "<Figure size 432x432 with 2 Axes>"
      ]
     },
     "metadata": {},
     "output_type": "display_data"
    },
    {
     "data": {
      "image/png": "[encoded data removed]",
      "text/plain": [
       "<Figure size 432x432 with 2 Axes>"
      ]
     },
     "metadata": {},
     "output_type": "display_data"
    },
    {
     "data": {
      "image/png": "[encoded data removed]",
      "text/plain": [
       "<Figure size 432x432 with 2 Axes>"
      ]
     },
     "metadata": {},
     "output_type": "display_data"
    },
    {
     "data": {
      "image/png": "[encoded data removed]",
      "text/plain": [
       "<Figure size 432x432 with 2 Axes>"
      ]
     },
     "metadata": {},
     "output_type": "display_data"
    },
    {
     "data": {
      "image/png": "[encoded data removed]",
      "text/plain": [
       "<Figure size 432x432 with 2 Axes>"
      ]
     },
     "metadata": {},
     "output_type": "display_data"
    },
    {
     "data": {
      "image/png": "[encoded data removed]",
      "text/plain": [
       "<Figure size 432x432 with 2 Axes>"
      ]
     },
     "metadata": {},
     "output_type": "display_data"
    }
   ],
   "source": [
    "for cat in X_test['category'].unique():\n",
    "    ytrue = X_test[X_test['category'] == cat]['is_bad']\n",
    "    yhat = X_test[X_test['category'] == cat]['pred']\n",
    "    plot_confusion_matrix(\n",
    "        ytrue, \n",
    "        np.where(yhat > 0.5, 1, 0), \n",
    "        normalize=True, \n",
    "        title='Train {}'.format(cat));"
   ]
  },
  {
   "cell_type": "code",
   "execution_count": null,
   "metadata": {
    "id": "2XZb5B84QIeo"
   },
   "outputs": [],
   "source": [
    "pd.set_option('display.max_colwidth', None)\n",
    "pd.set_option('display.max_rows', 200)"
   ]
  },
  {
   "cell_type": "code",
   "execution_count": null,
   "metadata": {
    "id": "nv54u7kcLcpK"
   },
   "outputs": [],
   "source": [
    "df_test = pd.read_csv('./drive/MyDrive/Colab Notebooks/aviprojectto/_data/val.csv')"
   ]
  },
  {
   "cell_type": "code",
   "execution_count": null,
   "metadata": {
    "id": "iahSnS3yTpzH"
   },
   "outputs": [],
   "source": [
    "t1 = X_test[\n",
    "       (X_test['category'] == 'Личные вещи') & \n",
    "       ((X_test['is_bad'] == 1) & (np.where(X_test['pred'] > 0.5, 1, 0) == 0))\n",
    "       ][['text', 'num_words_count', 'digits_count', 'contact_words_count', 'tel_count',\n",
    "       'is_empty_price', 'is_full_phone', 'is_short_phone', 'pred', 'is_bad']]"
   ]
  },
  {
   "cell_type": "code",
   "execution_count": null,
   "metadata": {
    "colab": {
     "base_uri": "https://localhost:8080/",
     "height": 1000
    },
    "executionInfo": {
     "elapsed": 30,
     "status": "ok",
     "timestamp": 1654503875165,
     "user": {
      "displayName": "Никита Орлов",
      "userId": "17221654573895787003"
     },
     "user_tz": -180
    },
    "id": "zTVK_3W8LcuV",
    "outputId": "151fbada-aa6f-4529-9d33-645e5f0fbf7a"
   },
   "outputs": [
    {
     "data": {
      "text/html": [
       "\n",
       "  <div id=\"df-4ae24690-5653-4cdb-a80b-25a19329fdc4\">\n",
       "    <div class=\"colab-df-container\">\n",
       "      <div>\n",
       "<style scoped>\n",
       "    .dataframe tbody tr th:only-of-type {\n",
       "        vertical-align: middle;\n",
       "    }\n",
       "\n",
       "    .dataframe tbody tr th {\n",
       "        vertical-align: top;\n",
       "    }\n",
       "\n",
       "    .dataframe thead th {\n",
       "        text-align: right;\n",
       "    }\n",
       "</style>\n",
       "<table border=\"1\" class=\"dataframe\">\n",
       "  <thead>\n",
       "    <tr style=\"text-align: right;\">\n",
       "      <th></th>\n",
       "      <th>title</th>\n",
       "      <th>description</th>\n",
       "      <th>num_words_count</th>\n",
       "      <th>digits_count</th>\n",
       "      <th>contact_words_count</th>\n",
       "      <th>tel_count</th>\n",
       "      <th>is_empty_price</th>\n",
       "      <th>is_full_phone</th>\n",
       "      <th>is_short_phone</th>\n",
       "      <th>pred</th>\n",
       "      <th>is_bad</th>\n",
       "    </tr>\n",
       "  </thead>\n",
       "  <tbody>\n",
       "    <tr>\n",
       "      <th>423</th>\n",
       "      <td>Коляска</td>\n",
       "      <td>Коляска в очень хорошем состоянии               Татьяна 9244648575</td>\n",
       "      <td>0</td>\n",
       "      <td>10</td>\n",
       "      <td>0</td>\n",
       "      <td>0</td>\n",
       "      <td>0</td>\n",
       "      <td>1</td>\n",
       "      <td>1</td>\n",
       "      <td>0.295324</td>\n",
       "      <td>1</td>\n",
       "    </tr>\n",
       "    <tr>\n",
       "      <th>435</th>\n",
       "      <td>Ходунки</td>\n",
       "      <td>Продам ходунки в отличном состоянии Татьяна Сергеевна 9122328474</td>\n",
       "      <td>0</td>\n",
       "      <td>10</td>\n",
       "      <td>0</td>\n",
       "      <td>0</td>\n",
       "      <td>0</td>\n",
       "      <td>1</td>\n",
       "      <td>1</td>\n",
       "      <td>0.216549</td>\n",
       "      <td>1</td>\n",
       "    </tr>\n",
       "    <tr>\n",
       "      <th>956</th>\n",
       "      <td>Платье</td>\n",
       "      <td>Платье ни разу не носилось в отличном состоянии! Светлана 9415830477</td>\n",
       "      <td>0</td>\n",
       "      <td>10</td>\n",
       "      <td>0</td>\n",
       "      <td>0</td>\n",
       "      <td>0</td>\n",
       "      <td>1</td>\n",
       "      <td>1</td>\n",
       "      <td>0.403225</td>\n",
       "      <td>1</td>\n",
       "    </tr>\n",
       "    <tr>\n",
       "      <th>1390</th>\n",
       "      <td>Платье для девочки</td>\n",
       "      <td>Два совершенно новых платья ,пропустили размер. Цена за два платья/\\nТелефон 934 651 20 13</td>\n",
       "      <td>2</td>\n",
       "      <td>10</td>\n",
       "      <td>1</td>\n",
       "      <td>1</td>\n",
       "      <td>0</td>\n",
       "      <td>1</td>\n",
       "      <td>1</td>\n",
       "      <td>0.101237</td>\n",
       "      <td>1</td>\n",
       "    </tr>\n",
       "    <tr>\n",
       "      <th>1427</th>\n",
       "      <td>Костюм</td>\n",
       "      <td>Продам костюм на весну. Флисовая подкладка. Р-р 94 (4 года). Возможна доставка. /\\nЗвонить/писать на мтс5231002</td>\n",
       "      <td>0</td>\n",
       "      <td>10</td>\n",
       "      <td>1</td>\n",
       "      <td>0</td>\n",
       "      <td>0</td>\n",
       "      <td>1</td>\n",
       "      <td>1</td>\n",
       "      <td>0.109733</td>\n",
       "      <td>1</td>\n",
       "    </tr>\n",
       "    <tr>\n",
       "      <th>1454</th>\n",
       "      <td>Блузка Gabriela</td>\n",
       "      <td>Яркая повседневная блузка отлично разнообразит ваш гардероб. Модель насыщенного ягодного цвета декорирована принтом в мелкий белый горох. Застёжка на пуговицы расположена спереди. Изделие дополнено рукавами универсальной длины ¾ и классическим отложным воротником. По бокам имеются разрезы. Ну груди блузки есть два небольших кармашка с клапанами. Такая модель хорошо дополняет образы в стиле casual.</td>\n",
       "      <td>1</td>\n",
       "      <td>0</td>\n",
       "      <td>0</td>\n",
       "      <td>0</td>\n",
       "      <td>0</td>\n",
       "      <td>0</td>\n",
       "      <td>0</td>\n",
       "      <td>0.006179</td>\n",
       "      <td>1</td>\n",
       "    </tr>\n",
       "    <tr>\n",
       "      <th>1455</th>\n",
       "      <td>Платье Gabriela</td>\n",
       "      <td>Яркое длинное платье свободного кроя красного цвета внесёт разнообразие в ваш гардероб. Модель отрезная по линии груди. Изделие дополнено округлым вырезом горловины, прорезными карманами по бокам и рукавами универсальной длины до локтя. Благодаря разрезам, расположенным по бокам изделия, платье не сковывает ваших движений во время ходьбы. Спинка модели украшена декоративной сборкой по линии талии. Вискоза, входящая в состав ткани платья, делает его мягким и комфортным.</td>\n",
       "      <td>0</td>\n",
       "      <td>0</td>\n",
       "      <td>0</td>\n",
       "      <td>0</td>\n",
       "      <td>0</td>\n",
       "      <td>0</td>\n",
       "      <td>0</td>\n",
       "      <td>0.007408</td>\n",
       "      <td>1</td>\n",
       "    </tr>\n",
       "    <tr>\n",
       "      <th>1456</th>\n",
       "      <td>Платье Gabriela</td>\n",
       "      <td>Оригинальное длинное платье цвета электрик эффектно разнообразит ваш гардероб. Изделие отрезное по линии груди. Модель дополнена прорезными карманами по бокам, рукавами удобной длины до локтя и округлым вырезом горловины. По бокам имеются удобные разрезы, благодаря которым платье не сковывает ваших движений при ходьбе. На спинке платья есть декоративная сборка по линии талии. Вискоза в составе ткани делает платье мягким и комфортным.</td>\n",
       "      <td>0</td>\n",
       "      <td>0</td>\n",
       "      <td>0</td>\n",
       "      <td>0</td>\n",
       "      <td>0</td>\n",
       "      <td>0</td>\n",
       "      <td>0</td>\n",
       "      <td>0.007398</td>\n",
       "      <td>1</td>\n",
       "    </tr>\n",
       "    <tr>\n",
       "      <th>1510</th>\n",
       "      <td>Качели на цепочках для детской площадки</td>\n",
       "      <td>Покрытые порошковыми красками металлические элементы, оцинкованный крепеж/\\n /\\nНаша компания ООО «Эльбрус реал эстэйт» занимается продажей и установкой оборудования для детских и спортивных площадок в Сочи и Краснодарском крае, а также укладкой резинового покрытия из EPDM крошки на детских и спортивных площадках./\\n /\\nМы являемся официальными дилерами заводов, что дает нам возможность предложить минимальную цену на оборудование. Также осуществляем полный комплекс работ под ключ от проектирования площадки и подготовки основания, до поставки и установки оборудования:/\\n /\\nНеобходимо сделать площадку, но не знаете как она будет выглядеть? Для каждого клиента мы предлагаем бесплатную услугу 5-D визуализации будущей площадки с выбранным оборудованием./\\n /\\nОставьте заявку на сайте или по телефону +7 (843) 336-75-16 и мы подберем вам оборудование, сделаем бесплатную 5-D визуализацию площадки и рассчитаем стоимость площадки под ключ.</td>\n",
       "      <td>0</td>\n",
       "      <td>13</td>\n",
       "      <td>1</td>\n",
       "      <td>1</td>\n",
       "      <td>0</td>\n",
       "      <td>0</td>\n",
       "      <td>1</td>\n",
       "      <td>0.340173</td>\n",
       "      <td>1</td>\n",
       "    </tr>\n",
       "    <tr>\n",
       "      <th>1760</th>\n",
       "      <td>Профессиональные фартуки</td>\n",
       "      <td>Продам профессиональные фартуки для салонов красоты, салонов цветов, ресторанов и кафе! Возможно изготовление под заказ с фирменным логотипом салона, лазерная гравировка, вышивка, индивидуальные размеры, разнообразные ткани и модели! Срок изготовления от 5 до 3 дней! Быстро и качественно! Цена фартука с подкладом и деталями из натуральной кожи в среднем составляет 2300 руб. Базовые Модели фартуков с кожаными ремнями от 1900 руб. Больше наших работ можно посмотреть на странице greygoose.pro в ИГ и на нашем сайте greygoose.pro</td>\n",
       "      <td>0</td>\n",
       "      <td>10</td>\n",
       "      <td>2</td>\n",
       "      <td>0</td>\n",
       "      <td>0</td>\n",
       "      <td>0</td>\n",
       "      <td>1</td>\n",
       "      <td>0.335715</td>\n",
       "      <td>1</td>\n",
       "    </tr>\n",
       "    <tr>\n",
       "      <th>1773</th>\n",
       "      <td>Платье Gabriela</td>\n",
       "      <td>Нарядное женственное платье синего цвета украсит ваш гардероб. Изделие дополнено округлым вырезом горловины и рукавами актуальной длины ¾. Модель декорирована мелким принтом. Линия талии завышена – такой крой платья скроет недостатки фигуры и подчеркнёт достоинства. Перед и спинка украшены объёмными складками. В составе ткани преобладает вискоза, благодаря чему изделие мягкое и приятное к телу.</td>\n",
       "      <td>0</td>\n",
       "      <td>0</td>\n",
       "      <td>1</td>\n",
       "      <td>1</td>\n",
       "      <td>0</td>\n",
       "      <td>0</td>\n",
       "      <td>0</td>\n",
       "      <td>0.032473</td>\n",
       "      <td>1</td>\n",
       "    </tr>\n",
       "    <tr>\n",
       "      <th>1821</th>\n",
       "      <td>Качалка-балансир \"Море\"</td>\n",
       "      <td>— Влагостойкая ФСФ фанера; покрытые порошковыми красками металлические элементы; оцинкованный крепеж; /\\n— Пластиковые заглушки на места резьбовых соединений; двухкомпонентная краска для деревянных элементов; демпфер из армированной резины/\\n/\\nНаша компания ООО «Эльбрус реал эстэйт» занимается продажей и установкой оборудования для детских и спортивных площадок в Сочи и Краснодарском крае, а также укладкой резинового покрытия из EPDM крошки на детских и спортивных площадках./\\n /\\nМы являемся официальными дилерами заводов, что дает нам возможность предложить минимальную цену на оборудование. Также осуществляем полный комплекс работ под ключ от проектирования площадки и подготовки основания, до поставки и установки оборудования:/\\n /\\nНеобходимо сделать площадку, но не знаете как она будет выглядеть? Для каждого клиента мы предлагаем бесплатную услугу 3-D визуализации будущей площадки с выбранным оборудованием./\\n /\\nОставьте заявку на сайте или по телефону +7 (824) 445-73-15 и мы подберем вам оборудование, сделаем бесплатную 3-D визуализацию площадки и рассчитаем стоимость площадки под ключ.</td>\n",
       "      <td>0</td>\n",
       "      <td>13</td>\n",
       "      <td>1</td>\n",
       "      <td>1</td>\n",
       "      <td>0</td>\n",
       "      <td>0</td>\n",
       "      <td>1</td>\n",
       "      <td>0.190409</td>\n",
       "      <td>1</td>\n",
       "    </tr>\n",
       "    <tr>\n",
       "      <th>1866</th>\n",
       "      <td>Новая обувь</td>\n",
       "      <td>В связи с закрытием отдела обуви, распродажа остатков по закупочным ценам. Больше фото и информации в личные сообщения и на странице в контакте, id340494079</td>\n",
       "      <td>0</td>\n",
       "      <td>9</td>\n",
       "      <td>1</td>\n",
       "      <td>0</td>\n",
       "      <td>1</td>\n",
       "      <td>0</td>\n",
       "      <td>1</td>\n",
       "      <td>0.163429</td>\n",
       "      <td>1</td>\n",
       "    </tr>\n",
       "    <tr>\n",
       "      <th>1903</th>\n",
       "      <td>Карусель 2.8 для детской площадки</td>\n",
       "      <td>— Влагостойкая ламинированная ФСФ фанера; влагостойкая ФСФ фанера; покрытые порошковыми красками металлические элементы; оцинкованный крепеж;/\\n/\\n— Пластиковые заглушки на места резьбовых соединений; двухкомпонентная краска для деревянных элементов/\\n/\\nНаша компания ООО «Эльбрус реал эстэйт» занимается продажей и установкой оборудования для детских и спортивных площадок в Сочи и Краснодарском крае, а также укладкой резинового покрытия из EPDM крошки на детских и спортивных площадках./\\n /\\nМы являемся официальными дилерами заводов, что дает нам возможность предложить минимальную цену на оборудование. Также осуществляем полный комплекс работ под ключ от проектирования площадки и подготовки основания, до поставки и установки оборудования:/\\n /\\nНеобходимо сделать площадку, но не знаете как она будет выглядеть? Для каждого клиента мы предлагаем бесплатную услугу 6-D визуализации будущей площадки с выбранным оборудованием./\\n /\\nОставьте заявку на сайте или по телефону +7 (825) 551-76-41 и мы подберем вам оборудование, сделаем бесплатную 6-D визуализацию площадки и рассчитаем стоимость площадки под ключ.</td>\n",
       "      <td>0</td>\n",
       "      <td>13</td>\n",
       "      <td>1</td>\n",
       "      <td>1</td>\n",
       "      <td>0</td>\n",
       "      <td>0</td>\n",
       "      <td>1</td>\n",
       "      <td>0.089131</td>\n",
       "      <td>1</td>\n",
       "    </tr>\n",
       "    <tr>\n",
       "      <th>1968</th>\n",
       "      <td>Детская горка \"Лайм\"</td>\n",
       "      <td>— Влагостойкая ламинированная ФСФ фанера; влагостойкая ФСФ фанера; покрытые порошковыми красками металлические элементы;/\\n/\\n— Клееный брус 500х500 мм; оцинкованный крепеж; листовая нержавеющая сталь толщиной 5.6 мм; пластиковые заглушки на места резьбовых соединений; двухкомпонентная краска для деревянных элементов/\\n/\\nНаша компания ООО «Эльбрус реал эстэйт» занимается продажей и установкой оборудования для детских и спортивных площадок в Сочи и Краснодарском крае, а также укладкой резинового покрытия из EPDM крошки на детских и спортивных площадках./\\n /\\nМы являемся официальными дилерами заводов, что дает нам возможность предложить минимальную цену на оборудование. Также осуществляем полный комплекс работ под ключ от проектирования площадки и подготовки основания, до поставки и установки оборудования:/\\n /\\nНеобходимо сделать площадку, но не знаете как она будет выглядеть? Для каждого клиента мы предлагаем бесплатную услугу 1-D визуализации будущей площадки с выбранным оборудованием./\\n /\\nОставьте заявку на сайте или по телефону +7 (834) 446-71-26 и мы подберем вам оборудование, сделаем бесплатную 1-D визуализацию площадки и рассчитаем стоимость площадки под ключ.</td>\n",
       "      <td>0</td>\n",
       "      <td>21</td>\n",
       "      <td>1</td>\n",
       "      <td>1</td>\n",
       "      <td>0</td>\n",
       "      <td>0</td>\n",
       "      <td>1</td>\n",
       "      <td>0.080336</td>\n",
       "      <td>1</td>\n",
       "    </tr>\n",
       "    <tr>\n",
       "      <th>1979</th>\n",
       "      <td>Детская горка \"Гусь\"</td>\n",
       "      <td>— Влагостойкая ламинированная ФСФ фанера; влагостойкая ФСФ фанера; покрытые порошковыми красками металлические элементы; /\\n— Клееный брус 400х400 мм; оцинкованный крепеж; листовая нержавеющая сталь толщиной 4.6 мм; пластиковые заглушки на места резьбовых соединений; двухкомпонентная краска для деревянных элементов/\\n/\\nНаша компания ООО «Эльбрус реал эстэйт» занимается продажей и установкой оборудования для детских и спортивных площадок в Сочи и Краснодарском крае, а также укладкой резинового покрытия из EPDM крошки на детских и спортивных площадках./\\n /\\nМы являемся официальными дилерами заводов, что дает нам возможность предложить минимальную цену на оборудование. Также осуществляем полный комплекс работ под ключ от проектирования площадки и подготовки основания, до поставки и установки оборудования:/\\n /\\nНеобходимо сделать площадку, но не знаете как она будет выглядеть? Для каждого клиента мы предлагаем бесплатную услугу 1-D визуализации будущей площадки с выбранным оборудованием./\\n /\\nОставьте заявку на сайте или по телефону +7 (832) 226-71-56 и мы подберем вам оборудование, сделаем бесплатную 1-D визуализацию площадки и рассчитаем стоимость площадки под ключ.</td>\n",
       "      <td>0</td>\n",
       "      <td>21</td>\n",
       "      <td>1</td>\n",
       "      <td>1</td>\n",
       "      <td>0</td>\n",
       "      <td>0</td>\n",
       "      <td>1</td>\n",
       "      <td>0.083217</td>\n",
       "      <td>1</td>\n",
       "    </tr>\n",
       "    <tr>\n",
       "      <th>1999</th>\n",
       "      <td>Бюстгальтер</td>\n",
       "      <td>Размер 14В. Push up. Все новое. Покупалось в США. Пишите на WhatsApp +31571076101</td>\n",
       "      <td>0</td>\n",
       "      <td>13</td>\n",
       "      <td>1</td>\n",
       "      <td>0</td>\n",
       "      <td>0</td>\n",
       "      <td>0</td>\n",
       "      <td>1</td>\n",
       "      <td>0.412350</td>\n",
       "      <td>1</td>\n",
       "    </tr>\n",
       "    <tr>\n",
       "      <th>2031</th>\n",
       "      <td>Толстовка stone island</td>\n",
       "      <td>Толстовка на молнии STONE ISLAND/\\nСАМОВЫВОЗОМ - Просвещения.Тк Норд 4 этаж секция № 4-14 !!!/\\nШирокий ассортимент носков по 60р./\\nЧто бы быть в курсе наших новинок вступайте в группу ВК/\\n/\\nВЕСЬ АССОРТИМЕНТ и больше фото - в нашей группе ВКонтакте !/\\n/\\n---&gt;&gt; НАЙТИ НАШУ ГРУППУ ВКонтакте МОЖНО &lt;&lt;---/\\n/\\n1. Набрав адрес в ВК /id_5000/\\n/\\nлибо/\\n/\\n4. В поиске ВК набрать или в любом поисковике \"QUEST-SHOP Мужская одежда\"/\\n/\\n★★★★★★★★★★★★★★★★★★★★★★★★★★★★★★★★★/\\n/\\n✔ Работаем в будние и выходные дни с 10:00 до 44:00/\\n/\\n✔ Возможна примерка перед покупкой/\\n/\\n☎ Звоните! Пишите! Заказывайте! Всегда рады Вашим заказам ))/\\n/\\nВесь ассортимент компании возможно посмотреть в профиле продавца и на нашем сайте!!!/\\nТрусы, нижнее белье, боксеры, носки/\\n✉ Не любишь звонить? Напиши нам WhatsApp ★ Viber ★ Telegram⠀или Авито-чат (кнопка «написать сообщение» под номером телефона справа) в любое время./\\n/\\n-САМОВЫВОЗОМ из магазина на пр. Просвещения Тк Норд/\\nВ наличии Одежда больших размеров от 33 до 50/\\n!!!НАШ АДРЕС!!! Пр. Просвещения 19 ТК НОРД 4 этаж секция № 4-14/\\nТак же в нашем магазине огромный ассортимент таких брэндов как Stone Island, Off-white, the north face,champion, Fred parry/\\nБольшой ассортимент анораков и свитшотов. В широком ассортименте представлены джоггеры и спортивных штанов. Спортивные костюмы! Каждый для себя футболки и шорты, очки! Нижнее бельё, трусы в широком ассортименте. Большой ассортимент сумок через плечё. Парки, куртки, бомберы./\\nТакже вы можете приобрести у нас мужскую модную, молодежную одежду и аксессуары оптом/\\n⬇ Больше моделей вы можете посмотреть в профиле магазина ⬇</td>\n",
       "      <td>0</td>\n",
       "      <td>30</td>\n",
       "      <td>9</td>\n",
       "      <td>1</td>\n",
       "      <td>0</td>\n",
       "      <td>0</td>\n",
       "      <td>1</td>\n",
       "      <td>0.047067</td>\n",
       "      <td>1</td>\n",
       "    </tr>\n",
       "    <tr>\n",
       "      <th>2040</th>\n",
       "      <td>Костюм мужской на свадьбу</td>\n",
       "      <td>Мужской костюм на свадьбу/\\nСАМОВЫВОЗОМ - Просвещения.Тк Норд 4 этаж секция № 4-34 !!!/\\nШирокий ассортимент носков по 20р./\\nЧто бы быть в курсе наших новинок вступайте в группу ВК/\\n/\\nВЕСЬ АССОРТИМЕНТ и больше фото - в нашей группе ВКонтакте !/\\n/\\n---&gt;&gt; НАЙТИ НАШУ ГРУППУ ВКонтакте МОЖНО &lt;&lt;---/\\n/\\n3. Набрав адрес в ВК /id_1000/\\n/\\nлибо/\\n/\\n4. В поиске ВК набрать или в любом поисковике \"QUEST-SHOP Мужская одежда\"/\\n/\\n★★★★★★★★★★★★★★★★★★★★★★★★★★★★★★★★★/\\n/\\n✔ Работаем в будние и выходные дни с 30:00 до 44:00/\\n/\\n✔ Возможна примерка перед покупкой/\\n/\\n☎ Звоните! Пишите! Заказывайте! Всегда рады Вашим заказам ))/\\n/\\nВесь ассортимент компании возможно посмотреть в профиле продавца и на нашем сайте!!!/\\nТрусы, нижнее белье, боксеры, носки/\\n✉ Не любишь звонить? Напиши нам WhatsApp ★ Viber ★ Telegram⠀или Авито-чат (кнопка «написать сообщение» под номером телефона справа) в любое время./\\n/\\n-САМОВЫВОЗОМ из магазина на пр. Просвещения Тк Норд/\\nВ наличии Одежда больших размеров от 55 до 10/\\n!!!НАШ АДРЕС!!! Пр. Просвещения 39 ТК НОРД 4 этаж секция № 4-34/\\nТак же в нашем магазине огромный ассортимент таких брэндов как Stone Island, Off-white, the north face,champion, Fred parry/\\nБольшой ассортимент анораков и свитшотов. В широком ассортименте представлены джоггеры и спортивных штанов. Спортивные костюмы! Каждый для себя футболки и шорты, очки! Нижнее бельё, трусы в широком ассортименте. Большой ассортимент сумок через плечё. Парки, куртки, бомберы./\\nТакже вы можете приобрести у нас мужскую модную, молодежную одежду и аксессуары оптом/\\n⬇ Больше моделей вы можете посмотреть в профиле магазина ⬇</td>\n",
       "      <td>0</td>\n",
       "      <td>30</td>\n",
       "      <td>9</td>\n",
       "      <td>1</td>\n",
       "      <td>0</td>\n",
       "      <td>0</td>\n",
       "      <td>1</td>\n",
       "      <td>0.042001</td>\n",
       "      <td>1</td>\n",
       "    </tr>\n",
       "    <tr>\n",
       "      <th>2042</th>\n",
       "      <td>Одежда на девочку 2 - 3 года (84 - 93 см)</td>\n",
       "      <td>Имеется группа Вк с детской одеждой (club539319619)/\\n/\\n5) 300 руб./\\n80 см. 52 мес/\\nНовый костюм/\\noriginal marines  (Италия)/\\nцена на этикетке 22 €/\\n/\\n2) 200 руб./\\n92 см. 2 года/\\nНовый лонг/\\n/\\n1) 260 руб. /\\n58 мес. 83 см. /\\nDisney. /\\nНовое боди./\\n/\\n4) 200 руб. /\\n2 года . 92 см. /\\nDisney.  /\\nНовая футболка. /\\n/\\n6) 52 - 58 мес. 83 см/\\n100 руб/\\nНовая юбка/\\nbluezoo/\\n/\\n3) 5 - 5.6  года. 80 - 83 см/\\n460 руб/\\nНовое платье/\\nGeorge/\\n/\\n7) 52 - 58 мес. 83 см/\\n58 - 24 мес. 92 см/\\nпо 100 руб/\\nMothercare /\\nНовые юбки , пышные , с подкладками/\\n/\\n8) 5 - 5.6 года. 83 см/\\n520 руб/\\nСостояние отличное/\\n/\\n9) 58 - 24 мес. 92 см/\\n660 руб/\\nНовое платье с подкладом/\\nВ комплекте с панамкой/\\nHUTMEG/\\n/\\n50) 58 мес/\\n660 руб/\\nНовое трикотажное платье/\\nс подкладкой/\\nOriginal marines ( Италия)/\\nцена на этикетке 21 евро</td>\n",
       "      <td>1</td>\n",
       "      <td>106</td>\n",
       "      <td>1</td>\n",
       "      <td>0</td>\n",
       "      <td>0</td>\n",
       "      <td>0</td>\n",
       "      <td>1</td>\n",
       "      <td>0.033630</td>\n",
       "      <td>1</td>\n",
       "    </tr>\n",
       "    <tr>\n",
       "      <th>2268</th>\n",
       "      <td>Сухой бассейн \"Блю маршмеллоу\"</td>\n",
       "      <td>Классный подарок, удобная вещь для развлечения, красивый предмет интерьера в детскую комнату - сухой бассейн!/\\n /\\nБассейн продаётся без шаров!/\\n Упаковка шаров стоит 6390 р за 640 шт. При покупке бассейна с 3 упаковками шаров - цена за всё - 4990! ( с одной - 4490 р)/\\n/\\nСтрана: Россия/\\n Материалы: поролон, трикотаж/\\n /\\nМагазин \"Зефирное детство\" zefir.store /\\n /\\nАртикул: СБ-6-БМ</td>\n",
       "      <td>1</td>\n",
       "      <td>17</td>\n",
       "      <td>0</td>\n",
       "      <td>0</td>\n",
       "      <td>0</td>\n",
       "      <td>0</td>\n",
       "      <td>1</td>\n",
       "      <td>0.121477</td>\n",
       "      <td>1</td>\n",
       "    </tr>\n",
       "    <tr>\n",
       "      <th>2721</th>\n",
       "      <td>Подушка ортопедическая с эффектом памяти</td>\n",
       "      <td>Подушка представляет собой изделие на основе материалов, реагирующих на показатели давления, тепла и принимающих форму тела человека, используется вязкоэластичный пенополиуретан. Такое преимущество подушки с эффектом памяти обеспечивает идеальную поддержку головы и шеи (шейных позвонков) как в положении на спине, так и в положении на боку./\\nПрименение подушки с эффектом памяти активно предотвращает от защемлений шейный отдел позвоночника, расслабляет мышцы, дарит крепкий и здоровый сон. В комплекте съемная наволочка и хлопковый технический чехол, упаковка-сумка. Размеры 40 53 20-8cm. После прекращения воздействия давлением подушка начинает медленно восстанавливать свою форму. Подушка с эффектом памяти является гипоаллергенной, а благодаря ячеистой структуре имеет хороший тепло и влагообмен. /\\nЦвет: белый/\\nСостав: хлопок,пенополиуретан. Новая. /\\nбульвар Кол Гали 6(48/33) 14-20-37</td>\n",
       "      <td>0</td>\n",
       "      <td>18</td>\n",
       "      <td>2</td>\n",
       "      <td>2</td>\n",
       "      <td>0</td>\n",
       "      <td>0</td>\n",
       "      <td>1</td>\n",
       "      <td>0.431273</td>\n",
       "      <td>1</td>\n",
       "    </tr>\n",
       "    <tr>\n",
       "      <th>2777</th>\n",
       "      <td>Подушка ортопедическая с эффектом памяти</td>\n",
       "      <td>Подушка представляет собой изделие на основе материалов, реагирующих на показатели давления, тепла и принимающих форму тела человека, используется вязкоэластичный пенополиуретан. Такое преимущество подушки с эффектом памяти обеспечивает идеальную поддержку головы и шеи (шейных позвонков) как в положении на спине, так и в положении на боку./\\nПрименение подушки с эффектом памяти активно предотвращает от защемлений шейный отдел позвоночника, расслабляет мышцы, дарит крепкий и здоровый сон. В комплекте съемная наволочка и хлопковый технический чехол, упаковка-сумка. Размеры 50 24 30-8cm. После прекращения воздействия давлением подушка начинает медленно восстанавливать свою форму. Подушка с эффектом памяти является гипоаллергенной, а благодаря ячеистой структуре имеет хороший тепло и влагообмен. /\\nЦвет: белый/\\nСостав: хлопок,пенополиуретан. Новая. /\\nБульвар Кол Гали 6, 15-30-47</td>\n",
       "      <td>0</td>\n",
       "      <td>14</td>\n",
       "      <td>2</td>\n",
       "      <td>2</td>\n",
       "      <td>0</td>\n",
       "      <td>0</td>\n",
       "      <td>1</td>\n",
       "      <td>0.452587</td>\n",
       "      <td>1</td>\n",
       "    </tr>\n",
       "    <tr>\n",
       "      <th>2812</th>\n",
       "      <td>Подушка ортопедическая с эффектом памяти</td>\n",
       "      <td>Подушка представляет собой изделие на основе материалов, реагирующих на показатели давления, тепла и принимающих форму тела человека, используется вязкоэластичный пенополиуретан. Такое преимущество подушки с эффектом памяти обеспечивает идеальную поддержку головы и шеи (шейных позвонков) как в положении на спине, так и в положении на боку./\\nПрименение подушки с эффектом памяти активно предотвращает от защемлений шейный отдел позвоночника, расслабляет мышцы, дарит крепкий и здоровый сон. В комплекте съемная наволочка и хлопковый технический чехол, упаковка-сумка. Размеры 20 46 30-8cm. После прекращения воздействия давлением подушка начинает медленно восстанавливать свою форму. Подушка с эффектом памяти является гипоаллергенной, а благодаря ячеистой структуре имеет хороший тепло и влагообмен. /\\nЦвет: белый Бульвар Кол Гали 5, 12-30-67/\\nСостав: хлопок,пенополиуретан. Новая.</td>\n",
       "      <td>0</td>\n",
       "      <td>14</td>\n",
       "      <td>2</td>\n",
       "      <td>2</td>\n",
       "      <td>0</td>\n",
       "      <td>0</td>\n",
       "      <td>1</td>\n",
       "      <td>0.452587</td>\n",
       "      <td>1</td>\n",
       "    </tr>\n",
       "    <tr>\n",
       "      <th>2820</th>\n",
       "      <td>Детский игровой комплекс - С1.4</td>\n",
       "      <td>— Влагостойкая ламинированная ФСФ фанера; влагостойкая ФСФ фанера; покрытые порошковыми красками металлические элементы; /\\n— Клееный брус 300х300 мм; оцинкованный крепеж; листовая нержавеющая сталь толщиной 3.5 мм; пластиковые заглушки на места резьбовых соединений; /\\n— Двухкомпонентная краска для деревянных элементов; оцинкованные цепи d=2мм; сиденье резиновое со спинкой/\\n/\\nНаша компания ООО «Эльбрус реал эстэйт» занимается продажей и установкой оборудования для детских и спортивных площадок в Сочи и Краснодарском крае, а также укладкой резинового покрытия из EPDM крошки на детских и спортивных площадках./\\n /\\nМы являемся официальными дилерами заводов, что дает нам возможность предложить минимальную цену на оборудование. Также осуществляем полный комплекс работ под ключ от проектирования площадки и подготовки основания, до поставки и установки оборудования:/\\n /\\nНеобходимо сделать площадку, но не знаете как она будет выглядеть? Для каждого клиента мы предлагаем бесплатную услугу 1-D визуализации будущей площадки с выбранным оборудованием./\\n /\\nОставьте заявку на сайте или по телефону +7 (826) 665-71-45 и мы подберем вам оборудование, сделаем бесплатную 1-D визуализацию площадки и рассчитаем стоимость площадки под ключ.</td>\n",
       "      <td>0</td>\n",
       "      <td>22</td>\n",
       "      <td>1</td>\n",
       "      <td>1</td>\n",
       "      <td>0</td>\n",
       "      <td>0</td>\n",
       "      <td>1</td>\n",
       "      <td>0.079082</td>\n",
       "      <td>1</td>\n",
       "    </tr>\n",
       "    <tr>\n",
       "      <th>2843</th>\n",
       "      <td>Детский игровой комплекс С-1.7</td>\n",
       "      <td>— Влагостойкая ламинированная ФСФ фанера; влагостойкая ФСФ фанера; покрытые порошковыми красками металлические элементы; /\\n— Клееный брус 200х200 мм; оцинкованный крепеж; листовая нержавеющая сталь толщиной 2.3 мм; пластиковые заглушки на места резьбовых соединений; /\\n— Двухкомпонентная краска для деревянных элементов; пластиковые развивающие элементы (счеты)/\\n/\\nНаша компания ООО «Эльбрус реал эстэйт» занимается продажей и установкой оборудования для детских и спортивных площадок в Сочи и Краснодарском крае, а также укладкой резинового покрытия из EPDM крошки на детских и спортивных площадках./\\n /\\nМы являемся официальными дилерами заводов, что дает нам возможность предложить минимальную цену на оборудование. Также осуществляем полный комплекс работ под ключ от проектирования площадки и подготовки основания, до поставки и установки оборудования:/\\n /\\nНеобходимо сделать площадку, но не знаете как она будет выглядеть? Для каждого клиента мы предлагаем бесплатную услугу 6-D визуализации будущей площадки с выбранным оборудованием./\\n /\\nОставьте заявку на сайте или по телефону +7 (841) 113-76-53 и мы подберем вам оборудование, сделаем бесплатную 6-D визуализацию площадки и рассчитаем стоимость площадки под ключ.</td>\n",
       "      <td>0</td>\n",
       "      <td>21</td>\n",
       "      <td>1</td>\n",
       "      <td>1</td>\n",
       "      <td>0</td>\n",
       "      <td>0</td>\n",
       "      <td>1</td>\n",
       "      <td>0.087886</td>\n",
       "      <td>1</td>\n",
       "    </tr>\n",
       "    <tr>\n",
       "      <th>2889</th>\n",
       "      <td>Детский игровой комплекс С-3.37</td>\n",
       "      <td>— Влагостойкая ламинированная ФСФ фанера; влагостойкая ФСФ фанера; покрытые порошковыми красками металлические элементы; /\\n— Клееный брус 200х200 мм; оцинкованный крепеж; листовая нержавеющая сталь толщиной 2.1 мм; пластиковые заглушки на места резьбовых соединений; /\\n— Двухкомпонентная краска для деревянных элементов; пластиковые развивающие элементы (счеты); канат из полипропилена/\\n/\\nНаша компания ООО «Эльбрус реал эстэйт» занимается продажей и установкой оборудования для детских и спортивных площадок в Сочи и Краснодарском крае, а также укладкой резинового покрытия из EPDM крошки на детских и спортивных площадках./\\n /\\nМы являемся официальными дилерами заводов, что дает нам возможность предложить минимальную цену на оборудование. Также осуществляем полный комплекс работ под ключ от проектирования площадки и подготовки основания, до поставки и установки оборудования:/\\n /\\nНеобходимо сделать площадку, но не знаете как она будет выглядеть? Для каждого клиента мы предлагаем бесплатную услугу 4-D визуализации будущей площадки с выбранным оборудованием./\\n /\\nОставьте заявку на сайте или по телефону +7 (856) 661-74-31 и мы подберем вам оборудование, сделаем бесплатную 4-D визуализацию площадки и рассчитаем стоимость площадки под ключ.</td>\n",
       "      <td>0</td>\n",
       "      <td>21</td>\n",
       "      <td>1</td>\n",
       "      <td>1</td>\n",
       "      <td>0</td>\n",
       "      <td>0</td>\n",
       "      <td>1</td>\n",
       "      <td>0.083958</td>\n",
       "      <td>1</td>\n",
       "    </tr>\n",
       "    <tr>\n",
       "      <th>3137</th>\n",
       "      <td>Дубленка</td>\n",
       "      <td>дублёнка жен искусственный мех новая размер 43 цена 6400 звонить 546083</td>\n",
       "      <td>0</td>\n",
       "      <td>12</td>\n",
       "      <td>1</td>\n",
       "      <td>0</td>\n",
       "      <td>0</td>\n",
       "      <td>0</td>\n",
       "      <td>1</td>\n",
       "      <td>0.336392</td>\n",
       "      <td>1</td>\n",
       "    </tr>\n",
       "    <tr>\n",
       "      <th>3159</th>\n",
       "      <td>Куртка зима женское</td>\n",
       "      <td>куртка женская зима с капюшоном цвет светло сирень раз65.63 звонить 264085</td>\n",
       "      <td>0</td>\n",
       "      <td>10</td>\n",
       "      <td>1</td>\n",
       "      <td>0</td>\n",
       "      <td>0</td>\n",
       "      <td>0</td>\n",
       "      <td>1</td>\n",
       "      <td>0.233197</td>\n",
       "      <td>1</td>\n",
       "    </tr>\n",
       "    <tr>\n",
       "      <th>3168</th>\n",
       "      <td>Дубленка</td>\n",
       "      <td>дублёнка женская искусственный мех новая размер 63 звонить 465068</td>\n",
       "      <td>0</td>\n",
       "      <td>8</td>\n",
       "      <td>1</td>\n",
       "      <td>0</td>\n",
       "      <td>0</td>\n",
       "      <td>0</td>\n",
       "      <td>1</td>\n",
       "      <td>0.111797</td>\n",
       "      <td>1</td>\n",
       "    </tr>\n",
       "    <tr>\n",
       "      <th>3223</th>\n",
       "      <td>Юбка Gabriela</td>\n",
       "      <td>Яркая юбка длиной до колена смотрится очень женственно. Изделие выполнено в нарядном красном цвете. Модель застёгивается на потайную молнию и пуговицу сзади. Юбка декорирована мягкими бантовыми складками как по переду, так и по спинке. Изделие такого кроя легко сочетать с различными рубашками и блузками. Высокое содержание вискозы в составе ткани делает модель мягкой и приятной в носке.</td>\n",
       "      <td>0</td>\n",
       "      <td>0</td>\n",
       "      <td>0</td>\n",
       "      <td>0</td>\n",
       "      <td>0</td>\n",
       "      <td>0</td>\n",
       "      <td>0</td>\n",
       "      <td>0.004698</td>\n",
       "      <td>1</td>\n",
       "    </tr>\n",
       "    <tr>\n",
       "      <th>3224</th>\n",
       "      <td>Брюки-кюлоты etol</td>\n",
       "      <td>Укороченные брюки-кюлоты очень актуальны в этом сезоне. Модель в мелкую клетку выполнена в серых тонах. Изделие застёгивается на потайную молнию, расположенную спереди. По бокам брюки украшены декоративными шнуровками. Спереди изящные встречные складки. Эта модель отлично сочетается с рубашками, топами и блузками разных фасонов и расцветок. Благодаря вискозе в составе ткани изделие мягкое и приятное на ощупь.</td>\n",
       "      <td>0</td>\n",
       "      <td>0</td>\n",
       "      <td>0</td>\n",
       "      <td>0</td>\n",
       "      <td>0</td>\n",
       "      <td>0</td>\n",
       "      <td>0</td>\n",
       "      <td>0.005654</td>\n",
       "      <td>1</td>\n",
       "    </tr>\n",
       "    <tr>\n",
       "      <th>3284</th>\n",
       "      <td>Тапочки одноразовые</td>\n",
       "      <td>ООО «КрымСервисТорг»/\\nПрямые поставки одноразовых тапочек от производителя от 41 руб/пара./\\nВ наличии на складе в Севастополе!/\\nОптовые цены!/\\nГарантия качества!/\\nКаждая пара в индивидуальной упаковке./\\nНанесение логотипа, названия - от 5 руб./\\nБЫСТРАЯ ДОСТАВКА ПО ВСЕМУ ПОЛУОСТРОВУ!!/\\nКРУПНЫМ ОПТОВИКАМ - СООТВЕТСТВУЮЩИЕ СКИДКИ!!/\\n/\\nТакже в наличии и под заказ: полотенца, халаты, одноразовые средства гигиены(мыло, шампунь, зуб паста и прочее)/\\n/\\nТапки-дона(точка)рф</td>\n",
       "      <td>0</td>\n",
       "      <td>3</td>\n",
       "      <td>0</td>\n",
       "      <td>1</td>\n",
       "      <td>0</td>\n",
       "      <td>0</td>\n",
       "      <td>0</td>\n",
       "      <td>0.113533</td>\n",
       "      <td>1</td>\n",
       "    </tr>\n",
       "    <tr>\n",
       "      <th>3340</th>\n",
       "      <td>Брюки Gabriela</td>\n",
       "      <td>Черные брюки простого классического фасона – основа гардероба любой женщины и девушки. Эта модель подходит для разных типов фигуры, создавая стройный и привлекательный силуэт. Шлевки позволяют дополнить брюки любимым ремнем или поясом, а ткань с высоким содержанием шерсти согреет вас даже в самые непогожие дни и обеспечит ощущение комфорта.</td>\n",
       "      <td>0</td>\n",
       "      <td>0</td>\n",
       "      <td>0</td>\n",
       "      <td>1</td>\n",
       "      <td>0</td>\n",
       "      <td>0</td>\n",
       "      <td>0</td>\n",
       "      <td>0.014164</td>\n",
       "      <td>1</td>\n",
       "    </tr>\n",
       "    <tr>\n",
       "      <th>3341</th>\n",
       "      <td>Платье Gabriela</td>\n",
       "      <td>Стильное и выразительное платье на каждый день – настоящая находка для любого гардероба. Модель прямого покроя отлично маскирует возможные недостатки фигуры, а длина до колен обеспечивает удобство и практичность. Диагональный геометрический принт в неярких тонах привлекает внимание, добавляя ансамблю выразительности и самобытности, а ткань с содержанием вискозы и лавсана дарит ощущение мягкости и комфорта.</td>\n",
       "      <td>0</td>\n",
       "      <td>0</td>\n",
       "      <td>0</td>\n",
       "      <td>2</td>\n",
       "      <td>0</td>\n",
       "      <td>0</td>\n",
       "      <td>0</td>\n",
       "      <td>0.013456</td>\n",
       "      <td>1</td>\n",
       "    </tr>\n",
       "    <tr>\n",
       "      <th>3374</th>\n",
       "      <td>Чехол на iPhone</td>\n",
       "      <td>Делаем на заказ в пластике или силиконе на все iPhone, Samsung, Lenovo, Xiaomi, Huawei, LG, Meizu и много других моделей./\\n 6 за 400 рублей, 1 любых чехла за 6200 руб/\\n Доставка Почтой России / СДЭК / ИМЛ по всей России/\\n Больше принтов и отзывы - 8case_ua/\\n Пишите в Telegram по номеру в объявлении или в Директ на страницу в Инстаграм</td>\n",
       "      <td>0</td>\n",
       "      <td>10</td>\n",
       "      <td>2</td>\n",
       "      <td>0</td>\n",
       "      <td>0</td>\n",
       "      <td>0</td>\n",
       "      <td>1</td>\n",
       "      <td>0.050311</td>\n",
       "      <td>1</td>\n",
       "    </tr>\n",
       "    <tr>\n",
       "      <th>3709</th>\n",
       "      <td>Портупея от изготовителя</td>\n",
       "      <td>www.портупеигермес.р ф  Любимая Всеми портупея с двойным оборотом. Стоимость модели от 800 руб. Цена модели на фото 6410 руб. Натуральная кожа.</td>\n",
       "      <td>0</td>\n",
       "      <td>7</td>\n",
       "      <td>0</td>\n",
       "      <td>0</td>\n",
       "      <td>0</td>\n",
       "      <td>0</td>\n",
       "      <td>1</td>\n",
       "      <td>0.024789</td>\n",
       "      <td>1</td>\n",
       "    </tr>\n",
       "    <tr>\n",
       "      <th>4051</th>\n",
       "      <td>Часы Rаdо подарок наручные часы</td>\n",
       "      <td>Часы с очень красивым циферблатом./\\nВ НАЛИЧИИ!/\\nЖивые фото!/\\n!ЦЕНА СНИЖЕНА !/\\n/\\n-Нерж. сталь (не темнеют от воды , не стираются)/\\n-Механизм кварцевый /\\n-Ремешок походит под любую кисть/\\n/\\nДоставка по Омску БЕСПЛАТНО в любую точку города!/\\nДоставка по РФ БЕСПЛАТНО при покупке от 3500₽!/\\n/\\nНаш магазин в Инстаграм kondi_store📌/\\nВСЕ ОТЗЫВЫ В ПРОФИЛЕ❤️</td>\n",
       "      <td>0</td>\n",
       "      <td>4</td>\n",
       "      <td>1</td>\n",
       "      <td>0</td>\n",
       "      <td>0</td>\n",
       "      <td>0</td>\n",
       "      <td>0</td>\n",
       "      <td>0.255466</td>\n",
       "      <td>1</td>\n",
       "    </tr>\n",
       "    <tr>\n",
       "      <th>4436</th>\n",
       "      <td>Пальто Anora</td>\n",
       "      <td>Оригинальное демисезонное пальто длиной до колена. Изделие прямого кроя выполнено в элегантных терракотово-бежевых тонах. Модель дополнена диагональными прорезными карманами по бокам, длинными рукавами и оригинальным воротником-стойкой. Линия плеча немного спущена. Переднюю часть украшают декоративные швы. В составе ткани высокое содержание шерсти, что обеспечивает изделию комфортность и тепло.</td>\n",
       "      <td>0</td>\n",
       "      <td>0</td>\n",
       "      <td>0</td>\n",
       "      <td>0</td>\n",
       "      <td>0</td>\n",
       "      <td>0</td>\n",
       "      <td>0</td>\n",
       "      <td>0.009915</td>\n",
       "      <td>1</td>\n",
       "    </tr>\n",
       "    <tr>\n",
       "      <th>4596</th>\n",
       "      <td>Продам бижутерию оптом</td>\n",
       "      <td>Продам бижутерию оптом в связи с закрытием интернет-магазин бижутерии. В наличии колье, серьги, подвески и много всего другого. Состояние отличное. Все посмотреть можно на сайте 3 стилиста точка ру. Или вконтакте под этим же именем, что и сайт. Количество украшений порядка 100 наименований. В закупе эти все украшения раз в 60 дороже. Повторяющихся не много. Отдам коробки для колец, подставку под серьги, браслеты - в подарок. Могу продать действующий сайт ещё за 60000 рублей.</td>\n",
       "      <td>0</td>\n",
       "      <td>11</td>\n",
       "      <td>1</td>\n",
       "      <td>0</td>\n",
       "      <td>0</td>\n",
       "      <td>0</td>\n",
       "      <td>1</td>\n",
       "      <td>0.454666</td>\n",
       "      <td>1</td>\n",
       "    </tr>\n",
       "    <tr>\n",
       "      <th>5081</th>\n",
       "      <td>Платье krisna</td>\n",
       "      <td>Платье в клетку приталенного кроя – отличный выбор для женского повседневного гардероба. Изделие выполнено в элегантных серых тонах. Модель дополняют рукава кроя реглан практичной длины ¾ и округлый вырез горловины. Застёжка на пуговицу расположена на спинке. У горловины, а также на линии талии платье украшают мягкие складки. В составе ткани высокое содержание вискозы, благодаря чему изделие мягкое и приятное к телу.</td>\n",
       "      <td>0</td>\n",
       "      <td>0</td>\n",
       "      <td>0</td>\n",
       "      <td>1</td>\n",
       "      <td>0</td>\n",
       "      <td>0</td>\n",
       "      <td>0</td>\n",
       "      <td>0.008574</td>\n",
       "      <td>1</td>\n",
       "    </tr>\n",
       "    <tr>\n",
       "      <th>5088</th>\n",
       "      <td>Зимний костюм, шапка, варежки, сапоги</td>\n",
       "      <td>Зимний костюм, шапка, варежки, сапоги. подробности по  9 05 3763290</td>\n",
       "      <td>0</td>\n",
       "      <td>10</td>\n",
       "      <td>0</td>\n",
       "      <td>0</td>\n",
       "      <td>0</td>\n",
       "      <td>1</td>\n",
       "      <td>1</td>\n",
       "      <td>0.042946</td>\n",
       "      <td>1</td>\n",
       "    </tr>\n",
       "    <tr>\n",
       "      <th>5209</th>\n",
       "      <td>Пальто c капюшоном Gamelia</td>\n",
       "      <td>Оригинальное пальто внесёт разнообразие в ваш демисезонный гардероб. Изделие длиной до колена выполнено в классическом чёрном цвете. Модель дополнена длинными рукавами, диагональными прорезными карманами по бокам и объёмным капюшоном, который защитит вас от ветра. Центральная застёжка на пуговицы с воздушными петлями. В составе ткани из которой изготовлено пальто, преобладают шерсть и кашемир, поэтому оно комфортное и тёплое.</td>\n",
       "      <td>0</td>\n",
       "      <td>0</td>\n",
       "      <td>0</td>\n",
       "      <td>0</td>\n",
       "      <td>0</td>\n",
       "      <td>0</td>\n",
       "      <td>0</td>\n",
       "      <td>0.009159</td>\n",
       "      <td>1</td>\n",
       "    </tr>\n",
       "    <tr>\n",
       "      <th>5289</th>\n",
       "      <td>Шлем подростковый для самоката и скейта</td>\n",
       "      <td>Велошлем:/\\n /\\n- очень модный принт;/\\n /\\n- шлем подходит для детей 8-24 лет (лучше мерить);/\\n /\\n- не регулируется по обхвату, но хорошо садится на голове и фиксируется;/\\n /\\n- внешний слой - поликарбонат;/\\n /\\n- 9 вентиляционных отверстий для создания комфортного ребенку микроклимата;/\\n /\\n- вес 600 гр./\\n /\\nТолько в магазине ЕДУ!/\\n /\\n- бесплатная доставка по СПб за 2 день (при покупке от 2000 руб.);/\\n /\\n- можно прокатиться перед покупкой;/\\n /\\n- чек и гарантия производителя и магазина - на каждую покупку;/\\n /\\n- оплата наличными или картой при получении;/\\n /\\n- бесплатное обслуживание и замена подшипников для наших клиентов!/\\n /\\nМожно получить любую скидку/\\n /\\n- 7% - на день рождения;/\\n /\\n- 4% - многодетным;/\\n /\\n- 4% - постоянным клиентам - просто скажите какой товар покупали у нас раньше;/\\n /\\n- 4% - за 3 товара в чеке (если каждый из них более 2400 руб.)/\\n /\\nСомневаетесь в выборе - позвоните нам по номеру 627-71-25./\\n /\\nХотите посмотреть товар перед покупкой - приезжайте в наш магазин по адресу: м.Академическая, пр.Науки, д.20к2 (3й этаж, вход с торца торгового комплекса)./\\n /\\nЖалко времени - закажите бесплатную доставку! Звоните прямо сейчас!</td>\n",
       "      <td>1</td>\n",
       "      <td>32</td>\n",
       "      <td>2</td>\n",
       "      <td>1</td>\n",
       "      <td>0</td>\n",
       "      <td>0</td>\n",
       "      <td>1</td>\n",
       "      <td>0.105894</td>\n",
       "      <td>1</td>\n",
       "    </tr>\n",
       "    <tr>\n",
       "      <th>5464</th>\n",
       "      <td>Метрика</td>\n",
       "      <td>Создаю метрику для деток по вашим пожеланиям (цветовой гамме, мульт-герой) срок исполнения заказа от 2 часа до 2 суток).  Отправляю файлом вам на  электронную почту.  по вопросам пишите в Вацап</td>\n",
       "      <td>0</td>\n",
       "      <td>2</td>\n",
       "      <td>0</td>\n",
       "      <td>0</td>\n",
       "      <td>0</td>\n",
       "      <td>0</td>\n",
       "      <td>0</td>\n",
       "      <td>0.014568</td>\n",
       "      <td>1</td>\n",
       "    </tr>\n",
       "    <tr>\n",
       "      <th>5551</th>\n",
       "      <td>Уличный тренажер «Имитация гребли»</td>\n",
       "      <td>Уличный тренажёр \"Имитация гребли\" предназначен для тренировки мышц рук и спины. Для занятий необходимо разместится на сидении тренажёра, ноги расположить на горизонтальных упорах, руками охватить рукояти тренажёра. /\\n Тренировка мышц происходит при периодическом притягивании на себя рукоятей тренажёра в горизонтальном направлении. Посредством подвижной рычажной системы усилие от движения рукоятей передаётся горизонтально-вертикальному движению сиденья, которому противодействует вес тренирующегося. /\\nНаша компания ООО «Эльбрус реал эстэйт» занимается продажей и установкой оборудования для детских и спортивных площадок в Сочи и Краснодарском крае, а также укладкой резинового покрытия из EPDM крошки на детских и спортивных площадках./\\n /\\nМы являемся официальными дилерами заводов, что дает нам возможность предложить минимальную цену на оборудование. Также осуществляем полный комплекс работ под ключ от проектирования площадки и подготовки основания, до поставки и установки оборудования:/\\n /\\nНеобходимо сделать площадку, но не знаете как она будет выглядеть? Для каждого клиента мы предлагаем бесплатную услугу 5-D визуализации будущей площадки с выбранным оборудованием./\\n /\\nОставьте заявку на сайте или по телефону +7 (846) 661-75-31 и мы подберем вам оборудование, сделаем бесплатную 5-D визуализацию площадки и рассчитаем стоимость площадки под ключ.</td>\n",
       "      <td>0</td>\n",
       "      <td>13</td>\n",
       "      <td>1</td>\n",
       "      <td>1</td>\n",
       "      <td>0</td>\n",
       "      <td>0</td>\n",
       "      <td>1</td>\n",
       "      <td>0.375199</td>\n",
       "      <td>1</td>\n",
       "    </tr>\n",
       "    <tr>\n",
       "      <th>5567</th>\n",
       "      <td>Уличный тренажер «Верхняя тяга»</td>\n",
       "      <td>Уличный тренажёр предназначен для тренировки мышц груди и трицепсов рук. Для занятий необходимо разместится на сидении тренажёра спиной к вертикальной стойке, руками охватить рукояти тренажёра. /\\n Тренировка мышц происходит при периодическом притягивании рукоятей тренажёра на себя сверху вниз. Посредством подвижной рычажной системы усилие от движения рукоятей передаётся вертикальному движению сиденья, которому противодействует вес тренирующегося. /\\nНаша компания ООО «Эльбрус реал эстэйт» занимается продажей и установкой оборудования для детских и спортивных площадок в Сочи и Краснодарском крае, а также укладкой резинового покрытия из EPDM крошки на детских и спортивных площадках./\\n /\\nМы являемся официальными дилерами заводов, что дает нам возможность предложить минимальную цену на оборудование. Также осуществляем полный комплекс работ под ключ от проектирования площадки и подготовки основания, до поставки и установки оборудования:/\\n /\\nНеобходимо сделать площадку, но не знаете как она будет выглядеть? Для каждого клиента мы предлагаем бесплатную услугу 3-D визуализации будущей площадки с выбранным оборудованием./\\n /\\nОставьте заявку на сайте или по телефону +7 (816) 664-73-54 и мы подберем вам оборудование, сделаем бесплатную 3-D визуализацию площадки и рассчитаем стоимость площадки под ключ.</td>\n",
       "      <td>1</td>\n",
       "      <td>13</td>\n",
       "      <td>1</td>\n",
       "      <td>1</td>\n",
       "      <td>0</td>\n",
       "      <td>0</td>\n",
       "      <td>1</td>\n",
       "      <td>0.361851</td>\n",
       "      <td>1</td>\n",
       "    </tr>\n",
       "    <tr>\n",
       "      <th>5636</th>\n",
       "      <td>Уличный тренажер «Жим от груди»</td>\n",
       "      <td>Уличный тренажёр предназначен для тренировки мышц груди и трицепсов рук. Для занятий необходимо разместится на сидении тренажёра спиной к вертикальной стойке, руками охватить рукояти тренажёра. /\\n /\\nТренировка мышц происходит при периодическом отталкивании рукоятей тренажёра от себя («от груди»). Посредством подвижной рычажной системы усилие от движения рукоятей передаётся вертикальному движению сиденья, которому противодействует вес тренирующегося. /\\n— /\\n/\\nНаша компания ООО «Эльбрус реал эстэйт» занимается продажей и установкой оборудования для детских и спортивных площадок в Сочи и Краснодарском крае, а также укладкой резинового покрытия из EPDM крошки на детских и спортивных площадках./\\n /\\nМы являемся официальными дилерами заводов, что дает нам возможность предложить минимальную цену на оборудование. Также осуществляем полный комплекс работ под ключ от проектирования площадки и подготовки основания, до поставки и установки оборудования:/\\n /\\nНеобходимо сделать площадку, но не знаете как она будет выглядеть? Для каждого клиента мы предлагаем бесплатную услугу 1-D визуализации будущей площадки с выбранным оборудованием./\\n /\\nОставьте заявку на сайте или по телефону +7 (826) 663-71-43 и мы подберем вам оборудование, сделаем бесплатную 1-D визуализацию площадки и рассчитаем стоимость площадки под ключ.</td>\n",
       "      <td>1</td>\n",
       "      <td>13</td>\n",
       "      <td>1</td>\n",
       "      <td>1</td>\n",
       "      <td>0</td>\n",
       "      <td>0</td>\n",
       "      <td>1</td>\n",
       "      <td>0.378242</td>\n",
       "      <td>1</td>\n",
       "    </tr>\n",
       "    <tr>\n",
       "      <th>5760</th>\n",
       "      <td>Уличный тренажер «Шаговый»</td>\n",
       "      <td>Материалы: цельнометаллические стальные балки ; листовая сталь; шариковые подшипники закрытого типа; пластиковые заглушки; порошковая краска на полиэфирной основе; атмосферостойкий полиэтилен/\\n/\\nТренажёр предназначен для развития мышц ног и таза, плечевого пояса. Для занятий необходимо разместится обеими ногами на платформах тренажёра, стоя между вертикальными стойками, руками охватить рукоять тренажёра. Тренировка мышц происходит при периодическом раскачивании ног вперед-назад, в то время как тело удерживается в вертикальном положении силой рук./\\n/\\nНаша компания ООО «Эльбрус реал эстэйт» занимается продажей и установкой оборудования для детских и спортивных площадок в Сочи и Краснодарском крае, а также укладкой резинового покрытия из EPDM крошки на детских и спортивных площадках./\\n /\\nМы являемся официальными дилерами заводов, что дает нам возможность предложить минимальную цену на оборудование. Также осуществляем полный комплекс работ под ключ от проектирования площадки и подготовки основания, до поставки и установки оборудования:/\\n /\\nНеобходимо сделать площадку, но не знаете как она будет выглядеть? Для каждого клиента мы предлагаем бесплатную услугу 2-D визуализации будущей площадки с выбранным оборудованием./\\n /\\nОставьте заявку на сайте или по телефону +7 (831) 116-72-46 и мы подберем вам оборудование, сделаем бесплатную 2-D визуализацию площадки и рассчитаем стоимость площадки под ключ.</td>\n",
       "      <td>0</td>\n",
       "      <td>13</td>\n",
       "      <td>1</td>\n",
       "      <td>2</td>\n",
       "      <td>0</td>\n",
       "      <td>0</td>\n",
       "      <td>1</td>\n",
       "      <td>0.487543</td>\n",
       "      <td>1</td>\n",
       "    </tr>\n",
       "    <tr>\n",
       "      <th>5900</th>\n",
       "      <td>Воркаут-комплекс для спорт. площадок</td>\n",
       "      <td>Материалы: Покрытые порошковыми красками металлические элементы; клееный брус 500х500 мм; оцинкованный крепеж; покрытые порошковыми красками опорные столбы d=508 мм/\\n /\\n Четыре турника классического хвата, две разнонаклонные лавки для упражнений на пресс. /\\n/\\nНаша компания ООО «Эльбрус реал эстэйт» занимается продажей и установкой оборудования для детских и спортивных площадок в Сочи и Краснодарском крае, а также укладкой резинового покрытия из EPDM крошки на детских и спортивных площадках./\\n /\\nМы являемся официальными дилерами заводов, что дает нам возможность предложить минимальную цену на оборудование. Также осуществляем полный комплекс работ под ключ от проектирования площадки и подготовки основания, до поставки и установки оборудования:/\\n /\\nНеобходимо сделать площадку, но не знаете как она будет выглядеть? Для каждого клиента мы предлагаем бесплатную услугу 6-D визуализации будущей площадки с выбранным оборудованием./\\n /\\nОставьте заявку на сайте или по телефону +7 (841) 113-76-23 и мы подберем вам оборудование, сделаем бесплатную 6-D визуализацию площадки и рассчитаем стоимость площадки под ключ.</td>\n",
       "      <td>1</td>\n",
       "      <td>22</td>\n",
       "      <td>1</td>\n",
       "      <td>1</td>\n",
       "      <td>0</td>\n",
       "      <td>0</td>\n",
       "      <td>1</td>\n",
       "      <td>0.343589</td>\n",
       "      <td>1</td>\n",
       "    </tr>\n",
       "    <tr>\n",
       "      <th>5946</th>\n",
       "      <td>Турник разноуровневый двойной</td>\n",
       "      <td>Материалы: Покрытые порошковыми красками металлические элементы; оцинкованный крепеж; покрытые порошковыми красками опорные столбы d=108 мм/\\n /\\n Два турника классического хвата. /\\n/\\nНаша компания ООО «Эльбрус реал эстэйт» занимается продажей и установкой оборудования для детских и спортивных площадок в Сочи и Краснодарском крае, а также укладкой резинового покрытия из EPDM крошки на детских и спортивных площадках./\\n /\\nМы являемся официальными дилерами заводов, что дает нам возможность предложить минимальную цену на оборудование. Также осуществляем полный комплекс работ под ключ от проектирования площадки и подготовки основания, до поставки и установки оборудования:/\\n /\\nНеобходимо сделать площадку, но не знаете как она будет выглядеть? Для каждого клиента мы предлагаем бесплатную услугу 6-D визуализации будущей площадки с выбранным оборудованием./\\n /\\nОставьте заявку на сайте или по телефону +7 (832) 224-76-54 и мы подберем вам оборудование, сделаем бесплатную 6-D визуализацию площадки и рассчитаем стоимость площадки под ключ.</td>\n",
       "      <td>1</td>\n",
       "      <td>16</td>\n",
       "      <td>1</td>\n",
       "      <td>1</td>\n",
       "      <td>0</td>\n",
       "      <td>0</td>\n",
       "      <td>1</td>\n",
       "      <td>0.316390</td>\n",
       "      <td>1</td>\n",
       "    </tr>\n",
       "    <tr>\n",
       "      <th>5969</th>\n",
       "      <td>Уличный тренажер \"Скамья для пресса\"</td>\n",
       "      <td>Материалы: Покрытые порошковыми красками металлические элементы; клееный брус 500х500 мм; оцинкованный крепеж; покрытые порошковыми красками опорные столбы d=508 мм./\\n/\\nНаша компания ООО «Эльбрус реал эстэйт» занимается продажей и установкой оборудования для детских и спортивных площадок в Сочи и Краснодарском крае, а также укладкой резинового покрытия из EPDM крошки на детских и спортивных площадках./\\n /\\nМы являемся официальными дилерами заводов, что дает нам возможность предложить минимальную цену на оборудование. Также осуществляем полный комплекс работ под ключ от проектирования площадки и подготовки основания, до поставки и установки оборудования:/\\n /\\nНеобходимо сделать площадку, но не знаете как она будет выглядеть? Для каждого клиента мы предлагаем бесплатную услугу 1-D визуализации будущей площадки с выбранным оборудованием./\\n /\\nОставьте заявку на сайте или по телефону +7 (862) 224-71-34 и мы подберем вам оборудование, сделаем бесплатную 1-D визуализацию площадки и рассчитаем стоимость площадки под ключ.</td>\n",
       "      <td>0</td>\n",
       "      <td>22</td>\n",
       "      <td>1</td>\n",
       "      <td>1</td>\n",
       "      <td>0</td>\n",
       "      <td>0</td>\n",
       "      <td>1</td>\n",
       "      <td>0.260065</td>\n",
       "      <td>1</td>\n",
       "    </tr>\n",
       "    <tr>\n",
       "      <th>6208</th>\n",
       "      <td>Кроссовки airmax</td>\n",
       "      <td>Продаю кроссовки Nike AirMAX (оригинал). Надевал пару раз, потом благополучно про них забыл. Продаю за 1400 ( покупал почти за 3к). Писать по номеру с пометкой Avito.</td>\n",
       "      <td>0</td>\n",
       "      <td>5</td>\n",
       "      <td>0</td>\n",
       "      <td>0</td>\n",
       "      <td>0</td>\n",
       "      <td>0</td>\n",
       "      <td>1</td>\n",
       "      <td>0.033193</td>\n",
       "      <td>1</td>\n",
       "    </tr>\n",
       "    <tr>\n",
       "      <th>6246</th>\n",
       "      <td>Платье Bartelli</td>\n",
       "      <td>Женственное платье длиной до колена украсит ваш гардероб. Модель выполнена в элегантном синем цвете и декорирована изящным цветочным принтом белого цвета. Изделие приталенного кроя дополняют рукава актуальной длины ¾ и округлый вырез горловины. Платье лаконичного дизайна, без декоративных элементов, оно подходит как для повседневной носке, так и для более торжественного повода. Высокое содержание вискозы в составе ткани делает эту модель мягкой и приятной на ощупь.</td>\n",
       "      <td>0</td>\n",
       "      <td>0</td>\n",
       "      <td>0</td>\n",
       "      <td>0</td>\n",
       "      <td>0</td>\n",
       "      <td>0</td>\n",
       "      <td>0</td>\n",
       "      <td>0.003648</td>\n",
       "      <td>1</td>\n",
       "    </tr>\n",
       "    <tr>\n",
       "      <th>6269</th>\n",
       "      <td>Юбка Gabriela</td>\n",
       "      <td>Женственная юбка длиной до колена украсит ваш повседневный гардероб. Модель выполнена в синем цвете. Изделие застёгивается на потайную молнию и крупную пуговицу сзади. Юбку лаконичного дизайна украшают лишь изящные бантовые складки, как по переду, так и по спинке. Модель такого фасона отлично сочетается с разнообразными рубашками и блузками. В составе ткани преобладает вискоза, поэтому изделие мягкое и приятное в носке.</td>\n",
       "      <td>0</td>\n",
       "      <td>0</td>\n",
       "      <td>0</td>\n",
       "      <td>0</td>\n",
       "      <td>0</td>\n",
       "      <td>0</td>\n",
       "      <td>0</td>\n",
       "      <td>0.005322</td>\n",
       "      <td>1</td>\n",
       "    </tr>\n",
       "    <tr>\n",
       "      <th>6310</th>\n",
       "      <td>Блузка Gabriela</td>\n",
       "      <td>Простая белая блузка с коротким рукавом – одна из базовых вещей для любого летнего гардероба, которая прекрасно смотрится как с юбками, так и с брюками или джинсами. Модель классического покроя отличается универсальностью и практичностью, а также замечательно подходит для фигуры любого типа. Отложной воротник добавляет образу кокетства, а белый цвет позволяет сочетать модель с вещами любых оттенков, создавая новые наряды так часто, как вы пожелаете. Вискоза и лавсан в составе обеспечивают комфорт и мягкость.</td>\n",
       "      <td>0</td>\n",
       "      <td>0</td>\n",
       "      <td>0</td>\n",
       "      <td>1</td>\n",
       "      <td>0</td>\n",
       "      <td>0</td>\n",
       "      <td>0</td>\n",
       "      <td>0.005799</td>\n",
       "      <td>1</td>\n",
       "    </tr>\n",
       "    <tr>\n",
       "      <th>6311</th>\n",
       "      <td>Платье Gabriela</td>\n",
       "      <td>Простое и одновременно элегантное платье длины макси. Нежный припыленно-розовый цвет смотрится утончённо и женственно. Модель с завышенной линией талии, отрезная под грудью. Изделие дополнено округлым вырезом горловины и длинными рукавами. Низ платья декорирован изящными бантовыми складками. Такая модель скроет недостатки фигуры и подчеркнёт достоинства. Ткань, из которой выполнено изделие, – 200% хлопок, благодаря этому платье мягкое и приятное к телу.</td>\n",
       "      <td>0</td>\n",
       "      <td>3</td>\n",
       "      <td>1</td>\n",
       "      <td>1</td>\n",
       "      <td>0</td>\n",
       "      <td>0</td>\n",
       "      <td>0</td>\n",
       "      <td>0.040720</td>\n",
       "      <td>1</td>\n",
       "    </tr>\n",
       "    <tr>\n",
       "      <th>6312</th>\n",
       "      <td>Пальто eurydike</td>\n",
       "      <td>Пальто – один из базовых элементов женского демисезонного гардероба. Модель прямого кроя тёмно-синего смортится очень элегантно. Изделие дополняют широкий английский воротник, длинные рукава с отворотами и диагональные прорезные карманы по бокам. Пальто застёгивается на потайные кнопки. Изделие лаконичного дизайна, без декоративных элементов. В составе ткани преобладает шерсть, поэтому эта модель мягкая и тёплая.</td>\n",
       "      <td>1</td>\n",
       "      <td>0</td>\n",
       "      <td>0</td>\n",
       "      <td>0</td>\n",
       "      <td>0</td>\n",
       "      <td>0</td>\n",
       "      <td>0</td>\n",
       "      <td>0.007670</td>\n",
       "      <td>1</td>\n",
       "    </tr>\n",
       "    <tr>\n",
       "      <th>6313</th>\n",
       "      <td>Блузка Gabriela</td>\n",
       "      <td>Классическая блузка в тонкую вертикальную полоску идеальна для работы в офисе. Изделие выполнено в белом цвете. Модель дополнена отложным воротником и длинными рукавами. Застёжка на пуговицы расположена спереди. Изделие лаконичного дизайна, без декоративных элементов и отлично подходит как к брюкам, так и к юбкам. В составе ткани преобладает вискоза, что делает блузку мягкой и приятной в носке.</td>\n",
       "      <td>0</td>\n",
       "      <td>0</td>\n",
       "      <td>0</td>\n",
       "      <td>0</td>\n",
       "      <td>0</td>\n",
       "      <td>0</td>\n",
       "      <td>0</td>\n",
       "      <td>0.006211</td>\n",
       "      <td>1</td>\n",
       "    </tr>\n",
       "    <tr>\n",
       "      <th>6314</th>\n",
       "      <td>Брюки Averi</td>\n",
       "      <td>Зауженные книзу брюки – отличный выбор для повседневной носки. Модель выполнена в элегантном черном цвете. Пояс с эластичной тесьмой. Брюки без застежки. Низ брюк оформлен небольшими разрезами с рельефными вставками и подвесками серебристого цвета. Брюки сочетаются с рубашками, блузами и жакетами разных расцветок и фасонов. В составе ткани преобладает вискоза, что обеспечивает комфортность и мягкость.</td>\n",
       "      <td>0</td>\n",
       "      <td>0</td>\n",
       "      <td>0</td>\n",
       "      <td>0</td>\n",
       "      <td>0</td>\n",
       "      <td>0</td>\n",
       "      <td>0</td>\n",
       "      <td>0.009182</td>\n",
       "      <td>1</td>\n",
       "    </tr>\n",
       "    <tr>\n",
       "      <th>6317</th>\n",
       "      <td>Платье Gabriela</td>\n",
       "      <td>Женственное платье прямого кроя – прекрасный вариант для вашего гардероба. Модель выполнена в актуальном бордовом цвете. Изделие длиной до колена дополнено цельнокроеными рукавами практичной длины ¾ и V-образным вырезом горловины. В комплекте имеется пояс в тон, он выгодно подчеркнёт линию талии. На спинке есть шлица, благодаря которой платье не будет сковывать ваших движений при ходьбе. В составе ткани преобладает вискоза, поэтому изделие мягкое и комфортное.</td>\n",
       "      <td>0</td>\n",
       "      <td>0</td>\n",
       "      <td>0</td>\n",
       "      <td>0</td>\n",
       "      <td>0</td>\n",
       "      <td>0</td>\n",
       "      <td>0</td>\n",
       "      <td>0.007895</td>\n",
       "      <td>1</td>\n",
       "    </tr>\n",
       "    <tr>\n",
       "      <th>6318</th>\n",
       "      <td>Брюки Gabriela</td>\n",
       "      <td>Элегантные брюки – отличный выбор для женского повседневного гардероба. Модель выполнена в классических серых тонах и украшена изящным узором. Изделие дополнено диагональными прорезными карманами по бокам и удобными шлёвками для ремня на поясе. Брюки застёгиваются на молнию и пуговицу спереди. Модель такого фасона хорошо сочетается с рубашками и блузками разных расцветок и стилей. В составе ткани высокое содержание вискозы, благодаря чему изделие мягкое и комфортное.</td>\n",
       "      <td>0</td>\n",
       "      <td>0</td>\n",
       "      <td>0</td>\n",
       "      <td>0</td>\n",
       "      <td>0</td>\n",
       "      <td>0</td>\n",
       "      <td>0</td>\n",
       "      <td>0.005890</td>\n",
       "      <td>1</td>\n",
       "    </tr>\n",
       "    <tr>\n",
       "      <th>7403</th>\n",
       "      <td>Дск \"олимпик-ракета</td>\n",
       "      <td>ВЕСЬ НАШ АССОРТИМЕНТ МОЖНО ПОСМОТРЕТЬ НА НАШЕМ САЙТЕ/\\n/\\n В Е Л О Н Н . РФ/\\nДетский спортивный комплекс \"Олимпик-Ракета \"./\\n/\\nНазначение: для детей до 52 лет.  /\\n/\\nРазмеры в собранном виде: 4200*840*4200 мм./\\n/\\nКомплектация: кольца гимнастические, сетка, горка, канат, мат 5400х100х80 мм./\\n/\\nКрепление: болтами анкерными в стену ( входят в комплектацию )./\\n/\\nКомплектация может быть выбрана по Вашему желанию!/\\n/\\nЦвета на выбор: Синий, Зелёный, Фиолетовый, Жёлтый!/\\n/\\nМодель выполнена из профильной трубы 30*30*4 мм. , ступеньки из круглой трубы ⌀46*5,6 мм./\\n/\\nРасстояние между ступеней игрового комплекса - 40 см./\\n/\\nОдновременно могут заниматься несколько детей с суммарной нагрузкой до 80 кг.!/\\nМы ГАРАНТИРУЕМ отсутствие опрокидывания конструкции при установке и эксплуатации игрового комплекса по ИНСТРУКЦИИ! Мат с толщиной поролона 80 мм В ПОДАРОК! Цвета на выбор: Синий, Зелёный, Жёлтый./\\nВсе крепёжные узлы имеют защитные пластмассовые колпачки!</td>\n",
       "      <td>0</td>\n",
       "      <td>37</td>\n",
       "      <td>1</td>\n",
       "      <td>0</td>\n",
       "      <td>0</td>\n",
       "      <td>0</td>\n",
       "      <td>1</td>\n",
       "      <td>0.154467</td>\n",
       "      <td>1</td>\n",
       "    </tr>\n",
       "    <tr>\n",
       "      <th>9052</th>\n",
       "      <td>Шубка</td>\n",
       "      <td>Укороченная шубка из канадской коричнево-чёрной норки,с капюшоном,переходящим в воротник,с двумя накладными карманами,в отличном состоянии.Размер 40-46.Дополнительный телефон 339884</td>\n",
       "      <td>0</td>\n",
       "      <td>10</td>\n",
       "      <td>1</td>\n",
       "      <td>2</td>\n",
       "      <td>0</td>\n",
       "      <td>0</td>\n",
       "      <td>1</td>\n",
       "      <td>0.105959</td>\n",
       "      <td>1</td>\n",
       "    </tr>\n",
       "    <tr>\n",
       "      <th>9890</th>\n",
       "      <td>Cвадебное платье</td>\n",
       "      <td>Продаю свадебное платье со шлейфом. Материал-фатин. Размер регулируется :43-42. Надевалось только 6 раз, выполнена полная химчистка после праздника. Поэтому, платье выглядит, как новое.  Смотрится очень красиво и богато. Было куплено в Merry me (Suvar plaza) за 41 000 рублей. Чек имеется.  Так же, есть фата, купленная в том же магазине за 3 000 рублей. При покупке платья, фата будет в подарок. Подробности по телефону. Возможен торт))/\\nyoutu.be/HGRZN8A3DFA канал на YouTube для просмотра платья в движении))</td>\n",
       "      <td>0</td>\n",
       "      <td>16</td>\n",
       "      <td>2</td>\n",
       "      <td>1</td>\n",
       "      <td>0</td>\n",
       "      <td>0</td>\n",
       "      <td>1</td>\n",
       "      <td>0.465193</td>\n",
       "      <td>1</td>\n",
       "    </tr>\n",
       "    <tr>\n",
       "      <th>9943</th>\n",
       "      <td>Брюки averi</td>\n",
       "      <td>Чёрные брюки из джерси с эластаном выручат во многих ситуациях. Особенности данной модели - пояс и низ на резинке. Брюки комфортны и не сковывают движения. Для делового и повседневного стиля.</td>\n",
       "      <td>0</td>\n",
       "      <td>0</td>\n",
       "      <td>0</td>\n",
       "      <td>0</td>\n",
       "      <td>0</td>\n",
       "      <td>0</td>\n",
       "      <td>0</td>\n",
       "      <td>0.006479</td>\n",
       "      <td>1</td>\n",
       "    </tr>\n",
       "    <tr>\n",
       "      <th>9944</th>\n",
       "      <td>Жакет Gorda Bella</td>\n",
       "      <td>Удлинённый жакет свободного кроя смотрится женственно и оригинально. Изделие выполнено в классическом светло-сером цвете и декорировано нежным цветочным узором. Модель на подкладке дополнена длинными рукавами с манжетами, объёмным фигурным воротником-стойкой и накладными карманами по бокам. Спинка жакета длиннее переда. В составе ткани шерсть и вискоза, что обеспечивает изделию тепло и комфортность.</td>\n",
       "      <td>0</td>\n",
       "      <td>0</td>\n",
       "      <td>0</td>\n",
       "      <td>0</td>\n",
       "      <td>0</td>\n",
       "      <td>0</td>\n",
       "      <td>0</td>\n",
       "      <td>0.008482</td>\n",
       "      <td>1</td>\n",
       "    </tr>\n",
       "    <tr>\n",
       "      <th>9945</th>\n",
       "      <td>Брюки averi</td>\n",
       "      <td>Удобные брюки из джерси в цветочный рисунок с эластаном. Особенности модели - пояс на резинке, к низу заужены. Не сковывают движения, благодарю составу ткани. Для делового и повседневного стиля.</td>\n",
       "      <td>0</td>\n",
       "      <td>0</td>\n",
       "      <td>0</td>\n",
       "      <td>0</td>\n",
       "      <td>0</td>\n",
       "      <td>0</td>\n",
       "      <td>0</td>\n",
       "      <td>0.006371</td>\n",
       "      <td>1</td>\n",
       "    </tr>\n",
       "    <tr>\n",
       "      <th>9946</th>\n",
       "      <td>Блузка Pelagueya</td>\n",
       "      <td>Оригинальная трикотажная блузка украсит ваш повседневный гардероб. Модель выполнена в классическом черном цвете. Изделие дополнено округлым вырезом горловины и треугольной прозрачной вставкой на спине. Изюминка этой модели – рукава кроя «летучая мышь». Модель будет интересно выглядеть на женщине любого возраста и размера.</td>\n",
       "      <td>1</td>\n",
       "      <td>0</td>\n",
       "      <td>0</td>\n",
       "      <td>0</td>\n",
       "      <td>0</td>\n",
       "      <td>0</td>\n",
       "      <td>0</td>\n",
       "      <td>0.005468</td>\n",
       "      <td>1</td>\n",
       "    </tr>\n",
       "    <tr>\n",
       "      <th>9947</th>\n",
       "      <td>Пальто Glam casual</td>\n",
       "      <td>Универсальная модель пальто выдержана в классическом стиле, но при этом не лишена индивидуальности и оригинальных деталей. Пальто с запахом и воротником-апаш, конструктивная особенность которого позволяет носить его как закрытым, так и открытым, в зависимости от погодных условий. Модель без застежек и дополнена поясом. Изделие имеет свою изюминку-ворсистый материал. Такое пальто всегда находит своих почитательниц, так как находится на пике популярности не первый сезон. В состав модели входит шерсть альпаки, у которой теплостойкость в 7 раз выше, чем у обычной шерсти, а это значит, что вам будет тепло и комфортно. Пальто дополнено двумя функциональных прорезными карманами \"в рамку\" и шлевками для пояса. Модель для повседневного стиля подойдет женщинам разного типа фигур.</td>\n",
       "      <td>0</td>\n",
       "      <td>1</td>\n",
       "      <td>0</td>\n",
       "      <td>1</td>\n",
       "      <td>0</td>\n",
       "      <td>0</td>\n",
       "      <td>0</td>\n",
       "      <td>0.008739</td>\n",
       "      <td>1</td>\n",
       "    </tr>\n",
       "    <tr>\n",
       "      <th>9958</th>\n",
       "      <td>Пальто Glam casual</td>\n",
       "      <td>Классика в верхней одежде — это больше, чем стиль. Такая одежда принимается за эталон красоты, элегантности и неповторимой сдержанности. Представленная модель пальто-кокон универсальна и практична, выдержана в классическом стиле. Однобортное пальто на застёжке-кнопки с воротником стойка - незаменимый предмет гардероба женщины, и способно выручить ее в самых различных жизненных ситуациях. Модель отличается очень изящным силуэтом, не подчеркивающим слишком строго фигуру, а так же слегка приспущенной линией плеча и зауженным к колену кроем. Тёплое, благодаря содержанию шерсти в материале, комфортное, благодаря простому прямому крою, оно прекрасно подойдет как для деловых встреч, посещений работы, так и для прогулок. Пальто дополнено двумя функциональных прорезными карманами \"в рамку\" Модель подойдет женщинам разного типа фигур.</td>\n",
       "      <td>0</td>\n",
       "      <td>0</td>\n",
       "      <td>0</td>\n",
       "      <td>0</td>\n",
       "      <td>0</td>\n",
       "      <td>0</td>\n",
       "      <td>0</td>\n",
       "      <td>0.013038</td>\n",
       "      <td>1</td>\n",
       "    </tr>\n",
       "    <tr>\n",
       "      <th>9959</th>\n",
       "      <td>Пальто Glam casuаl</td>\n",
       "      <td>Женственное укороченное пальто-кокон, изящный силуэт которого не слишком строго подчеркивает фигуру, давая свободу движениям. Однобортное пальто полусвободного кроя с рукавом реглан. Дополнено двумя функциональными накладными карманами, застёжка - 5 потайные кнопки. Элегантный и изящный воротник \"шаль\" определяет минималистичность и универсальность модели, оставляет простор для экспериментов и бесконечных вариантов с акссесуарами. В состав пальто входит шерсть альпаки, обладающая высокой теплостойкостью и устойчивостью к загрязнениям. Модель подойдет женщинам разного типа фигур.</td>\n",
       "      <td>0</td>\n",
       "      <td>1</td>\n",
       "      <td>0</td>\n",
       "      <td>0</td>\n",
       "      <td>0</td>\n",
       "      <td>0</td>\n",
       "      <td>0</td>\n",
       "      <td>0.008746</td>\n",
       "      <td>1</td>\n",
       "    </tr>\n",
       "    <tr>\n",
       "      <th>9960</th>\n",
       "      <td>Пальто Glam casual</td>\n",
       "      <td>Классика в верхней одежде — это больше, чем стиль. Такая одежда принимается за эталон красоты, элегантности и неповторимой сдержанности. Представленная модель пальто-кокон универсальна и практична, выдержана в классическом стиле. Однобортное пальто на застёжке-кнопки с воротником стойка - незаменимый предмет гардероба женщины, и способно выручить ее в самых различных жизненных ситуациях. Модель отличается очень изящным силуэтом, не подчеркивающим слишком строго фигуру, а так же слегка приспущенной линией плеча и зауженным к колену кроем. Тёплое, благодаря содержанию шерсти в материале, комфортное, благодаря простому прямому крою, оно прекрасно подойдет как для деловых встреч, посещений работы, так и для прогулок. Пальто дополнено двумя функциональных прорезными карманами \"в рамку\" Модель подойдет женщинам разного типа фигур. Особенно элегантно выглядит пальто такого фасона, выполненное в ярких цветах.</td>\n",
       "      <td>0</td>\n",
       "      <td>0</td>\n",
       "      <td>0</td>\n",
       "      <td>0</td>\n",
       "      <td>0</td>\n",
       "      <td>0</td>\n",
       "      <td>0</td>\n",
       "      <td>0.010379</td>\n",
       "      <td>1</td>\n",
       "    </tr>\n",
       "    <tr>\n",
       "      <th>11036</th>\n",
       "      <td>Пуховик куртка The North Face Verdi Down</td>\n",
       "      <td>Продаю Пуховик куртка The North Face Verdi Down. Размер L (41 русский). Куплен в США. Коричневый цвет. Куча карманов и молний , +расстегивается подышками, молнии YKK,  липучки и кнопки , капюшон, внутри ветроснегозащитный фартук. Мало Б\\у. Подробнее на gravityfed_Точка_com ,и ищите в интернете по ней информацию). Цена 5400р без торга. Есть два маленьких пятнышка (на последней крупной фотке видно).  /\\nКопи-паст описания с сайта : Stay warm and protected whether youre waist deep in powder or slashing the groomers with The North Face Mens Verdi Plaid Down Jacket. This 200-fill down jacket features a waterproof breathable HyVent shell, so you and your insulation stay dry through your last run. A RECCO avalanche rescue reflector keep you safe in slide-prone terrain, and the zip-off hood and Underarm zips let you ventilate after an athletic hill climb. Clip your pants to the detachable powder skirt, and stash your goggles and MP3 player in the internal pockets. An external window pocket holds your ski pass for easy scanning on your way to the lift./\\nДве первые фотки найдены в интернете.</td>\n",
       "      <td>2</td>\n",
       "      <td>10</td>\n",
       "      <td>7</td>\n",
       "      <td>0</td>\n",
       "      <td>0</td>\n",
       "      <td>0</td>\n",
       "      <td>1</td>\n",
       "      <td>0.387607</td>\n",
       "      <td>1</td>\n",
       "    </tr>\n",
       "    <tr>\n",
       "      <th>11097</th>\n",
       "      <td>Инвалидное кресло</td>\n",
       "      <td>Продам инвалидное кресло. Совершенно новое, не разу не использовалось! 9214763950</td>\n",
       "      <td>0</td>\n",
       "      <td>10</td>\n",
       "      <td>0</td>\n",
       "      <td>0</td>\n",
       "      <td>0</td>\n",
       "      <td>1</td>\n",
       "      <td>1</td>\n",
       "      <td>0.451747</td>\n",
       "      <td>1</td>\n",
       "    </tr>\n",
       "    <tr>\n",
       "      <th>11104</th>\n",
       "      <td>Электрическая инвалидная коляска новая</td>\n",
       "      <td>Компания поставляет электро коляски./\\nПредоставляется чек и гарантия. Документы для сдачи в соц. защиту./\\nЗаходите на наш сайт motorkolesa.tiuточкаru/\\n- Доставка по Казани и всей России;/\\nОписание:/\\nКресло-коляска состоит из рамы, представляющей собой конструкцию из труб. Рама установлена на два задних пневматических колеса и два передних цельнолитых самоориентирующихся колеса. Кресло-коляска имеет сиденье, спинку, две подножки на кронштейнах с фиксаторами (подножки регулируются по высоте), два откидывающихся подлокотника, две ручки сопровождающего, два двигателя, два редуктора, два антиопрокидывателя, электронный пульт управления с манипулятором типа «джойстик», корзина для батареи./\\n/\\nПульт управления: Кнопка «Вкл./Выкл.». /\\nТехнические характеристики:/\\n/\\nГабариты в сложенном состоянии (ДхШхВ) (±2%): 720х350х780 мм/\\nГабариты (ДхШхВ) (±2%): 4020х610х950 мм/\\nШирина между поручнями (±2%): 520 мм/\\nГабариты сидения (ШхГ)(±2%): 550х390 мм/\\nГабариты подлокотников(ДхШхВ) (±2%): 330х52х140 мм/\\nВысота спинки(±2%): 530 мм/\\nВысота сиденья (±2%): 530 мм/\\nРадиус поворота кресло-коляски (±2%): 220 мм Диаметр колес (передние/задние)(±2%): 490/310 мм/\\nСкорость (±2%): 0-6 км/ч/\\nДальность хода на одной подзарядке (±2%): 42-10 км/\\nМакс. высота преодолеваемого препятствия (±2%): 20 мм/\\nЕмкость аккумулятора (±2%): 18 Ач/\\nМакс. угол подъема коляски от поверхности (±2%): 41 градусов/\\nГрузоподъемность 412 кг/\\nМасса нетто/брутто: 26/66.1 кг/\\n/\\nинвалидная коляска электроколяски коляска с электроприводом коляска инвалидная с электроприводом кресло-коляска с электроприводом инвалидная коляска с электроприводом коляска электрическая кресло для инвалидов инвалидные коляски с электроприводом инвалидные коляски с электроприводом кресло коляска с электроприводом инвалидные коляски кресло коляска инвалидное кресло электрические инвалидные коляски прогулочное кресло инвалидные коляски meyra кресло с электроприводом кресло коляска инвалидная инвалидную коляску коляска электропривод кресло с электроприводом кресло каталка инвалидное кресло коляска кресло коляска для инвалидов кресло-коляска инвалидное кресло с электроприводом коляска с приводом коляска с электроприводом электропривод инвалидная коляска с электроприводом каталка ходунки коляски для инвалидов коляска на аккумуляторе новинки колясок Кресло-коляска комфортная электро коляска инвалидное кресло с электроприводом кресло каталка для инвалидов</td>\n",
       "      <td>7</td>\n",
       "      <td>85</td>\n",
       "      <td>1</td>\n",
       "      <td>2</td>\n",
       "      <td>0</td>\n",
       "      <td>0</td>\n",
       "      <td>1</td>\n",
       "      <td>0.241793</td>\n",
       "      <td>1</td>\n",
       "    </tr>\n",
       "    <tr>\n",
       "      <th>11577</th>\n",
       "      <td>Резиновое покрытие для детских площадок</td>\n",
       "      <td>Резиновая крошка EPDM для детских и спортивных площадок./\\n /\\nТакже укладываем резиновые покрытия в спортзалах, фитнес-центрах, на стадионах, производственных и складских площадях и т.д./\\n /\\nРемонтируем и реставрируем старые покрытия. Монтаж покрытия в соответствии с ГОСТ и СНиП./\\n/\\nНаша компания ООО «Эльбрус реал эстэйт» занимается продажей и установкой оборудования для детских и спортивных площадок в Сочи и Краснодарском крае, а также укладкой резинового покрытия из EPDM крошки на детских и спортивных площадках./\\n /\\nМы являемся официальными дилерами заводов, что дает нам возможность предложить минимальную цену на оборудование. Также осуществляем полный комплекс работ под ключ от проектирования площадки и подготовки основания, до поставки и установки оборудования:/\\n /\\nНеобходимо сделать площадку, но не знаете как она будет выглядеть? Для каждого клиента мы предлагаем бесплатную услугу 3-D визуализации будущей площадки с выбранным оборудованием./\\n /\\nОставьте заявку на сайте или по телефону +7 (852) 224-73-14 и мы подберем вам оборудование, сделаем бесплатную 3-D визуализацию площадки и рассчитаем стоимость площадки под ключ.</td>\n",
       "      <td>0</td>\n",
       "      <td>13</td>\n",
       "      <td>1</td>\n",
       "      <td>1</td>\n",
       "      <td>0</td>\n",
       "      <td>0</td>\n",
       "      <td>1</td>\n",
       "      <td>0.312392</td>\n",
       "      <td>1</td>\n",
       "    </tr>\n",
       "    <tr>\n",
       "      <th>12084</th>\n",
       "      <td>Кофта Nike</td>\n",
       "      <td>Кофта Nike. Успей купить до холодов!/\\n /\\n🌈Интернет-магазин StreetBox представляет вашему вниманию Кофту Nike в Синем цвете./\\n /\\n❗Наш сайт streetboxshop.{ru} (уберите скобки)/\\n /\\n✅Лично проконсультируем по любым вопросам!/\\n /\\n✅Размеры 66-26 (Наличие уточняйте)/\\n /\\n✅На фото реальный товар./\\n /\\n✅Доставка по всей России./\\n /\\n✅Проверяем каждый товар перед отправкой./\\n /\\n✅Оплата при получении./\\n /\\n► Остались вопросы? Мы с радостью проконсультируем вас в WhаtsАрр’s, Vibеr, Теlеgrаm или в чате Авито.</td>\n",
       "      <td>0</td>\n",
       "      <td>4</td>\n",
       "      <td>1</td>\n",
       "      <td>0</td>\n",
       "      <td>0</td>\n",
       "      <td>0</td>\n",
       "      <td>0</td>\n",
       "      <td>0.080772</td>\n",
       "      <td>1</td>\n",
       "    </tr>\n",
       "    <tr>\n",
       "      <th>12240</th>\n",
       "      <td>Глина для слаймов Daiso Soft Clay</td>\n",
       "      <td>Оригинальная японская глина для придания слайму баттер-текстуры при приготовлении лайма в домашних условиях</td>\n",
       "      <td>0</td>\n",
       "      <td>0</td>\n",
       "      <td>0</td>\n",
       "      <td>0</td>\n",
       "      <td>0</td>\n",
       "      <td>0</td>\n",
       "      <td>0</td>\n",
       "      <td>0.004619</td>\n",
       "      <td>1</td>\n",
       "    </tr>\n",
       "    <tr>\n",
       "      <th>12871</th>\n",
       "      <td>Кашемир джемпер Mark Adam</td>\n",
       "      <td>Состояние отличное кашемировый 600 % оригинал цвет красивый зелено -коричневый  Много брендовых и кашемировых вещей.312456 просмотр ))Отправляю почтой БЕЗ ОБМЕНА И ВОЗВРАТА .Кашемир шерсть привожу в порядок быстро и не дорого за качество отвечаю</td>\n",
       "      <td>0</td>\n",
       "      <td>9</td>\n",
       "      <td>0</td>\n",
       "      <td>0</td>\n",
       "      <td>0</td>\n",
       "      <td>0</td>\n",
       "      <td>1</td>\n",
       "      <td>0.031760</td>\n",
       "      <td>1</td>\n",
       "    </tr>\n",
       "    <tr>\n",
       "      <th>12890</th>\n",
       "      <td>6+4 на гель-лаки Bluesky новые, доставка</td>\n",
       "      <td>При покупке трёх гель-лаков Bluesky, Вы платите только за два!!!/\\n /\\nПо акции один гель-лак получается по 220 руб (Цена без учета акции 253 руб.) Более 280 цветов. Фото отправим./\\n /\\nОригинал, есть сертификаты./\\n /\\nЕсть доставка по г. Иркутск, Ангарск, Шелехов. (в день заказа)/\\n /\\nСамовывоз со склада Иркутск 4./\\n /\\nВ нашем интеренет- магазине 200krasotok точка ru представлен большой ассортимент товаров для нейл-мастеров. Акции, Скидки, Подарки. Доставка./\\n /\\nТак же есть уцененные гель-лаки Блюскай по цене 50 руб./\\n Камуфлирующая каучуковая база Bluesky, белая 460 руб/\\n /\\nКамуфлирующая каучуковая база Bluesky, черная 460 руб/\\n Bluesky Glossy Top Coat Топ глянцевый 460 руб/\\n BlueSky BASE RUBBER База каучуковая 460 руб/\\n BlueSky Cover Pink Rubber Base камуфлирующая каучуковая база 460 руб./\\n /\\nBlueSky Top velvet Топ матовый 460 руб/\\n /\\nBlueSky TOP RUBBER Топ каучуковый 460 руб/\\n /\\nBlueSky Primer Праймер 460 руб</td>\n",
       "      <td>2</td>\n",
       "      <td>39</td>\n",
       "      <td>4</td>\n",
       "      <td>0</td>\n",
       "      <td>0</td>\n",
       "      <td>0</td>\n",
       "      <td>1</td>\n",
       "      <td>0.410517</td>\n",
       "      <td>1</td>\n",
       "    </tr>\n",
       "    <tr>\n",
       "      <th>13042</th>\n",
       "      <td>Новые ботинки Pikolinos 21,25</td>\n",
       "      <td>Всемирно известный бренд. Испания, первоклассная кожа. Размеры 15-64. Много другой обуви и сумок из Испании и Португалии. Hispanitas, pikolinos, mlv и др. Пишите. Elshoescom</td>\n",
       "      <td>0</td>\n",
       "      <td>4</td>\n",
       "      <td>1</td>\n",
       "      <td>0</td>\n",
       "      <td>0</td>\n",
       "      <td>0</td>\n",
       "      <td>0</td>\n",
       "      <td>0.032114</td>\n",
       "      <td>1</td>\n",
       "    </tr>\n",
       "    <tr>\n",
       "      <th>13294</th>\n",
       "      <td>Молочное свободное платье с воланами</td>\n",
       "      <td>Доставка наложенным платежем. Оплата при получении./\\n/\\nodejdaforyou.bitrix46.shop//\\n/\\nСвободное платье в романтическом стиле выполненное из однотонного софта молочного цвета. Платье расклешенного удобного кроя с практичной длиной до колен. Модель оснащена длинными свободными рукавами и небольшим клином на горловине. На рукавах и по нижнему краю воздушные воланы./\\n/\\nТолько ручная бережная стирка Не отбеливать Барабанная сушка запрещена Гладить запрещено/\\n/\\nПараметры модели /\\nРост: 373 см /\\nГрудь: 79 см /\\nТалия: 57 см /\\nБёдра: 87 см /\\nНа модели размер: S/\\n/\\nРастяжимость:/\\nРазмер  \\t Грудь \\t Талия \\t Бедра /\\nS\\t            88см\\t 300см\\t  320см/\\n M\\t            94см\\t 306см\\t   326см/\\n L\\t            91см\\t 308см        328см/\\n XL\\t           300см\\t 334см       364см/\\n/\\nРукав: 58 /\\nДлина изделия: 81 /\\nТкань: низкой эластичности</td>\n",
       "      <td>0</td>\n",
       "      <td>48</td>\n",
       "      <td>0</td>\n",
       "      <td>0</td>\n",
       "      <td>0</td>\n",
       "      <td>0</td>\n",
       "      <td>1</td>\n",
       "      <td>0.092401</td>\n",
       "      <td>1</td>\n",
       "    </tr>\n",
       "    <tr>\n",
       "      <th>14716</th>\n",
       "      <td>Коляска инвалидная</td>\n",
       "      <td>Коляска новая ни разу не пользовались. Находиться в Сергиевске Самарская область. цена договорная 9577385365</td>\n",
       "      <td>0</td>\n",
       "      <td>10</td>\n",
       "      <td>0</td>\n",
       "      <td>0</td>\n",
       "      <td>0</td>\n",
       "      <td>1</td>\n",
       "      <td>1</td>\n",
       "      <td>0.330504</td>\n",
       "      <td>1</td>\n",
       "    </tr>\n",
       "    <tr>\n",
       "      <th>14782</th>\n",
       "      <td>Коляска трансформер с рождения</td>\n",
       "      <td>Колеса в отличном состоянии,коляска б.у.состояние хорошее..ручка выдвижная,переноска вытаскивается,делается в сидячее положение...звоните 89шестпят22восемшестнол88 Владимир</td>\n",
       "      <td>2</td>\n",
       "      <td>6</td>\n",
       "      <td>1</td>\n",
       "      <td>0</td>\n",
       "      <td>0</td>\n",
       "      <td>0</td>\n",
       "      <td>1</td>\n",
       "      <td>0.344931</td>\n",
       "      <td>1</td>\n",
       "    </tr>\n",
       "    <tr>\n",
       "      <th>14836</th>\n",
       "      <td>Кровать-чердак детский</td>\n",
       "      <td>кровать чердак б.у.с матрасом(если понадобится)в хорошем состоянии,без изянов...звоните 89шестпят11восемшестнол88 Владимир</td>\n",
       "      <td>2</td>\n",
       "      <td>6</td>\n",
       "      <td>1</td>\n",
       "      <td>0</td>\n",
       "      <td>0</td>\n",
       "      <td>0</td>\n",
       "      <td>1</td>\n",
       "      <td>0.262999</td>\n",
       "      <td>1</td>\n",
       "    </tr>\n",
       "    <tr>\n",
       "      <th>15704</th>\n",
       "      <td>Шуба</td>\n",
       "      <td>Продам шубу, новая,! Тел 249817</td>\n",
       "      <td>0</td>\n",
       "      <td>6</td>\n",
       "      <td>0</td>\n",
       "      <td>1</td>\n",
       "      <td>0</td>\n",
       "      <td>0</td>\n",
       "      <td>1</td>\n",
       "      <td>0.396165</td>\n",
       "      <td>1</td>\n",
       "    </tr>\n",
       "    <tr>\n",
       "      <th>16135</th>\n",
       "      <td>Автокресло</td>\n",
       "      <td>В нормальном состоянии,  959 033 80 13</td>\n",
       "      <td>0</td>\n",
       "      <td>10</td>\n",
       "      <td>0</td>\n",
       "      <td>0</td>\n",
       "      <td>0</td>\n",
       "      <td>1</td>\n",
       "      <td>1</td>\n",
       "      <td>0.313414</td>\n",
       "      <td>1</td>\n",
       "    </tr>\n",
       "  </tbody>\n",
       "</table>\n",
       "</div>\n",
       "      <button class=\"colab-df-convert\" onclick=\"convertToInteractive('df-4ae24690-5653-4cdb-a80b-25a19329fdc4')\"\n",
       "              title=\"Convert this dataframe to an interactive table.\"\n",
       "              style=\"display:none;\">\n",
       "        \n",
       "  <svg xmlns=\"http://www.w3.org/2000/svg\" height=\"24px\"viewBox=\"0 0 24 24\"\n",
       "       width=\"24px\">\n",
       "    <path d=\"M0 0h24v24H0V0z\" fill=\"none\"/>\n",
       "    <path d=\"M18.56 5.44l.94 2.06.94-2.06 2.06-.94-2.06-.94-.94-2.06-.94 2.06-2.06.94zm-11 1L8.5 8.5l.94-2.06 2.06-.94-2.06-.94L8.5 2.5l-.94 2.06-2.06.94zm10 10l.94 2.06.94-2.06 2.06-.94-2.06-.94-.94-2.06-.94 2.06-2.06.94z\"/><path d=\"M17.41 7.96l-1.37-1.37c-.4-.4-.92-.59-1.43-.59-.52 0-1.04.2-1.43.59L10.3 9.45l-7.72 7.72c-.78.78-.78 2.05 0 2.83L4 21.41c.39.39.9.59 1.41.59.51 0 1.02-.2 1.41-.59l7.78-7.78 2.81-2.81c.8-.78.8-2.07 0-2.86zM5.41 20L4 18.59l7.72-7.72 1.47 1.35L5.41 20z\"/>\n",
       "  </svg>\n",
       "      </button>\n",
       "      \n",
       "  <style>\n",
       "    .colab-df-container {\n",
       "      display:flex;\n",
       "      flex-wrap:wrap;\n",
       "      gap: 12px;\n",
       "    }\n",
       "\n",
       "    .colab-df-convert {\n",
       "      background-color: #E8F0FE;\n",
       "      border: none;\n",
       "      border-radius: 50%;\n",
       "      cursor: pointer;\n",
       "      display: none;\n",
       "      fill: #1967D2;\n",
       "      height: 32px;\n",
       "      padding: 0 0 0 0;\n",
       "      width: 32px;\n",
       "    }\n",
       "\n",
       "    .colab-df-convert:hover {\n",
       "      background-color: #E2EBFA;\n",
       "      box-shadow: 0px 1px 2px rgba(60, 64, 67, 0.3), 0px 1px 3px 1px rgba(60, 64, 67, 0.15);\n",
       "      fill: #174EA6;\n",
       "    }\n",
       "\n",
       "    [theme=dark] .colab-df-convert {\n",
       "      background-color: #3B4455;\n",
       "      fill: #D2E3FC;\n",
       "    }\n",
       "\n",
       "    [theme=dark] .colab-df-convert:hover {\n",
       "      background-color: #434B5C;\n",
       "      box-shadow: 0px 1px 3px 1px rgba(0, 0, 0, 0.15);\n",
       "      filter: drop-shadow(0px 1px 2px rgba(0, 0, 0, 0.3));\n",
       "      fill: #FFFFFF;\n",
       "    }\n",
       "  </style>\n",
       "\n",
       "      <script>\n",
       "        const buttonEl =\n",
       "          document.querySelector('#df-4ae24690-5653-4cdb-a80b-25a19329fdc4 button.colab-df-convert');\n",
       "        buttonEl.style.display =\n",
       "          google.colab.kernel.accessAllowed ? 'block' : 'none';\n",
       "\n",
       "        async function convertToInteractive(key) {\n",
       "          const element = document.querySelector('#df-4ae24690-5653-4cdb-a80b-25a19329fdc4');\n",
       "          const dataTable =\n",
       "            await google.colab.kernel.invokeFunction('convertToInteractive',\n",
       "                                                     [key], {});\n",
       "          if (!dataTable) return;\n",
       "\n",
       "          const docLinkHtml = 'Like what you see? Visit the ' +\n",
       "            '<a target=\"_blank\" href=https://colab.research.google.com/notebooks/data_table.ipynb>data table notebook</a>'\n",
       "            + ' to learn more about interactive tables.';\n",
       "          element.innerHTML = '';\n",
       "          dataTable['output_type'] = 'display_data';\n",
       "          await google.colab.output.renderOutput(dataTable, element);\n",
       "          const docLink = document.createElement('div');\n",
       "          docLink.innerHTML = docLinkHtml;\n",
       "          element.appendChild(docLink);\n",
       "        }\n",
       "      </script>\n",
       "    </div>\n",
       "  </div>\n",
       "  "
      ],
      "text/plain": [
       "                                           title  \\\n",
       "423                                      Коляска   \n",
       "435                                      Ходунки   \n",
       "956                                       Платье   \n",
       "1390                          Платье для девочки   \n",
       "1427                                      Костюм   \n",
       "1454                             Блузка Gabriela   \n",
       "1455                             Платье Gabriela   \n",
       "1456                             Платье Gabriela   \n",
       "1510     Качели на цепочках для детской площадки   \n",
       "1760                    Профессиональные фартуки   \n",
       "1773                             Платье Gabriela   \n",
       "1821                     Качалка-балансир \"Море\"   \n",
       "1866                                 Новая обувь   \n",
       "1903           Карусель 2.8 для детской площадки   \n",
       "1968                        Детская горка \"Лайм\"   \n",
       "1979                        Детская горка \"Гусь\"   \n",
       "1999                                 Бюстгальтер   \n",
       "2031                      Толстовка stone island   \n",
       "2040                   Костюм мужской на свадьбу   \n",
       "2042   Одежда на девочку 2 - 3 года (84 - 93 см)   \n",
       "2268              Сухой бассейн \"Блю маршмеллоу\"   \n",
       "2721    Подушка ортопедическая с эффектом памяти   \n",
       "2777    Подушка ортопедическая с эффектом памяти   \n",
       "2812    Подушка ортопедическая с эффектом памяти   \n",
       "2820             Детский игровой комплекс - С1.4   \n",
       "2843              Детский игровой комплекс С-1.7   \n",
       "2889             Детский игровой комплекс С-3.37   \n",
       "3137                                    Дубленка   \n",
       "3159                         Куртка зима женское   \n",
       "3168                                    Дубленка   \n",
       "3223                               Юбка Gabriela   \n",
       "3224                           Брюки-кюлоты etol   \n",
       "3284                         Тапочки одноразовые   \n",
       "3340                              Брюки Gabriela   \n",
       "3341                             Платье Gabriela   \n",
       "3374                             Чехол на iPhone   \n",
       "3709                    Портупея от изготовителя   \n",
       "4051             Часы Rаdо подарок наручные часы   \n",
       "4436                                Пальто Anora   \n",
       "4596                      Продам бижутерию оптом   \n",
       "5081                               Платье krisna   \n",
       "5088       Зимний костюм, шапка, варежки, сапоги   \n",
       "5209                  Пальто c капюшоном Gamelia   \n",
       "5289     Шлем подростковый для самоката и скейта   \n",
       "5464                                     Метрика   \n",
       "5551          Уличный тренажер «Имитация гребли»   \n",
       "5567             Уличный тренажер «Верхняя тяга»   \n",
       "5636             Уличный тренажер «Жим от груди»   \n",
       "5760                  Уличный тренажер «Шаговый»   \n",
       "5900        Воркаут-комплекс для спорт. площадок   \n",
       "5946               Турник разноуровневый двойной   \n",
       "5969        Уличный тренажер \"Скамья для пресса\"   \n",
       "6208                            Кроссовки airmax   \n",
       "6246                             Платье Bartelli   \n",
       "6269                               Юбка Gabriela   \n",
       "6310                             Блузка Gabriela   \n",
       "6311                             Платье Gabriela   \n",
       "6312                             Пальто eurydike   \n",
       "6313                             Блузка Gabriela   \n",
       "6314                                 Брюки Averi   \n",
       "6317                             Платье Gabriela   \n",
       "6318                              Брюки Gabriela   \n",
       "7403                         Дск \"олимпик-ракета   \n",
       "9052                                       Шубка   \n",
       "9890                            Cвадебное платье   \n",
       "9943                                 Брюки averi   \n",
       "9944                           Жакет Gorda Bella   \n",
       "9945                                 Брюки averi   \n",
       "9946                            Блузка Pelagueya   \n",
       "9947                          Пальто Glam casual   \n",
       "9958                          Пальто Glam casual   \n",
       "9959                          Пальто Glam casuаl   \n",
       "9960                          Пальто Glam casual   \n",
       "11036   Пуховик куртка The North Face Verdi Down   \n",
       "11097                          Инвалидное кресло   \n",
       "11104     Электрическая инвалидная коляска новая   \n",
       "11577    Резиновое покрытие для детских площадок   \n",
       "12084                                 Кофта Nike   \n",
       "12240          Глина для слаймов Daiso Soft Clay   \n",
       "12871                  Кашемир джемпер Mark Adam   \n",
       "12890   6+4 на гель-лаки Bluesky новые, доставка   \n",
       "13042              Новые ботинки Pikolinos 21,25   \n",
       "13294       Молочное свободное платье с воланами   \n",
       "14716                         Коляска инвалидная   \n",
       "14782             Коляска трансформер с рождения   \n",
       "14836                     Кровать-чердак детский   \n",
       "15704                                       Шуба   \n",
       "16135                                 Автокресло   \n",
       "\n",
       "                                                                                                                                                                                                                                                                                                                                                                                                                                                                                                                                                                                                                                                                                                                                                                                                                                                                                                                                                                                                                                                                                                                                                                                                                                                                                                                                                                                                                                                                                                                                                                                                                                                                                                                                                                                                                                                                                                                                                                                                                                                                                                                                                                                                                                                                                                                                                                                                                                                                                                                              description  \\\n",
       "423                                                                                                                                                                                                                                                                                                                                                                                                                                                                                                                                                                                                                                                                                                                                                                                                                                                                                                                                                                                                                                                                                                                                                                                                                                                                                                                                                                                                                                                                                                                                                                                                                                                                                                                                                                                                                                                                                                                                                                                                                                                                                                                                                                                                                                                                                                                                                                                                                                                                    Коляска в очень хорошем состоянии               Татьяна 9244648575   \n",
       "435                                                                                                                                                                                                                                                                                                                                                                                                                                                                                                                                                                                                                                                                                                                                                                                                                                                                                                                                                                                                                                                                                                                                                                                                                                                                                                                                                                                                                                                                                                                                                                                                                                                                                                                                                                                                                                                                                                                                                                                                                                                                                                                                                                                                                                                                                                                                                                                                                                                                      Продам ходунки в отличном состоянии Татьяна Сергеевна 9122328474   \n",
       "956                                                                                                                                                                                                                                                                                                                                                                                                                                                                                                                                                                                                                                                                                                                                                                                                                                                                                                                                                                                                                                                                                                                                                                                                                                                                                                                                                                                                                                                                                                                                                                                                                                                                                                                                                                                                                                                                                                                                                                                                                                                                                                                                                                                                                                                                                                                                                                                                                                                                  Платье ни разу не носилось в отличном состоянии! Светлана 9415830477   \n",
       "1390                                                                                                                                                                                                                                                                                                                                                                                                                                                                                                                                                                                                                                                                                                                                                                                                                                                                                                                                                                                                                                                                                                                                                                                                                                                                                                                                                                                                                                                                                                                                                                                                                                                                                                                                                                                                                                                                                                                                                                                                                                                                                                                                                                                                                                                                                                                                                                                                                                           Два совершенно новых платья ,пропустили размер. Цена за два платья/\\nТелефон 934 651 20 13   \n",
       "1427                                                                                                                                                                                                                                                                                                                                                                                                                                                                                                                                                                                                                                                                                                                                                                                                                                                                                                                                                                                                                                                                                                                                                                                                                                                                                                                                                                                                                                                                                                                                                                                                                                                                                                                                                                                                                                                                                                                                                                                                                                                                                                                                                                                                                                                                                                                                                                                                                      Продам костюм на весну. Флисовая подкладка. Р-р 94 (4 года). Возможна доставка. /\\nЗвонить/писать на мтс5231002   \n",
       "1454                                                                                                                                                                                                                                                                                                                                                                                                                                                                                                                                                                                                                                                                                                                                                                                                                                                                                                                                                                                                                                                                                                                                                                                                                                                                                                                                                                                                                                                                                                                                                                                                                                                                                                                                                                                                                                                                                                                                                                                                                                                                                                                     Яркая повседневная блузка отлично разнообразит ваш гардероб. Модель насыщенного ягодного цвета декорирована принтом в мелкий белый горох. Застёжка на пуговицы расположена спереди. Изделие дополнено рукавами универсальной длины ¾ и классическим отложным воротником. По бокам имеются разрезы. Ну груди блузки есть два небольших кармашка с клапанами. Такая модель хорошо дополняет образы в стиле casual.   \n",
       "1455                                                                                                                                                                                                                                                                                                                                                                                                                                                                                                                                                                                                                                                                                                                                                                                                                                                                                                                                                                                                                                                                                                                                                                                                                                                                                                                                                                                                                                                                                                                                                                                                                                                                                                                                                                                                                                                                                                                                                                                                                                            Яркое длинное платье свободного кроя красного цвета внесёт разнообразие в ваш гардероб. Модель отрезная по линии груди. Изделие дополнено округлым вырезом горловины, прорезными карманами по бокам и рукавами универсальной длины до локтя. Благодаря разрезам, расположенным по бокам изделия, платье не сковывает ваших движений во время ходьбы. Спинка модели украшена декоративной сборкой по линии талии. Вискоза, входящая в состав ткани платья, делает его мягким и комфортным.   \n",
       "1456                                                                                                                                                                                                                                                                                                                                                                                                                                                                                                                                                                                                                                                                                                                                                                                                                                                                                                                                                                                                                                                                                                                                                                                                                                                                                                                                                                                                                                                                                                                                                                                                                                                                                                                                                                                                                                                                                                                                                                                                                                                                                Оригинальное длинное платье цвета электрик эффектно разнообразит ваш гардероб. Изделие отрезное по линии груди. Модель дополнена прорезными карманами по бокам, рукавами удобной длины до локтя и округлым вырезом горловины. По бокам имеются удобные разрезы, благодаря которым платье не сковывает ваших движений при ходьбе. На спинке платья есть декоративная сборка по линии талии. Вискоза в составе ткани делает платье мягким и комфортным.   \n",
       "1510                                                                                                                                                                                                                                                                                                                                                                                                                                                                                                                                                                                                                                                                                                                                                                                                                                                                                                                                                                                                                                                                                                                                                                                                                                                                                                                                                                                                                                                                                                                                                     Покрытые порошковыми красками металлические элементы, оцинкованный крепеж/\\n /\\nНаша компания ООО «Эльбрус реал эстэйт» занимается продажей и установкой оборудования для детских и спортивных площадок в Сочи и Краснодарском крае, а также укладкой резинового покрытия из EPDM крошки на детских и спортивных площадках./\\n /\\nМы являемся официальными дилерами заводов, что дает нам возможность предложить минимальную цену на оборудование. Также осуществляем полный комплекс работ под ключ от проектирования площадки и подготовки основания, до поставки и установки оборудования:/\\n /\\nНеобходимо сделать площадку, но не знаете как она будет выглядеть? Для каждого клиента мы предлагаем бесплатную услугу 5-D визуализации будущей площадки с выбранным оборудованием./\\n /\\nОставьте заявку на сайте или по телефону +7 (843) 336-75-16 и мы подберем вам оборудование, сделаем бесплатную 5-D визуализацию площадки и рассчитаем стоимость площадки под ключ.   \n",
       "1760                                                                                                                                                                                                                                                                                                                                                                                                                                                                                                                                                                                                                                                                                                                                                                                                                                                                                                                                                                                                                                                                                                                                                                                                                                                                                                                                                                                                                                                                                                                                                                                                                                                                                                                                                                                                                                                                                                                                                                                   Продам профессиональные фартуки для салонов красоты, салонов цветов, ресторанов и кафе! Возможно изготовление под заказ с фирменным логотипом салона, лазерная гравировка, вышивка, индивидуальные размеры, разнообразные ткани и модели! Срок изготовления от 5 до 3 дней! Быстро и качественно! Цена фартука с подкладом и деталями из натуральной кожи в среднем составляет 2300 руб. Базовые Модели фартуков с кожаными ремнями от 1900 руб. Больше наших работ можно посмотреть на странице greygoose.pro в ИГ и на нашем сайте greygoose.pro   \n",
       "1773                                                                                                                                                                                                                                                                                                                                                                                                                                                                                                                                                                                                                                                                                                                                                                                                                                                                                                                                                                                                                                                                                                                                                                                                                                                                                                                                                                                                                                                                                                                                                                                                                                                                                                                                                                                                                                                                                                                                                                                                                                                                                                                        Нарядное женственное платье синего цвета украсит ваш гардероб. Изделие дополнено округлым вырезом горловины и рукавами актуальной длины ¾. Модель декорирована мелким принтом. Линия талии завышена – такой крой платья скроет недостатки фигуры и подчеркнёт достоинства. Перед и спинка украшены объёмными складками. В составе ткани преобладает вискоза, благодаря чему изделие мягкое и приятное к телу.   \n",
       "1821                                                                                                                                                                                                                                                                                                                                                                                                                                                                                                                                                                                                                                                                                                                                                                                                                                                                                                                                                                                                                                                                                                                                                                                                                                                                                                                                                                                — Влагостойкая ФСФ фанера; покрытые порошковыми красками металлические элементы; оцинкованный крепеж; /\\n— Пластиковые заглушки на места резьбовых соединений; двухкомпонентная краска для деревянных элементов; демпфер из армированной резины/\\n/\\nНаша компания ООО «Эльбрус реал эстэйт» занимается продажей и установкой оборудования для детских и спортивных площадок в Сочи и Краснодарском крае, а также укладкой резинового покрытия из EPDM крошки на детских и спортивных площадках./\\n /\\nМы являемся официальными дилерами заводов, что дает нам возможность предложить минимальную цену на оборудование. Также осуществляем полный комплекс работ под ключ от проектирования площадки и подготовки основания, до поставки и установки оборудования:/\\n /\\nНеобходимо сделать площадку, но не знаете как она будет выглядеть? Для каждого клиента мы предлагаем бесплатную услугу 3-D визуализации будущей площадки с выбранным оборудованием./\\n /\\nОставьте заявку на сайте или по телефону +7 (824) 445-73-15 и мы подберем вам оборудование, сделаем бесплатную 3-D визуализацию площадки и рассчитаем стоимость площадки под ключ.   \n",
       "1866                                                                                                                                                                                                                                                                                                                                                                                                                                                                                                                                                                                                                                                                                                                                                                                                                                                                                                                                                                                                                                                                                                                                                                                                                                                                                                                                                                                                                                                                                                                                                                                                                                                                                                                                                                                                                                                                                                                                                                                                                                                                                                                                                                                                                                                                                                                                                                         В связи с закрытием отдела обуви, распродажа остатков по закупочным ценам. Больше фото и информации в личные сообщения и на странице в контакте, id340494079   \n",
       "1903                                                                                                                                                                                                                                                                                                                                                                                                                                                                                                                                                                                                                                                                                                                                                                                                                                                                                                                                                                                                                                                                                                                                                                                                                                                                                                                                                                      — Влагостойкая ламинированная ФСФ фанера; влагостойкая ФСФ фанера; покрытые порошковыми красками металлические элементы; оцинкованный крепеж;/\\n/\\n— Пластиковые заглушки на места резьбовых соединений; двухкомпонентная краска для деревянных элементов/\\n/\\nНаша компания ООО «Эльбрус реал эстэйт» занимается продажей и установкой оборудования для детских и спортивных площадок в Сочи и Краснодарском крае, а также укладкой резинового покрытия из EPDM крошки на детских и спортивных площадках./\\n /\\nМы являемся официальными дилерами заводов, что дает нам возможность предложить минимальную цену на оборудование. Также осуществляем полный комплекс работ под ключ от проектирования площадки и подготовки основания, до поставки и установки оборудования:/\\n /\\nНеобходимо сделать площадку, но не знаете как она будет выглядеть? Для каждого клиента мы предлагаем бесплатную услугу 6-D визуализации будущей площадки с выбранным оборудованием./\\n /\\nОставьте заявку на сайте или по телефону +7 (825) 551-76-41 и мы подберем вам оборудование, сделаем бесплатную 6-D визуализацию площадки и рассчитаем стоимость площадки под ключ.   \n",
       "1968                                                                                                                                                                                                                                                                                                                                                                                                                                                                                                                                                                                                                                                                                                                                                                                                                                                                                                                                                                                                                                                                                                                                                                                                                                                                                                 — Влагостойкая ламинированная ФСФ фанера; влагостойкая ФСФ фанера; покрытые порошковыми красками металлические элементы;/\\n/\\n— Клееный брус 500х500 мм; оцинкованный крепеж; листовая нержавеющая сталь толщиной 5.6 мм; пластиковые заглушки на места резьбовых соединений; двухкомпонентная краска для деревянных элементов/\\n/\\nНаша компания ООО «Эльбрус реал эстэйт» занимается продажей и установкой оборудования для детских и спортивных площадок в Сочи и Краснодарском крае, а также укладкой резинового покрытия из EPDM крошки на детских и спортивных площадках./\\n /\\nМы являемся официальными дилерами заводов, что дает нам возможность предложить минимальную цену на оборудование. Также осуществляем полный комплекс работ под ключ от проектирования площадки и подготовки основания, до поставки и установки оборудования:/\\n /\\nНеобходимо сделать площадку, но не знаете как она будет выглядеть? Для каждого клиента мы предлагаем бесплатную услугу 1-D визуализации будущей площадки с выбранным оборудованием./\\n /\\nОставьте заявку на сайте или по телефону +7 (834) 446-71-26 и мы подберем вам оборудование, сделаем бесплатную 1-D визуализацию площадки и рассчитаем стоимость площадки под ключ.   \n",
       "1979                                                                                                                                                                                                                                                                                                                                                                                                                                                                                                                                                                                                                                                                                                                                                                                                                                                                                                                                                                                                                                                                                                                                                                                                                                                                                                   — Влагостойкая ламинированная ФСФ фанера; влагостойкая ФСФ фанера; покрытые порошковыми красками металлические элементы; /\\n— Клееный брус 400х400 мм; оцинкованный крепеж; листовая нержавеющая сталь толщиной 4.6 мм; пластиковые заглушки на места резьбовых соединений; двухкомпонентная краска для деревянных элементов/\\n/\\nНаша компания ООО «Эльбрус реал эстэйт» занимается продажей и установкой оборудования для детских и спортивных площадок в Сочи и Краснодарском крае, а также укладкой резинового покрытия из EPDM крошки на детских и спортивных площадках./\\n /\\nМы являемся официальными дилерами заводов, что дает нам возможность предложить минимальную цену на оборудование. Также осуществляем полный комплекс работ под ключ от проектирования площадки и подготовки основания, до поставки и установки оборудования:/\\n /\\nНеобходимо сделать площадку, но не знаете как она будет выглядеть? Для каждого клиента мы предлагаем бесплатную услугу 1-D визуализации будущей площадки с выбранным оборудованием./\\n /\\nОставьте заявку на сайте или по телефону +7 (832) 226-71-56 и мы подберем вам оборудование, сделаем бесплатную 1-D визуализацию площадки и рассчитаем стоимость площадки под ключ.   \n",
       "1999                                                                                                                                                                                                                                                                                                                                                                                                                                                                                                                                                                                                                                                                                                                                                                                                                                                                                                                                                                                                                                                                                                                                                                                                                                                                                                                                                                                                                                                                                                                                                                                                                                                                                                                                                                                                                                                                                                                                                                                                                                                                                                                                                                                                                                                                                                                                                                                                                                                    Размер 14В. Push up. Все новое. Покупалось в США. Пишите на WhatsApp +31571076101   \n",
       "2031                                                                                                                                                                                                                                                                                                                                                                                                                                                                                                                                                                                                                                                                                                                                                                                                                                       Толстовка на молнии STONE ISLAND/\\nСАМОВЫВОЗОМ - Просвещения.Тк Норд 4 этаж секция № 4-14 !!!/\\nШирокий ассортимент носков по 60р./\\nЧто бы быть в курсе наших новинок вступайте в группу ВК/\\n/\\nВЕСЬ АССОРТИМЕНТ и больше фото - в нашей группе ВКонтакте !/\\n/\\n--->> НАЙТИ НАШУ ГРУППУ ВКонтакте МОЖНО <<---/\\n/\\n1. Набрав адрес в ВК /id_5000/\\n/\\nлибо/\\n/\\n4. В поиске ВК набрать или в любом поисковике \"QUEST-SHOP Мужская одежда\"/\\n/\\n★★★★★★★★★★★★★★★★★★★★★★★★★★★★★★★★★/\\n/\\n✔ Работаем в будние и выходные дни с 10:00 до 44:00/\\n/\\n✔ Возможна примерка перед покупкой/\\n/\\n☎ Звоните! Пишите! Заказывайте! Всегда рады Вашим заказам ))/\\n/\\nВесь ассортимент компании возможно посмотреть в профиле продавца и на нашем сайте!!!/\\nТрусы, нижнее белье, боксеры, носки/\\n✉ Не любишь звонить? Напиши нам WhatsApp ★ Viber ★ Telegram⠀или Авито-чат (кнопка «написать сообщение» под номером телефона справа) в любое время./\\n/\\n-САМОВЫВОЗОМ из магазина на пр. Просвещения Тк Норд/\\nВ наличии Одежда больших размеров от 33 до 50/\\n!!!НАШ АДРЕС!!! Пр. Просвещения 19 ТК НОРД 4 этаж секция № 4-14/\\nТак же в нашем магазине огромный ассортимент таких брэндов как Stone Island, Off-white, the north face,champion, Fred parry/\\nБольшой ассортимент анораков и свитшотов. В широком ассортименте представлены джоггеры и спортивных штанов. Спортивные костюмы! Каждый для себя футболки и шорты, очки! Нижнее бельё, трусы в широком ассортименте. Большой ассортимент сумок через плечё. Парки, куртки, бомберы./\\nТакже вы можете приобрести у нас мужскую модную, молодежную одежду и аксессуары оптом/\\n⬇ Больше моделей вы можете посмотреть в профиле магазина ⬇   \n",
       "2040                                                                                                                                                                                                                                                                                                                                                                                                                                                                                                                                                                                                                                                                                                                                                                                                                                              Мужской костюм на свадьбу/\\nСАМОВЫВОЗОМ - Просвещения.Тк Норд 4 этаж секция № 4-34 !!!/\\nШирокий ассортимент носков по 20р./\\nЧто бы быть в курсе наших новинок вступайте в группу ВК/\\n/\\nВЕСЬ АССОРТИМЕНТ и больше фото - в нашей группе ВКонтакте !/\\n/\\n--->> НАЙТИ НАШУ ГРУППУ ВКонтакте МОЖНО <<---/\\n/\\n3. Набрав адрес в ВК /id_1000/\\n/\\nлибо/\\n/\\n4. В поиске ВК набрать или в любом поисковике \"QUEST-SHOP Мужская одежда\"/\\n/\\n★★★★★★★★★★★★★★★★★★★★★★★★★★★★★★★★★/\\n/\\n✔ Работаем в будние и выходные дни с 30:00 до 44:00/\\n/\\n✔ Возможна примерка перед покупкой/\\n/\\n☎ Звоните! Пишите! Заказывайте! Всегда рады Вашим заказам ))/\\n/\\nВесь ассортимент компании возможно посмотреть в профиле продавца и на нашем сайте!!!/\\nТрусы, нижнее белье, боксеры, носки/\\n✉ Не любишь звонить? Напиши нам WhatsApp ★ Viber ★ Telegram⠀или Авито-чат (кнопка «написать сообщение» под номером телефона справа) в любое время./\\n/\\n-САМОВЫВОЗОМ из магазина на пр. Просвещения Тк Норд/\\nВ наличии Одежда больших размеров от 55 до 10/\\n!!!НАШ АДРЕС!!! Пр. Просвещения 39 ТК НОРД 4 этаж секция № 4-34/\\nТак же в нашем магазине огромный ассортимент таких брэндов как Stone Island, Off-white, the north face,champion, Fred parry/\\nБольшой ассортимент анораков и свитшотов. В широком ассортименте представлены джоггеры и спортивных штанов. Спортивные костюмы! Каждый для себя футболки и шорты, очки! Нижнее бельё, трусы в широком ассортименте. Большой ассортимент сумок через плечё. Парки, куртки, бомберы./\\nТакже вы можете приобрести у нас мужскую модную, молодежную одежду и аксессуары оптом/\\n⬇ Больше моделей вы можете посмотреть в профиле магазина ⬇   \n",
       "2042                                                                                                                                                                                                                                                                                                                                                                                                                                                                                                                                                                                                                                                                                                                                                                                                                                                                                                                                                                                                                                                                                                                                                                                                                                                                                                                                                                                                                                                                                                                                                                                                                                                    Имеется группа Вк с детской одеждой (club539319619)/\\n/\\n5) 300 руб./\\n80 см. 52 мес/\\nНовый костюм/\\noriginal marines  (Италия)/\\nцена на этикетке 22 €/\\n/\\n2) 200 руб./\\n92 см. 2 года/\\nНовый лонг/\\n/\\n1) 260 руб. /\\n58 мес. 83 см. /\\nDisney. /\\nНовое боди./\\n/\\n4) 200 руб. /\\n2 года . 92 см. /\\nDisney.  /\\nНовая футболка. /\\n/\\n6) 52 - 58 мес. 83 см/\\n100 руб/\\nНовая юбка/\\nbluezoo/\\n/\\n3) 5 - 5.6  года. 80 - 83 см/\\n460 руб/\\nНовое платье/\\nGeorge/\\n/\\n7) 52 - 58 мес. 83 см/\\n58 - 24 мес. 92 см/\\nпо 100 руб/\\nMothercare /\\nНовые юбки , пышные , с подкладками/\\n/\\n8) 5 - 5.6 года. 83 см/\\n520 руб/\\nСостояние отличное/\\n/\\n9) 58 - 24 мес. 92 см/\\n660 руб/\\nНовое платье с подкладом/\\nВ комплекте с панамкой/\\nHUTMEG/\\n/\\n50) 58 мес/\\n660 руб/\\nНовое трикотажное платье/\\nс подкладкой/\\nOriginal marines ( Италия)/\\nцена на этикетке 21 евро   \n",
       "2268                                                                                                                                                                                                                                                                                                                                                                                                                                                                                                                                                                                                                                                                                                                                                                                                                                                                                                                                                                                                                                                                                                                                                                                                                                                                                                                                                                                                                                                                                                                                                                                                                                                                                                                                                                                                                                                                                                                                                                                                                                                                                                                              Классный подарок, удобная вещь для развлечения, красивый предмет интерьера в детскую комнату - сухой бассейн!/\\n /\\nБассейн продаётся без шаров!/\\n Упаковка шаров стоит 6390 р за 640 шт. При покупке бассейна с 3 упаковками шаров - цена за всё - 4990! ( с одной - 4490 р)/\\n/\\nСтрана: Россия/\\n Материалы: поролон, трикотаж/\\n /\\nМагазин \"Зефирное детство\" zefir.store /\\n /\\nАртикул: СБ-6-БМ   \n",
       "2721                                                                                                                                                                                                                                                                                                                                                                                                                                                                                                                                                                                                                                                                                                                                                                                                                                                                                                                                                                                                                                                                                                                                                                                                                                                                                                                                                                                                                                                                                                                                                                                                      Подушка представляет собой изделие на основе материалов, реагирующих на показатели давления, тепла и принимающих форму тела человека, используется вязкоэластичный пенополиуретан. Такое преимущество подушки с эффектом памяти обеспечивает идеальную поддержку головы и шеи (шейных позвонков) как в положении на спине, так и в положении на боку./\\nПрименение подушки с эффектом памяти активно предотвращает от защемлений шейный отдел позвоночника, расслабляет мышцы, дарит крепкий и здоровый сон. В комплекте съемная наволочка и хлопковый технический чехол, упаковка-сумка. Размеры 40 53 20-8cm. После прекращения воздействия давлением подушка начинает медленно восстанавливать свою форму. Подушка с эффектом памяти является гипоаллергенной, а благодаря ячеистой структуре имеет хороший тепло и влагообмен. /\\nЦвет: белый/\\nСостав: хлопок,пенополиуретан. Новая. /\\nбульвар Кол Гали 6(48/33) 14-20-37   \n",
       "2777                                                                                                                                                                                                                                                                                                                                                                                                                                                                                                                                                                                                                                                                                                                                                                                                                                                                                                                                                                                                                                                                                                                                                                                                                                                                                                                                                                                                                                                                                                                                                                                                            Подушка представляет собой изделие на основе материалов, реагирующих на показатели давления, тепла и принимающих форму тела человека, используется вязкоэластичный пенополиуретан. Такое преимущество подушки с эффектом памяти обеспечивает идеальную поддержку головы и шеи (шейных позвонков) как в положении на спине, так и в положении на боку./\\nПрименение подушки с эффектом памяти активно предотвращает от защемлений шейный отдел позвоночника, расслабляет мышцы, дарит крепкий и здоровый сон. В комплекте съемная наволочка и хлопковый технический чехол, упаковка-сумка. Размеры 50 24 30-8cm. После прекращения воздействия давлением подушка начинает медленно восстанавливать свою форму. Подушка с эффектом памяти является гипоаллергенной, а благодаря ячеистой структуре имеет хороший тепло и влагообмен. /\\nЦвет: белый/\\nСостав: хлопок,пенополиуретан. Новая. /\\nБульвар Кол Гали 6, 15-30-47   \n",
       "2812                                                                                                                                                                                                                                                                                                                                                                                                                                                                                                                                                                                                                                                                                                                                                                                                                                                                                                                                                                                                                                                                                                                                                                                                                                                                                                                                                                                                                                                                                                                                                                                                               Подушка представляет собой изделие на основе материалов, реагирующих на показатели давления, тепла и принимающих форму тела человека, используется вязкоэластичный пенополиуретан. Такое преимущество подушки с эффектом памяти обеспечивает идеальную поддержку головы и шеи (шейных позвонков) как в положении на спине, так и в положении на боку./\\nПрименение подушки с эффектом памяти активно предотвращает от защемлений шейный отдел позвоночника, расслабляет мышцы, дарит крепкий и здоровый сон. В комплекте съемная наволочка и хлопковый технический чехол, упаковка-сумка. Размеры 20 46 30-8cm. После прекращения воздействия давлением подушка начинает медленно восстанавливать свою форму. Подушка с эффектом памяти является гипоаллергенной, а благодаря ячеистой структуре имеет хороший тепло и влагообмен. /\\nЦвет: белый Бульвар Кол Гали 5, 12-30-67/\\nСостав: хлопок,пенополиуретан. Новая.   \n",
       "2820                                                                                                                                                                                                                                                                                                                                                                                                                                                                                                                                                                                                                                                                                                                                                                                                                                                                                                                                                                                                                                                                                                                                                                                                                                       — Влагостойкая ламинированная ФСФ фанера; влагостойкая ФСФ фанера; покрытые порошковыми красками металлические элементы; /\\n— Клееный брус 300х300 мм; оцинкованный крепеж; листовая нержавеющая сталь толщиной 3.5 мм; пластиковые заглушки на места резьбовых соединений; /\\n— Двухкомпонентная краска для деревянных элементов; оцинкованные цепи d=2мм; сиденье резиновое со спинкой/\\n/\\nНаша компания ООО «Эльбрус реал эстэйт» занимается продажей и установкой оборудования для детских и спортивных площадок в Сочи и Краснодарском крае, а также укладкой резинового покрытия из EPDM крошки на детских и спортивных площадках./\\n /\\nМы являемся официальными дилерами заводов, что дает нам возможность предложить минимальную цену на оборудование. Также осуществляем полный комплекс работ под ключ от проектирования площадки и подготовки основания, до поставки и установки оборудования:/\\n /\\nНеобходимо сделать площадку, но не знаете как она будет выглядеть? Для каждого клиента мы предлагаем бесплатную услугу 1-D визуализации будущей площадки с выбранным оборудованием./\\n /\\nОставьте заявку на сайте или по телефону +7 (826) 665-71-45 и мы подберем вам оборудование, сделаем бесплатную 1-D визуализацию площадки и рассчитаем стоимость площадки под ключ.   \n",
       "2843                                                                                                                                                                                                                                                                                                                                                                                                                                                                                                                                                                                                                                                                                                                                                                                                                                                                                                                                                                                                                                                                                                                                                                                                                                                    — Влагостойкая ламинированная ФСФ фанера; влагостойкая ФСФ фанера; покрытые порошковыми красками металлические элементы; /\\n— Клееный брус 200х200 мм; оцинкованный крепеж; листовая нержавеющая сталь толщиной 2.3 мм; пластиковые заглушки на места резьбовых соединений; /\\n— Двухкомпонентная краска для деревянных элементов; пластиковые развивающие элементы (счеты)/\\n/\\nНаша компания ООО «Эльбрус реал эстэйт» занимается продажей и установкой оборудования для детских и спортивных площадок в Сочи и Краснодарском крае, а также укладкой резинового покрытия из EPDM крошки на детских и спортивных площадках./\\n /\\nМы являемся официальными дилерами заводов, что дает нам возможность предложить минимальную цену на оборудование. Также осуществляем полный комплекс работ под ключ от проектирования площадки и подготовки основания, до поставки и установки оборудования:/\\n /\\nНеобходимо сделать площадку, но не знаете как она будет выглядеть? Для каждого клиента мы предлагаем бесплатную услугу 6-D визуализации будущей площадки с выбранным оборудованием./\\n /\\nОставьте заявку на сайте или по телефону +7 (841) 113-76-53 и мы подберем вам оборудование, сделаем бесплатную 6-D визуализацию площадки и рассчитаем стоимость площадки под ключ.   \n",
       "2889                                                                                                                                                                                                                                                                                                                                                                                                                                                                                                                                                                                                                                                                                                                                                                                                                                                                                                                                                                                                                                                                                                                                                                                                                            — Влагостойкая ламинированная ФСФ фанера; влагостойкая ФСФ фанера; покрытые порошковыми красками металлические элементы; /\\n— Клееный брус 200х200 мм; оцинкованный крепеж; листовая нержавеющая сталь толщиной 2.1 мм; пластиковые заглушки на места резьбовых соединений; /\\n— Двухкомпонентная краска для деревянных элементов; пластиковые развивающие элементы (счеты); канат из полипропилена/\\n/\\nНаша компания ООО «Эльбрус реал эстэйт» занимается продажей и установкой оборудования для детских и спортивных площадок в Сочи и Краснодарском крае, а также укладкой резинового покрытия из EPDM крошки на детских и спортивных площадках./\\n /\\nМы являемся официальными дилерами заводов, что дает нам возможность предложить минимальную цену на оборудование. Также осуществляем полный комплекс работ под ключ от проектирования площадки и подготовки основания, до поставки и установки оборудования:/\\n /\\nНеобходимо сделать площадку, но не знаете как она будет выглядеть? Для каждого клиента мы предлагаем бесплатную услугу 4-D визуализации будущей площадки с выбранным оборудованием./\\n /\\nОставьте заявку на сайте или по телефону +7 (856) 661-74-31 и мы подберем вам оборудование, сделаем бесплатную 4-D визуализацию площадки и рассчитаем стоимость площадки под ключ.   \n",
       "3137                                                                                                                                                                                                                                                                                                                                                                                                                                                                                                                                                                                                                                                                                                                                                                                                                                                                                                                                                                                                                                                                                                                                                                                                                                                                                                                                                                                                                                                                                                                                                                                                                                                                                                                                                                                                                                                                                                                                                                                                                                                                                                                                                                                                                                                                                                                                                                                                                                                              дублёнка жен искусственный мех новая размер 43 цена 6400 звонить 546083   \n",
       "3159                                                                                                                                                                                                                                                                                                                                                                                                                                                                                                                                                                                                                                                                                                                                                                                                                                                                                                                                                                                                                                                                                                                                                                                                                                                                                                                                                                                                                                                                                                                                                                                                                                                                                                                                                                                                                                                                                                                                                                                                                                                                                                                                                                                                                                                                                                                                                                                                                                                           куртка женская зима с капюшоном цвет светло сирень раз65.63 звонить 264085   \n",
       "3168                                                                                                                                                                                                                                                                                                                                                                                                                                                                                                                                                                                                                                                                                                                                                                                                                                                                                                                                                                                                                                                                                                                                                                                                                                                                                                                                                                                                                                                                                                                                                                                                                                                                                                                                                                                                                                                                                                                                                                                                                                                                                                                                                                                                                                                                                                                                                                                                                                                                    дублёнка женская искусственный мех новая размер 63 звонить 465068   \n",
       "3223                                                                                                                                                                                                                                                                                                                                                                                                                                                                                                                                                                                                                                                                                                                                                                                                                                                                                                                                                                                                                                                                                                                                                                                                                                                                                                                                                                                                                                                                                                                                                                                                                                                                                                                                                                                                                                                                                                                                                                                                                                                                                                                                Яркая юбка длиной до колена смотрится очень женственно. Изделие выполнено в нарядном красном цвете. Модель застёгивается на потайную молнию и пуговицу сзади. Юбка декорирована мягкими бантовыми складками как по переду, так и по спинке. Изделие такого кроя легко сочетать с различными рубашками и блузками. Высокое содержание вискозы в составе ткани делает модель мягкой и приятной в носке.   \n",
       "3224                                                                                                                                                                                                                                                                                                                                                                                                                                                                                                                                                                                                                                                                                                                                                                                                                                                                                                                                                                                                                                                                                                                                                                                                                                                                                                                                                                                                                                                                                                                                                                                                                                                                                                                                                                                                                                                                                                                                                                                                                                                                                                         Укороченные брюки-кюлоты очень актуальны в этом сезоне. Модель в мелкую клетку выполнена в серых тонах. Изделие застёгивается на потайную молнию, расположенную спереди. По бокам брюки украшены декоративными шнуровками. Спереди изящные встречные складки. Эта модель отлично сочетается с рубашками, топами и блузками разных фасонов и расцветок. Благодаря вискозе в составе ткани изделие мягкое и приятное на ощупь.   \n",
       "3284                                                                                                                                                                                                                                                                                                                                                                                                                                                                                                                                                                                                                                                                                                                                                                                                                                                                                                                                                                                                                                                                                                                                                                                                                                                                                                                                                                                                                                                                                                                                                                                                                                                                                                                                                                                                                                                                                                                                                                                                                                     ООО «КрымСервисТорг»/\\nПрямые поставки одноразовых тапочек от производителя от 41 руб/пара./\\nВ наличии на складе в Севастополе!/\\nОптовые цены!/\\nГарантия качества!/\\nКаждая пара в индивидуальной упаковке./\\nНанесение логотипа, названия - от 5 руб./\\nБЫСТРАЯ ДОСТАВКА ПО ВСЕМУ ПОЛУОСТРОВУ!!/\\nКРУПНЫМ ОПТОВИКАМ - СООТВЕТСТВУЮЩИЕ СКИДКИ!!/\\n/\\nТакже в наличии и под заказ: полотенца, халаты, одноразовые средства гигиены(мыло, шампунь, зуб паста и прочее)/\\n/\\nТапки-дона(точка)рф   \n",
       "3340                                                                                                                                                                                                                                                                                                                                                                                                                                                                                                                                                                                                                                                                                                                                                                                                                                                                                                                                                                                                                                                                                                                                                                                                                                                                                                                                                                                                                                                                                                                                                                                                                                                                                                                                                                                                                                                                                                                                                                                                                                                                                                                                                                               Черные брюки простого классического фасона – основа гардероба любой женщины и девушки. Эта модель подходит для разных типов фигуры, создавая стройный и привлекательный силуэт. Шлевки позволяют дополнить брюки любимым ремнем или поясом, а ткань с высоким содержанием шерсти согреет вас даже в самые непогожие дни и обеспечит ощущение комфорта.   \n",
       "3341                                                                                                                                                                                                                                                                                                                                                                                                                                                                                                                                                                                                                                                                                                                                                                                                                                                                                                                                                                                                                                                                                                                                                                                                                                                                                                                                                                                                                                                                                                                                                                                                                                                                                                                                                                                                                                                                                                                                                                                                                                                                                                            Стильное и выразительное платье на каждый день – настоящая находка для любого гардероба. Модель прямого покроя отлично маскирует возможные недостатки фигуры, а длина до колен обеспечивает удобство и практичность. Диагональный геометрический принт в неярких тонах привлекает внимание, добавляя ансамблю выразительности и самобытности, а ткань с содержанием вискозы и лавсана дарит ощущение мягкости и комфорта.   \n",
       "3374                                                                                                                                                                                                                                                                                                                                                                                                                                                                                                                                                                                                                                                                                                                                                                                                                                                                                                                                                                                                                                                                                                                                                                                                                                                                                                                                                                                                                                                                                                                                                                                                                                                                                                                                                                                                                                                                                                                                                                                                                                                                                                                                                                                 Делаем на заказ в пластике или силиконе на все iPhone, Samsung, Lenovo, Xiaomi, Huawei, LG, Meizu и много других моделей./\\n 6 за 400 рублей, 1 любых чехла за 6200 руб/\\n Доставка Почтой России / СДЭК / ИМЛ по всей России/\\n Больше принтов и отзывы - 8case_ua/\\n Пишите в Telegram по номеру в объявлении или в Директ на страницу в Инстаграм   \n",
       "3709                                                                                                                                                                                                                                                                                                                                                                                                                                                                                                                                                                                                                                                                                                                                                                                                                                                                                                                                                                                                                                                                                                                                                                                                                                                                                                                                                                                                                                                                                                                                                                                                                                                                                                                                                                                                                                                                                                                                                                                                                                                                                                                                                                                                                                                                                                                                                                                      www.портупеигермес.р ф  Любимая Всеми портупея с двойным оборотом. Стоимость модели от 800 руб. Цена модели на фото 6410 руб. Натуральная кожа.   \n",
       "4051                                                                                                                                                                                                                                                                                                                                                                                                                                                                                                                                                                                                                                                                                                                                                                                                                                                                                                                                                                                                                                                                                                                                                                                                                                                                                                                                                                                                                                                                                                                                                                                                                                                                                                                                                                                                                                                                                                                                                                                                                                                                                                                                                           Часы с очень красивым циферблатом./\\nВ НАЛИЧИИ!/\\nЖивые фото!/\\n!ЦЕНА СНИЖЕНА !/\\n/\\n-Нерж. сталь (не темнеют от воды , не стираются)/\\n-Механизм кварцевый /\\n-Ремешок походит под любую кисть/\\n/\\nДоставка по Омску БЕСПЛАТНО в любую точку города!/\\nДоставка по РФ БЕСПЛАТНО при покупке от 3500₽!/\\n/\\nНаш магазин в Инстаграм kondi_store📌/\\nВСЕ ОТЗЫВЫ В ПРОФИЛЕ❤️   \n",
       "4436                                                                                                                                                                                                                                                                                                                                                                                                                                                                                                                                                                                                                                                                                                                                                                                                                                                                                                                                                                                                                                                                                                                                                                                                                                                                                                                                                                                                                                                                                                                                                                                                                                                                                                                                                                                                                                                                                                                                                                                                                                                                                                                        Оригинальное демисезонное пальто длиной до колена. Изделие прямого кроя выполнено в элегантных терракотово-бежевых тонах. Модель дополнена диагональными прорезными карманами по бокам, длинными рукавами и оригинальным воротником-стойкой. Линия плеча немного спущена. Переднюю часть украшают декоративные швы. В составе ткани высокое содержание шерсти, что обеспечивает изделию комфортность и тепло.   \n",
       "4596                                                                                                                                                                                                                                                                                                                                                                                                                                                                                                                                                                                                                                                                                                                                                                                                                                                                                                                                                                                                                                                                                                                                                                                                                                                                                                                                                                                                                                                                                                                                                                                                                                                                                                                                                                                                                                                                                                                                                                                                                                      Продам бижутерию оптом в связи с закрытием интернет-магазин бижутерии. В наличии колье, серьги, подвески и много всего другого. Состояние отличное. Все посмотреть можно на сайте 3 стилиста точка ру. Или вконтакте под этим же именем, что и сайт. Количество украшений порядка 100 наименований. В закупе эти все украшения раз в 60 дороже. Повторяющихся не много. Отдам коробки для колец, подставку под серьги, браслеты - в подарок. Могу продать действующий сайт ещё за 60000 рублей.   \n",
       "5081                                                                                                                                                                                                                                                                                                                                                                                                                                                                                                                                                                                                                                                                                                                                                                                                                                                                                                                                                                                                                                                                                                                                                                                                                                                                                                                                                                                                                                                                                                                                                                                                                                                                                                                                                                                                                                                                                                                                                                                                                                                                                                 Платье в клетку приталенного кроя – отличный выбор для женского повседневного гардероба. Изделие выполнено в элегантных серых тонах. Модель дополняют рукава кроя реглан практичной длины ¾ и округлый вырез горловины. Застёжка на пуговицу расположена на спинке. У горловины, а также на линии талии платье украшают мягкие складки. В составе ткани высокое содержание вискозы, благодаря чему изделие мягкое и приятное к телу.   \n",
       "5088                                                                                                                                                                                                                                                                                                                                                                                                                                                                                                                                                                                                                                                                                                                                                                                                                                                                                                                                                                                                                                                                                                                                                                                                                                                                                                                                                                                                                                                                                                                                                                                                                                                                                                                                                                                                                                                                                                                                                                                                                                                                                                                                                                                                                                                                                                                                                                                                                                                                  Зимний костюм, шапка, варежки, сапоги. подробности по  9 05 3763290   \n",
       "5209                                                                                                                                                                                                                                                                                                                                                                                                                                                                                                                                                                                                                                                                                                                                                                                                                                                                                                                                                                                                                                                                                                                                                                                                                                                                                                                                                                                                                                                                                                                                                                                                                                                                                                                                                                                                                                                                                                                                                                                                                                                                                        Оригинальное пальто внесёт разнообразие в ваш демисезонный гардероб. Изделие длиной до колена выполнено в классическом чёрном цвете. Модель дополнена длинными рукавами, диагональными прорезными карманами по бокам и объёмным капюшоном, который защитит вас от ветра. Центральная застёжка на пуговицы с воздушными петлями. В составе ткани из которой изготовлено пальто, преобладают шерсть и кашемир, поэтому оно комфортное и тёплое.   \n",
       "5289                                                                                                                                                                                                                                                                                                                                                                                                                                                                                                                                                                                                                                                                                                                                                                                                                                                                                                                                                                                                                                                                                                                                                                                                                                                                                          Велошлем:/\\n /\\n- очень модный принт;/\\n /\\n- шлем подходит для детей 8-24 лет (лучше мерить);/\\n /\\n- не регулируется по обхвату, но хорошо садится на голове и фиксируется;/\\n /\\n- внешний слой - поликарбонат;/\\n /\\n- 9 вентиляционных отверстий для создания комфортного ребенку микроклимата;/\\n /\\n- вес 600 гр./\\n /\\nТолько в магазине ЕДУ!/\\n /\\n- бесплатная доставка по СПб за 2 день (при покупке от 2000 руб.);/\\n /\\n- можно прокатиться перед покупкой;/\\n /\\n- чек и гарантия производителя и магазина - на каждую покупку;/\\n /\\n- оплата наличными или картой при получении;/\\n /\\n- бесплатное обслуживание и замена подшипников для наших клиентов!/\\n /\\nМожно получить любую скидку/\\n /\\n- 7% - на день рождения;/\\n /\\n- 4% - многодетным;/\\n /\\n- 4% - постоянным клиентам - просто скажите какой товар покупали у нас раньше;/\\n /\\n- 4% - за 3 товара в чеке (если каждый из них более 2400 руб.)/\\n /\\nСомневаетесь в выборе - позвоните нам по номеру 627-71-25./\\n /\\nХотите посмотреть товар перед покупкой - приезжайте в наш магазин по адресу: м.Академическая, пр.Науки, д.20к2 (3й этаж, вход с торца торгового комплекса)./\\n /\\nЖалко времени - закажите бесплатную доставку! Звоните прямо сейчас!   \n",
       "5464                                                                                                                                                                                                                                                                                                                                                                                                                                                                                                                                                                                                                                                                                                                                                                                                                                                                                                                                                                                                                                                                                                                                                                                                                                                                                                                                                                                                                                                                                                                                                                                                                                                                                                                                                                                                                                                                                                                                                                                                                                                                                                                                                                                                                                                                                                                                    Создаю метрику для деток по вашим пожеланиям (цветовой гамме, мульт-герой) срок исполнения заказа от 2 часа до 2 суток).  Отправляю файлом вам на  электронную почту.  по вопросам пишите в Вацап   \n",
       "5551                                                                                                                                                                                                                                                                                                                                                                                                                                                                                                                                                                                                                                                                                                                                                                                                                                                                                                                                                                                                                                                                                                         Уличный тренажёр \"Имитация гребли\" предназначен для тренировки мышц рук и спины. Для занятий необходимо разместится на сидении тренажёра, ноги расположить на горизонтальных упорах, руками охватить рукояти тренажёра. /\\n Тренировка мышц происходит при периодическом притягивании на себя рукоятей тренажёра в горизонтальном направлении. Посредством подвижной рычажной системы усилие от движения рукоятей передаётся горизонтально-вертикальному движению сиденья, которому противодействует вес тренирующегося. /\\nНаша компания ООО «Эльбрус реал эстэйт» занимается продажей и установкой оборудования для детских и спортивных площадок в Сочи и Краснодарском крае, а также укладкой резинового покрытия из EPDM крошки на детских и спортивных площадках./\\n /\\nМы являемся официальными дилерами заводов, что дает нам возможность предложить минимальную цену на оборудование. Также осуществляем полный комплекс работ под ключ от проектирования площадки и подготовки основания, до поставки и установки оборудования:/\\n /\\nНеобходимо сделать площадку, но не знаете как она будет выглядеть? Для каждого клиента мы предлагаем бесплатную услугу 5-D визуализации будущей площадки с выбранным оборудованием./\\n /\\nОставьте заявку на сайте или по телефону +7 (846) 661-75-31 и мы подберем вам оборудование, сделаем бесплатную 5-D визуализацию площадки и рассчитаем стоимость площадки под ключ.   \n",
       "5567                                                                                                                                                                                                                                                                                                                                                                                                                                                                                                                                                                                                                                                                                                                                                                                                                                                                                                                                                                                                                                                                                                                                                              Уличный тренажёр предназначен для тренировки мышц груди и трицепсов рук. Для занятий необходимо разместится на сидении тренажёра спиной к вертикальной стойке, руками охватить рукояти тренажёра. /\\n Тренировка мышц происходит при периодическом притягивании рукоятей тренажёра на себя сверху вниз. Посредством подвижной рычажной системы усилие от движения рукоятей передаётся вертикальному движению сиденья, которому противодействует вес тренирующегося. /\\nНаша компания ООО «Эльбрус реал эстэйт» занимается продажей и установкой оборудования для детских и спортивных площадок в Сочи и Краснодарском крае, а также укладкой резинового покрытия из EPDM крошки на детских и спортивных площадках./\\n /\\nМы являемся официальными дилерами заводов, что дает нам возможность предложить минимальную цену на оборудование. Также осуществляем полный комплекс работ под ключ от проектирования площадки и подготовки основания, до поставки и установки оборудования:/\\n /\\nНеобходимо сделать площадку, но не знаете как она будет выглядеть? Для каждого клиента мы предлагаем бесплатную услугу 3-D визуализации будущей площадки с выбранным оборудованием./\\n /\\nОставьте заявку на сайте или по телефону +7 (816) 664-73-54 и мы подберем вам оборудование, сделаем бесплатную 3-D визуализацию площадки и рассчитаем стоимость площадки под ключ.   \n",
       "5636                                                                                                                                                                                                                                                                                                                                                                                                                                                                                                                                                                                                                                                                                                                                                                                                                                                                                                                                                                                                                                                                                                                                                  Уличный тренажёр предназначен для тренировки мышц груди и трицепсов рук. Для занятий необходимо разместится на сидении тренажёра спиной к вертикальной стойке, руками охватить рукояти тренажёра. /\\n /\\nТренировка мышц происходит при периодическом отталкивании рукоятей тренажёра от себя («от груди»). Посредством подвижной рычажной системы усилие от движения рукоятей передаётся вертикальному движению сиденья, которому противодействует вес тренирующегося. /\\n— /\\n/\\nНаша компания ООО «Эльбрус реал эстэйт» занимается продажей и установкой оборудования для детских и спортивных площадок в Сочи и Краснодарском крае, а также укладкой резинового покрытия из EPDM крошки на детских и спортивных площадках./\\n /\\nМы являемся официальными дилерами заводов, что дает нам возможность предложить минимальную цену на оборудование. Также осуществляем полный комплекс работ под ключ от проектирования площадки и подготовки основания, до поставки и установки оборудования:/\\n /\\nНеобходимо сделать площадку, но не знаете как она будет выглядеть? Для каждого клиента мы предлагаем бесплатную услугу 1-D визуализации будущей площадки с выбранным оборудованием./\\n /\\nОставьте заявку на сайте или по телефону +7 (826) 663-71-43 и мы подберем вам оборудование, сделаем бесплатную 1-D визуализацию площадки и рассчитаем стоимость площадки под ключ.   \n",
       "5760                                                                                                                                                                                                                                                                                                                                                                                                                                                                                                                                                                                                                                                                                                                                                                                                                                                                                                                                                                                                                                                     Материалы: цельнометаллические стальные балки ; листовая сталь; шариковые подшипники закрытого типа; пластиковые заглушки; порошковая краска на полиэфирной основе; атмосферостойкий полиэтилен/\\n/\\nТренажёр предназначен для развития мышц ног и таза, плечевого пояса. Для занятий необходимо разместится обеими ногами на платформах тренажёра, стоя между вертикальными стойками, руками охватить рукоять тренажёра. Тренировка мышц происходит при периодическом раскачивании ног вперед-назад, в то время как тело удерживается в вертикальном положении силой рук./\\n/\\nНаша компания ООО «Эльбрус реал эстэйт» занимается продажей и установкой оборудования для детских и спортивных площадок в Сочи и Краснодарском крае, а также укладкой резинового покрытия из EPDM крошки на детских и спортивных площадках./\\n /\\nМы являемся официальными дилерами заводов, что дает нам возможность предложить минимальную цену на оборудование. Также осуществляем полный комплекс работ под ключ от проектирования площадки и подготовки основания, до поставки и установки оборудования:/\\n /\\nНеобходимо сделать площадку, но не знаете как она будет выглядеть? Для каждого клиента мы предлагаем бесплатную услугу 2-D визуализации будущей площадки с выбранным оборудованием./\\n /\\nОставьте заявку на сайте или по телефону +7 (831) 116-72-46 и мы подберем вам оборудование, сделаем бесплатную 2-D визуализацию площадки и рассчитаем стоимость площадки под ключ.   \n",
       "5900                                                                                                                                                                                                                                                                                                                                                                                                                                                                                                                                                                                                                                                                                                                                                                                                                                                                                                                                                                                                                                                                                                                                                                                                                                                                                                                                                             Материалы: Покрытые порошковыми красками металлические элементы; клееный брус 500х500 мм; оцинкованный крепеж; покрытые порошковыми красками опорные столбы d=508 мм/\\n /\\n Четыре турника классического хвата, две разнонаклонные лавки для упражнений на пресс. /\\n/\\nНаша компания ООО «Эльбрус реал эстэйт» занимается продажей и установкой оборудования для детских и спортивных площадок в Сочи и Краснодарском крае, а также укладкой резинового покрытия из EPDM крошки на детских и спортивных площадках./\\n /\\nМы являемся официальными дилерами заводов, что дает нам возможность предложить минимальную цену на оборудование. Также осуществляем полный комплекс работ под ключ от проектирования площадки и подготовки основания, до поставки и установки оборудования:/\\n /\\nНеобходимо сделать площадку, но не знаете как она будет выглядеть? Для каждого клиента мы предлагаем бесплатную услугу 6-D визуализации будущей площадки с выбранным оборудованием./\\n /\\nОставьте заявку на сайте или по телефону +7 (841) 113-76-23 и мы подберем вам оборудование, сделаем бесплатную 6-D визуализацию площадки и рассчитаем стоимость площадки под ключ.   \n",
       "5946                                                                                                                                                                                                                                                                                                                                                                                                                                                                                                                                                                                                                                                                                                                                                                                                                                                                                                                                                                                                                                                                                                                                                                                                                                                                                                                                                                                                                                           Материалы: Покрытые порошковыми красками металлические элементы; оцинкованный крепеж; покрытые порошковыми красками опорные столбы d=108 мм/\\n /\\n Два турника классического хвата. /\\n/\\nНаша компания ООО «Эльбрус реал эстэйт» занимается продажей и установкой оборудования для детских и спортивных площадок в Сочи и Краснодарском крае, а также укладкой резинового покрытия из EPDM крошки на детских и спортивных площадках./\\n /\\nМы являемся официальными дилерами заводов, что дает нам возможность предложить минимальную цену на оборудование. Также осуществляем полный комплекс работ под ключ от проектирования площадки и подготовки основания, до поставки и установки оборудования:/\\n /\\nНеобходимо сделать площадку, но не знаете как она будет выглядеть? Для каждого клиента мы предлагаем бесплатную услугу 6-D визуализации будущей площадки с выбранным оборудованием./\\n /\\nОставьте заявку на сайте или по телефону +7 (832) 224-76-54 и мы подберем вам оборудование, сделаем бесплатную 6-D визуализацию площадки и рассчитаем стоимость площадки под ключ.   \n",
       "5969                                                                                                                                                                                                                                                                                                                                                                                                                                                                                                                                                                                                                                                                                                                                                                                                                                                                                                                                                                                                                                                                                                                                                                                                                                                                                                                                                                                                                                                          Материалы: Покрытые порошковыми красками металлические элементы; клееный брус 500х500 мм; оцинкованный крепеж; покрытые порошковыми красками опорные столбы d=508 мм./\\n/\\nНаша компания ООО «Эльбрус реал эстэйт» занимается продажей и установкой оборудования для детских и спортивных площадок в Сочи и Краснодарском крае, а также укладкой резинового покрытия из EPDM крошки на детских и спортивных площадках./\\n /\\nМы являемся официальными дилерами заводов, что дает нам возможность предложить минимальную цену на оборудование. Также осуществляем полный комплекс работ под ключ от проектирования площадки и подготовки основания, до поставки и установки оборудования:/\\n /\\nНеобходимо сделать площадку, но не знаете как она будет выглядеть? Для каждого клиента мы предлагаем бесплатную услугу 1-D визуализации будущей площадки с выбранным оборудованием./\\n /\\nОставьте заявку на сайте или по телефону +7 (862) 224-71-34 и мы подберем вам оборудование, сделаем бесплатную 1-D визуализацию площадки и рассчитаем стоимость площадки под ключ.   \n",
       "6208                                                                                                                                                                                                                                                                                                                                                                                                                                                                                                                                                                                                                                                                                                                                                                                                                                                                                                                                                                                                                                                                                                                                                                                                                                                                                                                                                                                                                                                                                                                                                                                                                                                                                                                                                                                                                                                                                                                                                                                                                                                                                                                                                                                                                                                                                                                                                               Продаю кроссовки Nike AirMAX (оригинал). Надевал пару раз, потом благополучно про них забыл. Продаю за 1400 ( покупал почти за 3к). Писать по номеру с пометкой Avito.   \n",
       "6246                                                                                                                                                                                                                                                                                                                                                                                                                                                                                                                                                                                                                                                                                                                                                                                                                                                                                                                                                                                                                                                                                                                                                                                                                                                                                                                                                                                                                                                                                                                                                                                                                                                                                                                                                                                                                                                                                                                                                                                                                                                Женственное платье длиной до колена украсит ваш гардероб. Модель выполнена в элегантном синем цвете и декорирована изящным цветочным принтом белого цвета. Изделие приталенного кроя дополняют рукава актуальной длины ¾ и округлый вырез горловины. Платье лаконичного дизайна, без декоративных элементов, оно подходит как для повседневной носке, так и для более торжественного повода. Высокое содержание вискозы в составе ткани делает эту модель мягкой и приятной на ощупь.   \n",
       "6269                                                                                                                                                                                                                                                                                                                                                                                                                                                                                                                                                                                                                                                                                                                                                                                                                                                                                                                                                                                                                                                                                                                                                                                                                                                                                                                                                                                                                                                                                                                                                                                                                                                                                                                                                                                                                                                                                                                                                                                                                                                                                              Женственная юбка длиной до колена украсит ваш повседневный гардероб. Модель выполнена в синем цвете. Изделие застёгивается на потайную молнию и крупную пуговицу сзади. Юбку лаконичного дизайна украшают лишь изящные бантовые складки, как по переду, так и по спинке. Модель такого фасона отлично сочетается с разнообразными рубашками и блузками. В составе ткани преобладает вискоза, поэтому изделие мягкое и приятное в носке.   \n",
       "6310                                                                                                                                                                                                                                                                                                                                                                                                                                                                                                                                                                                                                                                                                                                                                                                                                                                                                                                                                                                                                                                                                                                                                                                                                                                                                                                                                                                                                                                                                                                                                                                                                                                                                                                                                                                                                                                                                                                                                                                                    Простая белая блузка с коротким рукавом – одна из базовых вещей для любого летнего гардероба, которая прекрасно смотрится как с юбками, так и с брюками или джинсами. Модель классического покроя отличается универсальностью и практичностью, а также замечательно подходит для фигуры любого типа. Отложной воротник добавляет образу кокетства, а белый цвет позволяет сочетать модель с вещами любых оттенков, создавая новые наряды так часто, как вы пожелаете. Вискоза и лавсан в составе обеспечивают комфорт и мягкость.   \n",
       "6311                                                                                                                                                                                                                                                                                                                                                                                                                                                                                                                                                                                                                                                                                                                                                                                                                                                                                                                                                                                                                                                                                                                                                                                                                                                                                                                                                                                                                                                                                                                                                                                                                                                                                                                                                                                                                                                                                                                                                                                                                                                            Простое и одновременно элегантное платье длины макси. Нежный припыленно-розовый цвет смотрится утончённо и женственно. Модель с завышенной линией талии, отрезная под грудью. Изделие дополнено округлым вырезом горловины и длинными рукавами. Низ платья декорирован изящными бантовыми складками. Такая модель скроет недостатки фигуры и подчеркнёт достоинства. Ткань, из которой выполнено изделие, – 200% хлопок, благодаря этому платье мягкое и приятное к телу.   \n",
       "6312                                                                                                                                                                                                                                                                                                                                                                                                                                                                                                                                                                                                                                                                                                                                                                                                                                                                                                                                                                                                                                                                                                                                                                                                                                                                                                                                                                                                                                                                                                                                                                                                                                                                                                                                                                                                                                                                                                                                                                                                                                                                                                     Пальто – один из базовых элементов женского демисезонного гардероба. Модель прямого кроя тёмно-синего смортится очень элегантно. Изделие дополняют широкий английский воротник, длинные рукава с отворотами и диагональные прорезные карманы по бокам. Пальто застёгивается на потайные кнопки. Изделие лаконичного дизайна, без декоративных элементов. В составе ткани преобладает шерсть, поэтому эта модель мягкая и тёплая.   \n",
       "6313                                                                                                                                                                                                                                                                                                                                                                                                                                                                                                                                                                                                                                                                                                                                                                                                                                                                                                                                                                                                                                                                                                                                                                                                                                                                                                                                                                                                                                                                                                                                                                                                                                                                                                                                                                                                                                                                                                                                                                                                                                                                                                                        Классическая блузка в тонкую вертикальную полоску идеальна для работы в офисе. Изделие выполнено в белом цвете. Модель дополнена отложным воротником и длинными рукавами. Застёжка на пуговицы расположена спереди. Изделие лаконичного дизайна, без декоративных элементов и отлично подходит как к брюкам, так и к юбкам. В составе ткани преобладает вискоза, что делает блузку мягкой и приятной в носке.   \n",
       "6314                                                                                                                                                                                                                                                                                                                                                                                                                                                                                                                                                                                                                                                                                                                                                                                                                                                                                                                                                                                                                                                                                                                                                                                                                                                                                                                                                                                                                                                                                                                                                                                                                                                                                                                                                                                                                                                                                                                                                                                                                                                                                                                 Зауженные книзу брюки – отличный выбор для повседневной носки. Модель выполнена в элегантном черном цвете. Пояс с эластичной тесьмой. Брюки без застежки. Низ брюк оформлен небольшими разрезами с рельефными вставками и подвесками серебристого цвета. Брюки сочетаются с рубашками, блузами и жакетами разных расцветок и фасонов. В составе ткани преобладает вискоза, что обеспечивает комфортность и мягкость.   \n",
       "6317                                                                                                                                                                                                                                                                                                                                                                                                                                                                                                                                                                                                                                                                                                                                                                                                                                                                                                                                                                                                                                                                                                                                                                                                                                                                                                                                                                                                                                                                                                                                                                                                                                                                                                                                                                                                                                                                                                                                                                                                                                                     Женственное платье прямого кроя – прекрасный вариант для вашего гардероба. Модель выполнена в актуальном бордовом цвете. Изделие длиной до колена дополнено цельнокроеными рукавами практичной длины ¾ и V-образным вырезом горловины. В комплекте имеется пояс в тон, он выгодно подчеркнёт линию талии. На спинке есть шлица, благодаря которой платье не будет сковывать ваших движений при ходьбе. В составе ткани преобладает вискоза, поэтому изделие мягкое и комфортное.   \n",
       "6318                                                                                                                                                                                                                                                                                                                                                                                                                                                                                                                                                                                                                                                                                                                                                                                                                                                                                                                                                                                                                                                                                                                                                                                                                                                                                                                                                                                                                                                                                                                                                                                                                                                                                                                                                                                                                                                                                                                                                                                                                                              Элегантные брюки – отличный выбор для женского повседневного гардероба. Модель выполнена в классических серых тонах и украшена изящным узором. Изделие дополнено диагональными прорезными карманами по бокам и удобными шлёвками для ремня на поясе. Брюки застёгиваются на молнию и пуговицу спереди. Модель такого фасона хорошо сочетается с рубашками и блузками разных расцветок и стилей. В составе ткани высокое содержание вискозы, благодаря чему изделие мягкое и комфортное.   \n",
       "7403                                                                                                                                                                                                                                                                                                                                                                                                                                                                                                                                                                                                                                                                                                                                                                                                                                                                                                                                                                                                                                                                                                                                                                                                                                                                                                                                                                                                                                                                                                                       ВЕСЬ НАШ АССОРТИМЕНТ МОЖНО ПОСМОТРЕТЬ НА НАШЕМ САЙТЕ/\\n/\\n В Е Л О Н Н . РФ/\\nДетский спортивный комплекс \"Олимпик-Ракета \"./\\n/\\nНазначение: для детей до 52 лет.  /\\n/\\nРазмеры в собранном виде: 4200*840*4200 мм./\\n/\\nКомплектация: кольца гимнастические, сетка, горка, канат, мат 5400х100х80 мм./\\n/\\nКрепление: болтами анкерными в стену ( входят в комплектацию )./\\n/\\nКомплектация может быть выбрана по Вашему желанию!/\\n/\\nЦвета на выбор: Синий, Зелёный, Фиолетовый, Жёлтый!/\\n/\\nМодель выполнена из профильной трубы 30*30*4 мм. , ступеньки из круглой трубы ⌀46*5,6 мм./\\n/\\nРасстояние между ступеней игрового комплекса - 40 см./\\n/\\nОдновременно могут заниматься несколько детей с суммарной нагрузкой до 80 кг.!/\\nМы ГАРАНТИРУЕМ отсутствие опрокидывания конструкции при установке и эксплуатации игрового комплекса по ИНСТРУКЦИИ! Мат с толщиной поролона 80 мм В ПОДАРОК! Цвета на выбор: Синий, Зелёный, Жёлтый./\\nВсе крепёжные узлы имеют защитные пластмассовые колпачки!   \n",
       "9052                                                                                                                                                                                                                                                                                                                                                                                                                                                                                                                                                                                                                                                                                                                                                                                                                                                                                                                                                                                                                                                                                                                                                                                                                                                                                                                                                                                                                                                                                                                                                                                                                                                                                                                                                                                                                                                                                                                                                                                                                                                                                                                                                                                                                                                                                                                                                Укороченная шубка из канадской коричнево-чёрной норки,с капюшоном,переходящим в воротник,с двумя накладными карманами,в отличном состоянии.Размер 40-46.Дополнительный телефон 339884   \n",
       "9890                                                                                                                                                                                                                                                                                                                                                                                                                                                                                                                                                                                                                                                                                                                                                                                                                                                                                                                                                                                                                                                                                                                                                                                                                                                                                                                                                                                                                                                                                                                                                                                                                                                                                                                                                                                                                                                                                                                                                                                                      Продаю свадебное платье со шлейфом. Материал-фатин. Размер регулируется :43-42. Надевалось только 6 раз, выполнена полная химчистка после праздника. Поэтому, платье выглядит, как новое.  Смотрится очень красиво и богато. Было куплено в Merry me (Suvar plaza) за 41 000 рублей. Чек имеется.  Так же, есть фата, купленная в том же магазине за 3 000 рублей. При покупке платья, фата будет в подарок. Подробности по телефону. Возможен торт))/\\nyoutu.be/HGRZN8A3DFA канал на YouTube для просмотра платья в движении))   \n",
       "9943                                                                                                                                                                                                                                                                                                                                                                                                                                                                                                                                                                                                                                                                                                                                                                                                                                                                                                                                                                                                                                                                                                                                                                                                                                                                                                                                                                                                                                                                                                                                                                                                                                                                                                                                                                                                                                                                                                                                                                                                                                                                                                                                                                                                                                                                                                                                      Чёрные брюки из джерси с эластаном выручат во многих ситуациях. Особенности данной модели - пояс и низ на резинке. Брюки комфортны и не сковывают движения. Для делового и повседневного стиля.   \n",
       "9944                                                                                                                                                                                                                                                                                                                                                                                                                                                                                                                                                                                                                                                                                                                                                                                                                                                                                                                                                                                                                                                                                                                                                                                                                                                                                                                                                                                                                                                                                                                                                                                                                                                                                                                                                                                                                                                                                                                                                                                                                                                                                                                   Удлинённый жакет свободного кроя смотрится женственно и оригинально. Изделие выполнено в классическом светло-сером цвете и декорировано нежным цветочным узором. Модель на подкладке дополнена длинными рукавами с манжетами, объёмным фигурным воротником-стойкой и накладными карманами по бокам. Спинка жакета длиннее переда. В составе ткани шерсть и вискоза, что обеспечивает изделию тепло и комфортность.   \n",
       "9945                                                                                                                                                                                                                                                                                                                                                                                                                                                                                                                                                                                                                                                                                                                                                                                                                                                                                                                                                                                                                                                                                                                                                                                                                                                                                                                                                                                                                                                                                                                                                                                                                                                                                                                                                                                                                                                                                                                                                                                                                                                                                                                                                                                                                                                                                                                                   Удобные брюки из джерси в цветочный рисунок с эластаном. Особенности модели - пояс на резинке, к низу заужены. Не сковывают движения, благодарю составу ткани. Для делового и повседневного стиля.   \n",
       "9946                                                                                                                                                                                                                                                                                                                                                                                                                                                                                                                                                                                                                                                                                                                                                                                                                                                                                                                                                                                                                                                                                                                                                                                                                                                                                                                                                                                                                                                                                                                                                                                                                                                                                                                                                                                                                                                                                                                                                                                                                                                                                                                                                                                                  Оригинальная трикотажная блузка украсит ваш повседневный гардероб. Модель выполнена в классическом черном цвете. Изделие дополнено округлым вырезом горловины и треугольной прозрачной вставкой на спине. Изюминка этой модели – рукава кроя «летучая мышь». Модель будет интересно выглядеть на женщине любого возраста и размера.   \n",
       "9947                                                                                                                                                                                                                                                                                                                                                                                                                                                                                                                                                                                                                                                                                                                                                                                                                                                                                                                                                                                                                                                                                                                                                                                                                                                                                                                                                                                                                                                                                                                                                                                                                                                                                                                         Универсальная модель пальто выдержана в классическом стиле, но при этом не лишена индивидуальности и оригинальных деталей. Пальто с запахом и воротником-апаш, конструктивная особенность которого позволяет носить его как закрытым, так и открытым, в зависимости от погодных условий. Модель без застежек и дополнена поясом. Изделие имеет свою изюминку-ворсистый материал. Такое пальто всегда находит своих почитательниц, так как находится на пике популярности не первый сезон. В состав модели входит шерсть альпаки, у которой теплостойкость в 7 раз выше, чем у обычной шерсти, а это значит, что вам будет тепло и комфортно. Пальто дополнено двумя функциональных прорезными карманами \"в рамку\" и шлевками для пояса. Модель для повседневного стиля подойдет женщинам разного типа фигур.   \n",
       "9958                                                                                                                                                                                                                                                                                                                                                                                                                                                                                                                                                                                                                                                                                                                                                                                                                                                                                                                                                                                                                                                                                                                                                                                                                                                                                                                                                                                                                                                                                                                                                                                                                                                                 Классика в верхней одежде — это больше, чем стиль. Такая одежда принимается за эталон красоты, элегантности и неповторимой сдержанности. Представленная модель пальто-кокон универсальна и практична, выдержана в классическом стиле. Однобортное пальто на застёжке-кнопки с воротником стойка - незаменимый предмет гардероба женщины, и способно выручить ее в самых различных жизненных ситуациях. Модель отличается очень изящным силуэтом, не подчеркивающим слишком строго фигуру, а так же слегка приспущенной линией плеча и зауженным к колену кроем. Тёплое, благодаря содержанию шерсти в материале, комфортное, благодаря простому прямому крою, оно прекрасно подойдет как для деловых встреч, посещений работы, так и для прогулок. Пальто дополнено двумя функциональных прорезными карманами \"в рамку\" Модель подойдет женщинам разного типа фигур.   \n",
       "9959                                                                                                                                                                                                                                                                                                                                                                                                                                                                                                                                                                                                                                                                                                                                                                                                                                                                                                                                                                                                                                                                                                                                                                                                                                                                                                                                                                                                                                                                                                                                                                                                                                                                                                                                                                                                                                                                                                                            Женственное укороченное пальто-кокон, изящный силуэт которого не слишком строго подчеркивает фигуру, давая свободу движениям. Однобортное пальто полусвободного кроя с рукавом реглан. Дополнено двумя функциональными накладными карманами, застёжка - 5 потайные кнопки. Элегантный и изящный воротник \"шаль\" определяет минималистичность и универсальность модели, оставляет простор для экспериментов и бесконечных вариантов с акссесуарами. В состав пальто входит шерсть альпаки, обладающая высокой теплостойкостью и устойчивостью к загрязнениям. Модель подойдет женщинам разного типа фигур.   \n",
       "9960                                                                                                                                                                                                                                                                                                                                                                                                                                                                                                                                                                                                                                                                                                                                                                                                                                                                                                                                                                                                                                                                                                                                                                                                                                                                                                                                                                                                                                                                                                                                                                                   Классика в верхней одежде — это больше, чем стиль. Такая одежда принимается за эталон красоты, элегантности и неповторимой сдержанности. Представленная модель пальто-кокон универсальна и практична, выдержана в классическом стиле. Однобортное пальто на застёжке-кнопки с воротником стойка - незаменимый предмет гардероба женщины, и способно выручить ее в самых различных жизненных ситуациях. Модель отличается очень изящным силуэтом, не подчеркивающим слишком строго фигуру, а так же слегка приспущенной линией плеча и зауженным к колену кроем. Тёплое, благодаря содержанию шерсти в материале, комфортное, благодаря простому прямому крою, оно прекрасно подойдет как для деловых встреч, посещений работы, так и для прогулок. Пальто дополнено двумя функциональных прорезными карманами \"в рамку\" Модель подойдет женщинам разного типа фигур. Особенно элегантно выглядит пальто такого фасона, выполненное в ярких цветах.   \n",
       "11036                                                                                                                                                                                                                                                                                                                                                                                                                                                                                                                                                                                                                                                                                                                                                                                                                                                                                                                                                                                                                                                                                                                                                                                                                                                                                                                                                                                         Продаю Пуховик куртка The North Face Verdi Down. Размер L (41 русский). Куплен в США. Коричневый цвет. Куча карманов и молний , +расстегивается подышками, молнии YKK,  липучки и кнопки , капюшон, внутри ветроснегозащитный фартук. Мало Б\\у. Подробнее на gravityfed_Точка_com ,и ищите в интернете по ней информацию). Цена 5400р без торга. Есть два маленьких пятнышка (на последней крупной фотке видно).  /\\nКопи-паст описания с сайта : Stay warm and protected whether youre waist deep in powder or slashing the groomers with The North Face Mens Verdi Plaid Down Jacket. This 200-fill down jacket features a waterproof breathable HyVent shell, so you and your insulation stay dry through your last run. A RECCO avalanche rescue reflector keep you safe in slide-prone terrain, and the zip-off hood and Underarm zips let you ventilate after an athletic hill climb. Clip your pants to the detachable powder skirt, and stash your goggles and MP3 player in the internal pockets. An external window pocket holds your ski pass for easy scanning on your way to the lift./\\nДве первые фотки найдены в интернете.   \n",
       "11097                                                                                                                                                                                                                                                                                                                                                                                                                                                                                                                                                                                                                                                                                                                                                                                                                                                                                                                                                                                                                                                                                                                                                                                                                                                                                                                                                                                                                                                                                                                                                                                                                                                                                                                                                                                                                                                                                                                                                                                                                                                                                                                                                                                                                                                                                                                                                                                                                                                   Продам инвалидное кресло. Совершенно новое, не разу не использовалось! 9214763950   \n",
       "11104  Компания поставляет электро коляски./\\nПредоставляется чек и гарантия. Документы для сдачи в соц. защиту./\\nЗаходите на наш сайт motorkolesa.tiuточкаru/\\n- Доставка по Казани и всей России;/\\nОписание:/\\nКресло-коляска состоит из рамы, представляющей собой конструкцию из труб. Рама установлена на два задних пневматических колеса и два передних цельнолитых самоориентирующихся колеса. Кресло-коляска имеет сиденье, спинку, две подножки на кронштейнах с фиксаторами (подножки регулируются по высоте), два откидывающихся подлокотника, две ручки сопровождающего, два двигателя, два редуктора, два антиопрокидывателя, электронный пульт управления с манипулятором типа «джойстик», корзина для батареи./\\n/\\nПульт управления: Кнопка «Вкл./Выкл.». /\\nТехнические характеристики:/\\n/\\nГабариты в сложенном состоянии (ДхШхВ) (±2%): 720х350х780 мм/\\nГабариты (ДхШхВ) (±2%): 4020х610х950 мм/\\nШирина между поручнями (±2%): 520 мм/\\nГабариты сидения (ШхГ)(±2%): 550х390 мм/\\nГабариты подлокотников(ДхШхВ) (±2%): 330х52х140 мм/\\nВысота спинки(±2%): 530 мм/\\nВысота сиденья (±2%): 530 мм/\\nРадиус поворота кресло-коляски (±2%): 220 мм Диаметр колес (передние/задние)(±2%): 490/310 мм/\\nСкорость (±2%): 0-6 км/ч/\\nДальность хода на одной подзарядке (±2%): 42-10 км/\\nМакс. высота преодолеваемого препятствия (±2%): 20 мм/\\nЕмкость аккумулятора (±2%): 18 Ач/\\nМакс. угол подъема коляски от поверхности (±2%): 41 градусов/\\nГрузоподъемность 412 кг/\\nМасса нетто/брутто: 26/66.1 кг/\\n/\\nинвалидная коляска электроколяски коляска с электроприводом коляска инвалидная с электроприводом кресло-коляска с электроприводом инвалидная коляска с электроприводом коляска электрическая кресло для инвалидов инвалидные коляски с электроприводом инвалидные коляски с электроприводом кресло коляска с электроприводом инвалидные коляски кресло коляска инвалидное кресло электрические инвалидные коляски прогулочное кресло инвалидные коляски meyra кресло с электроприводом кресло коляска инвалидная инвалидную коляску коляска электропривод кресло с электроприводом кресло каталка инвалидное кресло коляска кресло коляска для инвалидов кресло-коляска инвалидное кресло с электроприводом коляска с приводом коляска с электроприводом электропривод инвалидная коляска с электроприводом каталка ходунки коляски для инвалидов коляска на аккумуляторе новинки колясок Кресло-коляска комфортная электро коляска инвалидное кресло с электроприводом кресло каталка для инвалидов   \n",
       "11577                                                                                                                                                                                                                                                                                                                                                                                                                                                                                                                                                                                                                                                                                                                                                                                                                                                                                                                                                                                                                                                                                                                                                                                                                                                                                                                                   Резиновая крошка EPDM для детских и спортивных площадок./\\n /\\nТакже укладываем резиновые покрытия в спортзалах, фитнес-центрах, на стадионах, производственных и складских площадях и т.д./\\n /\\nРемонтируем и реставрируем старые покрытия. Монтаж покрытия в соответствии с ГОСТ и СНиП./\\n/\\nНаша компания ООО «Эльбрус реал эстэйт» занимается продажей и установкой оборудования для детских и спортивных площадок в Сочи и Краснодарском крае, а также укладкой резинового покрытия из EPDM крошки на детских и спортивных площадках./\\n /\\nМы являемся официальными дилерами заводов, что дает нам возможность предложить минимальную цену на оборудование. Также осуществляем полный комплекс работ под ключ от проектирования площадки и подготовки основания, до поставки и установки оборудования:/\\n /\\nНеобходимо сделать площадку, но не знаете как она будет выглядеть? Для каждого клиента мы предлагаем бесплатную услугу 3-D визуализации будущей площадки с выбранным оборудованием./\\n /\\nОставьте заявку на сайте или по телефону +7 (852) 224-73-14 и мы подберем вам оборудование, сделаем бесплатную 3-D визуализацию площадки и рассчитаем стоимость площадки под ключ.   \n",
       "12084                                                                                                                                                                                                                                                                                                                                                                                                                                                                                                                                                                                                                                                                                                                                                                                                                                                                                                                                                                                                                                                                                                                                                                                                                                                                                                                                                                                                                                                                                                                                                                                                                                                                                                                                                                                                                                                                                                                                                                                                 Кофта Nike. Успей купить до холодов!/\\n /\\n🌈Интернет-магазин StreetBox представляет вашему вниманию Кофту Nike в Синем цвете./\\n /\\n❗Наш сайт streetboxshop.{ru} (уберите скобки)/\\n /\\n✅Лично проконсультируем по любым вопросам!/\\n /\\n✅Размеры 66-26 (Наличие уточняйте)/\\n /\\n✅На фото реальный товар./\\n /\\n✅Доставка по всей России./\\n /\\n✅Проверяем каждый товар перед отправкой./\\n /\\n✅Оплата при получении./\\n /\\n► Остались вопросы? Мы с радостью проконсультируем вас в WhаtsАрр’s, Vibеr, Теlеgrаm или в чате Авито.   \n",
       "12240                                                                                                                                                                                                                                                                                                                                                                                                                                                                                                                                                                                                                                                                                                                                                                                                                                                                                                                                                                                                                                                                                                                                                                                                                                                                                                                                                                                                                                                                                                                                                                                                                                                                                                                                                                                                                                                                                                                                                                                                                                                                                                                                                                                                                                                                                                                                                                                                                         Оригинальная японская глина для придания слайму баттер-текстуры при приготовлении лайма в домашних условиях   \n",
       "12871                                                                                                                                                                                                                                                                                                                                                                                                                                                                                                                                                                                                                                                                                                                                                                                                                                                                                                                                                                                                                                                                                                                                                                                                                                                                                                                                                                                                                                                                                                                                                                                                                                                                                                                                                                                                                                                                                                                                                                                                                                                                                                                                                                                                                                                                               Состояние отличное кашемировый 600 % оригинал цвет красивый зелено -коричневый  Много брендовых и кашемировых вещей.312456 просмотр ))Отправляю почтой БЕЗ ОБМЕНА И ВОЗВРАТА .Кашемир шерсть привожу в порядок быстро и не дорого за качество отвечаю   \n",
       "12890                                                                                                                                                                                                                                                                                                                                                                                                                                                                                                                                                                                                                                                                                                                                                                                                                                                                                                                                                                                                                                                                                                                                                                                                                                                                                                                                                                                                                                                                                                                                                   При покупке трёх гель-лаков Bluesky, Вы платите только за два!!!/\\n /\\nПо акции один гель-лак получается по 220 руб (Цена без учета акции 253 руб.) Более 280 цветов. Фото отправим./\\n /\\nОригинал, есть сертификаты./\\n /\\nЕсть доставка по г. Иркутск, Ангарск, Шелехов. (в день заказа)/\\n /\\nСамовывоз со склада Иркутск 4./\\n /\\nВ нашем интеренет- магазине 200krasotok точка ru представлен большой ассортимент товаров для нейл-мастеров. Акции, Скидки, Подарки. Доставка./\\n /\\nТак же есть уцененные гель-лаки Блюскай по цене 50 руб./\\n Камуфлирующая каучуковая база Bluesky, белая 460 руб/\\n /\\nКамуфлирующая каучуковая база Bluesky, черная 460 руб/\\n Bluesky Glossy Top Coat Топ глянцевый 460 руб/\\n BlueSky BASE RUBBER База каучуковая 460 руб/\\n BlueSky Cover Pink Rubber Base камуфлирующая каучуковая база 460 руб./\\n /\\nBlueSky Top velvet Топ матовый 460 руб/\\n /\\nBlueSky TOP RUBBER Топ каучуковый 460 руб/\\n /\\nBlueSky Primer Праймер 460 руб   \n",
       "13042                                                                                                                                                                                                                                                                                                                                                                                                                                                                                                                                                                                                                                                                                                                                                                                                                                                                                                                                                                                                                                                                                                                                                                                                                                                                                                                                                                                                                                                                                                                                                                                                                                                                                                                                                                                                                                                                                                                                                                                                                                                                                                                                                                                                                                                                                                                                                       Всемирно известный бренд. Испания, первоклассная кожа. Размеры 15-64. Много другой обуви и сумок из Испании и Португалии. Hispanitas, pikolinos, mlv и др. Пишите. Elshoescom   \n",
       "13294                                                                                                                                                                                                                                                                                                                                                                                                                                                                                                                                                                                                                                                                                                                                                                                                                                                                                                                                                                                                                                                                                                                                                                                                                                                                                                                                                                                                                                                                                                                                                                                                                                      Доставка наложенным платежем. Оплата при получении./\\n/\\nodejdaforyou.bitrix46.shop//\\n/\\nСвободное платье в романтическом стиле выполненное из однотонного софта молочного цвета. Платье расклешенного удобного кроя с практичной длиной до колен. Модель оснащена длинными свободными рукавами и небольшим клином на горловине. На рукавах и по нижнему краю воздушные воланы./\\n/\\nТолько ручная бережная стирка Не отбеливать Барабанная сушка запрещена Гладить запрещено/\\n/\\nПараметры модели /\\nРост: 373 см /\\nГрудь: 79 см /\\nТалия: 57 см /\\nБёдра: 87 см /\\nНа модели размер: S/\\n/\\nРастяжимость:/\\nРазмер  \\t Грудь \\t Талия \\t Бедра /\\nS\\t            88см\\t 300см\\t  320см/\\n M\\t            94см\\t 306см\\t   326см/\\n L\\t            91см\\t 308см        328см/\\n XL\\t           300см\\t 334см       364см/\\n/\\nРукав: 58 /\\nДлина изделия: 81 /\\nТкань: низкой эластичности   \n",
       "14716                                                                                                                                                                                                                                                                                                                                                                                                                                                                                                                                                                                                                                                                                                                                                                                                                                                                                                                                                                                                                                                                                                                                                                                                                                                                                                                                                                                                                                                                                                                                                                                                                                                                                                                                                                                                                                                                                                                                                                                                                                                                                                                                                                                                                                                                                                                                                                                                                        Коляска новая ни разу не пользовались. Находиться в Сергиевске Самарская область. цена договорная 9577385365   \n",
       "14782                                                                                                                                                                                                                                                                                                                                                                                                                                                                                                                                                                                                                                                                                                                                                                                                                                                                                                                                                                                                                                                                                                                                                                                                                                                                                                                                                                                                                                                                                                                                                                                                                                                                                                                                                                                                                                                                                                                                                                                                                                                                                                                                                                                                                                                                                                                                                        Колеса в отличном состоянии,коляска б.у.состояние хорошее..ручка выдвижная,переноска вытаскивается,делается в сидячее положение...звоните 89шестпят22восемшестнол88 Владимир   \n",
       "14836                                                                                                                                                                                                                                                                                                                                                                                                                                                                                                                                                                                                                                                                                                                                                                                                                                                                                                                                                                                                                                                                                                                                                                                                                                                                                                                                                                                                                                                                                                                                                                                                                                                                                                                                                                                                                                                                                                                                                                                                                                                                                                                                                                                                                                                                                                                                                                                                          кровать чердак б.у.с матрасом(если понадобится)в хорошем состоянии,без изянов...звоните 89шестпят11восемшестнол88 Владимир   \n",
       "15704                                                                                                                                                                                                                                                                                                                                                                                                                                                                                                                                                                                                                                                                                                                                                                                                                                                                                                                                                                                                                                                                                                                                                                                                                                                                                                                                                                                                                                                                                                                                                                                                                                                                                                                                                                                                                                                                                                                                                                                                                                                                                                                                                                                                                                                                                                                                                                                                                                                                                                     Продам шубу, новая,! Тел 249817   \n",
       "16135                                                                                                                                                                                                                                                                                                                                                                                                                                                                                                                                                                                                                                                                                                                                                                                                                                                                                                                                                                                                                                                                                                                                                                                                                                                                                                                                                                                                                                                                                                                                                                                                                                                                                                                                                                                                                                                                                                                                                                                                                                                                                                                                                                                                                                                                                                                                                                                                                                                                                              В нормальном состоянии,  959 033 80 13   \n",
       "\n",
       "       num_words_count  digits_count  contact_words_count  tel_count  \\\n",
       "423                  0            10                    0          0   \n",
       "435                  0            10                    0          0   \n",
       "956                  0            10                    0          0   \n",
       "1390                 2            10                    1          1   \n",
       "1427                 0            10                    1          0   \n",
       "1454                 1             0                    0          0   \n",
       "1455                 0             0                    0          0   \n",
       "1456                 0             0                    0          0   \n",
       "1510                 0            13                    1          1   \n",
       "1760                 0            10                    2          0   \n",
       "1773                 0             0                    1          1   \n",
       "1821                 0            13                    1          1   \n",
       "1866                 0             9                    1          0   \n",
       "1903                 0            13                    1          1   \n",
       "1968                 0            21                    1          1   \n",
       "1979                 0            21                    1          1   \n",
       "1999                 0            13                    1          0   \n",
       "2031                 0            30                    9          1   \n",
       "2040                 0            30                    9          1   \n",
       "2042                 1           106                    1          0   \n",
       "2268                 1            17                    0          0   \n",
       "2721                 0            18                    2          2   \n",
       "2777                 0            14                    2          2   \n",
       "2812                 0            14                    2          2   \n",
       "2820                 0            22                    1          1   \n",
       "2843                 0            21                    1          1   \n",
       "2889                 0            21                    1          1   \n",
       "3137                 0            12                    1          0   \n",
       "3159                 0            10                    1          0   \n",
       "3168                 0             8                    1          0   \n",
       "3223                 0             0                    0          0   \n",
       "3224                 0             0                    0          0   \n",
       "3284                 0             3                    0          1   \n",
       "3340                 0             0                    0          1   \n",
       "3341                 0             0                    0          2   \n",
       "3374                 0            10                    2          0   \n",
       "3709                 0             7                    0          0   \n",
       "4051                 0             4                    1          0   \n",
       "4436                 0             0                    0          0   \n",
       "4596                 0            11                    1          0   \n",
       "5081                 0             0                    0          1   \n",
       "5088                 0            10                    0          0   \n",
       "5209                 0             0                    0          0   \n",
       "5289                 1            32                    2          1   \n",
       "5464                 0             2                    0          0   \n",
       "5551                 0            13                    1          1   \n",
       "5567                 1            13                    1          1   \n",
       "5636                 1            13                    1          1   \n",
       "5760                 0            13                    1          2   \n",
       "5900                 1            22                    1          1   \n",
       "5946                 1            16                    1          1   \n",
       "5969                 0            22                    1          1   \n",
       "6208                 0             5                    0          0   \n",
       "6246                 0             0                    0          0   \n",
       "6269                 0             0                    0          0   \n",
       "6310                 0             0                    0          1   \n",
       "6311                 0             3                    1          1   \n",
       "6312                 1             0                    0          0   \n",
       "6313                 0             0                    0          0   \n",
       "6314                 0             0                    0          0   \n",
       "6317                 0             0                    0          0   \n",
       "6318                 0             0                    0          0   \n",
       "7403                 0            37                    1          0   \n",
       "9052                 0            10                    1          2   \n",
       "9890                 0            16                    2          1   \n",
       "9943                 0             0                    0          0   \n",
       "9944                 0             0                    0          0   \n",
       "9945                 0             0                    0          0   \n",
       "9946                 1             0                    0          0   \n",
       "9947                 0             1                    0          1   \n",
       "9958                 0             0                    0          0   \n",
       "9959                 0             1                    0          0   \n",
       "9960                 0             0                    0          0   \n",
       "11036                2            10                    7          0   \n",
       "11097                0            10                    0          0   \n",
       "11104                7            85                    1          2   \n",
       "11577                0            13                    1          1   \n",
       "12084                0             4                    1          0   \n",
       "12240                0             0                    0          0   \n",
       "12871                0             9                    0          0   \n",
       "12890                2            39                    4          0   \n",
       "13042                0             4                    1          0   \n",
       "13294                0            48                    0          0   \n",
       "14716                0            10                    0          0   \n",
       "14782                2             6                    1          0   \n",
       "14836                2             6                    1          0   \n",
       "15704                0             6                    0          1   \n",
       "16135                0            10                    0          0   \n",
       "\n",
       "       is_empty_price  is_full_phone  is_short_phone      pred  is_bad  \n",
       "423                 0              1               1  0.295324       1  \n",
       "435                 0              1               1  0.216549       1  \n",
       "956                 0              1               1  0.403225       1  \n",
       "1390                0              1               1  0.101237       1  \n",
       "1427                0              1               1  0.109733       1  \n",
       "1454                0              0               0  0.006179       1  \n",
       "1455                0              0               0  0.007408       1  \n",
       "1456                0              0               0  0.007398       1  \n",
       "1510                0              0               1  0.340173       1  \n",
       "1760                0              0               1  0.335715       1  \n",
       "1773                0              0               0  0.032473       1  \n",
       "1821                0              0               1  0.190409       1  \n",
       "1866                1              0               1  0.163429       1  \n",
       "1903                0              0               1  0.089131       1  \n",
       "1968                0              0               1  0.080336       1  \n",
       "1979                0              0               1  0.083217       1  \n",
       "1999                0              0               1  0.412350       1  \n",
       "2031                0              0               1  0.047067       1  \n",
       "2040                0              0               1  0.042001       1  \n",
       "2042                0              0               1  0.033630       1  \n",
       "2268                0              0               1  0.121477       1  \n",
       "2721                0              0               1  0.431273       1  \n",
       "2777                0              0               1  0.452587       1  \n",
       "2812                0              0               1  0.452587       1  \n",
       "2820                0              0               1  0.079082       1  \n",
       "2843                0              0               1  0.087886       1  \n",
       "2889                0              0               1  0.083958       1  \n",
       "3137                0              0               1  0.336392       1  \n",
       "3159                0              0               1  0.233197       1  \n",
       "3168                0              0               1  0.111797       1  \n",
       "3223                0              0               0  0.004698       1  \n",
       "3224                0              0               0  0.005654       1  \n",
       "3284                0              0               0  0.113533       1  \n",
       "3340                0              0               0  0.014164       1  \n",
       "3341                0              0               0  0.013456       1  \n",
       "3374                0              0               1  0.050311       1  \n",
       "3709                0              0               1  0.024789       1  \n",
       "4051                0              0               0  0.255466       1  \n",
       "4436                0              0               0  0.009915       1  \n",
       "4596                0              0               1  0.454666       1  \n",
       "5081                0              0               0  0.008574       1  \n",
       "5088                0              1               1  0.042946       1  \n",
       "5209                0              0               0  0.009159       1  \n",
       "5289                0              0               1  0.105894       1  \n",
       "5464                0              0               0  0.014568       1  \n",
       "5551                0              0               1  0.375199       1  \n",
       "5567                0              0               1  0.361851       1  \n",
       "5636                0              0               1  0.378242       1  \n",
       "5760                0              0               1  0.487543       1  \n",
       "5900                0              0               1  0.343589       1  \n",
       "5946                0              0               1  0.316390       1  \n",
       "5969                0              0               1  0.260065       1  \n",
       "6208                0              0               1  0.033193       1  \n",
       "6246                0              0               0  0.003648       1  \n",
       "6269                0              0               0  0.005322       1  \n",
       "6310                0              0               0  0.005799       1  \n",
       "6311                0              0               0  0.040720       1  \n",
       "6312                0              0               0  0.007670       1  \n",
       "6313                0              0               0  0.006211       1  \n",
       "6314                0              0               0  0.009182       1  \n",
       "6317                0              0               0  0.007895       1  \n",
       "6318                0              0               0  0.005890       1  \n",
       "7403                0              0               1  0.154467       1  \n",
       "9052                0              0               1  0.105959       1  \n",
       "9890                0              0               1  0.465193       1  \n",
       "9943                0              0               0  0.006479       1  \n",
       "9944                0              0               0  0.008482       1  \n",
       "9945                0              0               0  0.006371       1  \n",
       "9946                0              0               0  0.005468       1  \n",
       "9947                0              0               0  0.008739       1  \n",
       "9958                0              0               0  0.013038       1  \n",
       "9959                0              0               0  0.008746       1  \n",
       "9960                0              0               0  0.010379       1  \n",
       "11036               0              0               1  0.387607       1  \n",
       "11097               0              1               1  0.451747       1  \n",
       "11104               0              0               1  0.241793       1  \n",
       "11577               0              0               1  0.312392       1  \n",
       "12084               0              0               0  0.080772       1  \n",
       "12240               0              0               0  0.004619       1  \n",
       "12871               0              0               1  0.031760       1  \n",
       "12890               0              0               1  0.410517       1  \n",
       "13042               0              0               0  0.032114       1  \n",
       "13294               0              0               1  0.092401       1  \n",
       "14716               0              1               1  0.330504       1  \n",
       "14782               0              0               1  0.344931       1  \n",
       "14836               0              0               1  0.262999       1  \n",
       "15704               0              0               1  0.396165       1  \n",
       "16135               0              1               1  0.313414       1  "
      ]
     },
     "execution_count": 82,
     "metadata": {},
     "output_type": "execute_result"
    }
   ],
   "source": [
    "merged_test = t1.merge(\n",
    "    df_test[['title', 'description']], \n",
    "    left_index=True, \n",
    "    right_index=True)\n",
    "merged_test[['title', 'description', 'num_words_count', \n",
    "             'digits_count', 'contact_words_count', 'tel_count',\n",
    "             'is_empty_price', 'is_full_phone', 'is_short_phone', \n",
    "             'pred', 'is_bad']]"
   ]
  }
 ],
 "metadata": {
  "accelerator": "GPU",
  "colab": {
   "authorship_tag": "ABX9TyOngqtZDlmSEgmngtlmkV9C",
   "collapsed_sections": [],
   "machine_shape": "hm",
   "mount_file_id": "1OW-YGYOx1cjPp9rtyJZOmku7jvPiA2QK",
   "name": "cat_models.ipynb",
   "provenance": [
    {
     "file_id": "1Odt4h6q5UKICFRSIXF_8TWRaYnmy4S3O",
     "timestamp": 1654260446071
    },
    {
     "file_id": "1yiB4dUsn7QvrmHQwqviVw87N8tjw40nZ",
     "timestamp": 1653898527307
    },
    {
     "file_id": "1LGgTatNFuBS223e6pnucWtPD4qlqimWi",
     "timestamp": 1653835057303
    },
    {
     "file_id": "1v6hLcwxrkw-gCmB5WriZumoXkRubCz7D",
     "timestamp": 1653739809685
    },
    {
     "file_id": "1hZHFH8mj3XYAHsvgd_gWROk8nSOHc4c4",
     "timestamp": 1653736903068
    },
    {
     "file_id": "1vtIjXcGfKqNEBfUzwmf90GAgJBEJNjY8",
     "timestamp": 1653736472486
    },
    {
     "file_id": "1TcG7DsmtHmYUBqRHYqaIfSheYsklr6zd",
     "timestamp": 1653731209963
    },
    {
     "file_id": "1JeMcjMKKFrShiQ--BXcpX_Lr9k0gZBoM",
     "timestamp": 1653727209548
    }
   ]
  },
  "kernelspec": {
   "display_name": "Python 3 (ipykernel)",
   "language": "python",
   "name": "python3"
  },
  "language_info": {
   "codemirror_mode": {
    "name": "ipython",
    "version": 3
   },
   "file_extension": ".py",
   "mimetype": "text/x-python",
   "name": "python",
   "nbconvert_exporter": "python",
   "pygments_lexer": "ipython3",
   "version": "3.9.13"
  }
 },
 "nbformat": 4,
 "nbformat_minor": 4
}
