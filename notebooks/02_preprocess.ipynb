{
 "cells": [
  {
   "cell_type": "code",
   "execution_count": null,
   "metadata": {
    "id": "0QrdNsbg98Ys"
   },
   "outputs": [],
   "source": [
    "import sys\n",
    "FOLDER_PATH = '/content/drive/MyDrive/Colab Notebooks/porject/'\n",
    "sys.path.append(FOLDER_PATH)"
   ]
  },
  {
   "cell_type": "code",
   "execution_count": null,
   "metadata": {
    "colab": {
     "base_uri": "https://localhost:8080/"
    },
    "executionInfo": {
     "elapsed": 16806,
     "status": "ok",
     "timestamp": 1654509081604,
     "user": {
      "displayName": "Никита Орлов",
      "userId": "17221654573895787003"
     },
     "user_tz": -180
    },
    "id": "YFJvYV4QLuPw",
    "outputId": "134b94ac-91cb-465e-d376-13cac7c4f975"
   },
   "outputs": [],
   "source": [
    "!pip install -r drive/MyDrive/Colab\\ Notebooks/porject/requirements"
   ]
  },
  {
   "cell_type": "code",
   "execution_count": null,
   "metadata": {
    "colab": {
     "base_uri": "https://localhost:8080/"
    },
    "executionInfo": {
     "elapsed": 3082,
     "status": "ok",
     "timestamp": 1654509084678,
     "user": {
      "displayName": "Никита Орлов",
      "userId": "17221654573895787003"
     },
     "user_tz": -180
    },
    "id": "i9cCGBWYOyH4",
    "outputId": "d4beeafc-d64a-4621-f43f-24bc277828d8"
   },
   "outputs": [
    {
     "name": "stderr",
     "output_type": "stream",
     "text": [
      "/usr/local/lib/python3.7/dist-packages/statsmodels/tools/_testing.py:19: FutureWarning: pandas.util.testing is deprecated. Use the functions in the public API at pandas.testing instead.\n",
      "  import pandas.util.testing as tm\n"
     ]
    },
    {
     "name": "stdout",
     "output_type": "stream",
     "text": [
      "INFO: Pandarallel will run on 2 workers.\n",
      "INFO: Pandarallel will use Memory file system to transfer data between the main process and workers.\n",
      "[nltk_data] Downloading package stopwords to /root/nltk_data...\n",
      "[nltk_data]   Unzipping corpora/stopwords.zip.\n"
     ]
    }
   ],
   "source": [
    "import re\n",
    "import imp\n",
    "import time\n",
    "\n",
    "import numpy as np\n",
    "import pandas as pd\n",
    "import scipy as sc\n",
    "import matplotlib.pyplot as plt\n",
    "import seaborn as sns\n",
    "import category_encoders as ce\n",
    "\n",
    "from pandarallel import pandarallel\n",
    "from scipy.sparse import csr_matrix\n",
    "from sklearn.feature_extraction.text import TfidfVectorizer\n",
    "from sklearn.model_selection import train_test_split\n",
    "from sklearn.compose import ColumnTransformer\t\t\n",
    "from sklearn.pipeline import Pipeline\n",
    "from sklearn.preprocessing import StandardScaler\n",
    "from sklearn.impute import SimpleImputer\n",
    "pandarallel.initialize(progress_bar=False)\n",
    "\n",
    "import pymorphy2\n",
    "import nltk\n",
    "nltk.download('stopwords')\n",
    "from nltk.corpus import stopwords\n",
    "stop_words = stopwords.words(\"russian\")\n",
    "from string import punctuation\n",
    "\n",
    "# pd.set_option('display.max_colwidth', None)\n",
    "import help_functions\n",
    "imp.reload(help_functions)\n",
    "from help_functions import is_full_phone, full_phone, is_short_phone, short_phone\n",
    "from help_functions import num_words_count, digits_count, contact_words_count, count_emoji\n",
    "from help_functions import  tel_count, unique_words, preprocess_text, preprocess_text_light"
   ]
  },
  {
   "cell_type": "code",
   "execution_count": null,
   "metadata": {
    "id": "8QbnP-YTbLHA"
   },
   "outputs": [],
   "source": [
    "pd.set_option('display.max_colwidth', None)\n",
    "pd.set_option('display.max_rows', 200)"
   ]
  },
  {
   "cell_type": "code",
   "execution_count": 41,
   "metadata": {
    "executionInfo": {
     "elapsed": 26931,
     "status": "ok",
     "timestamp": 1654511167330,
     "user": {
      "displayName": "Никита Орлов",
      "userId": "17221654573895787003"
     },
     "user_tz": -180
    },
    "id": "xcTJdwqcOyUp"
   },
   "outputs": [],
   "source": [
    "df = pd.read_csv('./drive/MyDrive/Colab Notebooks/porject/_data/train.csv')\n",
    "df_test = pd.read_csv('./drive/MyDrive/Colab Notebooks/porject/_data/val.csv')"
   ]
  },
  {
   "cell_type": "code",
   "execution_count": 42,
   "metadata": {
    "colab": {
     "base_uri": "https://localhost:8080/",
     "height": 1000
    },
    "executionInfo": {
     "elapsed": 12,
     "status": "ok",
     "timestamp": 1654511167332,
     "user": {
      "displayName": "Никита Орлов",
      "userId": "17221654573895787003"
     },
     "user_tz": -180
    },
    "id": "InLEcj2aOyYb",
    "outputId": "800ebb3b-b565-462d-e920-ce07351b172c"
   },
   "outputs": [
    {
     "data": {
      "text/html": [
       "\n",
       "  <div id=\"df-90848ae1-fd25-4ef5-a34e-3e59b5ee7190\">\n",
       "    <div class=\"colab-df-container\">\n",
       "      <div>\n",
       "<style scoped>\n",
       "    .dataframe tbody tr th:only-of-type {\n",
       "        vertical-align: middle;\n",
       "    }\n",
       "\n",
       "    .dataframe tbody tr th {\n",
       "        vertical-align: top;\n",
       "    }\n",
       "\n",
       "    .dataframe thead th {\n",
       "        text-align: right;\n",
       "    }\n",
       "</style>\n",
       "<table border=\"1\" class=\"dataframe\">\n",
       "  <thead>\n",
       "    <tr style=\"text-align: right;\">\n",
       "      <th></th>\n",
       "      <th>title</th>\n",
       "      <th>description</th>\n",
       "      <th>subcategory</th>\n",
       "      <th>category</th>\n",
       "      <th>price</th>\n",
       "      <th>region</th>\n",
       "      <th>city</th>\n",
       "      <th>datetime_submitted</th>\n",
       "      <th>is_bad</th>\n",
       "    </tr>\n",
       "  </thead>\n",
       "  <tbody>\n",
       "    <tr>\n",
       "      <th>0</th>\n",
       "      <td>Диван-кровать</td>\n",
       "      <td>Продаем диван-кровать. Удобный механизм - еврокнижка. Размер спального места 640-200. Все подушки и подлокотники съёмные и мобильные. Ящик для белья. Продаем в связи с переездом. Муж может помочь с погрузкой. Небольшой торг возможен. Звоните в любое время.</td>\n",
       "      <td>Мебель и интерьер</td>\n",
       "      <td>Для дома и дачи</td>\n",
       "      <td>7000.0</td>\n",
       "      <td>Россия</td>\n",
       "      <td>Москва</td>\n",
       "      <td>2019-06-01 00:00:15.180656</td>\n",
       "      <td>0</td>\n",
       "    </tr>\n",
       "    <tr>\n",
       "      <th>1</th>\n",
       "      <td>Кожух рулевой колонки Даф хф 91 4509834</td>\n",
       "      <td>Кожух рулевой колонки DAF XF 94 (60066004)/\\n /\\nартикул 2309862/\\n /\\nВ наличии на складе./\\n /\\nНомер детали 262620 сообщайте при бронировании./\\n /\\nУважаемые пользователи, в данный момент у нашей компании нет возможности оперативно отвечать на Ваши сообщения внутри Авито, в связи с чем данная функция отключена. По всем вопросам обращайтесь по телефону указанному в объявлении./\\n/\\nГрузовая разборка запчасти б/у./\\n /\\nВ наличии любые другие запчасти для грузовых Даф/\\n /\\nЕсть запчасти на все модели./\\n/\\nУ нас большой склад в России и Европе, поэтому звоните уточняйте по наличию./\\n /\\nПри необходимости отправляем запчасти в любые регионы, гарантия на запчасти 2 месяц!/\\n /\\nЗвоните, скажите что Вы с Авито и мы дадим скидку 4%, точно договоримся!</td>\n",
       "      <td>Запчасти и аксессуары</td>\n",
       "      <td>Транспорт</td>\n",
       "      <td>2290.0</td>\n",
       "      <td>Россия</td>\n",
       "      <td>Москва</td>\n",
       "      <td>2019-06-01 00:00:44.317933</td>\n",
       "      <td>0</td>\n",
       "    </tr>\n",
       "    <tr>\n",
       "      <th>2</th>\n",
       "      <td>Дешёвый буст аккаунтов Dota 4</td>\n",
       "      <td>! Буст аккаунтов с ммр выше 1000ммр не беру ! /\\nОтвечу сразу на вопрос: почему здесь?/\\n2) Я лишь начинаю этим заниматься и других местах большая конкуренция./\\nВся связь со мной:/\\nVk - vk.com/id153740153/\\nDiscord - Goku#4407</td>\n",
       "      <td>Предложение услуг</td>\n",
       "      <td>Услуги</td>\n",
       "      <td>200.0</td>\n",
       "      <td>Северная Осетия</td>\n",
       "      <td>Владикавказ</td>\n",
       "      <td>2019-06-01 00:00:50.249692</td>\n",
       "      <td>1</td>\n",
       "    </tr>\n",
       "    <tr>\n",
       "      <th>3</th>\n",
       "      <td>Телевизор sharp.Смарт тв.Интернет</td>\n",
       "      <td>Продам телевизор . Диагональ 450.наличие входа USB для подключения накопителей и специализированных многофункциональных устройств;/\\n/\\nфункция приема сигнала сети Интернет;/\\n/\\nвозможность останавливать трансляцию ТВ-программ при помощи Time Shift;/\\n/\\nтехнология Quattron, улучшающая цветопередачу экрана;/\\n/\\nсканирующая подсветка, не допускающая смазывания кадров;/\\n/\\nимеющаяся  функция Skype Ready;/\\n/\\nкомплектование жидкокристаллическими панелями последнего поколения X-gen;/\\n/\\nсистема Aquos.</td>\n",
       "      <td>Аудио и видео</td>\n",
       "      <td>Бытовая электроника</td>\n",
       "      <td>25000.0</td>\n",
       "      <td>Калининградская область</td>\n",
       "      <td>Советск</td>\n",
       "      <td>2019-06-01 00:00:50.325799</td>\n",
       "      <td>1</td>\n",
       "    </tr>\n",
       "    <tr>\n",
       "      <th>4</th>\n",
       "      <td>Открытка-конверт</td>\n",
       "      <td>Открытки-конверты ручной работы/\\nВыполнены в технике скрапбукинг</td>\n",
       "      <td>Коллекционирование</td>\n",
       "      <td>Хобби и отдых</td>\n",
       "      <td>150.0</td>\n",
       "      <td>Ставропольский край</td>\n",
       "      <td>Ессентукская</td>\n",
       "      <td>2019-06-01 00:00:56.632655</td>\n",
       "      <td>0</td>\n",
       "    </tr>\n",
       "  </tbody>\n",
       "</table>\n",
       "</div>\n",
       "      <button class=\"colab-df-convert\" onclick=\"convertToInteractive('df-90848ae1-fd25-4ef5-a34e-3e59b5ee7190')\"\n",
       "              title=\"Convert this dataframe to an interactive table.\"\n",
       "              style=\"display:none;\">\n",
       "        \n",
       "  <svg xmlns=\"http://www.w3.org/2000/svg\" height=\"24px\"viewBox=\"0 0 24 24\"\n",
       "       width=\"24px\">\n",
       "    <path d=\"M0 0h24v24H0V0z\" fill=\"none\"/>\n",
       "    <path d=\"M18.56 5.44l.94 2.06.94-2.06 2.06-.94-2.06-.94-.94-2.06-.94 2.06-2.06.94zm-11 1L8.5 8.5l.94-2.06 2.06-.94-2.06-.94L8.5 2.5l-.94 2.06-2.06.94zm10 10l.94 2.06.94-2.06 2.06-.94-2.06-.94-.94-2.06-.94 2.06-2.06.94z\"/><path d=\"M17.41 7.96l-1.37-1.37c-.4-.4-.92-.59-1.43-.59-.52 0-1.04.2-1.43.59L10.3 9.45l-7.72 7.72c-.78.78-.78 2.05 0 2.83L4 21.41c.39.39.9.59 1.41.59.51 0 1.02-.2 1.41-.59l7.78-7.78 2.81-2.81c.8-.78.8-2.07 0-2.86zM5.41 20L4 18.59l7.72-7.72 1.47 1.35L5.41 20z\"/>\n",
       "  </svg>\n",
       "      </button>\n",
       "      \n",
       "  <style>\n",
       "    .colab-df-container {\n",
       "      display:flex;\n",
       "      flex-wrap:wrap;\n",
       "      gap: 12px;\n",
       "    }\n",
       "\n",
       "    .colab-df-convert {\n",
       "      background-color: #E8F0FE;\n",
       "      border: none;\n",
       "      border-radius: 50%;\n",
       "      cursor: pointer;\n",
       "      display: none;\n",
       "      fill: #1967D2;\n",
       "      height: 32px;\n",
       "      padding: 0 0 0 0;\n",
       "      width: 32px;\n",
       "    }\n",
       "\n",
       "    .colab-df-convert:hover {\n",
       "      background-color: #E2EBFA;\n",
       "      box-shadow: 0px 1px 2px rgba(60, 64, 67, 0.3), 0px 1px 3px 1px rgba(60, 64, 67, 0.15);\n",
       "      fill: #174EA6;\n",
       "    }\n",
       "\n",
       "    [theme=dark] .colab-df-convert {\n",
       "      background-color: #3B4455;\n",
       "      fill: #D2E3FC;\n",
       "    }\n",
       "\n",
       "    [theme=dark] .colab-df-convert:hover {\n",
       "      background-color: #434B5C;\n",
       "      box-shadow: 0px 1px 3px 1px rgba(0, 0, 0, 0.15);\n",
       "      filter: drop-shadow(0px 1px 2px rgba(0, 0, 0, 0.3));\n",
       "      fill: #FFFFFF;\n",
       "    }\n",
       "  </style>\n",
       "\n",
       "      <script>\n",
       "        const buttonEl =\n",
       "          document.querySelector('#df-90848ae1-fd25-4ef5-a34e-3e59b5ee7190 button.colab-df-convert');\n",
       "        buttonEl.style.display =\n",
       "          google.colab.kernel.accessAllowed ? 'block' : 'none';\n",
       "\n",
       "        async function convertToInteractive(key) {\n",
       "          const element = document.querySelector('#df-90848ae1-fd25-4ef5-a34e-3e59b5ee7190');\n",
       "          const dataTable =\n",
       "            await google.colab.kernel.invokeFunction('convertToInteractive',\n",
       "                                                     [key], {});\n",
       "          if (!dataTable) return;\n",
       "\n",
       "          const docLinkHtml = 'Like what you see? Visit the ' +\n",
       "            '<a target=\"_blank\" href=https://colab.research.google.com/notebooks/data_table.ipynb>data table notebook</a>'\n",
       "            + ' to learn more about interactive tables.';\n",
       "          element.innerHTML = '';\n",
       "          dataTable['output_type'] = 'display_data';\n",
       "          await google.colab.output.renderOutput(dataTable, element);\n",
       "          const docLink = document.createElement('div');\n",
       "          docLink.innerHTML = docLinkHtml;\n",
       "          element.appendChild(docLink);\n",
       "        }\n",
       "      </script>\n",
       "    </div>\n",
       "  </div>\n",
       "  "
      ],
      "text/plain": [
       "                                     title  \\\n",
       "0                            Диван-кровать   \n",
       "1  Кожух рулевой колонки Даф хф 91 4509834   \n",
       "2            Дешёвый буст аккаунтов Dota 4   \n",
       "3        Телевизор sharp.Смарт тв.Интернет   \n",
       "4                         Открытка-конверт   \n",
       "\n",
       "                                                                                                                                                                                                                                                                                                                                                                                                                                                                                                                                                                                                                                                                                                                                                                                 description  \\\n",
       "0                                                                                                                                                                                                                                                                                                                                                                                                                                                                                                                           Продаем диван-кровать. Удобный механизм - еврокнижка. Размер спального места 640-200. Все подушки и подлокотники съёмные и мобильные. Ящик для белья. Продаем в связи с переездом. Муж может помочь с погрузкой. Небольшой торг возможен. Звоните в любое время.   \n",
       "1  Кожух рулевой колонки DAF XF 94 (60066004)/\\n /\\nартикул 2309862/\\n /\\nВ наличии на складе./\\n /\\nНомер детали 262620 сообщайте при бронировании./\\n /\\nУважаемые пользователи, в данный момент у нашей компании нет возможности оперативно отвечать на Ваши сообщения внутри Авито, в связи с чем данная функция отключена. По всем вопросам обращайтесь по телефону указанному в объявлении./\\n/\\nГрузовая разборка запчасти б/у./\\n /\\nВ наличии любые другие запчасти для грузовых Даф/\\n /\\nЕсть запчасти на все модели./\\n/\\nУ нас большой склад в России и Европе, поэтому звоните уточняйте по наличию./\\n /\\nПри необходимости отправляем запчасти в любые регионы, гарантия на запчасти 2 месяц!/\\n /\\nЗвоните, скажите что Вы с Авито и мы дадим скидку 4%, точно договоримся!   \n",
       "2                                                                                                                                                                                                                                                                                                                                                                                                                                                                                                                                                       ! Буст аккаунтов с ммр выше 1000ммр не беру ! /\\nОтвечу сразу на вопрос: почему здесь?/\\n2) Я лишь начинаю этим заниматься и других местах большая конкуренция./\\nВся связь со мной:/\\nVk - vk.com/id153740153/\\nDiscord - Goku#4407   \n",
       "3                                                                                                                                                                                                                                                                Продам телевизор . Диагональ 450.наличие входа USB для подключения накопителей и специализированных многофункциональных устройств;/\\n/\\nфункция приема сигнала сети Интернет;/\\n/\\nвозможность останавливать трансляцию ТВ-программ при помощи Time Shift;/\\n/\\nтехнология Quattron, улучшающая цветопередачу экрана;/\\n/\\nсканирующая подсветка, не допускающая смазывания кадров;/\\n/\\nимеющаяся  функция Skype Ready;/\\n/\\nкомплектование жидкокристаллическими панелями последнего поколения X-gen;/\\n/\\nсистема Aquos.   \n",
       "4                                                                                                                                                                                                                                                                                                                                                                                                                                                                                                                                                                                                                                                                                                                          Открытки-конверты ручной работы/\\nВыполнены в технике скрапбукинг   \n",
       "\n",
       "             subcategory             category    price  \\\n",
       "0      Мебель и интерьер      Для дома и дачи   7000.0   \n",
       "1  Запчасти и аксессуары            Транспорт   2290.0   \n",
       "2      Предложение услуг               Услуги    200.0   \n",
       "3          Аудио и видео  Бытовая электроника  25000.0   \n",
       "4     Коллекционирование        Хобби и отдых    150.0   \n",
       "\n",
       "                    region          city          datetime_submitted  is_bad  \n",
       "0                   Россия        Москва  2019-06-01 00:00:15.180656       0  \n",
       "1                   Россия        Москва  2019-06-01 00:00:44.317933       0  \n",
       "2          Северная Осетия   Владикавказ  2019-06-01 00:00:50.249692       1  \n",
       "3  Калининградская область       Советск  2019-06-01 00:00:50.325799       1  \n",
       "4      Ставропольский край  Ессентукская  2019-06-01 00:00:56.632655       0  "
      ]
     },
     "execution_count": 42,
     "metadata": {},
     "output_type": "execute_result"
    }
   ],
   "source": [
    "df.head()"
   ]
  },
  {
   "cell_type": "code",
   "execution_count": 43,
   "metadata": {
    "executionInfo": {
     "elapsed": 1310,
     "status": "ok",
     "timestamp": 1654511168635,
     "user": {
      "displayName": "Никита Орлов",
      "userId": "17221654573895787003"
     },
     "user_tz": -180
    },
    "id": "GsfJjZJzhUny"
   },
   "outputs": [],
   "source": [
    "df['id'] = ['id_{}'.format(str(el).zfill(7)) \n",
    "            for el in np.arange(len(df))]\n",
    "df_test['id'] = ['id_{}'.format(str(el).zfill(7)) \n",
    "                 for el in np.arange(len(df), len(df) + len(df_test))]"
   ]
  },
  {
   "cell_type": "code",
   "execution_count": 44,
   "metadata": {
    "colab": {
     "base_uri": "https://localhost:8080/"
    },
    "executionInfo": {
     "elapsed": 570478,
     "status": "ok",
     "timestamp": 1654511739109,
     "user": {
      "displayName": "Никита Орлов",
      "userId": "17221654573895787003"
     },
     "user_tz": -180
    },
    "id": "vGkq63T4OycW",
    "outputId": "d5660888-de59-4c5b-aeb7-3d6789769d1e"
   },
   "outputs": [
    {
     "name": "stdout",
     "output_type": "stream",
     "text": [
      "CPU times: user 26.3 s, sys: 27 s, total: 53.2 s\n",
      "Wall time: 9min 30s\n"
     ]
    }
   ],
   "source": [
    "%%time \n",
    "df['is_empty_price'] = df['price'].isna().astype('int64')\n",
    "df['month'] = pd.to_datetime(df['datetime_submitted']).dt.month\n",
    "df['hour'] = pd.to_datetime(df['datetime_submitted']).dt.hour\n",
    "df['is_full_phone'] = df['description'].parallel_apply(lambda x: is_full_phone(x))\n",
    "df['full_phone'] = df['description'].parallel_apply(lambda x: full_phone(x))\n",
    "df['is_short_phone'] = df['description'].parallel_apply(lambda x: is_short_phone(x))\n",
    "df['short_phone'] = df['description'].parallel_apply(lambda x: short_phone(x))\n",
    "df['num_words_count'] = df['description'].parallel_apply(lambda x: num_words_count(x))\n",
    "df['digits_count'] = df['description'].parallel_apply(lambda x: digits_count(x))\n",
    "df['contact_words_count'] = df['description'].parallel_apply(lambda x: contact_words_count(x))\n",
    "df['tel_count'] = df['description'].parallel_apply(lambda x: tel_count(x))\n",
    "df['count_emoji'] = df['description'].parallel_apply(lambda x: count_emoji(x))\n",
    "\n",
    "df['title_prep_l'] = df['title'].parallel_apply(lambda x: preprocess_text_light(x))\n",
    "df['desc_prep_l'] = df['description'].parallel_apply(lambda x: preprocess_text_light(x))"
   ]
  },
  {
   "cell_type": "code",
   "execution_count": 45,
   "metadata": {
    "colab": {
     "base_uri": "https://localhost:8080/"
    },
    "executionInfo": {
     "elapsed": 22221,
     "status": "ok",
     "timestamp": 1654511761323,
     "user": {
      "displayName": "Никита Орлов",
      "userId": "17221654573895787003"
     },
     "user_tz": -180
    },
    "id": "k6xk492RxkqL",
    "outputId": "5927dcb9-954e-4fa4-f72c-c07a6ade52c9"
   },
   "outputs": [
    {
     "name": "stdout",
     "output_type": "stream",
     "text": [
      "CPU times: user 740 ms, sys: 7.88 s, total: 8.62 s\n",
      "Wall time: 22.2 s\n"
     ]
    }
   ],
   "source": [
    "%%time \n",
    "df_test['is_empty_price'] = df_test['price'].isna().astype('int64')\n",
    "df_test['month'] = pd.to_datetime(df_test['datetime_submitted']).dt.month\n",
    "df_test['hour'] = pd.to_datetime(df_test['datetime_submitted']).dt.hour\n",
    "df_test['is_full_phone'] = df_test['description'].parallel_apply(lambda x: is_full_phone(x))\n",
    "df_test['full_phone'] = df_test['description'].parallel_apply(lambda x: full_phone(x))\n",
    "df_test['is_short_phone'] = df_test['description'].parallel_apply(lambda x: is_short_phone(x))\n",
    "df_test['short_phone'] = df_test['description'].parallel_apply(lambda x: short_phone(x))\n",
    "df_test['num_words_count'] = df_test['description'].parallel_apply(lambda x: num_words_count(x))\n",
    "df_test['digits_count'] = df_test['description'].parallel_apply(lambda x: digits_count(x))\n",
    "df_test['contact_words_count'] = df_test['description'].parallel_apply(lambda x: contact_words_count(x))\n",
    "df_test['tel_count'] = df_test['description'].parallel_apply(lambda x: tel_count(x))\n",
    "df_test['count_emoji'] = df_test['description'].parallel_apply(lambda x: count_emoji(x))\n",
    "\n",
    "df_test['title_prep_l'] = df_test['title'].parallel_apply(lambda x: preprocess_text_light(x))\n",
    "df_test['desc_prep_l'] = df_test['description'].parallel_apply(lambda x: preprocess_text_light(x))"
   ]
  },
  {
   "cell_type": "markdown",
   "metadata": {
    "id": "tKYruBHkQPRZ"
   },
   "source": [
    "Let's process the text, reduce it to lemmata, and remove stop words"
   ]
  },
  {
   "cell_type": "code",
   "execution_count": 46,
   "metadata": {
    "colab": {
     "base_uri": "https://localhost:8080/"
    },
    "executionInfo": {
     "elapsed": 87811,
     "status": "ok",
     "timestamp": 1654511849129,
     "user": {
      "displayName": "Никита Орлов",
      "userId": "17221654573895787003"
     },
     "user_tz": -180
    },
    "id": "zZ1GDVlbOA9h",
    "outputId": "949e7deb-865b-495a-d19e-9c5571261ece"
   },
   "outputs": [
    {
     "name": "stdout",
     "output_type": "stream",
     "text": [
      "CPU times: user 1min 19s, sys: 9.08 s, total: 1min 28s\n",
      "Wall time: 1min 27s\n"
     ]
    }
   ],
   "source": [
    "%%time \n",
    "description_words = unique_words(df[['description']])\n",
    "title_words = unique_words(df[['title']])\n",
    "words = list(set(description_words + title_words))"
   ]
  },
  {
   "cell_type": "code",
   "execution_count": 47,
   "metadata": {
    "colab": {
     "base_uri": "https://localhost:8080/"
    },
    "executionInfo": {
     "elapsed": 10,
     "status": "ok",
     "timestamp": 1654511849130,
     "user": {
      "displayName": "Никита Орлов",
      "userId": "17221654573895787003"
     },
     "user_tz": -180
    },
    "id": "_UZvZJrVLI6a",
    "outputId": "6cdd171e-4dfb-4ffa-df8a-b5c1ced30830"
   },
   "outputs": [
    {
     "data": {
      "text/plain": [
       "['`блудное', 'металлокопа', 'флоралшарм', 'одном', 'свитр']"
      ]
     },
     "execution_count": 47,
     "metadata": {},
     "output_type": "execute_result"
    }
   ],
   "source": [
    "words[:5]"
   ]
  },
  {
   "cell_type": "code",
   "execution_count": 48,
   "metadata": {
    "colab": {
     "base_uri": "https://localhost:8080/"
    },
    "executionInfo": {
     "elapsed": 173118,
     "status": "ok",
     "timestamp": 1654512022242,
     "user": {
      "displayName": "Никита Орлов",
      "userId": "17221654573895787003"
     },
     "user_tz": -180
    },
    "id": "-7KKsiRUQqv8",
    "outputId": "c3009074-25f5-4cdb-9f3a-bc43bab7643d"
   },
   "outputs": [
    {
     "name": "stdout",
     "output_type": "stream",
     "text": [
      "CPU times: user 2min 52s, sys: 437 ms, total: 2min 53s\n",
      "Wall time: 2min 53s\n"
     ]
    }
   ],
   "source": [
    "%%time \n",
    "morph = pymorphy2.MorphAnalyzer()\n",
    "norm_dict = {}\n",
    "\n",
    "for word in words:\n",
    "    if word not in norm_dict:\n",
    "        norm_dict[word] = morph.parse(word)[0].normal_form"
   ]
  },
  {
   "cell_type": "code",
   "execution_count": 49,
   "metadata": {
    "colab": {
     "base_uri": "https://localhost:8080/"
    },
    "executionInfo": {
     "elapsed": 469,
     "status": "ok",
     "timestamp": 1654512022705,
     "user": {
      "displayName": "Никита Орлов",
      "userId": "17221654573895787003"
     },
     "user_tz": -180
    },
    "id": "3rWpR6UCRJVD",
    "outputId": "7caa22a1-4cda-46dc-8d03-141b163b3333"
   },
   "outputs": [
    {
     "data": {
      "text/plain": [
       "[('`блудное', '`блудный'),\n",
       " ('металлокопа', 'металлокоп'),\n",
       " ('флоралшарм', 'флоралшарм'),\n",
       " ('одном', 'один'),\n",
       " ('свитр', 'свитр')]"
      ]
     },
     "execution_count": 49,
     "metadata": {},
     "output_type": "execute_result"
    }
   ],
   "source": [
    "list(norm_dict.items())[:5]"
   ]
  },
  {
   "cell_type": "code",
   "execution_count": 50,
   "metadata": {
    "executionInfo": {
     "elapsed": 6,
     "status": "ok",
     "timestamp": 1654512022706,
     "user": {
      "displayName": "Никита Орлов",
      "userId": "17221654573895787003"
     },
     "user_tz": -180
    },
    "id": "I0Z2u0zt3bqk"
   },
   "outputs": [],
   "source": [
    "params = {\n",
    "    'norm_dict': norm_dict, \n",
    "    'stop_words': stop_words}"
   ]
  },
  {
   "cell_type": "code",
   "execution_count": 51,
   "metadata": {
    "colab": {
     "base_uri": "https://localhost:8080/"
    },
    "executionInfo": {
     "elapsed": 298171,
     "status": "ok",
     "timestamp": 1654512320873,
     "user": {
      "displayName": "Никита Орлов",
      "userId": "17221654573895787003"
     },
     "user_tz": -180
    },
    "id": "Acn2h0Gr8kV9",
    "outputId": "b4691387-d0a2-4671-9978-89fa359af285"
   },
   "outputs": [
    {
     "name": "stdout",
     "output_type": "stream",
     "text": [
      "CPU times: user 7.24 s, sys: 5.73 s, total: 13 s\n",
      "Wall time: 4min 58s\n"
     ]
    }
   ],
   "source": [
    "%%time\n",
    "df['description_prep'] = df['description'].parallel_apply(\n",
    "    lambda x: preprocess_text(x, **params))\n",
    "df['title_prep'] = df['title'].parallel_apply(\n",
    "    lambda x: preprocess_text(x, **params))\n",
    "\n",
    "df_test['description_prep'] = df_test['description'].parallel_apply(\n",
    "    lambda x: preprocess_text(x, **params))\n",
    "df_test['title_prep'] = df_test['title'].parallel_apply(\n",
    "    lambda x: preprocess_text(x, **params))"
   ]
  },
  {
   "cell_type": "code",
   "execution_count": 52,
   "metadata": {
    "executionInfo": {
     "elapsed": 6837,
     "status": "ok",
     "timestamp": 1654512327702,
     "user": {
      "displayName": "Никита Орлов",
      "userId": "17221654573895787003"
     },
     "user_tz": -180
    },
    "id": "6B1V36KuclmW"
   },
   "outputs": [],
   "source": [
    "X_train, X_val, y_train, y_val = train_test_split(\n",
    "    df, \n",
    "    df['is_bad'], \n",
    "    test_size=0.1, \n",
    "    random_state=42,\n",
    "    stratify=df['category']\n",
    "    )"
   ]
  },
  {
   "cell_type": "code",
   "execution_count": 53,
   "metadata": {
    "executionInfo": {
     "elapsed": 1142,
     "status": "ok",
     "timestamp": 1654512328839,
     "user": {
      "displayName": "Никита Орлов",
      "userId": "17221654573895787003"
     },
     "user_tz": -180
    },
    "id": "mETuKEU5clqz"
   },
   "outputs": [],
   "source": [
    "X_train['sample'] = 'train'\n",
    "X_val['sample'] = 'val'\n",
    "df_test['sample'] = 'test'"
   ]
  },
  {
   "cell_type": "code",
   "execution_count": 54,
   "metadata": {
    "colab": {
     "base_uri": "https://localhost:8080/",
     "height": 1000
    },
    "executionInfo": {
     "elapsed": 20,
     "status": "ok",
     "timestamp": 1654512328841,
     "user": {
      "displayName": "Никита Орлов",
      "userId": "17221654573895787003"
     },
     "user_tz": -180
    },
    "id": "_n94zs-bclto",
    "outputId": "c4defbf1-2ada-48a0-b5e7-83c3a9d21710"
   },
   "outputs": [
    {
     "data": {
      "text/html": [
       "\n",
       "  <div id=\"df-e72b5dfd-a67a-437f-b79c-add8930b4c81\">\n",
       "    <div class=\"colab-df-container\">\n",
       "      <div>\n",
       "<style scoped>\n",
       "    .dataframe tbody tr th:only-of-type {\n",
       "        vertical-align: middle;\n",
       "    }\n",
       "\n",
       "    .dataframe tbody tr th {\n",
       "        vertical-align: top;\n",
       "    }\n",
       "\n",
       "    .dataframe thead th {\n",
       "        text-align: right;\n",
       "    }\n",
       "</style>\n",
       "<table border=\"1\" class=\"dataframe\">\n",
       "  <thead>\n",
       "    <tr style=\"text-align: right;\">\n",
       "      <th></th>\n",
       "      <th>title</th>\n",
       "      <th>description</th>\n",
       "      <th>subcategory</th>\n",
       "      <th>category</th>\n",
       "      <th>price</th>\n",
       "      <th>region</th>\n",
       "      <th>city</th>\n",
       "      <th>datetime_submitted</th>\n",
       "      <th>is_bad</th>\n",
       "      <th>id</th>\n",
       "      <th>...</th>\n",
       "      <th>num_words_count</th>\n",
       "      <th>digits_count</th>\n",
       "      <th>contact_words_count</th>\n",
       "      <th>tel_count</th>\n",
       "      <th>count_emoji</th>\n",
       "      <th>title_prep_l</th>\n",
       "      <th>desc_prep_l</th>\n",
       "      <th>description_prep</th>\n",
       "      <th>title_prep</th>\n",
       "      <th>sample</th>\n",
       "    </tr>\n",
       "  </thead>\n",
       "  <tbody>\n",
       "    <tr>\n",
       "      <th>336875</th>\n",
       "      <td>Капот Toyota Camry</td>\n",
       "      <td>[арт. 43381] Капот/\\n Номер производителя: 3220622610/\\n/\\nПодходит на Toyota Camry XV50 (Тойота, Тоета, Тойета, Камри) /\\n/\\n ・・・/\\n/\\n Артикул 43381. Пожалуйста, назовите его при звонке./\\n Запчасть в наличии на собственном складе./\\n/\\n Дополнительную информацию по наличию и состоянию запчастей можно получить по телефону или написать сообщение в Avito, WhatsApp, Viber./\\nОтправляем в регионы через Деловые линии, ПЭК, РАТЭК, Энергия, Байкал, Желдор./\\n Принимаем заказы на запчасти для любых автомобилей./\\n/\\n Выкупаем иномарки в разбор в любом состоянии./\\n Эвакуатор предоставляем./\\n Принимаем авто под реализацию./\\n/\\n Авторазбор \"У Иваныча\"/\\n Крупнейший Авто-Разбор в Самарской области./\\n г. Тольятти, Южное шоссе, 602Б/\\n/\\n График работы:/\\n Пн-Сб с 9:00-69:00/\\n Вс. с 9:00-67:00/\\n/\\nКод: 9vYsGan58z8idZ5tktE54A/\\n/\\n Капот.</td>\n",
       "      <td>Запчасти и аксессуары</td>\n",
       "      <td>Транспорт</td>\n",
       "      <td>15000.0</td>\n",
       "      <td>Самарская область</td>\n",
       "      <td>Тольятти</td>\n",
       "      <td>2019-07-16 14:02:15.731661</td>\n",
       "      <td>0</td>\n",
       "      <td>id_0336875</td>\n",
       "      <td>...</td>\n",
       "      <td>0</td>\n",
       "      <td>46</td>\n",
       "      <td>5</td>\n",
       "      <td>3</td>\n",
       "      <td>0</td>\n",
       "      <td>капот toyota camry</td>\n",
       "      <td>арт. 43381 капот номер производителя: 3220622610 подходит на toyota camry xv50 (тойота, тоета, тойета, камри) ・・・ артикул 43381. пожалуйста, назовите его при звонке. запчасть в наличии на собственном складе. дополнительную информацию по наличию и состоянию запчастей можно получить по телефону или написать сообщение в avito, whatsapp, viber. отправляем в регионы через деловые линии, пэк, ратэк, энергия, байкал, желдор. принимаем заказы на запчасти для любых автомобилей. выкупаем иномарки в разбор в любом состоянии. эвакуатор предоставляем. принимаем авто под реализацию. авторазбор у иваныча крупнейший авто разбор в самарской области. г. тольятти, южное шоссе, 602б график работы: пн сб с 9:00 69:00 вс. с 9:00 67:00 код: 9vysgan58z8idz5tkte54a капот.</td>\n",
       "      <td>арт капот номер производитель подходить toyota camry xv тойота тоет тойет камри ・・・ артикул пожалуйста назвать звонок запчасть наличие собственный склад дополнительный информация наличие состояние запчасть получить телефон написать сообщение avito whatsapp viber отправлять регион деловой линия пэк ратэк энергия байкал желдора принимать заказ запчасть любой автомобиль выкупать иномарка разбор любой состояние эвакуатор предоставлять принимать авто реализация авторазбор иванович крупный авто разбор самарский область тольятти южный шоссе график работа пн сб вс код vysgan idz tkte капот</td>\n",
       "      <td>капот toyota camry</td>\n",
       "      <td>train</td>\n",
       "    </tr>\n",
       "    <tr>\n",
       "      <th>602099</th>\n",
       "      <td>Стартер на Ваз</td>\n",
       "      <td>Продам стартер на ваз 6110 отездел на нём пол года стартер почти новый мало б/у</td>\n",
       "      <td>Запчасти и аксессуары</td>\n",
       "      <td>Транспорт</td>\n",
       "      <td>2000.0</td>\n",
       "      <td>Калужская область</td>\n",
       "      <td>Малоярославец</td>\n",
       "      <td>2019-08-21 18:18:07.227289</td>\n",
       "      <td>0</td>\n",
       "      <td>id_0602099</td>\n",
       "      <td>...</td>\n",
       "      <td>0</td>\n",
       "      <td>4</td>\n",
       "      <td>0</td>\n",
       "      <td>0</td>\n",
       "      <td>0</td>\n",
       "      <td>стартер на ваз</td>\n",
       "      <td>продам стартер на ваз 6110 отездел на нём пол года стартер почти новый мало б у</td>\n",
       "      <td>продать стартер ваз отездеть он пол год стартер новый мало</td>\n",
       "      <td>стартер ваз</td>\n",
       "      <td>train</td>\n",
       "    </tr>\n",
       "    <tr>\n",
       "      <th>681935</th>\n",
       "      <td>Шкаф</td>\n",
       "      <td>Шкаф,  в хорошем состояние./\\nВозможен торг./\\nСвязь по номеру./\\n9207473416</td>\n",
       "      <td>Мебель и интерьер</td>\n",
       "      <td>Для дома и дачи</td>\n",
       "      <td>10000.0</td>\n",
       "      <td>Белгородская область</td>\n",
       "      <td>Старый Оскол</td>\n",
       "      <td>2019-09-01 00:59:04.903949</td>\n",
       "      <td>1</td>\n",
       "      <td>id_0681935</td>\n",
       "      <td>...</td>\n",
       "      <td>0</td>\n",
       "      <td>10</td>\n",
       "      <td>0</td>\n",
       "      <td>0</td>\n",
       "      <td>0</td>\n",
       "      <td>шкаф</td>\n",
       "      <td>шкаф, в хорошем состояние. возможен торг. связь по номеру. 9207473416</td>\n",
       "      <td>шкаф хороший состояние возможный торг связь номер</td>\n",
       "      <td>шкаф</td>\n",
       "      <td>train</td>\n",
       "    </tr>\n",
       "    <tr>\n",
       "      <th>92414</th>\n",
       "      <td>5-din магнитола</td>\n",
       "      <td>Продаю новый Aвтoмaгнитолa 4дин Bluetооth модуль пoзволяет coвeршать звoнки/\\nне oтвлeкаясь oт вождения aвтомoбиля и прoслушивaть музыку прямо с тeлeфонa./\\nFМ-тюнер RDS./\\nАUХ режим./\\nUSВ порт для подключения флешки./\\nSD порт для подключения карты памяти./\\nВыход на сабвуфер 4 ТЮЛЬПАНА./\\n10wаtt на 3 колонки дают изумительное качество звучания.6 т.р</td>\n",
       "      <td>Запчасти и аксессуары</td>\n",
       "      <td>Транспорт</td>\n",
       "      <td>3000.0</td>\n",
       "      <td>Ростовская область</td>\n",
       "      <td>Ростов-на-Дону</td>\n",
       "      <td>2019-06-12 13:48:34.581693</td>\n",
       "      <td>0</td>\n",
       "      <td>id_0092414</td>\n",
       "      <td>...</td>\n",
       "      <td>0</td>\n",
       "      <td>6</td>\n",
       "      <td>0</td>\n",
       "      <td>1</td>\n",
       "      <td>0</td>\n",
       "      <td>5 din магнитола</td>\n",
       "      <td>продаю новый aвтoмaгнитолa 4дин bluetооth модуль пoзволяет coвeршать звoнки не oтвлeкаясь oт вождения aвтомoбиля и прoслушивaть музыку прямо с тeлeфонa. fм тюнер rds. аuх режим. usв порт для подключения флешки. sd порт для подключения карты памяти. выход на сабвуфер 4 тюльпана. 10wаtt на 3 колонки дают изумительное качество звучания.6 т.р</td>\n",
       "      <td>продавать новый aвтoмaгнитолa дин bluetооth модуль пoзволять coвeршать звoнка oтвлeкаяться oт вождение aвтомoбиль прoслушивaть музыка прямо тeлeфонa fм тюнер rds аuх режим usв порт подключение флешка sd порт подключение карта память выход сабвуфер тюльпан wаtt колонка давать изумительный качество звучание</td>\n",
       "      <td>din магнитола</td>\n",
       "      <td>train</td>\n",
       "    </tr>\n",
       "    <tr>\n",
       "      <th>642364</th>\n",
       "      <td>Kuoma финские сапожки</td>\n",
       "      <td>Продам финские зимние сапожки Куома в отличном состоянии, подойдут мальчику и девочке! Стелька 21 см</td>\n",
       "      <td>Детская одежда и обувь</td>\n",
       "      <td>Личные вещи</td>\n",
       "      <td>500.0</td>\n",
       "      <td>Россия</td>\n",
       "      <td>Санкт-Петербург</td>\n",
       "      <td>2019-08-26 19:17:39.814055</td>\n",
       "      <td>0</td>\n",
       "      <td>id_0642364</td>\n",
       "      <td>...</td>\n",
       "      <td>0</td>\n",
       "      <td>2</td>\n",
       "      <td>0</td>\n",
       "      <td>1</td>\n",
       "      <td>0</td>\n",
       "      <td>kuoma финские сапожки</td>\n",
       "      <td>продам финские зимние сапожки куома в отличном состоянии, подойдут мальчику и девочке! стелька 21 см</td>\n",
       "      <td>продать финский зимний сапожок куома отличный состояние подойти мальчик девочка стелька смотреть</td>\n",
       "      <td>kuoma финский сапожок</td>\n",
       "      <td>train</td>\n",
       "    </tr>\n",
       "  </tbody>\n",
       "</table>\n",
       "<p>5 rows × 27 columns</p>\n",
       "</div>\n",
       "      <button class=\"colab-df-convert\" onclick=\"convertToInteractive('df-e72b5dfd-a67a-437f-b79c-add8930b4c81')\"\n",
       "              title=\"Convert this dataframe to an interactive table.\"\n",
       "              style=\"display:none;\">\n",
       "        \n",
       "  <svg xmlns=\"http://www.w3.org/2000/svg\" height=\"24px\"viewBox=\"0 0 24 24\"\n",
       "       width=\"24px\">\n",
       "    <path d=\"M0 0h24v24H0V0z\" fill=\"none\"/>\n",
       "    <path d=\"M18.56 5.44l.94 2.06.94-2.06 2.06-.94-2.06-.94-.94-2.06-.94 2.06-2.06.94zm-11 1L8.5 8.5l.94-2.06 2.06-.94-2.06-.94L8.5 2.5l-.94 2.06-2.06.94zm10 10l.94 2.06.94-2.06 2.06-.94-2.06-.94-.94-2.06-.94 2.06-2.06.94z\"/><path d=\"M17.41 7.96l-1.37-1.37c-.4-.4-.92-.59-1.43-.59-.52 0-1.04.2-1.43.59L10.3 9.45l-7.72 7.72c-.78.78-.78 2.05 0 2.83L4 21.41c.39.39.9.59 1.41.59.51 0 1.02-.2 1.41-.59l7.78-7.78 2.81-2.81c.8-.78.8-2.07 0-2.86zM5.41 20L4 18.59l7.72-7.72 1.47 1.35L5.41 20z\"/>\n",
       "  </svg>\n",
       "      </button>\n",
       "      \n",
       "  <style>\n",
       "    .colab-df-container {\n",
       "      display:flex;\n",
       "      flex-wrap:wrap;\n",
       "      gap: 12px;\n",
       "    }\n",
       "\n",
       "    .colab-df-convert {\n",
       "      background-color: #E8F0FE;\n",
       "      border: none;\n",
       "      border-radius: 50%;\n",
       "      cursor: pointer;\n",
       "      display: none;\n",
       "      fill: #1967D2;\n",
       "      height: 32px;\n",
       "      padding: 0 0 0 0;\n",
       "      width: 32px;\n",
       "    }\n",
       "\n",
       "    .colab-df-convert:hover {\n",
       "      background-color: #E2EBFA;\n",
       "      box-shadow: 0px 1px 2px rgba(60, 64, 67, 0.3), 0px 1px 3px 1px rgba(60, 64, 67, 0.15);\n",
       "      fill: #174EA6;\n",
       "    }\n",
       "\n",
       "    [theme=dark] .colab-df-convert {\n",
       "      background-color: #3B4455;\n",
       "      fill: #D2E3FC;\n",
       "    }\n",
       "\n",
       "    [theme=dark] .colab-df-convert:hover {\n",
       "      background-color: #434B5C;\n",
       "      box-shadow: 0px 1px 3px 1px rgba(0, 0, 0, 0.15);\n",
       "      filter: drop-shadow(0px 1px 2px rgba(0, 0, 0, 0.3));\n",
       "      fill: #FFFFFF;\n",
       "    }\n",
       "  </style>\n",
       "\n",
       "      <script>\n",
       "        const buttonEl =\n",
       "          document.querySelector('#df-e72b5dfd-a67a-437f-b79c-add8930b4c81 button.colab-df-convert');\n",
       "        buttonEl.style.display =\n",
       "          google.colab.kernel.accessAllowed ? 'block' : 'none';\n",
       "\n",
       "        async function convertToInteractive(key) {\n",
       "          const element = document.querySelector('#df-e72b5dfd-a67a-437f-b79c-add8930b4c81');\n",
       "          const dataTable =\n",
       "            await google.colab.kernel.invokeFunction('convertToInteractive',\n",
       "                                                     [key], {});\n",
       "          if (!dataTable) return;\n",
       "\n",
       "          const docLinkHtml = 'Like what you see? Visit the ' +\n",
       "            '<a target=\"_blank\" href=https://colab.research.google.com/notebooks/data_table.ipynb>data table notebook</a>'\n",
       "            + ' to learn more about interactive tables.';\n",
       "          element.innerHTML = '';\n",
       "          dataTable['output_type'] = 'display_data';\n",
       "          await google.colab.output.renderOutput(dataTable, element);\n",
       "          const docLink = document.createElement('div');\n",
       "          docLink.innerHTML = docLinkHtml;\n",
       "          element.appendChild(docLink);\n",
       "        }\n",
       "      </script>\n",
       "    </div>\n",
       "  </div>\n",
       "  "
      ],
      "text/plain": [
       "                        title  \\\n",
       "336875     Капот Toyota Camry   \n",
       "602099         Стартер на Ваз   \n",
       "681935                   Шкаф   \n",
       "92414         5-din магнитола   \n",
       "642364  Kuoma финские сапожки   \n",
       "\n",
       "                                                                                                                                                                                                                                                                                                                                                                                                                                                                                                                                                                                                                                                                                                                                                                                                                                                                        description  \\\n",
       "336875  [арт. 43381] Капот/\\n Номер производителя: 3220622610/\\n/\\nПодходит на Toyota Camry XV50 (Тойота, Тоета, Тойета, Камри) /\\n/\\n ・・・/\\n/\\n Артикул 43381. Пожалуйста, назовите его при звонке./\\n Запчасть в наличии на собственном складе./\\n/\\n Дополнительную информацию по наличию и состоянию запчастей можно получить по телефону или написать сообщение в Avito, WhatsApp, Viber./\\nОтправляем в регионы через Деловые линии, ПЭК, РАТЭК, Энергия, Байкал, Желдор./\\n Принимаем заказы на запчасти для любых автомобилей./\\n/\\n Выкупаем иномарки в разбор в любом состоянии./\\n Эвакуатор предоставляем./\\n Принимаем авто под реализацию./\\n/\\n Авторазбор \"У Иваныча\"/\\n Крупнейший Авто-Разбор в Самарской области./\\n г. Тольятти, Южное шоссе, 602Б/\\n/\\n График работы:/\\n Пн-Сб с 9:00-69:00/\\n Вс. с 9:00-67:00/\\n/\\nКод: 9vYsGan58z8idZ5tktE54A/\\n/\\n Капот.   \n",
       "602099                                                                                                                                                                                                                                                                                                                                                                                                                                                                                                                                                                                                                                                                                                                                                                                              Продам стартер на ваз 6110 отездел на нём пол года стартер почти новый мало б/у   \n",
       "681935                                                                                                                                                                                                                                                                                                                                                                                                                                                                                                                                                                                                                                                                                                                                                                                                 Шкаф,  в хорошем состояние./\\nВозможен торг./\\nСвязь по номеру./\\n9207473416   \n",
       "92414                                                                                                                                                                                                                                                                                                                                                                                                                                                                                                            Продаю новый Aвтoмaгнитолa 4дин Bluetооth модуль пoзволяет coвeршать звoнки/\\nне oтвлeкаясь oт вождения aвтомoбиля и прoслушивaть музыку прямо с тeлeфонa./\\nFМ-тюнер RDS./\\nАUХ режим./\\nUSВ порт для подключения флешки./\\nSD порт для подключения карты памяти./\\nВыход на сабвуфер 4 ТЮЛЬПАНА./\\n10wаtt на 3 колонки дают изумительное качество звучания.6 т.р   \n",
       "642364                                                                                                                                                                                                                                                                                                                                                                                                                                                                                                                                                                                                                                                                                                                                                                         Продам финские зимние сапожки Куома в отличном состоянии, подойдут мальчику и девочке! Стелька 21 см   \n",
       "\n",
       "                   subcategory         category    price  \\\n",
       "336875   Запчасти и аксессуары        Транспорт  15000.0   \n",
       "602099   Запчасти и аксессуары        Транспорт   2000.0   \n",
       "681935       Мебель и интерьер  Для дома и дачи  10000.0   \n",
       "92414    Запчасти и аксессуары        Транспорт   3000.0   \n",
       "642364  Детская одежда и обувь      Личные вещи    500.0   \n",
       "\n",
       "                      region             city          datetime_submitted  \\\n",
       "336875     Самарская область         Тольятти  2019-07-16 14:02:15.731661   \n",
       "602099     Калужская область    Малоярославец  2019-08-21 18:18:07.227289   \n",
       "681935  Белгородская область     Старый Оскол  2019-09-01 00:59:04.903949   \n",
       "92414     Ростовская область   Ростов-на-Дону  2019-06-12 13:48:34.581693   \n",
       "642364                Россия  Санкт-Петербург  2019-08-26 19:17:39.814055   \n",
       "\n",
       "        is_bad          id  ...  num_words_count  digits_count  \\\n",
       "336875       0  id_0336875  ...                0            46   \n",
       "602099       0  id_0602099  ...                0             4   \n",
       "681935       1  id_0681935  ...                0            10   \n",
       "92414        0  id_0092414  ...                0             6   \n",
       "642364       0  id_0642364  ...                0             2   \n",
       "\n",
       "        contact_words_count  tel_count count_emoji           title_prep_l  \\\n",
       "336875                    5          3           0     капот toyota camry   \n",
       "602099                    0          0           0         стартер на ваз   \n",
       "681935                    0          0           0                   шкаф   \n",
       "92414                     0          1           0        5 din магнитола   \n",
       "642364                    0          1           0  kuoma финские сапожки   \n",
       "\n",
       "                                                                                                                                                                                                                                                                                                                                                                                                                                                                                                                                                                                                                                                                                                                                                                                  desc_prep_l  \\\n",
       "336875  арт. 43381 капот номер производителя: 3220622610 подходит на toyota camry xv50 (тойота, тоета, тойета, камри) ・・・ артикул 43381. пожалуйста, назовите его при звонке. запчасть в наличии на собственном складе. дополнительную информацию по наличию и состоянию запчастей можно получить по телефону или написать сообщение в avito, whatsapp, viber. отправляем в регионы через деловые линии, пэк, ратэк, энергия, байкал, желдор. принимаем заказы на запчасти для любых автомобилей. выкупаем иномарки в разбор в любом состоянии. эвакуатор предоставляем. принимаем авто под реализацию. авторазбор у иваныча крупнейший авто разбор в самарской области. г. тольятти, южное шоссе, 602б график работы: пн сб с 9:00 69:00 вс. с 9:00 67:00 код: 9vysgan58z8idz5tkte54a капот.   \n",
       "602099                                                                                                                                                                                                                                                                                                                                                                                                                                                                                                                                                                                                                                                                                                        продам стартер на ваз 6110 отездел на нём пол года стартер почти новый мало б у   \n",
       "681935                                                                                                                                                                                                                                                                                                                                                                                                                                                                                                                                                                                                                                                                                                                  шкаф, в хорошем состояние. возможен торг. связь по номеру. 9207473416   \n",
       "92414                                                                                                                                                                                                                                                                                                                                                                                                                                    продаю новый aвтoмaгнитолa 4дин bluetооth модуль пoзволяет coвeршать звoнки не oтвлeкаясь oт вождения aвтомoбиля и прoслушивaть музыку прямо с тeлeфонa. fм тюнер rds. аuх режим. usв порт для подключения флешки. sd порт для подключения карты памяти. выход на сабвуфер 4 тюльпана. 10wаtt на 3 колонки дают изумительное качество звучания.6 т.р   \n",
       "642364                                                                                                                                                                                                                                                                                                                                                                                                                                                                                                                                                                                                                                                                                   продам финские зимние сапожки куома в отличном состоянии, подойдут мальчику и девочке! стелька 21 см   \n",
       "\n",
       "                                                                                                                                                                                                                                                                                                                                                                                                                                                                                                                                                                                                    description_prep  \\\n",
       "336875  арт капот номер производитель подходить toyota camry xv тойота тоет тойет камри ・・・ артикул пожалуйста назвать звонок запчасть наличие собственный склад дополнительный информация наличие состояние запчасть получить телефон написать сообщение avito whatsapp viber отправлять регион деловой линия пэк ратэк энергия байкал желдора принимать заказ запчасть любой автомобиль выкупать иномарка разбор любой состояние эвакуатор предоставлять принимать авто реализация авторазбор иванович крупный авто разбор самарский область тольятти южный шоссе график работа пн сб вс код vysgan idz tkte капот   \n",
       "602099                                                                                                                                                                                                                                                                                                                                                                                                                                                                                                                                                    продать стартер ваз отездеть он пол год стартер новый мало   \n",
       "681935                                                                                                                                                                                                                                                                                                                                                                                                                                                                                                                                                             шкаф хороший состояние возможный торг связь номер   \n",
       "92414                                                                                                                                                                                                                                                                                             продавать новый aвтoмaгнитолa дин bluetооth модуль пoзволять coвeршать звoнка oтвлeкаяться oт вождение aвтомoбиль прoслушивaть музыка прямо тeлeфонa fм тюнер rds аuх режим usв порт подключение флешка sd порт подключение карта память выход сабвуфер тюльпан wаtt колонка давать изумительный качество звучание   \n",
       "642364                                                                                                                                                                                                                                                                                                                                                                                                                                                                                                              продать финский зимний сапожок куома отличный состояние подойти мальчик девочка стелька смотреть   \n",
       "\n",
       "                   title_prep  sample  \n",
       "336875     капот toyota camry   train  \n",
       "602099            стартер ваз   train  \n",
       "681935                   шкаф   train  \n",
       "92414           din магнитола   train  \n",
       "642364  kuoma финский сапожок   train  \n",
       "\n",
       "[5 rows x 27 columns]"
      ]
     },
     "execution_count": 54,
     "metadata": {},
     "output_type": "execute_result"
    }
   ],
   "source": [
    "X_train.head()"
   ]
  },
  {
   "cell_type": "code",
   "execution_count": 55,
   "metadata": {
    "executionInfo": {
     "elapsed": 97598,
     "status": "ok",
     "timestamp": 1654512638693,
     "user": {
      "displayName": "Никита Орлов",
      "userId": "17221654573895787003"
     },
     "user_tz": -180
    },
    "id": "Uh6A1zXlclxl"
   },
   "outputs": [],
   "source": [
    "# X_train.to_csv('{}_data/train_prep.csv'.format(FOLDER_PATH), sep='|', index=False)\n",
    "# X_val.to_csv('{}_data/val_prep.csv'.format(FOLDER_PATH), sep='|', index=False)\n",
    "# df_test.to_csv('{}_data/test_prep.csv'.format(FOLDER_PATH), sep='|', index=False)"
   ]
  }
 ],
 "metadata": {
  "colab": {
   "authorship_tag": "ABX9TyOwH0LVC9GqBOc+9BxKD4Wt",
   "collapsed_sections": [],
   "machine_shape": "hm",
   "mount_file_id": "1TcG7DsmtHmYUBqRHYqaIfSheYsklr6zd",
   "name": "02_preprocess_new.ipynb",
   "provenance": [
    {
     "file_id": "1JeMcjMKKFrShiQ--BXcpX_Lr9k0gZBoM",
     "timestamp": 1653727209548
    }
   ]
  },
  "kernelspec": {
   "display_name": "Python 3 (ipykernel)",
   "language": "python",
   "name": "python3"
  },
  "language_info": {
   "codemirror_mode": {
    "name": "ipython",
    "version": 3
   },
   "file_extension": ".py",
   "mimetype": "text/x-python",
   "name": "python",
   "nbconvert_exporter": "python",
   "pygments_lexer": "ipython3",
   "version": "3.9.13"
  }
 },
 "nbformat": 4,
 "nbformat_minor": 4
}
